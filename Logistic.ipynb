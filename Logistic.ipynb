{
 "cells": [
  {
   "cell_type": "markdown",
   "source": [
    "# Install environment"
   ],
   "metadata": {
    "id": "IcH7T4cJsOzL"
   }
  },
  {
   "cell_type": "code",
   "execution_count": 1,
   "source": [
    "RANDOM_STATE = 42\n",
    "COLAB = False # если на колабе то тру соответственно "
   ],
   "outputs": [],
   "metadata": {
    "id": "XsBW5f7rFx0g"
   }
  },
  {
   "cell_type": "code",
   "execution_count": 2,
   "source": [
    "if COLAB:\n",
    "    from google.colab import drive\n",
    "    drive.mount('/content/drive')\n",
    "    \n",
    "    !pip install catboost\n",
    "    !pip install sktime\n",
    "    !pip install tqdm"
   ],
   "outputs": [],
   "metadata": {
    "colab": {
     "base_uri": "https://localhost:8080/"
    },
    "id": "dT4V-uZiJFE-",
    "outputId": "489aa38e-fbb6-43d7-d850-2f2bc92d9d16"
   }
  },
  {
   "cell_type": "code",
   "execution_count": 3,
   "source": [
    "import numpy as np\n",
    "import pandas as pd\n",
    "\n",
    "from collections import Counter\n",
    "from tqdm import tqdm\n",
    "\n",
    "from sklearn.linear_model import LogisticRegression\n",
    "from catboost import CatBoostClassifier\n",
    "from sktime.transformations.panel.rocket import MiniRocket\n",
    "from sklearn.linear_model import RidgeClassifierCV\n",
    "from sklearn.linear_model import RidgeClassifier\n",
    "from sklearn.feature_selection import RFE\n",
    "\n",
    "from sklearn.compose import ColumnTransformer\n",
    "from sklearn.model_selection import train_test_split, GridSearchCV, cross_validate\n",
    "from sklearn.pipeline import Pipeline\n",
    "from sklearn.preprocessing import StandardScaler, OneHotEncoder\n",
    "from sklearn.metrics import roc_auc_score\n",
    "\n",
    "import warnings\n",
    "warnings.filterwarnings(\"ignore\")\n",
    "import ssl\n",
    "\n",
    "ssl._create_default_https_context = ssl._create_unverified_context"
   ],
   "outputs": [],
   "metadata": {
    "colab": {
     "base_uri": "https://localhost:8080/"
    },
    "id": "j1qmmvEyx5I_",
    "outputId": "8ecde0fd-5e2d-49ef-8703-cebd5311c56a"
   }
  },
  {
   "cell_type": "markdown",
   "source": [
    "# Model code"
   ],
   "metadata": {
    "id": "Zk2YRwe9ONnZ"
   }
  },
  {
   "cell_type": "code",
   "execution_count": 4,
   "source": [
    "import datetime \n",
    "import pickle\n",
    "from math import cos, asin, sqrt, pi\n",
    "from tracks.tracks_preprocessing import Tracks_preprocessing\n",
    "from nlp.nlp_model import get_model\n",
    "from tsfresh import select_features\n",
    "\n",
    "# TODO: добавить фичи по превышению скорости, добавить фичи из нлп гены(он там все настроил уже по идее), натреинровать, затестить\n",
    "\n",
    "# formula using pythogorian theorem\n",
    "# (as distances are not large, we can approximate earth rounding)\n",
    "def get_distance(lat1,lon1,lat2,lon2):\n",
    "    delta_lat = pow(lat2-lat1,2)\n",
    "    delta_lon = pow(lon2-lon1,2)\n",
    "    return np.round(sqrt(delta_lat+delta_lon)*100, 3)    \n",
    "\n",
    "def get_speed(lat1, lon1, lat2, lon2, dt1: str, dt2: str) -> float:\n",
    "    distance = get_distance(lat1, lon1, lat2, lon2).tolist()\n",
    "    format = \"%Y-%m-%d %H:%M:%S\"\n",
    "    dt1=datetime.datetime.strptime(dt1, format)\n",
    "    dt2=datetime.datetime.strptime(dt2, format)\n",
    "    time = (dt2-dt1).total_seconds()/3600 # convert timedelta into hours\n",
    "    if time==0:\n",
    "        return 0\n",
    "    return distance/time\n",
    "\n",
    "\n",
    "class Model:\n",
    "    def __init__(self):        \n",
    "        self.model = None\n",
    "        self.model_tracks = None\n",
    "        self.selected_features = None\n",
    "\n",
    "        self.counter_words = {}\n",
    "    \n",
    "    def count_words(self, x):\n",
    "        return len(x.split(\" \"))\n",
    "\n",
    "    def check_sentence(self, sentence, words_type):\n",
    "        words_count = 0\n",
    "        for word in sentence.split(\" \"):\n",
    "            word = word.lower().replace(',', '').replace('.', '')\n",
    "\n",
    "            if (word not in list(self.counter_words.keys()) or len(self.counter_words[word]) == 2): continue\n",
    "\n",
    "            if (words_type == self.counter_words[word][2]): \n",
    "                words_count += 1\n",
    "        return words_count\n",
    "        \n",
    "    def NLP_features(self, X: pd.DataFrame,y:pd.DataFrame,comments: pd.DataFrame):\n",
    "        self.NLP_model, result = get_model(X,y, comments)\n",
    "        self.nlp_features=result\n",
    "        return result\n",
    "\n",
    "    def add_features(self, X):\n",
    "        comment_phrases = list(X.comment.value_counts().index[: 5]) + [\"---\"]\n",
    "        \n",
    "        X[\"is_comment\"] = (~np.isin(X.comment, comment_phrases)).astype(int)\n",
    "        X['dttm'] = pd.to_datetime(X.dttm)\n",
    "        X['hour'] = X.dttm.apply(lambda x: x.hour)\n",
    "        X['traff_jam'] = ((X.hour > 6) & (X.hour < 10)) | ((X.hour > 17) & (X.hour < 23))\n",
    "        X['traff_jam'] = X.traff_jam.astype(int)\n",
    "        X['weekday'] = X.dttm.apply(lambda x: x.weekday())\n",
    "        X['holiday'] = (X.weekday >= 5).astype(int)\n",
    "        X[\"count_words\"] = [-1] * X.shape[0]\n",
    "        X.loc[X.is_comment == True, \"count_words\"] = X[X.is_comment == True].comment.apply(lambda x: self.count_words(x))\n",
    "        X[\"speed\"] = X.distance / (X.duration / 60)\n",
    "        X['agg_words'] = X.comment.apply(lambda x: self.check_sentence(x, \"aggressive\"))\n",
    "        X['normal_words'] = X.comment.apply(lambda x: self.check_sentence(x, \"normal\"))\n",
    "        X['distance_thresh'] = ((X.distance > 5) & (X.distance < 20)).astype(int)\n",
    "        \n",
    "        return X\n",
    "    \n",
    "    def gen_speed(self, tracks):\n",
    "        tracks['speed'] = np.zeros(tracks.shape[0])\n",
    "        for i in tqdm(range(1, len(tracks))):\n",
    "            tracks.iloc[i, tracks.columns.get_loc('speed')] = get_speed(tracks.iloc[i-1, tracks.columns.get_loc('lat_')], tracks.iloc[i-1, tracks.columns.get_loc('lon_')],\n",
    "                                        tracks.iloc[i, tracks.columns.get_loc('lat_')], tracks.iloc[i, tracks.columns.get_loc('lon_')], tracks.iloc[i-1, tracks.columns.get_loc('dt')], tracks.iloc[i, tracks.columns.get_loc('dt')])\n",
    "        return tracks\n",
    "    \n",
    "    def estimate(self, X, y):\n",
    "        print('ESTIMATION')\n",
    "#         X = X.drop(['driver_id', 'client_id', 'dttm', 'date', 'comment', 'mark'], axis=1)\n",
    "        print(roc_auc_score(y, self.model.predict_proba(X)[:, 1]))\n",
    "    \n",
    "    def train_test_split_(self, X, y, test_size, X_ss=None, y_ss=None, random_state=RANDOM_STATE):\n",
    "        assert X.shape[0] == y.shape[0]\n",
    "        if (X_ss is not None):\n",
    "            X_ss_full, y_ss_full = self.label_shuffle(X, y, X_ss, y_ss, random_state = random_state)\n",
    "            \n",
    "            len_train = len(X_ss_full) - round(len(X_ss_full) * test_size)\n",
    "            \n",
    "            x_train = X_ss_full[: len_train]\n",
    "            x_train.drop('ss', axis = 1, inplace = True)\n",
    "            \n",
    "            x_test = X_ss_full.iloc[len_train + 1:]\n",
    "            x_test = x_test[x_test.ss == 0]\n",
    "            x_test.drop('ss', axis = 1, inplace = True)\n",
    "            \n",
    "            y_train = y_ss_full[: len_train]\n",
    "            y_train.drop('ss', axis = 1, inplace = True)\n",
    "            \n",
    "            y_test = y_ss_full.iloc[len_train + 1:]\n",
    "            y_test = y_test[y_test.ss == 0]\n",
    "            y_test.drop('ss', axis = 1, inplace = True)\n",
    "            \n",
    "            return (x_train, x_test, y_train, y_test)\n",
    "        \n",
    "        len_train = len(X) - round(len(X) * test_size)\n",
    "        \n",
    "        X = X.sample(frac=1, random_state=random_state)\n",
    "        y = y.sample(frac=1, random_state=random_state)\n",
    "        \n",
    "        return (X[: len_train], X[len_train :], y[: len_train], y[len_train :])\n",
    "    \n",
    "    def train(self, X_train, X_test, y_train, y_test, categorical_feature, random_state=RANDOM_STATE):\n",
    "        print(f\"Train size: {X_train.shape}\")\n",
    "        print(f\"Test size: {X_test.shape}\")\n",
    "        print(f'TRAIN HEAD: \\n {X_train.head()}')\n",
    "\n",
    "        print('y_TRAIN')\n",
    "        print(y_train.head())\n",
    "        print('X_TRAIN')\n",
    "        print(X_train.head())\n",
    "        non_aggressive = len(y_train)-sum(y_train)\n",
    "        aggressive = sum(y_train)\n",
    "        class_weights = (1, int(non_aggressive/aggressive))\n",
    "        self.model = LogisticRegression(random_state=42, max_iter=10000, class_weight=class_weights)\n",
    "        X_train = X_train.drop(['driver_id', 'client_id', 'dttm', 'date', 'comment', 'mark'], axis=1)\n",
    "        features_list = list(X_train)\n",
    "        selector = RFE(self.model, n_features_to_select=80, step=1)\n",
    "        selector.fit(X_train, y_train)\n",
    "        selector_result = selector.support_\n",
    "        self.model = LogisticRegression(random_state=42, max_iter=10000)\n",
    "        self.selected_features = []\n",
    "        for i in range(len(features_list)):\n",
    "            if selector_result[i]:\n",
    "                self.selected_features.append(features_list[i])\n",
    "        self.model.fit(X_train[self.selected_features], y_train)\n",
    "        main_model_path = './model.pkl'\n",
    "        with open(main_model_path, 'wb') as f:\n",
    "            pickle.dump(self.model, f)\n",
    "        \n",
    "        print(y_test.shape)\n",
    "\n",
    "        return self.estimate(X_test[self.selected_features], y_test)\n",
    "    \n",
    "    def label_shuffle(self, X, y, X_ss, y_ss, random_state=RANDOM_STATE):\n",
    "        X_ss['ss'] = 1\n",
    "        y_ss = y_ss.to_frame()\n",
    "        y_ss['ss'] = 1\n",
    "\n",
    "        X['ss'] = 0\n",
    "        y['ss'] = 0\n",
    "\n",
    "        X_ss_full = pd.concat([X, X_ss]).sample(frac=1, random_state=random_state)\n",
    "        y_ss_full = pd.concat([y, y_ss]).sample(frac=1, random_state=random_state)\n",
    "        \n",
    "        return (X_ss_full, y_ss_full)\n",
    "    \n",
    "    def train_cross_validation(self, X, y, k, categorical_features, X_ss=None, y_ss=None, random_state=RANDOM_STATE):\n",
    "        chunk_size = len(X) / k\n",
    "        chunks_size = [(i*chunk_size, i*chunk_size + chunk_size) for i in range(k)]\n",
    "        \n",
    "        result_score = []\n",
    "        \n",
    "        print(f\"Part size: {chunk_size}\")\n",
    "        \n",
    "        if (X_ss is not None):\n",
    "            X_ss_full, y_ss_full = self.label_shuffle(X, y, X_ss, y_ss, random_state = random_state)\n",
    "            \n",
    "            for chunkIndex in range(len(chunks_size)):\n",
    "                x_test = X_ss_full[int(chunks_size[chunkIndex][0]) : int(chunks_size[chunkIndex][1])]\n",
    "                y_test = y_ss_full[int(chunks_size[chunkIndex][0]) : int(chunks_size[chunkIndex][1])]\n",
    "                \n",
    "                x_train = X_ss_full.drop(x_test.index, axis = 0)\n",
    "                y_train = y_ss_full.drop(y_test.index, axis = 0)\n",
    "                \n",
    "                x_test = x_test[x_test.ss == 0]\n",
    "                y_test = y_test[y_test.ss == 0]\n",
    "                \n",
    "                x_train.drop('ss', axis = 1, inplace = True)\n",
    "                y_train.drop('ss', axis = 1, inplace = True)\n",
    "                x_test.drop('ss', axis = 1, inplace = True)\n",
    "                y_test.drop('ss', axis = 1, inplace = True)\n",
    "                \n",
    "                score = self.train(x_train, x_test, y_train, y_test, categorical_features)\n",
    "                \n",
    "                print(f\"Chunk {chunkIndex}; Score: {score}\")\n",
    "                \n",
    "                result_score.append((chunks_size[chunkIndex], score))\n",
    "        else:            \n",
    "            for chunkIndex in range(len(chunks_size)):\n",
    "                x_test = X[int(chunks_size[chunkIndex][0]) : int(chunks_size[chunkIndex][1])]\n",
    "                y_test = y[int(chunks_size[chunkIndex][0]) : int(chunks_size[chunkIndex][1])]\n",
    "                \n",
    "                x_train = X.drop(x_test.index, axis = 0)\n",
    "                y_train = y.drop(y_test.index, axis = 0)\n",
    "                \n",
    "                score = self.train(x_train, x_test, y_train, y_test, categorical_features)\n",
    "                \n",
    "                print(f\"Chunk {chunkIndex}; Score: {score}\")\n",
    "                \n",
    "                result_score.append((chunks_size[chunkIndex], score))\n",
    "            \n",
    "        print(f\"Mean score: {sum(list(map(lambda x: x[1], result_score))) / k}\")\n",
    "        \n",
    "        return result_score\n",
    "    \n",
    "    def fit_ss(self, X, y, numeric_features, categorial_features, X_ss, y_ss, cross_validation=False, random_state=RANDOM_STATE):\n",
    "        self.counter_words = {}\n",
    "        \n",
    "        X_ = X\n",
    "        y_ = y\n",
    "        \n",
    "        self.NLP_preprocess(pd.concat([X_, X_ss]), pd.concat([y_, y_ss]))\n",
    "        X_ = self.add_features(X_)[numeric_features + categorical_features]\n",
    "        \n",
    "        X_ss = self.add_features(X_ss)\n",
    "        \n",
    "        if (not cross_validation):\n",
    "            X_train, X_test, y_train, y_test = self.train_test_split_(X_, y_, test_size=0.2, X_ss=X_ss, y_ss=y_ss, random_state=random_state)\n",
    "            return self.train(X_train, X_test, y_train, y_test, categorical_features)\n",
    "        else:\n",
    "            return self.train_cross_validation(X_, y_, 5, categorical_features, X_ss=X_ss, y_ss=y_ss, random_state=random_state)\n",
    "        \n",
    "    def transform(self, X:pd.DataFrame, tracks:pd.DataFrame, comm_dataset:pd.DataFrame, is_training = True,random_state=RANDOM_STATE):\n",
    "        if tracks is not None:\n",
    "            self.preprocessing = Tracks_preprocessing() \n",
    "            if is_training:\n",
    "                tracks_train, tracks_y_train = self.preprocessing.preprocess(tracks)\n",
    "            else:\n",
    "                tracks_train = self.preprocessing.preprocess_unlabeled(tracks)\n",
    "        \n",
    "        self.counter_words = {}\n",
    "        \n",
    "        X_ = X.set_index('order_id').drop('is_aggressive', axis=1)\n",
    "        if is_training:\n",
    "            y_ = tracks_y_train\n",
    "        else:\n",
    "            y_=None\n",
    "        X_ = self.add_features(X_)\n",
    "\n",
    "        if is_training:\n",
    "            features = self.NLP_features(X_, y_,comm_dataset)\n",
    "        else: \n",
    "            features = self.NLP_model.features(X_, comm_dataset)\n",
    "        X_ = X_.merge(features, on='order_id', how='left')\n",
    "        print(X_.head())\n",
    "\n",
    "        print(f\"Table data matrix shape: {X_.shape}\")\n",
    "        print(f\"Tracks data matrix shape: {tracks_train.shape}\")\n",
    "        # у датасета в виде индекса ордер айди, колонки - фичи заказа\n",
    "        res_matrix = tracks_train.merge(X_, right_index=True,left_index=True)\n",
    "        print('RES MATRIX')\n",
    "        print(res_matrix)\n",
    "        res_matrix.fillna(0, inplace=True)\n",
    "\n",
    "        print(f\"Result matrix shape: {res_matrix.shape}\")\n",
    "        # if tracks is not None:\n",
    "        #     # TODO: не подготовлено к предикту(нельзя обработать unlabled дату)\n",
    "        #     preprocessing = Tracks_preprocessing() \n",
    "        #     if is_training:\n",
    "        #         tracks_train, tracks_y_train = preprocessing.preprocess(tracks)\n",
    "        #     else:\n",
    "        #         tracks_train =preprocessing.preprocess_unlabeled(tracks)\n",
    "        # y_ = pd.DataFrame(tracks_y_train, columns=['is_aggressive']) if is_training else None\n",
    "\n",
    "        # self.counter_words = {}\n",
    "        # X_ = X.set_index('order_id')\n",
    "        # print(X_.columns)\n",
    "        # global_features = self.add_features(X_)\n",
    "        # X_ = X_.drop(['is_aggressive', 'from_longitude', 'to_longitude', 'from_latitude', 'to_latitude'], axis=1)\n",
    "        # print(X_.columns)\n",
    "        # print(X_.isnull().any())\n",
    "        # if is_training:\n",
    "        #     print()\n",
    "        #     features = self.NLP_features(X_,y_, comm_dataset)\n",
    "        # else:\n",
    "        #     features=self.NLP_model.features(X,comm_dataset)\n",
    "        # X_ = X_.merge(global_features, on='order_id')\n",
    "        # X_ = X_.merge(features, on='order_id')\n",
    "        # print(X_.head())\n",
    "\n",
    "        # print(f\"Table data matrix shape: {X_.shape}\")\n",
    "        # print(f\"Tracks data matrix shape: {tracks_train.shape}\")\n",
    "        # # у датасета в виде индекса ордер айди, колонки - фичи заказа\n",
    "        # res_matrix = tracks_train.merge(X_, right_index=True,left_index=True)\n",
    "        # print('RES MATRIX')\n",
    "        # print(res_matrix)\n",
    "        # res_matrix.fillna(0, inplace=True)\n",
    "        # #res_matrix = select_features(res_matrix, y_)\n",
    "        # #res_matrix.drop(['order_id'], axis=1, inplace=True)\n",
    "\n",
    "        # print(f\"Result matrix shape: {res_matrix.shape}\")\n",
    "        if is_training:\n",
    "            return res_matrix, y_\n",
    "        return res_matrix\n",
    "\n",
    "\n",
    "    def fit(self, X:pd.DataFrame, y_:pd.DataFrame, comments:pd.DataFrame, numeric_features, categorical_features, tracks:pd.DataFrame = None, cross_validation=False, random_state=RANDOM_STATE):\n",
    "\n",
    "        res_matrix,y_ = self.transform(X, tracks,comments, random_state,True)\n",
    "\n",
    "        if (not cross_validation):\n",
    "            X_train, X_test, y_train, y_test = self.train_test_split_(res_matrix, y_, test_size=0.3, random_state=random_state)\n",
    "            return self.train(X_train, X_test, y_train, y_test, categorical_features)\n",
    "        else:\n",
    "            return self.train_cross_validation(X_, y_, 5, categorical_features, random_state=random_state)\n",
    "\n",
    "    def predict_proba(self, X, add_feat=True, tracks=None):\n",
    "        # не доделано еще\n",
    "        if (add_feat): X = self.add_features(X)\n",
    "        \n",
    "        X = self.add_features(X)[numeric_features + categorical_features + [\"order_id\"]]\n",
    "\n",
    "        res_matrix = X.merge(tracks, how='left', on='order_id')\n",
    "        res_matrix = res_matrix.fillna(0)\n",
    "        res_matrix = res_matrix.drop(['order_id'], axis=1)\n",
    "#         if 'driver_id' in list(res_matrix):\n",
    "#             res_matrix = res_matrix.drop(['driver_id', 'client_id', 'dttm', 'date', 'comment', 'mark'], axis=1)\n",
    "\n",
    "\n",
    "        return self.model.predict_proba(res_matrix[self.selected_features]).T[1][:, 1]\n",
    "    \n",
    "    def predict(self, X,comm_dataset, tracks=None):\n",
    "        # не готово \n",
    "        res_matrix=self.transform(X,tracks,comm_dataset,is_training=False)\n",
    "        \n",
    "        return self.model.predict(res_matrix)\n",
    "    \n",
    "    def predict_thresh(self, X, thresh_above, thresh_below):\n",
    "        y_unlab_full = self.predict_proba(X)\n",
    "        \n",
    "        y_unlab = pd.Series([-1 for i in range(len(X))])\n",
    "        \n",
    "        print(\"Thresh above: {}\".format(sum(y_unlab_full >= thresh_above) / len(y_unlab_full)))\n",
    "        print(\"Thresh below: {}\".format(sum(y_unlab_full <= thresh_below) / len(y_unlab_full)))\n",
    "        \n",
    "        y_unlab.iloc[np.where(y_unlab_full >= thresh_above)] = 1\n",
    "        y_unlab.iloc[np.where(y_unlab_full <= thresh_below)] = 0\n",
    "        \n",
    "        return y_unlab\n"
   ],
   "outputs": [
    {
     "output_type": "stream",
     "name": "stderr",
     "text": [
      "[nltk_data] Downloading package stopwords to\n",
      "[nltk_data]     /home/porosenok/nltk_data...\n",
      "[nltk_data]   Package stopwords is already up-to-date!\n"
     ]
    }
   ],
   "metadata": {
    "id": "73bPA-Pcx5JA"
   }
  },
  {
   "cell_type": "code",
   "execution_count": null,
   "source": [],
   "outputs": [],
   "metadata": {}
  },
  {
   "cell_type": "markdown",
   "source": [
    "# Train on labled data"
   ],
   "metadata": {
    "id": "fbSXf2PYx5JF"
   }
  },
  {
   "cell_type": "code",
   "execution_count": 5,
   "source": [
    "if COLAB:\n",
    "    path = '/content/drive/MyDrive/aiijc_transport_simpleteam/'\n",
    "else:\n",
    "    path = './'\n",
    "\n",
    "train_labled = pd.read_csv(path + 'data/base_files/labled_train_data.csv', index_col=0, sep='\\t', comment='#')\n",
    "tracks_labled = pd.read_csv(path+\"data/labled_train_tracks_speed.csv\", index_col=0, sep=',', comment='#')\n",
    "tracks_unlabled = pd.read_csv(path +\"data/unlabled_train_tracks_speed.csv\", index_col=0, sep=',', comment='#')\n",
    "\n",
    "labled_train_comments = pd.read_csv('data/base_files/labled_train_comments.csv', comment='#', sep='\\t').drop('Unnamed: 0', axis=1)\n",
    "\n",
    "\n",
    "X_ = train_labled\n",
    "print(X_.columns)\n",
    "y_ = train_labled.iloc[:, -1:]\n",
    "print(y_)\n",
    "X_['client_rate_ride'] = X_['client_rate_ride'].fillna(X_['client_rate_ride'].mean())\n",
    "X_['client_rides_cnt'] = X_['client_rides_cnt'].fillna(X_['client_rides_cnt'].mean())\n",
    "X_['driver_rides_cnt'] = X_['driver_rides_cnt'].fillna(X_['driver_rides_cnt'].mean())"
   ],
   "outputs": [
    {
     "output_type": "stream",
     "name": "stdout",
     "text": [
      "Index(['order_id', 'driver_id', 'client_id', 'dttm', 'date',\n",
      "       'arrived_distance', 'arrived_duration', 'distance', 'duration',\n",
      "       'from_latitude', 'from_longitude', 'to_latitude', 'to_longitude',\n",
      "       'mark', 'client_rate_ride', 'client_rides_cnt', 'driver_rides_cnt',\n",
      "       'comment', 'is_aggressive'],\n",
      "      dtype='object')\n",
      "      is_aggressive\n",
      "0                 0\n",
      "1                 0\n",
      "2                 0\n",
      "3                 0\n",
      "4                 0\n",
      "...             ...\n",
      "8995              0\n",
      "8996              0\n",
      "8997              0\n",
      "8998              0\n",
      "8999              0\n",
      "\n",
      "[9000 rows x 1 columns]\n"
     ]
    }
   ],
   "metadata": {
    "id": "roi11zG3x5JF"
   }
  },
  {
   "cell_type": "code",
   "execution_count": 6,
   "source": [
    "labled_train_comments = labled_train_comments.fillna('Больше нечего сказать'.lower())"
   ],
   "outputs": [],
   "metadata": {
    "id": "kFkCdcz_CHyN"
   }
  },
  {
   "cell_type": "code",
   "execution_count": 7,
   "source": [
    "numeric_features = ['distance', 'arrived_distance', 'arrived_duration', 'duration', 'driver_rides_cnt', 'client_rides_cnt', 'client_rate_ride', 'count_words']\n",
    "\n",
    "categorical_features = ['mark', 'is_comment', 'hour', 'weekday', 'agg_words', 'normal_words']\n",
    "model_supervised = Model()\n",
    "\n",
    "model_supervised.fit(X_,y_, labled_train_comments, numeric_features, categorical_features, tracks=tracks_labled)\n",
    "\n",
    "with open('model.pkl','wb') as f:\n",
    "    pickle.dump(model_supervised, f)\n",
    "with open('model.pkl','rb') as f:\n",
    "    model_supervised = pickle.load(f)"
   ],
   "outputs": [
    {
     "output_type": "stream",
     "name": "stdout",
     "text": [
      "training vectorizer model...\n",
      "TEXT WECTORIZER TRAINED\n",
      "training vectorizer model...\n",
      "CARS WECTORIZER TRAINED\n",
      "training cars clustering model...\n",
      "CARS CLUSTERING COMPLETED\n",
      "COMM MODEL TRAINED\n",
      "                                                         driver_id  \\\n",
      "order_id                                                             \n",
      "6a0f322ade1a05e5c4cec4344efbce8b  f7c2b293ef94420f5e51abae6889b83b   \n",
      "934ecbe5845426fd3f8ef7938cce2a11  01d029c42c99581080a60679fca06ff9   \n",
      "5348cb339b63eaea3b2cb57a064ce550  3c88deb7df7a73a24ebc229db9783405   \n",
      "309ef91c3b51e27d097642169576f67b  f35a8ff85f2095755f16bba91035fbdc   \n",
      "3506e04e45d39c6e3033637389da1041  0a227ac8d702170c03acf36d55e60d0d   \n",
      "\n",
      "                                                         client_id  \\\n",
      "order_id                                                             \n",
      "6a0f322ade1a05e5c4cec4344efbce8b  3156d05c6458a8228bed59f02075a61e   \n",
      "934ecbe5845426fd3f8ef7938cce2a11  3156d05c6458a8228bed59f02075a61e   \n",
      "5348cb339b63eaea3b2cb57a064ce550  3156d05c6458a8228bed59f02075a61e   \n",
      "309ef91c3b51e27d097642169576f67b  3156d05c6458a8228bed59f02075a61e   \n",
      "3506e04e45d39c6e3033637389da1041  3156d05c6458a8228bed59f02075a61e   \n",
      "\n",
      "                                                dttm        date  \\\n",
      "order_id                                                           \n",
      "6a0f322ade1a05e5c4cec4344efbce8b 2021-01-22 21:53:00  2021-01-22   \n",
      "934ecbe5845426fd3f8ef7938cce2a11 2021-01-24 14:09:00  2021-01-24   \n",
      "5348cb339b63eaea3b2cb57a064ce550 2021-01-26 21:02:00  2021-01-26   \n",
      "309ef91c3b51e27d097642169576f67b 2021-01-27 17:24:00  2021-01-27   \n",
      "3506e04e45d39c6e3033637389da1041 2021-01-29 15:31:00  2021-01-29   \n",
      "\n",
      "                                  arrived_distance  arrived_duration  \\\n",
      "order_id                                                               \n",
      "6a0f322ade1a05e5c4cec4344efbce8b             150.0               1.0   \n",
      "934ecbe5845426fd3f8ef7938cce2a11             570.0               1.0   \n",
      "5348cb339b63eaea3b2cb57a064ce550              40.0               0.0   \n",
      "309ef91c3b51e27d097642169576f67b             140.0               1.0   \n",
      "3506e04e45d39c6e3033637389da1041             150.0               1.0   \n",
      "\n",
      "                                  distance  duration  from_latitude  \\\n",
      "order_id                                                              \n",
      "6a0f322ade1a05e5c4cec4344efbce8b      11.8      20.5      55.795900   \n",
      "934ecbe5845426fd3f8ef7938cce2a11      17.2      26.2      55.716502   \n",
      "5348cb339b63eaea3b2cb57a064ce550       5.8      10.9      55.716637   \n",
      "309ef91c3b51e27d097642169576f67b       4.5      10.7      55.689076   \n",
      "3506e04e45d39c6e3033637389da1041      15.4      25.1      55.655489   \n",
      "\n",
      "                                  from_longitude  ...      speed  agg_words  \\\n",
      "order_id                                          ...                         \n",
      "6a0f322ade1a05e5c4cec4344efbce8b       37.560300  ...  34.536585          0   \n",
      "934ecbe5845426fd3f8ef7938cce2a11       37.524627  ...  39.389313          0   \n",
      "5348cb339b63eaea3b2cb57a064ce550       37.524223  ...  31.926606          0   \n",
      "309ef91c3b51e27d097642169576f67b       37.491088  ...  25.233645          0   \n",
      "3506e04e45d39c6e3033637389da1041       37.616629  ...  36.812749          0   \n",
      "\n",
      "                                 normal_words  distance_thresh  \\\n",
      "order_id                                                         \n",
      "6a0f322ade1a05e5c4cec4344efbce8b            0                1   \n",
      "934ecbe5845426fd3f8ef7938cce2a11            0                1   \n",
      "5348cb339b63eaea3b2cb57a064ce550            0                1   \n",
      "309ef91c3b51e27d097642169576f67b            0                0   \n",
      "3506e04e45d39c6e3033637389da1041            0                1   \n",
      "\n",
      "                                  agg_verbs_rate  agg_adjs_rate  \\\n",
      "order_id                                                          \n",
      "6a0f322ade1a05e5c4cec4344efbce8b             0.0            0.0   \n",
      "934ecbe5845426fd3f8ef7938cce2a11             0.0            0.0   \n",
      "5348cb339b63eaea3b2cb57a064ce550             0.0            0.0   \n",
      "309ef91c3b51e27d097642169576f67b             0.0            0.0   \n",
      "3506e04e45d39c6e3033637389da1041             0.0            0.0   \n",
      "\n",
      "                                 agg_nouns_rate  \\\n",
      "order_id                                          \n",
      "6a0f322ade1a05e5c4cec4344efbce8b            0.0   \n",
      "934ecbe5845426fd3f8ef7938cce2a11            0.0   \n",
      "5348cb339b63eaea3b2cb57a064ce550            0.0   \n",
      "309ef91c3b51e27d097642169576f67b            0.0   \n",
      "3506e04e45d39c6e3033637389da1041            0.0   \n",
      "\n",
      "                                  mean_comments_aggressive_rate  \\\n",
      "order_id                                                          \n",
      "6a0f322ade1a05e5c4cec4344efbce8b                       0.159938   \n",
      "934ecbe5845426fd3f8ef7938cce2a11                       0.159551   \n",
      "5348cb339b63eaea3b2cb57a064ce550                       0.159817   \n",
      "309ef91c3b51e27d097642169576f67b                       0.158818   \n",
      "3506e04e45d39c6e3033637389da1041                       0.159426   \n",
      "\n",
      "                                  agg_comm_probability  is_comment_y  \n",
      "order_id                                                              \n",
      "6a0f322ade1a05e5c4cec4344efbce8b                   0.0             0  \n",
      "934ecbe5845426fd3f8ef7938cce2a11                   0.0             0  \n",
      "5348cb339b63eaea3b2cb57a064ce550                   0.0             0  \n",
      "309ef91c3b51e27d097642169576f67b                   0.0             0  \n",
      "3506e04e45d39c6e3033637389da1041                   0.0             0  \n",
      "\n",
      "[5 rows x 33 columns]\n",
      "Table data matrix shape: (9000, 33)\n",
      "Tracks data matrix shape: (9000, 127)\n",
      "RES MATRIX\n",
      "                                  speed__fft_coefficient__attr_\"abs\"__coeff_3  \\\n",
      "001662da857b5a39bb402aacf3145f86                                   175.189443   \n",
      "001a8da3b83fe77dd0f3a406acb414c2                                    18.445105   \n",
      "001eaa75ad97eff199d914f67b8e32ef                                   112.883308   \n",
      "001f7deb75b27d8ef5a68204a0bd86a2                                   156.402613   \n",
      "002946d95ca1bc6954858b63c202bbb1                                   382.243667   \n",
      "...                                                                       ...   \n",
      "ffdb0446f266cdc96fe79b9ff4e5ca35                                    53.330944   \n",
      "ffe343aba3979857c5d268011147d720                                    53.210107   \n",
      "ffeb60427212d142a2aa6dc9fb23713f                                    96.240277   \n",
      "fffd991bb7f71a047aa7e982fd7ceea8                                   397.738315   \n",
      "fffdfda358f35cf2d7f9d87d205655a7                                   269.221159   \n",
      "\n",
      "                                  speed__absolute_sum_of_changes  \\\n",
      "001662da857b5a39bb402aacf3145f86                      651.486763   \n",
      "001a8da3b83fe77dd0f3a406acb414c2                      307.701308   \n",
      "001eaa75ad97eff199d914f67b8e32ef                      797.382464   \n",
      "001f7deb75b27d8ef5a68204a0bd86a2                      303.249206   \n",
      "002946d95ca1bc6954858b63c202bbb1                     2241.758557   \n",
      "...                                                          ...   \n",
      "ffdb0446f266cdc96fe79b9ff4e5ca35                      197.074584   \n",
      "ffe343aba3979857c5d268011147d720                      330.874955   \n",
      "ffeb60427212d142a2aa6dc9fb23713f                      300.223541   \n",
      "fffd991bb7f71a047aa7e982fd7ceea8                     1490.784674   \n",
      "fffdfda358f35cf2d7f9d87d205655a7                      661.671638   \n",
      "\n",
      "                                  speed__cid_ce__normalize_False  \\\n",
      "001662da857b5a39bb402aacf3145f86                      110.173614   \n",
      "001a8da3b83fe77dd0f3a406acb414c2                      107.669605   \n",
      "001eaa75ad97eff199d914f67b8e32ef                      219.164383   \n",
      "001f7deb75b27d8ef5a68204a0bd86a2                       82.362531   \n",
      "002946d95ca1bc6954858b63c202bbb1                      857.467006   \n",
      "...                                                          ...   \n",
      "ffdb0446f266cdc96fe79b9ff4e5ca35                       75.799367   \n",
      "ffe343aba3979857c5d268011147d720                       99.237017   \n",
      "ffeb60427212d142a2aa6dc9fb23713f                      105.817751   \n",
      "fffd991bb7f71a047aa7e982fd7ceea8                      317.135977   \n",
      "fffdfda358f35cf2d7f9d87d205655a7                      119.155789   \n",
      "\n",
      "                                  speed__count_below_mean  \\\n",
      "001662da857b5a39bb402aacf3145f86                     26.0   \n",
      "001a8da3b83fe77dd0f3a406acb414c2                     11.0   \n",
      "001eaa75ad97eff199d914f67b8e32ef                     30.0   \n",
      "001f7deb75b27d8ef5a68204a0bd86a2                     15.0   \n",
      "002946d95ca1bc6954858b63c202bbb1                     59.0   \n",
      "...                                                   ...   \n",
      "ffdb0446f266cdc96fe79b9ff4e5ca35                      7.0   \n",
      "ffe343aba3979857c5d268011147d720                      8.0   \n",
      "ffeb60427212d142a2aa6dc9fb23713f                     18.0   \n",
      "fffd991bb7f71a047aa7e982fd7ceea8                     32.0   \n",
      "fffdfda358f35cf2d7f9d87d205655a7                     36.0   \n",
      "\n",
      "                                  speed__number_cwt_peaks__n_5  \\\n",
      "001662da857b5a39bb402aacf3145f86                           9.0   \n",
      "001a8da3b83fe77dd0f3a406acb414c2                           1.0   \n",
      "001eaa75ad97eff199d914f67b8e32ef                           5.0   \n",
      "001f7deb75b27d8ef5a68204a0bd86a2                           3.0   \n",
      "002946d95ca1bc6954858b63c202bbb1                           7.0   \n",
      "...                                                        ...   \n",
      "ffdb0446f266cdc96fe79b9ff4e5ca35                           1.0   \n",
      "ffe343aba3979857c5d268011147d720                           2.0   \n",
      "ffeb60427212d142a2aa6dc9fb23713f                           2.0   \n",
      "fffd991bb7f71a047aa7e982fd7ceea8                          10.0   \n",
      "fffdfda358f35cf2d7f9d87d205655a7                           6.0   \n",
      "\n",
      "                                  speed__fft_aggregated__aggtype_\"variance\"  \\\n",
      "001662da857b5a39bb402aacf3145f86                                  63.298473   \n",
      "001a8da3b83fe77dd0f3a406acb414c2                                   8.960314   \n",
      "001eaa75ad97eff199d914f67b8e32ef                                  62.006897   \n",
      "001f7deb75b27d8ef5a68204a0bd86a2                                  11.987534   \n",
      "002946d95ca1bc6954858b63c202bbb1                                 175.742229   \n",
      "...                                                                     ...   \n",
      "ffdb0446f266cdc96fe79b9ff4e5ca35                                   3.444987   \n",
      "ffe343aba3979857c5d268011147d720                                   7.432740   \n",
      "ffeb60427212d142a2aa6dc9fb23713f                                  17.564257   \n",
      "fffd991bb7f71a047aa7e982fd7ceea8                                 227.670345   \n",
      "fffdfda358f35cf2d7f9d87d205655a7                                  69.027038   \n",
      "\n",
      "                                  speed__sum_values  \\\n",
      "001662da857b5a39bb402aacf3145f86        1160.082688   \n",
      "001a8da3b83fe77dd0f3a406acb414c2         346.478537   \n",
      "001eaa75ad97eff199d914f67b8e32ef        1750.109161   \n",
      "001f7deb75b27d8ef5a68204a0bd86a2         455.341910   \n",
      "002946d95ca1bc6954858b63c202bbb1        2616.695643   \n",
      "...                                             ...   \n",
      "ffdb0446f266cdc96fe79b9ff4e5ca35         351.204299   \n",
      "ffe343aba3979857c5d268011147d720         401.598052   \n",
      "ffeb60427212d142a2aa6dc9fb23713f        1138.570433   \n",
      "fffd991bb7f71a047aa7e982fd7ceea8        7739.947308   \n",
      "fffdfda358f35cf2d7f9d87d205655a7        1447.386311   \n",
      "\n",
      "                                  speed__fft_coefficient__attr_\"real\"__coeff_0  \\\n",
      "001662da857b5a39bb402aacf3145f86                                   1160.082688   \n",
      "001a8da3b83fe77dd0f3a406acb414c2                                    346.478537   \n",
      "001eaa75ad97eff199d914f67b8e32ef                                   1750.109161   \n",
      "001f7deb75b27d8ef5a68204a0bd86a2                                    455.341910   \n",
      "002946d95ca1bc6954858b63c202bbb1                                   2616.695643   \n",
      "...                                                                        ...   \n",
      "ffdb0446f266cdc96fe79b9ff4e5ca35                                    351.204299   \n",
      "ffe343aba3979857c5d268011147d720                                    401.598052   \n",
      "ffeb60427212d142a2aa6dc9fb23713f                                   1138.570433   \n",
      "fffd991bb7f71a047aa7e982fd7ceea8                                   7739.947308   \n",
      "fffdfda358f35cf2d7f9d87d205655a7                                   1447.386311   \n",
      "\n",
      "                                  speed__fft_aggregated__aggtype_\"centroid\"  \\\n",
      "001662da857b5a39bb402aacf3145f86                                   7.281716   \n",
      "001a8da3b83fe77dd0f3a406acb414c2                                   2.858879   \n",
      "001eaa75ad97eff199d914f67b8e32ef                                   7.257688   \n",
      "001f7deb75b27d8ef5a68204a0bd86a2                                   3.016641   \n",
      "002946d95ca1bc6954858b63c202bbb1                                  19.054013   \n",
      "...                                                                     ...   \n",
      "ffdb0446f266cdc96fe79b9ff4e5ca35                                   1.541947   \n",
      "ffe343aba3979857c5d268011147d720                                   2.430485   \n",
      "ffeb60427212d142a2aa6dc9fb23713f                                   3.035254   \n",
      "fffd991bb7f71a047aa7e982fd7ceea8                                  12.045972   \n",
      "fffdfda358f35cf2d7f9d87d205655a7                                   6.751269   \n",
      "\n",
      "                                  speed__fft_coefficient__attr_\"abs\"__coeff_0  \\\n",
      "001662da857b5a39bb402aacf3145f86                                  1160.082688   \n",
      "001a8da3b83fe77dd0f3a406acb414c2                                   346.478537   \n",
      "001eaa75ad97eff199d914f67b8e32ef                                  1750.109161   \n",
      "001f7deb75b27d8ef5a68204a0bd86a2                                   455.341910   \n",
      "002946d95ca1bc6954858b63c202bbb1                                  2616.695643   \n",
      "...                                                                       ...   \n",
      "ffdb0446f266cdc96fe79b9ff4e5ca35                                   351.204299   \n",
      "ffe343aba3979857c5d268011147d720                                   401.598052   \n",
      "ffeb60427212d142a2aa6dc9fb23713f                                  1138.570433   \n",
      "fffd991bb7f71a047aa7e982fd7ceea8                                  7739.947308   \n",
      "fffdfda358f35cf2d7f9d87d205655a7                                  1447.386311   \n",
      "\n",
      "                                  ...      speed  agg_words  normal_words  \\\n",
      "001662da857b5a39bb402aacf3145f86  ...  18.441558          0             0   \n",
      "001a8da3b83fe77dd0f3a406acb414c2  ...  20.851064          0             0   \n",
      "001eaa75ad97eff199d914f67b8e32ef  ...  35.714286          0             0   \n",
      "001f7deb75b27d8ef5a68204a0bd86a2  ...  27.096774          0             0   \n",
      "002946d95ca1bc6954858b63c202bbb1  ...  23.903743          0             0   \n",
      "...                               ...        ...        ...           ...   \n",
      "ffdb0446f266cdc96fe79b9ff4e5ca35  ...  24.507042          0             0   \n",
      "ffe343aba3979857c5d268011147d720  ...  26.250000          0             0   \n",
      "ffeb60427212d142a2aa6dc9fb23713f  ...  38.333333          0             0   \n",
      "fffd991bb7f71a047aa7e982fd7ceea8  ...  63.069054          0             0   \n",
      "fffdfda358f35cf2d7f9d87d205655a7  ...  33.956044          0             0   \n",
      "\n",
      "                                  distance_thresh  agg_verbs_rate  \\\n",
      "001662da857b5a39bb402aacf3145f86                1             0.0   \n",
      "001a8da3b83fe77dd0f3a406acb414c2                0             0.0   \n",
      "001eaa75ad97eff199d914f67b8e32ef                1             0.0   \n",
      "001f7deb75b27d8ef5a68204a0bd86a2                1             0.0   \n",
      "002946d95ca1bc6954858b63c202bbb1                1             0.0   \n",
      "...                                           ...             ...   \n",
      "ffdb0446f266cdc96fe79b9ff4e5ca35                0             0.0   \n",
      "ffe343aba3979857c5d268011147d720                0             0.0   \n",
      "ffeb60427212d142a2aa6dc9fb23713f                1             0.0   \n",
      "fffd991bb7f71a047aa7e982fd7ceea8                0             0.0   \n",
      "fffdfda358f35cf2d7f9d87d205655a7                1             0.0   \n",
      "\n",
      "                                  agg_adjs_rate  agg_nouns_rate  \\\n",
      "001662da857b5a39bb402aacf3145f86            0.0             0.0   \n",
      "001a8da3b83fe77dd0f3a406acb414c2            0.0             0.0   \n",
      "001eaa75ad97eff199d914f67b8e32ef            0.0             0.0   \n",
      "001f7deb75b27d8ef5a68204a0bd86a2            0.0             1.0   \n",
      "002946d95ca1bc6954858b63c202bbb1            0.0             0.0   \n",
      "...                                         ...             ...   \n",
      "ffdb0446f266cdc96fe79b9ff4e5ca35            0.0             0.0   \n",
      "ffe343aba3979857c5d268011147d720            0.0             0.0   \n",
      "ffeb60427212d142a2aa6dc9fb23713f            0.0             0.0   \n",
      "fffd991bb7f71a047aa7e982fd7ceea8            0.0             0.0   \n",
      "fffdfda358f35cf2d7f9d87d205655a7            0.0             0.0   \n",
      "\n",
      "                                  mean_comments_aggressive_rate  \\\n",
      "001662da857b5a39bb402aacf3145f86                       0.000000   \n",
      "001a8da3b83fe77dd0f3a406acb414c2                       0.159401   \n",
      "001eaa75ad97eff199d914f67b8e32ef                       0.161258   \n",
      "001f7deb75b27d8ef5a68204a0bd86a2                       0.159352   \n",
      "002946d95ca1bc6954858b63c202bbb1                       0.159329   \n",
      "...                                                         ...   \n",
      "ffdb0446f266cdc96fe79b9ff4e5ca35                       0.159050   \n",
      "ffe343aba3979857c5d268011147d720                       0.159018   \n",
      "ffeb60427212d142a2aa6dc9fb23713f                       0.158805   \n",
      "fffd991bb7f71a047aa7e982fd7ceea8                       0.159732   \n",
      "fffdfda358f35cf2d7f9d87d205655a7                       0.159266   \n",
      "\n",
      "                                  agg_comm_probability  is_comment_y  \n",
      "001662da857b5a39bb402aacf3145f86              0.000000             0  \n",
      "001a8da3b83fe77dd0f3a406acb414c2              0.000000             0  \n",
      "001eaa75ad97eff199d914f67b8e32ef              0.000000             0  \n",
      "001f7deb75b27d8ef5a68204a0bd86a2              0.160603             1  \n",
      "002946d95ca1bc6954858b63c202bbb1              0.000000             0  \n",
      "...                                                ...           ...  \n",
      "ffdb0446f266cdc96fe79b9ff4e5ca35              0.000000             0  \n",
      "ffe343aba3979857c5d268011147d720              0.000000             0  \n",
      "ffeb60427212d142a2aa6dc9fb23713f              0.000000             0  \n",
      "fffd991bb7f71a047aa7e982fd7ceea8              0.000000             0  \n",
      "fffdfda358f35cf2d7f9d87d205655a7              0.000000             0  \n",
      "\n",
      "[9000 rows x 160 columns]\n",
      "Result matrix shape: (9000, 160)\n",
      "Train size: (6300, 160)\n",
      "Test size: (2700, 160)\n",
      "TRAIN HEAD: \n",
      "                                   speed__fft_coefficient__attr_\"abs\"__coeff_3  \\\n",
      "e269ffdd307e47338873dae037afd87e                                    29.267806   \n",
      "21279318eace725f719ca995556a4019                                   186.068059   \n",
      "10796ee1694d7db972b323d480b00781                                   308.538082   \n",
      "75773d133623d3905d14405030826059                                   222.072185   \n",
      "ef2247019abe71fcc1af9cde9620d836                                    47.221144   \n",
      "\n",
      "                                  speed__absolute_sum_of_changes  \\\n",
      "e269ffdd307e47338873dae037afd87e                      116.727176   \n",
      "21279318eace725f719ca995556a4019                      950.702603   \n",
      "10796ee1694d7db972b323d480b00781                      576.860606   \n",
      "75773d133623d3905d14405030826059                      995.208925   \n",
      "ef2247019abe71fcc1af9cde9620d836                      686.998975   \n",
      "\n",
      "                                  speed__cid_ce__normalize_False  \\\n",
      "e269ffdd307e47338873dae037afd87e                       41.548298   \n",
      "21279318eace725f719ca995556a4019                      162.429872   \n",
      "10796ee1694d7db972b323d480b00781                      136.685510   \n",
      "75773d133623d3905d14405030826059                      195.958220   \n",
      "ef2247019abe71fcc1af9cde9620d836                      128.065793   \n",
      "\n",
      "                                  speed__count_below_mean  \\\n",
      "e269ffdd307e47338873dae037afd87e                      7.0   \n",
      "21279318eace725f719ca995556a4019                     28.0   \n",
      "10796ee1694d7db972b323d480b00781                     14.0   \n",
      "75773d133623d3905d14405030826059                     45.0   \n",
      "ef2247019abe71fcc1af9cde9620d836                     27.0   \n",
      "\n",
      "                                  speed__number_cwt_peaks__n_5  \\\n",
      "e269ffdd307e47338873dae037afd87e                           3.0   \n",
      "21279318eace725f719ca995556a4019                           6.0   \n",
      "10796ee1694d7db972b323d480b00781                           3.0   \n",
      "75773d133623d3905d14405030826059                           8.0   \n",
      "ef2247019abe71fcc1af9cde9620d836                           6.0   \n",
      "\n",
      "                                  speed__fft_aggregated__aggtype_\"variance\"  \\\n",
      "e269ffdd307e47338873dae037afd87e                                   4.536906   \n",
      "21279318eace725f719ca995556a4019                                  81.813436   \n",
      "10796ee1694d7db972b323d480b00781                                  33.656569   \n",
      "75773d133623d3905d14405030826059                                 104.192580   \n",
      "ef2247019abe71fcc1af9cde9620d836                                  57.211442   \n",
      "\n",
      "                                  speed__sum_values  \\\n",
      "e269ffdd307e47338873dae037afd87e         312.336880   \n",
      "21279318eace725f719ca995556a4019        1963.078358   \n",
      "10796ee1694d7db972b323d480b00781        2749.421198   \n",
      "75773d133623d3905d14405030826059        2397.185369   \n",
      "ef2247019abe71fcc1af9cde9620d836        1781.118104   \n",
      "\n",
      "                                  speed__fft_coefficient__attr_\"real\"__coeff_0  \\\n",
      "e269ffdd307e47338873dae037afd87e                                    312.336880   \n",
      "21279318eace725f719ca995556a4019                                   1963.078358   \n",
      "10796ee1694d7db972b323d480b00781                                   2749.421198   \n",
      "75773d133623d3905d14405030826059                                   2397.185369   \n",
      "ef2247019abe71fcc1af9cde9620d836                                   1781.118104   \n",
      "\n",
      "                                  speed__fft_aggregated__aggtype_\"centroid\"  \\\n",
      "e269ffdd307e47338873dae037afd87e                                   1.396784   \n",
      "21279318eace725f719ca995556a4019                                   7.817345   \n",
      "10796ee1694d7db972b323d480b00781                                   3.738514   \n",
      "75773d133623d3905d14405030826059                                   8.919037   \n",
      "ef2247019abe71fcc1af9cde9620d836                                   6.126819   \n",
      "\n",
      "                                  speed__fft_coefficient__attr_\"abs\"__coeff_0  \\\n",
      "e269ffdd307e47338873dae037afd87e                                   312.336880   \n",
      "21279318eace725f719ca995556a4019                                  1963.078358   \n",
      "10796ee1694d7db972b323d480b00781                                  2749.421198   \n",
      "75773d133623d3905d14405030826059                                  2397.185369   \n",
      "ef2247019abe71fcc1af9cde9620d836                                  1781.118104   \n",
      "\n",
      "                                  ...      speed  agg_words  normal_words  \\\n",
      "e269ffdd307e47338873dae037afd87e  ...  23.265306          0             0   \n",
      "21279318eace725f719ca995556a4019  ...  30.000000          0             0   \n",
      "10796ee1694d7db972b323d480b00781  ...  51.037344          0             0   \n",
      "75773d133623d3905d14405030826059  ...  36.214286          0             0   \n",
      "ef2247019abe71fcc1af9cde9620d836  ...  25.414013          0             0   \n",
      "\n",
      "                                  distance_thresh  agg_verbs_rate  \\\n",
      "e269ffdd307e47338873dae037afd87e                0             0.0   \n",
      "21279318eace725f719ca995556a4019                1             0.0   \n",
      "10796ee1694d7db972b323d480b00781                0             0.0   \n",
      "75773d133623d3905d14405030826059                1             0.0   \n",
      "ef2247019abe71fcc1af9cde9620d836                1             0.0   \n",
      "\n",
      "                                  agg_adjs_rate  agg_nouns_rate  \\\n",
      "e269ffdd307e47338873dae037afd87e            0.0             0.0   \n",
      "21279318eace725f719ca995556a4019            0.0             0.0   \n",
      "10796ee1694d7db972b323d480b00781            0.0             0.0   \n",
      "75773d133623d3905d14405030826059            0.0             0.0   \n",
      "ef2247019abe71fcc1af9cde9620d836            0.0             0.0   \n",
      "\n",
      "                                  mean_comments_aggressive_rate  \\\n",
      "e269ffdd307e47338873dae037afd87e                       0.159044   \n",
      "21279318eace725f719ca995556a4019                       0.159434   \n",
      "10796ee1694d7db972b323d480b00781                       0.159253   \n",
      "75773d133623d3905d14405030826059                       0.159661   \n",
      "ef2247019abe71fcc1af9cde9620d836                       0.159936   \n",
      "\n",
      "                                  agg_comm_probability  is_comment_y  \n",
      "e269ffdd307e47338873dae037afd87e                   0.0             0  \n",
      "21279318eace725f719ca995556a4019                   0.0             0  \n",
      "10796ee1694d7db972b323d480b00781                   0.0             0  \n",
      "75773d133623d3905d14405030826059                   0.0             0  \n",
      "ef2247019abe71fcc1af9cde9620d836                   0.0             0  \n",
      "\n",
      "[5 rows x 160 columns]\n",
      "y_TRAIN\n",
      "order_id\n",
      "e269ffdd307e47338873dae037afd87e    0.0\n",
      "21279318eace725f719ca995556a4019    0.0\n",
      "10796ee1694d7db972b323d480b00781    0.0\n",
      "75773d133623d3905d14405030826059    0.0\n",
      "ef2247019abe71fcc1af9cde9620d836    0.0\n",
      "Name: is_aggressive, dtype: float64\n",
      "X_TRAIN\n",
      "                                  speed__fft_coefficient__attr_\"abs\"__coeff_3  \\\n",
      "e269ffdd307e47338873dae037afd87e                                    29.267806   \n",
      "21279318eace725f719ca995556a4019                                   186.068059   \n",
      "10796ee1694d7db972b323d480b00781                                   308.538082   \n",
      "75773d133623d3905d14405030826059                                   222.072185   \n",
      "ef2247019abe71fcc1af9cde9620d836                                    47.221144   \n",
      "\n",
      "                                  speed__absolute_sum_of_changes  \\\n",
      "e269ffdd307e47338873dae037afd87e                      116.727176   \n",
      "21279318eace725f719ca995556a4019                      950.702603   \n",
      "10796ee1694d7db972b323d480b00781                      576.860606   \n",
      "75773d133623d3905d14405030826059                      995.208925   \n",
      "ef2247019abe71fcc1af9cde9620d836                      686.998975   \n",
      "\n",
      "                                  speed__cid_ce__normalize_False  \\\n",
      "e269ffdd307e47338873dae037afd87e                       41.548298   \n",
      "21279318eace725f719ca995556a4019                      162.429872   \n",
      "10796ee1694d7db972b323d480b00781                      136.685510   \n",
      "75773d133623d3905d14405030826059                      195.958220   \n",
      "ef2247019abe71fcc1af9cde9620d836                      128.065793   \n",
      "\n",
      "                                  speed__count_below_mean  \\\n",
      "e269ffdd307e47338873dae037afd87e                      7.0   \n",
      "21279318eace725f719ca995556a4019                     28.0   \n",
      "10796ee1694d7db972b323d480b00781                     14.0   \n",
      "75773d133623d3905d14405030826059                     45.0   \n",
      "ef2247019abe71fcc1af9cde9620d836                     27.0   \n",
      "\n",
      "                                  speed__number_cwt_peaks__n_5  \\\n",
      "e269ffdd307e47338873dae037afd87e                           3.0   \n",
      "21279318eace725f719ca995556a4019                           6.0   \n",
      "10796ee1694d7db972b323d480b00781                           3.0   \n",
      "75773d133623d3905d14405030826059                           8.0   \n",
      "ef2247019abe71fcc1af9cde9620d836                           6.0   \n",
      "\n",
      "                                  speed__fft_aggregated__aggtype_\"variance\"  \\\n",
      "e269ffdd307e47338873dae037afd87e                                   4.536906   \n",
      "21279318eace725f719ca995556a4019                                  81.813436   \n",
      "10796ee1694d7db972b323d480b00781                                  33.656569   \n",
      "75773d133623d3905d14405030826059                                 104.192580   \n",
      "ef2247019abe71fcc1af9cde9620d836                                  57.211442   \n",
      "\n",
      "                                  speed__sum_values  \\\n",
      "e269ffdd307e47338873dae037afd87e         312.336880   \n",
      "21279318eace725f719ca995556a4019        1963.078358   \n",
      "10796ee1694d7db972b323d480b00781        2749.421198   \n",
      "75773d133623d3905d14405030826059        2397.185369   \n",
      "ef2247019abe71fcc1af9cde9620d836        1781.118104   \n",
      "\n",
      "                                  speed__fft_coefficient__attr_\"real\"__coeff_0  \\\n",
      "e269ffdd307e47338873dae037afd87e                                    312.336880   \n",
      "21279318eace725f719ca995556a4019                                   1963.078358   \n",
      "10796ee1694d7db972b323d480b00781                                   2749.421198   \n",
      "75773d133623d3905d14405030826059                                   2397.185369   \n",
      "ef2247019abe71fcc1af9cde9620d836                                   1781.118104   \n",
      "\n",
      "                                  speed__fft_aggregated__aggtype_\"centroid\"  \\\n",
      "e269ffdd307e47338873dae037afd87e                                   1.396784   \n",
      "21279318eace725f719ca995556a4019                                   7.817345   \n",
      "10796ee1694d7db972b323d480b00781                                   3.738514   \n",
      "75773d133623d3905d14405030826059                                   8.919037   \n",
      "ef2247019abe71fcc1af9cde9620d836                                   6.126819   \n",
      "\n",
      "                                  speed__fft_coefficient__attr_\"abs\"__coeff_0  \\\n",
      "e269ffdd307e47338873dae037afd87e                                   312.336880   \n",
      "21279318eace725f719ca995556a4019                                  1963.078358   \n",
      "10796ee1694d7db972b323d480b00781                                  2749.421198   \n",
      "75773d133623d3905d14405030826059                                  2397.185369   \n",
      "ef2247019abe71fcc1af9cde9620d836                                  1781.118104   \n",
      "\n",
      "                                  ...      speed  agg_words  normal_words  \\\n",
      "e269ffdd307e47338873dae037afd87e  ...  23.265306          0             0   \n",
      "21279318eace725f719ca995556a4019  ...  30.000000          0             0   \n",
      "10796ee1694d7db972b323d480b00781  ...  51.037344          0             0   \n",
      "75773d133623d3905d14405030826059  ...  36.214286          0             0   \n",
      "ef2247019abe71fcc1af9cde9620d836  ...  25.414013          0             0   \n",
      "\n",
      "                                  distance_thresh  agg_verbs_rate  \\\n",
      "e269ffdd307e47338873dae037afd87e                0             0.0   \n",
      "21279318eace725f719ca995556a4019                1             0.0   \n",
      "10796ee1694d7db972b323d480b00781                0             0.0   \n",
      "75773d133623d3905d14405030826059                1             0.0   \n",
      "ef2247019abe71fcc1af9cde9620d836                1             0.0   \n",
      "\n",
      "                                  agg_adjs_rate  agg_nouns_rate  \\\n",
      "e269ffdd307e47338873dae037afd87e            0.0             0.0   \n",
      "21279318eace725f719ca995556a4019            0.0             0.0   \n",
      "10796ee1694d7db972b323d480b00781            0.0             0.0   \n",
      "75773d133623d3905d14405030826059            0.0             0.0   \n",
      "ef2247019abe71fcc1af9cde9620d836            0.0             0.0   \n",
      "\n",
      "                                  mean_comments_aggressive_rate  \\\n",
      "e269ffdd307e47338873dae037afd87e                       0.159044   \n",
      "21279318eace725f719ca995556a4019                       0.159434   \n",
      "10796ee1694d7db972b323d480b00781                       0.159253   \n",
      "75773d133623d3905d14405030826059                       0.159661   \n",
      "ef2247019abe71fcc1af9cde9620d836                       0.159936   \n",
      "\n",
      "                                  agg_comm_probability  is_comment_y  \n",
      "e269ffdd307e47338873dae037afd87e                   0.0             0  \n",
      "21279318eace725f719ca995556a4019                   0.0             0  \n",
      "10796ee1694d7db972b323d480b00781                   0.0             0  \n",
      "75773d133623d3905d14405030826059                   0.0             0  \n",
      "ef2247019abe71fcc1af9cde9620d836                   0.0             0  \n",
      "\n",
      "[5 rows x 160 columns]\n",
      "(2700,)\n",
      "ESTIMATION\n",
      "0.7215456571829294\n"
     ]
    }
   ],
   "metadata": {
    "id": "l5W_90wZx5JG"
   }
  },
  {
   "cell_type": "code",
   "execution_count": 8,
   "source": [
    "predictions = model_supervised.predict(X_,labled_train_comments,tracks_labled) # не готово"
   ],
   "outputs": [
    {
     "output_type": "stream",
     "name": "stderr",
     "text": [
      "Feature Extraction:  60%|██████    | 24/40 [01:25<00:57,  3.57s/it]Process ForkPoolWorker-3:\n",
      "\n",
      "Process ForkPoolWorker-8:\n",
      "Process ForkPoolWorker-7:\n",
      "Process ForkPoolWorker-6:\n",
      "Process ForkPoolWorker-4:\n",
      "Process ForkPoolWorker-5:\n",
      "Traceback (most recent call last):\n",
      "Traceback (most recent call last):\n",
      "Traceback (most recent call last):\n",
      "  File \"/opt/anaconda/lib/python3.8/multiprocessing/process.py\", line 315, in _bootstrap\n",
      "    self.run()\n",
      "  File \"/opt/anaconda/lib/python3.8/multiprocessing/process.py\", line 315, in _bootstrap\n",
      "    self.run()\n",
      "  File \"/opt/anaconda/lib/python3.8/multiprocessing/process.py\", line 108, in run\n",
      "    self._target(*self._args, **self._kwargs)\n",
      "  File \"/opt/anaconda/lib/python3.8/multiprocessing/process.py\", line 315, in _bootstrap\n",
      "    self.run()\n",
      "  File \"/opt/anaconda/lib/python3.8/multiprocessing/process.py\", line 108, in run\n",
      "    self._target(*self._args, **self._kwargs)\n",
      "Traceback (most recent call last):\n",
      "  File \"/opt/anaconda/lib/python3.8/multiprocessing/pool.py\", line 125, in worker\n",
      "    result = (True, func(*args, **kwds))\n",
      "  File \"/opt/anaconda/lib/python3.8/multiprocessing/process.py\", line 108, in run\n",
      "    self._target(*self._args, **self._kwargs)\n",
      "  File \"/opt/anaconda/lib/python3.8/multiprocessing/process.py\", line 315, in _bootstrap\n",
      "    self.run()\n",
      "  File \"/home/porosenok/.local/lib/python3.8/site-packages/tsfresh/utilities/distribution.py\", line 43, in _function_with_partly_reduce\n",
      "    results = list(itertools.chain.from_iterable(results))\n",
      "  File \"/opt/anaconda/lib/python3.8/multiprocessing/pool.py\", line 125, in worker\n",
      "    result = (True, func(*args, **kwds))\n",
      "  File \"/opt/anaconda/lib/python3.8/multiprocessing/process.py\", line 108, in run\n",
      "    self._target(*self._args, **self._kwargs)\n",
      "  File \"/home/porosenok/.local/lib/python3.8/site-packages/tsfresh/utilities/distribution.py\", line 42, in <genexpr>\n",
      "    results = (map_function(chunk, **kwargs) for chunk in chunk_list)\n",
      "Process ForkPoolWorker-1:\n",
      "  File \"/home/porosenok/.local/lib/python3.8/site-packages/tsfresh/utilities/distribution.py\", line 43, in _function_with_partly_reduce\n",
      "    results = list(itertools.chain.from_iterable(results))\n",
      "  File \"/opt/anaconda/lib/python3.8/multiprocessing/pool.py\", line 125, in worker\n",
      "    result = (True, func(*args, **kwds))\n",
      "Traceback (most recent call last):\n",
      "Traceback (most recent call last):\n",
      "  File \"/home/porosenok/.local/lib/python3.8/site-packages/tsfresh/feature_extraction/extraction.py\", line 337, in _do_extraction_on_chunk\n",
      "    return list(_f())\n",
      "  File \"/home/porosenok/.local/lib/python3.8/site-packages/tsfresh/utilities/distribution.py\", line 43, in _function_with_partly_reduce\n",
      "    results = list(itertools.chain.from_iterable(results))\n",
      "  File \"/home/porosenok/.local/lib/python3.8/site-packages/tsfresh/feature_extraction/extraction.py\", line 317, in _f\n",
      "    result = func(x, param=parameter_list)\n",
      "  File \"/opt/anaconda/lib/python3.8/multiprocessing/process.py\", line 315, in _bootstrap\n",
      "    self.run()\n",
      "  File \"/home/porosenok/.local/lib/python3.8/site-packages/tsfresh/utilities/distribution.py\", line 42, in <genexpr>\n",
      "    results = (map_function(chunk, **kwargs) for chunk in chunk_list)\n",
      "  File \"/opt/anaconda/lib/python3.8/multiprocessing/process.py\", line 315, in _bootstrap\n",
      "    self.run()\n",
      "  File \"/home/porosenok/.local/lib/python3.8/site-packages/tsfresh/feature_extraction/feature_calculators.py\", line 499, in augmented_dickey_fuller\n",
      "    adf = compute_adf(autolag)\n",
      "  File \"/opt/anaconda/lib/python3.8/multiprocessing/process.py\", line 108, in run\n",
      "    self._target(*self._args, **self._kwargs)\n",
      "  File \"/home/porosenok/.local/lib/python3.8/site-packages/tsfresh/feature_extraction/extraction.py\", line 337, in _do_extraction_on_chunk\n",
      "    return list(_f())\n",
      "  File \"/opt/anaconda/lib/python3.8/multiprocessing/pool.py\", line 125, in worker\n",
      "    result = (True, func(*args, **kwds))\n",
      "  File \"/opt/anaconda/lib/python3.8/multiprocessing/process.py\", line 108, in run\n",
      "    self._target(*self._args, **self._kwargs)\n",
      "  File \"/home/porosenok/.local/lib/python3.8/site-packages/tsfresh/utilities/distribution.py\", line 42, in <genexpr>\n",
      "    results = (map_function(chunk, **kwargs) for chunk in chunk_list)\n",
      "  File \"/home/porosenok/.local/lib/python3.8/site-packages/tsfresh/feature_extraction/feature_calculators.py\", line 487, in compute_adf\n",
      "    return adfuller(x, autolag=autolag)\n",
      "  File \"/home/porosenok/.local/lib/python3.8/site-packages/tsfresh/feature_extraction/extraction.py\", line 323, in _f\n",
      "    result = [(\"\", func(x))]\n",
      "  File \"/opt/anaconda/lib/python3.8/multiprocessing/pool.py\", line 125, in worker\n",
      "    result = (True, func(*args, **kwds))\n",
      "  File \"/home/porosenok/.local/lib/python3.8/site-packages/tsfresh/utilities/distribution.py\", line 43, in _function_with_partly_reduce\n",
      "    results = list(itertools.chain.from_iterable(results))\n",
      "  File \"/opt/anaconda/lib/python3.8/multiprocessing/pool.py\", line 125, in worker\n",
      "    result = (True, func(*args, **kwds))\n",
      "  File \"/opt/anaconda/lib/python3.8/site-packages/statsmodels/tsa/stattools.py\", line 314, in adfuller\n",
      "    icbest, bestlag = _autolag(\n",
      "  File \"/home/porosenok/.local/lib/python3.8/site-packages/tsfresh/feature_extraction/feature_calculators.py\", line 1627, in sample_entropy\n",
      "    B = np.sum([np.sum(np.abs(xmi - xm).max(axis=1) <= tolerance) - 1 for xmi in xm])\n",
      "  File \"/home/porosenok/.local/lib/python3.8/site-packages/tsfresh/feature_extraction/extraction.py\", line 337, in _do_extraction_on_chunk\n",
      "    return list(_f())\n",
      "  File \"/home/porosenok/.local/lib/python3.8/site-packages/tsfresh/utilities/distribution.py\", line 43, in _function_with_partly_reduce\n",
      "    results = list(itertools.chain.from_iterable(results))\n",
      "  File \"/home/porosenok/.local/lib/python3.8/site-packages/tsfresh/utilities/distribution.py\", line 43, in _function_with_partly_reduce\n",
      "    results = list(itertools.chain.from_iterable(results))\n",
      "  File \"/opt/anaconda/lib/python3.8/site-packages/statsmodels/tsa/stattools.py\", line 124, in _autolag\n",
      "    mod_instance = mod(endog, exog[:, :lag], *modargs)\n",
      "  File \"/home/porosenok/.local/lib/python3.8/site-packages/tsfresh/utilities/distribution.py\", line 42, in <genexpr>\n",
      "    results = (map_function(chunk, **kwargs) for chunk in chunk_list)\n",
      "  File \"/home/porosenok/.local/lib/python3.8/site-packages/tsfresh/feature_extraction/feature_calculators.py\", line 1627, in <listcomp>\n",
      "    B = np.sum([np.sum(np.abs(xmi - xm).max(axis=1) <= tolerance) - 1 for xmi in xm])\n",
      "  File \"/home/porosenok/.local/lib/python3.8/site-packages/tsfresh/utilities/distribution.py\", line 42, in <genexpr>\n",
      "    results = (map_function(chunk, **kwargs) for chunk in chunk_list)\n",
      "  File \"/home/porosenok/.local/lib/python3.8/site-packages/tsfresh/feature_extraction/extraction.py\", line 325, in _f\n",
      "    for key, item in result:\n",
      "  File \"/opt/anaconda/lib/python3.8/site-packages/statsmodels/regression/linear_model.py\", line 872, in __init__\n",
      "    super(OLS, self).__init__(endog, exog, missing=missing,\n",
      "  File \"/home/porosenok/.local/lib/python3.8/site-packages/tsfresh/utilities/distribution.py\", line 42, in <genexpr>\n",
      "    results = (map_function(chunk, **kwargs) for chunk in chunk_list)\n",
      "  File \"/home/porosenok/.local/lib/python3.8/site-packages/tsfresh/feature_extraction/extraction.py\", line 337, in _do_extraction_on_chunk\n",
      "    return list(_f())\n",
      "KeyboardInterrupt\n",
      "  File \"/opt/anaconda/lib/python3.8/site-packages/statsmodels/regression/linear_model.py\", line 703, in __init__\n",
      "    super(WLS, self).__init__(endog, exog, missing=missing,\n",
      "  File \"/home/porosenok/.local/lib/python3.8/site-packages/tsfresh/feature_extraction/extraction.py\", line 320, in <genexpr>\n",
      "    result = ((convert_to_output_format(param), func(x, **param)) for param in\n",
      "  File \"/home/porosenok/.local/lib/python3.8/site-packages/tsfresh/feature_extraction/extraction.py\", line 337, in _do_extraction_on_chunk\n",
      "    return list(_f())\n",
      "  File \"/home/porosenok/.local/lib/python3.8/site-packages/tsfresh/feature_extraction/extraction.py\", line 317, in _f\n",
      "    result = func(x, param=parameter_list)\n",
      "  File \"/home/porosenok/.local/lib/python3.8/site-packages/tsfresh/feature_extraction/extraction.py\", line 337, in _do_extraction_on_chunk\n",
      "    return list(_f())\n",
      "  File \"/opt/anaconda/lib/python3.8/site-packages/statsmodels/regression/linear_model.py\", line 190, in __init__\n",
      "    super(RegressionModel, self).__init__(endog, exog, **kwargs)\n",
      "  File \"/home/porosenok/.local/lib/python3.8/site-packages/tsfresh/feature_extraction/extraction.py\", line 323, in _f\n",
      "    result = [(\"\", func(x))]\n",
      "  File \"/home/porosenok/.local/lib/python3.8/site-packages/tsfresh/feature_extraction/feature_calculators.py\", line 1986, in friedrich_coefficients\n",
      "    calculated[m][r] = _estimate_friedrich_coefficients(x, m, r)\n",
      "  File \"/home/porosenok/.local/lib/python3.8/site-packages/tsfresh/feature_extraction/feature_calculators.py\", line 1684, in approximate_entropy\n",
      "    return np.abs(_phi(m) - _phi(m + 1))\n",
      "  File \"/home/porosenok/.local/lib/python3.8/site-packages/tsfresh/feature_extraction/extraction.py\", line 325, in _f\n",
      "    for key, item in result:\n",
      "Traceback (most recent call last):\n",
      "  File \"/opt/anaconda/lib/python3.8/site-packages/statsmodels/base/model.py\", line 237, in __init__\n",
      "    super(LikelihoodModel, self).__init__(endog, exog, **kwargs)\n",
      "  File \"/home/porosenok/.local/lib/python3.8/site-packages/tsfresh/feature_extraction/feature_calculators.py\", line 1632, in sample_entropy\n",
      "    A = np.sum([np.sum(np.abs(xmi - xmp1).max(axis=1) <= tolerance) - 1 for xmi in xmp1])\n",
      "  File \"/home/porosenok/.local/lib/python3.8/site-packages/tsfresh/feature_extraction/feature_calculators.py\", line 157, in _estimate_friedrich_coefficients\n",
      "    result.dropna(inplace=True)\n",
      "  File \"/home/porosenok/.local/lib/python3.8/site-packages/tsfresh/feature_extraction/feature_calculators.py\", line 1680, in _phi\n",
      "    C = np.sum(np.max(np.abs(x_re[:, np.newaxis] - x_re[np.newaxis, :]),\n",
      "  File \"/home/porosenok/.local/lib/python3.8/site-packages/tsfresh/feature_extraction/extraction.py\", line 320, in <genexpr>\n",
      "    result = ((convert_to_output_format(param), func(x, **param)) for param in\n",
      "  File \"/opt/anaconda/lib/python3.8/site-packages/statsmodels/base/model.py\", line 77, in __init__\n",
      "    self.data = self._handle_data(endog, exog, missing, hasconst,\n",
      "  File \"/opt/anaconda/lib/python3.8/multiprocessing/process.py\", line 315, in _bootstrap\n",
      "    self.run()\n",
      "  File \"/home/porosenok/.local/lib/python3.8/site-packages/tsfresh/feature_extraction/feature_calculators.py\", line 1632, in <listcomp>\n",
      "    A = np.sum([np.sum(np.abs(xmi - xmp1).max(axis=1) <= tolerance) - 1 for xmi in xmp1])\n",
      "  File \"/opt/anaconda/lib/python3.8/site-packages/pandas/core/frame.py\", line 5179, in dropna\n",
      "    result = self.loc(axis=axis)[mask]\n",
      "  File \"/home/porosenok/.local/lib/python3.8/site-packages/tsfresh/feature_extraction/feature_calculators.py\", line 1455, in change_quantiles\n",
      "    bin_cat = pd.qcut(x, [ql, qh], labels=False)\n",
      "KeyboardInterrupt\n",
      "  File \"/opt/anaconda/lib/python3.8/site-packages/statsmodels/base/model.py\", line 101, in _handle_data\n",
      "    data = handle_data(endog, exog, missing, hasconst, **kwargs)\n",
      "  File \"/opt/anaconda/lib/python3.8/multiprocessing/process.py\", line 108, in run\n",
      "    self._target(*self._args, **self._kwargs)\n",
      "  File \"<__array_function__ internals>\", line 5, in sum\n",
      "  File \"/opt/anaconda/lib/python3.8/site-packages/pandas/core/indexing.py\", line 895, in __getitem__\n",
      "    return self._getitem_axis(maybe_callable, axis=axis)\n",
      "  File \"/opt/anaconda/lib/python3.8/site-packages/pandas/core/reshape/tile.py\", line 357, in qcut\n",
      "    bins = algos.quantile(x, quantiles)\n",
      "  File \"/opt/anaconda/lib/python3.8/site-packages/statsmodels/base/data.py\", line 672, in handle_data\n",
      "    return klass(endog, exog=exog, missing=missing, hasconst=hasconst,\n",
      "  File \"/home/porosenok/.local/lib/python3.8/site-packages/numpy/core/fromnumeric.py\", line 2241, in sum\n",
      "    return _wrapreduction(a, np.add, 'sum', axis, dtype, out, keepdims=keepdims,\n",
      "  File \"/opt/anaconda/lib/python3.8/site-packages/pandas/core/indexing.py\", line 1104, in _getitem_axis\n",
      "    return self._getbool_axis(key, axis=axis)\n",
      "  File \"/opt/anaconda/lib/python3.8/site-packages/pandas/core/algorithms.py\", line 1134, in quantile\n",
      "    def _get_score(at):\n",
      "  File \"/opt/anaconda/lib/python3.8/multiprocessing/pool.py\", line 125, in worker\n",
      "    result = (True, func(*args, **kwds))\n",
      "  File \"/opt/anaconda/lib/python3.8/site-packages/statsmodels/base/data.py\", line 87, in __init__\n",
      "    self._handle_constant(hasconst)\n",
      "  File \"/home/porosenok/.local/lib/python3.8/site-packages/numpy/core/fromnumeric.py\", line 87, in _wrapreduction\n",
      "    return ufunc.reduce(obj, axis, dtype, out, **passkwargs)\n",
      "  File \"/opt/anaconda/lib/python3.8/site-packages/pandas/core/indexing.py\", line 914, in _getbool_axis\n",
      "    return self.obj._take_with_is_copy(inds, axis=axis)\n",
      "KeyboardInterrupt\n",
      "  File \"/home/porosenok/.local/lib/python3.8/site-packages/tsfresh/utilities/distribution.py\", line 43, in _function_with_partly_reduce\n",
      "    results = list(itertools.chain.from_iterable(results))\n",
      "KeyboardInterrupt\n",
      "  File \"/opt/anaconda/lib/python3.8/site-packages/statsmodels/base/data.py\", line 150, in _handle_constant\n",
      "    if value == 1:\n",
      "  File \"/opt/anaconda/lib/python3.8/site-packages/pandas/core/generic.py\", line 3602, in _take_with_is_copy\n",
      "    if not result._get_axis(axis).equals(self._get_axis(axis)):\n",
      "  File \"/home/porosenok/.local/lib/python3.8/site-packages/tsfresh/utilities/distribution.py\", line 42, in <genexpr>\n",
      "    results = (map_function(chunk, **kwargs) for chunk in chunk_list)\n",
      "KeyboardInterrupt\n",
      "  File \"/opt/anaconda/lib/python3.8/site-packages/pandas/core/indexes/category.py\", line 307, in equals\n",
      "    other = self._is_dtype_compat(other)\n",
      "  File \"/home/porosenok/.local/lib/python3.8/site-packages/tsfresh/feature_extraction/extraction.py\", line 337, in _do_extraction_on_chunk\n",
      "    return list(_f())\n",
      "  File \"/opt/anaconda/lib/python3.8/site-packages/pandas/core/indexes/category.py\", line 267, in _is_dtype_compat\n",
      "    if not other._categories_match_up_to_permutation(self):\n",
      "  File \"/home/porosenok/.local/lib/python3.8/site-packages/tsfresh/feature_extraction/extraction.py\", line 317, in _f\n",
      "    result = func(x, param=parameter_list)\n",
      "  File \"/opt/anaconda/lib/python3.8/site-packages/pandas/core/arrays/categorical.py\", line 2160, in _categories_match_up_to_permutation\n",
      "    return hash(self.dtype) == hash(other.dtype)\n",
      "  File \"/home/porosenok/.local/lib/python3.8/site-packages/tsfresh/feature_extraction/feature_calculators.py\", line 1986, in friedrich_coefficients\n",
      "    calculated[m][r] = _estimate_friedrich_coefficients(x, m, r)\n",
      "  File \"/opt/anaconda/lib/python3.8/site-packages/pandas/core/dtypes/dtypes.py\", line 335, in __hash__\n",
      "    return int(self._hash_categories(self.categories, self.ordered))\n",
      "  File \"/home/porosenok/.local/lib/python3.8/site-packages/tsfresh/feature_extraction/feature_calculators.py\", line 157, in _estimate_friedrich_coefficients\n",
      "    result.dropna(inplace=True)\n",
      "  File \"/opt/anaconda/lib/python3.8/site-packages/pandas/core/dtypes/dtypes.py\", line 439, in _hash_categories\n",
      "    cat_array = hash_array(np.asarray(categories), categorize=False)\n",
      "  File \"/opt/anaconda/lib/python3.8/site-packages/pandas/core/frame.py\", line 5179, in dropna\n",
      "    result = self.loc(axis=axis)[mask]\n",
      "  File \"/home/porosenok/.local/lib/python3.8/site-packages/numpy/core/_asarray.py\", line 83, in asarray\n",
      "    return array(a, dtype, copy=False, order=order)\n",
      "  File \"/opt/anaconda/lib/python3.8/site-packages/pandas/core/indexing.py\", line 895, in __getitem__\n",
      "    return self._getitem_axis(maybe_callable, axis=axis)\n",
      "  File \"/opt/anaconda/lib/python3.8/site-packages/pandas/core/indexes/extension.py\", line 82, in method\n",
      "    def method(self, *args, **kwargs):\n",
      "  File \"/opt/anaconda/lib/python3.8/site-packages/pandas/core/indexing.py\", line 1104, in _getitem_axis\n",
      "    return self._getbool_axis(key, axis=axis)\n",
      "KeyboardInterrupt\n",
      "  File \"/opt/anaconda/lib/python3.8/site-packages/pandas/core/indexing.py\", line 914, in _getbool_axis\n",
      "    return self.obj._take_with_is_copy(inds, axis=axis)\n",
      "  File \"/opt/anaconda/lib/python3.8/site-packages/pandas/core/generic.py\", line 3602, in _take_with_is_copy\n",
      "    if not result._get_axis(axis).equals(self._get_axis(axis)):\n",
      "  File \"/opt/anaconda/lib/python3.8/site-packages/pandas/core/indexes/category.py\", line 311, in equals\n",
      "    return self._data.equals(other)\n",
      "  File \"/opt/anaconda/lib/python3.8/site-packages/pandas/core/arrays/categorical.py\", line 2116, in equals\n",
      "    other = self._encode_with_my_categories(other)\n",
      "  File \"/opt/anaconda/lib/python3.8/site-packages/pandas/core/arrays/categorical.py\", line 2145, in _encode_with_my_categories\n",
      "    return self._from_backing_data(codes)\n",
      "  File \"/opt/anaconda/lib/python3.8/site-packages/pandas/core/arrays/categorical.py\", line 1711, in _from_backing_data\n",
      "    return self._constructor(arr, dtype=self.dtype, fastpath=True)\n",
      "  File \"/opt/anaconda/lib/python3.8/site-packages/pandas/core/arrays/categorical.py\", line 313, in __init__\n",
      "    self._dtype = self._dtype.update_dtype(dtype)\n",
      "  File \"/opt/anaconda/lib/python3.8/site-packages/pandas/core/dtypes/dtypes.py\", line 551, in update_dtype\n",
      "    return CategoricalDtype(new_categories, new_ordered)\n",
      "  File \"/opt/anaconda/lib/python3.8/site-packages/pandas/core/dtypes/dtypes.py\", line 160, in __init__\n",
      "    self._finalize(categories, ordered, fastpath=False)\n",
      "  File \"/opt/anaconda/lib/python3.8/site-packages/pandas/core/dtypes/dtypes.py\", line 308, in _finalize\n",
      "    def _finalize(self, categories, ordered: Ordered, fastpath: bool = False) -> None:\n",
      "KeyboardInterrupt\n",
      "Process ForkPoolWorker-2:\n",
      "Traceback (most recent call last):\n",
      "  File \"/opt/anaconda/lib/python3.8/multiprocessing/process.py\", line 315, in _bootstrap\n",
      "    self.run()\n",
      "  File \"/opt/anaconda/lib/python3.8/multiprocessing/process.py\", line 108, in run\n",
      "    self._target(*self._args, **self._kwargs)\n",
      "  File \"/opt/anaconda/lib/python3.8/multiprocessing/pool.py\", line 125, in worker\n",
      "    result = (True, func(*args, **kwds))\n",
      "  File \"/home/porosenok/.local/lib/python3.8/site-packages/tsfresh/utilities/distribution.py\", line 43, in _function_with_partly_reduce\n",
      "    results = list(itertools.chain.from_iterable(results))\n",
      "  File \"/home/porosenok/.local/lib/python3.8/site-packages/tsfresh/utilities/distribution.py\", line 42, in <genexpr>\n",
      "    results = (map_function(chunk, **kwargs) for chunk in chunk_list)\n",
      "  File \"/home/porosenok/.local/lib/python3.8/site-packages/tsfresh/feature_extraction/extraction.py\", line 337, in _do_extraction_on_chunk\n",
      "    return list(_f())\n",
      "  File \"/home/porosenok/.local/lib/python3.8/site-packages/tsfresh/feature_extraction/extraction.py\", line 323, in _f\n",
      "    result = [(\"\", func(x))]\n",
      "  File \"/home/porosenok/.local/lib/python3.8/site-packages/tsfresh/feature_extraction/feature_calculators.py\", line 946, in percentage_of_reoccurring_datapoints_to_all_datapoints\n",
      "    reoccuring_values = value_counts[value_counts > 1].sum()\n",
      "  File \"/opt/anaconda/lib/python3.8/site-packages/pandas/core/generic.py\", line 11071, in sum\n",
      "    return NDFrame.sum(\n",
      "  File \"/opt/anaconda/lib/python3.8/site-packages/pandas/core/generic.py\", line 10791, in sum\n",
      "    return self._min_count_stat_function(\n",
      "  File \"/opt/anaconda/lib/python3.8/site-packages/pandas/core/generic.py\", line 10765, in _min_count_stat_function\n",
      "    if skipna is None:\n",
      "KeyboardInterrupt\n"
     ]
    },
    {
     "output_type": "error",
     "ename": "KeyboardInterrupt",
     "evalue": "",
     "traceback": [
      "\u001b[0;31m---------------------------------------------------------------------------\u001b[0m",
      "\u001b[0;31mIndexError\u001b[0m                                Traceback (most recent call last)",
      "\u001b[0;32m/opt/anaconda/lib/python3.8/multiprocessing/pool.py\u001b[0m in \u001b[0;36mnext\u001b[0;34m(self, timeout)\u001b[0m\n\u001b[1;32m    850\u001b[0m             \u001b[0;32mtry\u001b[0m\u001b[0;34m:\u001b[0m\u001b[0;34m\u001b[0m\u001b[0;34m\u001b[0m\u001b[0m\n\u001b[0;32m--> 851\u001b[0;31m                 \u001b[0mitem\u001b[0m \u001b[0;34m=\u001b[0m \u001b[0mself\u001b[0m\u001b[0;34m.\u001b[0m\u001b[0m_items\u001b[0m\u001b[0;34m.\u001b[0m\u001b[0mpopleft\u001b[0m\u001b[0;34m(\u001b[0m\u001b[0;34m)\u001b[0m\u001b[0;34m\u001b[0m\u001b[0;34m\u001b[0m\u001b[0m\n\u001b[0m\u001b[1;32m    852\u001b[0m             \u001b[0;32mexcept\u001b[0m \u001b[0mIndexError\u001b[0m\u001b[0;34m:\u001b[0m\u001b[0;34m\u001b[0m\u001b[0;34m\u001b[0m\u001b[0m\n",
      "\u001b[0;31mIndexError\u001b[0m: pop from an empty deque",
      "\nDuring handling of the above exception, another exception occurred:\n",
      "\u001b[0;31mKeyboardInterrupt\u001b[0m                         Traceback (most recent call last)",
      "\u001b[0;32m<ipython-input-8-28738ca7fe89>\u001b[0m in \u001b[0;36m<module>\u001b[0;34m\u001b[0m\n\u001b[0;32m----> 1\u001b[0;31m \u001b[0mpredictions\u001b[0m \u001b[0;34m=\u001b[0m \u001b[0mmodel_supervised\u001b[0m\u001b[0;34m.\u001b[0m\u001b[0mpredict\u001b[0m\u001b[0;34m(\u001b[0m\u001b[0mX_\u001b[0m\u001b[0;34m,\u001b[0m\u001b[0mlabled_train_comments\u001b[0m\u001b[0;34m,\u001b[0m\u001b[0mtracks_labled\u001b[0m\u001b[0;34m)\u001b[0m \u001b[0;31m# не готово\u001b[0m\u001b[0;34m\u001b[0m\u001b[0;34m\u001b[0m\u001b[0m\n\u001b[0m",
      "\u001b[0;32m<ipython-input-4-1689a1768ab6>\u001b[0m in \u001b[0;36mpredict\u001b[0;34m(self, X, comm_dataset, tracks)\u001b[0m\n\u001b[1;32m    326\u001b[0m     \u001b[0;32mdef\u001b[0m \u001b[0mpredict\u001b[0m\u001b[0;34m(\u001b[0m\u001b[0mself\u001b[0m\u001b[0;34m,\u001b[0m \u001b[0mX\u001b[0m\u001b[0;34m,\u001b[0m\u001b[0mcomm_dataset\u001b[0m\u001b[0;34m,\u001b[0m \u001b[0mtracks\u001b[0m\u001b[0;34m=\u001b[0m\u001b[0;32mNone\u001b[0m\u001b[0;34m)\u001b[0m\u001b[0;34m:\u001b[0m\u001b[0;34m\u001b[0m\u001b[0;34m\u001b[0m\u001b[0m\n\u001b[1;32m    327\u001b[0m         \u001b[0;31m# не готово\u001b[0m\u001b[0;34m\u001b[0m\u001b[0;34m\u001b[0m\u001b[0;34m\u001b[0m\u001b[0m\n\u001b[0;32m--> 328\u001b[0;31m         \u001b[0mres_matrix\u001b[0m\u001b[0;34m=\u001b[0m\u001b[0mself\u001b[0m\u001b[0;34m.\u001b[0m\u001b[0mtransform\u001b[0m\u001b[0;34m(\u001b[0m\u001b[0mX\u001b[0m\u001b[0;34m,\u001b[0m\u001b[0mtracks\u001b[0m\u001b[0;34m,\u001b[0m\u001b[0mcomm_dataset\u001b[0m\u001b[0;34m,\u001b[0m\u001b[0mis_training\u001b[0m\u001b[0;34m=\u001b[0m\u001b[0;32mFalse\u001b[0m\u001b[0;34m)\u001b[0m\u001b[0;34m\u001b[0m\u001b[0;34m\u001b[0m\u001b[0m\n\u001b[0m\u001b[1;32m    329\u001b[0m \u001b[0;34m\u001b[0m\u001b[0m\n\u001b[1;32m    330\u001b[0m         \u001b[0;32mreturn\u001b[0m \u001b[0mself\u001b[0m\u001b[0;34m.\u001b[0m\u001b[0mmodel\u001b[0m\u001b[0;34m.\u001b[0m\u001b[0mpredict\u001b[0m\u001b[0;34m(\u001b[0m\u001b[0mres_matrix\u001b[0m\u001b[0;34m)\u001b[0m\u001b[0;34m\u001b[0m\u001b[0;34m\u001b[0m\u001b[0m\n",
      "\u001b[0;32m<ipython-input-4-1689a1768ab6>\u001b[0m in \u001b[0;36mtransform\u001b[0;34m(self, X, tracks, comm_dataset, is_training, random_state)\u001b[0m\n\u001b[1;32m    231\u001b[0m                 \u001b[0mtracks_train\u001b[0m\u001b[0;34m,\u001b[0m \u001b[0mtracks_y_train\u001b[0m \u001b[0;34m=\u001b[0m \u001b[0mself\u001b[0m\u001b[0;34m.\u001b[0m\u001b[0mpreprocessing\u001b[0m\u001b[0;34m.\u001b[0m\u001b[0mpreprocess\u001b[0m\u001b[0;34m(\u001b[0m\u001b[0mtracks\u001b[0m\u001b[0;34m)\u001b[0m\u001b[0;34m\u001b[0m\u001b[0;34m\u001b[0m\u001b[0m\n\u001b[1;32m    232\u001b[0m             \u001b[0;32melse\u001b[0m\u001b[0;34m:\u001b[0m\u001b[0;34m\u001b[0m\u001b[0;34m\u001b[0m\u001b[0m\n\u001b[0;32m--> 233\u001b[0;31m                 \u001b[0mtracks_train\u001b[0m \u001b[0;34m=\u001b[0m \u001b[0mself\u001b[0m\u001b[0;34m.\u001b[0m\u001b[0mpreprocessing\u001b[0m\u001b[0;34m.\u001b[0m\u001b[0mpreprocess_unlabeled\u001b[0m\u001b[0;34m(\u001b[0m\u001b[0mtracks\u001b[0m\u001b[0;34m)\u001b[0m\u001b[0;34m\u001b[0m\u001b[0;34m\u001b[0m\u001b[0m\n\u001b[0m\u001b[1;32m    234\u001b[0m \u001b[0;34m\u001b[0m\u001b[0m\n\u001b[1;32m    235\u001b[0m         \u001b[0mself\u001b[0m\u001b[0;34m.\u001b[0m\u001b[0mcounter_words\u001b[0m \u001b[0;34m=\u001b[0m \u001b[0;34m{\u001b[0m\u001b[0;34m}\u001b[0m\u001b[0;34m\u001b[0m\u001b[0;34m\u001b[0m\u001b[0m\n",
      "\u001b[0;32m~/Documents/programming/ML/aiijc/mvp/tracks/tracks_preprocessing.py\u001b[0m in \u001b[0;36mpreprocess_unlabeled\u001b[0;34m(self, tracks)\u001b[0m\n\u001b[1;32m    111\u001b[0m         \u001b[0mX_train\u001b[0m\u001b[0;34m.\u001b[0m\u001b[0mloc\u001b[0m\u001b[0;34m[\u001b[0m\u001b[0;36m0\u001b[0m\u001b[0;34m,\u001b[0m \u001b[0;34m'speed'\u001b[0m\u001b[0;34m]\u001b[0m \u001b[0;34m=\u001b[0m \u001b[0;36m0.0\u001b[0m\u001b[0;34m\u001b[0m\u001b[0;34m\u001b[0m\u001b[0m\n\u001b[1;32m    112\u001b[0m \u001b[0;34m\u001b[0m\u001b[0m\n\u001b[0;32m--> 113\u001b[0;31m         \u001b[0mself\u001b[0m\u001b[0;34m.\u001b[0m\u001b[0m_extract_features_unlabeled\u001b[0m\u001b[0;34m(\u001b[0m\u001b[0mX_train\u001b[0m\u001b[0;34m,\u001b[0m\u001b[0mrelevant_features\u001b[0m\u001b[0;34m)\u001b[0m\u001b[0;34m\u001b[0m\u001b[0;34m\u001b[0m\u001b[0m\n\u001b[0m\u001b[1;32m    114\u001b[0m         \u001b[0mself\u001b[0m\u001b[0;34m.\u001b[0m\u001b[0mX\u001b[0m\u001b[0;34m.\u001b[0m\u001b[0mmerge\u001b[0m\u001b[0;34m(\u001b[0m\u001b[0mfeatures\u001b[0m\u001b[0;34m,\u001b[0m\u001b[0mleft_index\u001b[0m\u001b[0;34m=\u001b[0m\u001b[0;32mTrue\u001b[0m\u001b[0;34m,\u001b[0m \u001b[0mhow\u001b[0m\u001b[0;34m=\u001b[0m\u001b[0;34m'left'\u001b[0m\u001b[0;34m,\u001b[0m \u001b[0mright_index\u001b[0m\u001b[0;34m=\u001b[0m\u001b[0;32mTrue\u001b[0m\u001b[0;34m)\u001b[0m\u001b[0;34m\u001b[0m\u001b[0;34m\u001b[0m\u001b[0m\n\u001b[1;32m    115\u001b[0m \u001b[0;34m\u001b[0m\u001b[0m\n",
      "\u001b[0;32m~/Documents/programming/ML/aiijc/mvp/tracks/tracks_preprocessing.py\u001b[0m in \u001b[0;36m_extract_features_unlabeled\u001b[0;34m(self, tracks, relevant_features)\u001b[0m\n\u001b[1;32m     28\u001b[0m     \u001b[0;32mdef\u001b[0m \u001b[0m_extract_features_unlabeled\u001b[0m\u001b[0;34m(\u001b[0m\u001b[0mself\u001b[0m\u001b[0;34m,\u001b[0m \u001b[0mtracks\u001b[0m\u001b[0;34m:\u001b[0m \u001b[0mpd\u001b[0m\u001b[0;34m.\u001b[0m\u001b[0mDataFrame\u001b[0m\u001b[0;34m,\u001b[0m \u001b[0mrelevant_features\u001b[0m\u001b[0;34m)\u001b[0m\u001b[0;34m:\u001b[0m\u001b[0;34m\u001b[0m\u001b[0;34m\u001b[0m\u001b[0m\n\u001b[1;32m     29\u001b[0m \u001b[0;34m\u001b[0m\u001b[0m\n\u001b[0;32m---> 30\u001b[0;31m         \u001b[0mextracted_features\u001b[0m \u001b[0;34m=\u001b[0m \u001b[0mextract_features\u001b[0m\u001b[0;34m(\u001b[0m\u001b[0mtracks\u001b[0m\u001b[0;34m,\u001b[0m\u001b[0mcolumn_id\u001b[0m\u001b[0;34m=\u001b[0m\u001b[0;34m'order_id'\u001b[0m\u001b[0;34m,\u001b[0m \u001b[0mcolumn_sort\u001b[0m\u001b[0;34m=\u001b[0m\u001b[0;34m\"dt\"\u001b[0m\u001b[0;34m)\u001b[0m\u001b[0;34m\u001b[0m\u001b[0;34m\u001b[0m\u001b[0m\n\u001b[0m\u001b[1;32m     31\u001b[0m         \u001b[0mextracted_features\u001b[0m \u001b[0;34m=\u001b[0m \u001b[0mextracted_features\u001b[0m\u001b[0;34m[\u001b[0m\u001b[0mrelevant_features\u001b[0m\u001b[0;34m]\u001b[0m\u001b[0;34m\u001b[0m\u001b[0;34m\u001b[0m\u001b[0m\n\u001b[1;32m     32\u001b[0m         \u001b[0mself\u001b[0m\u001b[0;34m.\u001b[0m\u001b[0mX\u001b[0m \u001b[0;34m=\u001b[0m \u001b[0mextracted_features\u001b[0m\u001b[0;34m\u001b[0m\u001b[0;34m\u001b[0m\u001b[0m\n",
      "\u001b[0;32m~/.local/lib/python3.8/site-packages/tsfresh/feature_extraction/extraction.py\u001b[0m in \u001b[0;36mextract_features\u001b[0;34m(timeseries_container, default_fc_parameters, kind_to_fc_parameters, column_id, column_sort, column_kind, column_value, chunksize, n_jobs, show_warnings, disable_progressbar, impute_function, profile, profiling_filename, profiling_sorting, distributor, pivot)\u001b[0m\n\u001b[1;32m    150\u001b[0m             \u001b[0mwarnings\u001b[0m\u001b[0;34m.\u001b[0m\u001b[0msimplefilter\u001b[0m\u001b[0;34m(\u001b[0m\u001b[0;34m\"default\"\u001b[0m\u001b[0;34m)\u001b[0m\u001b[0;34m\u001b[0m\u001b[0;34m\u001b[0m\u001b[0m\n\u001b[1;32m    151\u001b[0m \u001b[0;34m\u001b[0m\u001b[0m\n\u001b[0;32m--> 152\u001b[0;31m         result = _do_extraction(df=timeseries_container,\n\u001b[0m\u001b[1;32m    153\u001b[0m                                 \u001b[0mcolumn_id\u001b[0m\u001b[0;34m=\u001b[0m\u001b[0mcolumn_id\u001b[0m\u001b[0;34m,\u001b[0m \u001b[0mcolumn_value\u001b[0m\u001b[0;34m=\u001b[0m\u001b[0mcolumn_value\u001b[0m\u001b[0;34m,\u001b[0m\u001b[0;34m\u001b[0m\u001b[0;34m\u001b[0m\u001b[0m\n\u001b[1;32m    154\u001b[0m                                 \u001b[0mcolumn_kind\u001b[0m\u001b[0;34m=\u001b[0m\u001b[0mcolumn_kind\u001b[0m\u001b[0;34m,\u001b[0m\u001b[0;34m\u001b[0m\u001b[0;34m\u001b[0m\u001b[0m\n",
      "\u001b[0;32m~/.local/lib/python3.8/site-packages/tsfresh/feature_extraction/extraction.py\u001b[0m in \u001b[0;36m_do_extraction\u001b[0;34m(df, column_id, column_value, column_kind, column_sort, default_fc_parameters, kind_to_fc_parameters, n_jobs, chunk_size, disable_progressbar, show_warnings, distributor, pivot)\u001b[0m\n\u001b[1;32m    253\u001b[0m                   show_warnings=show_warnings)\n\u001b[1;32m    254\u001b[0m \u001b[0;34m\u001b[0m\u001b[0m\n\u001b[0;32m--> 255\u001b[0;31m     result = distributor.map_reduce(_do_extraction_on_chunk, data=data,\n\u001b[0m\u001b[1;32m    256\u001b[0m                                     \u001b[0mchunk_size\u001b[0m\u001b[0;34m=\u001b[0m\u001b[0mchunk_size\u001b[0m\u001b[0;34m,\u001b[0m\u001b[0;34m\u001b[0m\u001b[0;34m\u001b[0m\u001b[0m\n\u001b[1;32m    257\u001b[0m                                     function_kwargs=kwargs)\n",
      "\u001b[0;32m~/.local/lib/python3.8/site-packages/tsfresh/utilities/distribution.py\u001b[0m in \u001b[0;36mmap_reduce\u001b[0;34m(self, map_function, data, function_kwargs, chunk_size, data_length)\u001b[0m\n\u001b[1;32m    211\u001b[0m             \u001b[0mresult\u001b[0m \u001b[0;34m=\u001b[0m \u001b[0mself\u001b[0m\u001b[0;34m.\u001b[0m\u001b[0mdistribute\u001b[0m\u001b[0;34m(\u001b[0m\u001b[0m_function_with_partly_reduce\u001b[0m\u001b[0;34m,\u001b[0m \u001b[0mchunk_generator\u001b[0m\u001b[0;34m,\u001b[0m \u001b[0mmap_kwargs\u001b[0m\u001b[0;34m)\u001b[0m\u001b[0;34m,\u001b[0m\u001b[0;34m\u001b[0m\u001b[0;34m\u001b[0m\u001b[0m\n\u001b[1;32m    212\u001b[0m \u001b[0;34m\u001b[0m\u001b[0m\n\u001b[0;32m--> 213\u001b[0;31m         \u001b[0mresult\u001b[0m \u001b[0;34m=\u001b[0m \u001b[0mlist\u001b[0m\u001b[0;34m(\u001b[0m\u001b[0mitertools\u001b[0m\u001b[0;34m.\u001b[0m\u001b[0mchain\u001b[0m\u001b[0;34m.\u001b[0m\u001b[0mfrom_iterable\u001b[0m\u001b[0;34m(\u001b[0m\u001b[0mresult\u001b[0m\u001b[0;34m)\u001b[0m\u001b[0;34m)\u001b[0m\u001b[0;34m\u001b[0m\u001b[0;34m\u001b[0m\u001b[0m\n\u001b[0m\u001b[1;32m    214\u001b[0m \u001b[0;34m\u001b[0m\u001b[0m\n\u001b[1;32m    215\u001b[0m         \u001b[0mself\u001b[0m\u001b[0;34m.\u001b[0m\u001b[0mclose\u001b[0m\u001b[0;34m(\u001b[0m\u001b[0;34m)\u001b[0m\u001b[0;34m\u001b[0m\u001b[0;34m\u001b[0m\u001b[0m\n",
      "\u001b[0;32m/opt/anaconda/lib/python3.8/site-packages/tqdm/std.py\u001b[0m in \u001b[0;36m__iter__\u001b[0;34m(self)\u001b[0m\n\u001b[1;32m   1176\u001b[0m \u001b[0;34m\u001b[0m\u001b[0m\n\u001b[1;32m   1177\u001b[0m         \u001b[0;32mtry\u001b[0m\u001b[0;34m:\u001b[0m\u001b[0;34m\u001b[0m\u001b[0;34m\u001b[0m\u001b[0m\n\u001b[0;32m-> 1178\u001b[0;31m             \u001b[0;32mfor\u001b[0m \u001b[0mobj\u001b[0m \u001b[0;32min\u001b[0m \u001b[0miterable\u001b[0m\u001b[0;34m:\u001b[0m\u001b[0;34m\u001b[0m\u001b[0;34m\u001b[0m\u001b[0m\n\u001b[0m\u001b[1;32m   1179\u001b[0m                 \u001b[0;32myield\u001b[0m \u001b[0mobj\u001b[0m\u001b[0;34m\u001b[0m\u001b[0;34m\u001b[0m\u001b[0m\n\u001b[1;32m   1180\u001b[0m                 \u001b[0;31m# Update and possibly print the progressbar.\u001b[0m\u001b[0;34m\u001b[0m\u001b[0;34m\u001b[0m\u001b[0;34m\u001b[0m\u001b[0m\n",
      "\u001b[0;32m/opt/anaconda/lib/python3.8/multiprocessing/pool.py\u001b[0m in \u001b[0;36mnext\u001b[0;34m(self, timeout)\u001b[0m\n\u001b[1;32m    854\u001b[0m                     \u001b[0mself\u001b[0m\u001b[0;34m.\u001b[0m\u001b[0m_pool\u001b[0m \u001b[0;34m=\u001b[0m \u001b[0;32mNone\u001b[0m\u001b[0;34m\u001b[0m\u001b[0;34m\u001b[0m\u001b[0m\n\u001b[1;32m    855\u001b[0m                     \u001b[0;32mraise\u001b[0m \u001b[0mStopIteration\u001b[0m \u001b[0;32mfrom\u001b[0m \u001b[0;32mNone\u001b[0m\u001b[0;34m\u001b[0m\u001b[0;34m\u001b[0m\u001b[0m\n\u001b[0;32m--> 856\u001b[0;31m                 \u001b[0mself\u001b[0m\u001b[0;34m.\u001b[0m\u001b[0m_cond\u001b[0m\u001b[0;34m.\u001b[0m\u001b[0mwait\u001b[0m\u001b[0;34m(\u001b[0m\u001b[0mtimeout\u001b[0m\u001b[0;34m)\u001b[0m\u001b[0;34m\u001b[0m\u001b[0;34m\u001b[0m\u001b[0m\n\u001b[0m\u001b[1;32m    857\u001b[0m                 \u001b[0;32mtry\u001b[0m\u001b[0;34m:\u001b[0m\u001b[0;34m\u001b[0m\u001b[0;34m\u001b[0m\u001b[0m\n\u001b[1;32m    858\u001b[0m                     \u001b[0mitem\u001b[0m \u001b[0;34m=\u001b[0m \u001b[0mself\u001b[0m\u001b[0;34m.\u001b[0m\u001b[0m_items\u001b[0m\u001b[0;34m.\u001b[0m\u001b[0mpopleft\u001b[0m\u001b[0;34m(\u001b[0m\u001b[0;34m)\u001b[0m\u001b[0;34m\u001b[0m\u001b[0;34m\u001b[0m\u001b[0m\n",
      "\u001b[0;32m/opt/anaconda/lib/python3.8/threading.py\u001b[0m in \u001b[0;36mwait\u001b[0;34m(self, timeout)\u001b[0m\n\u001b[1;32m    300\u001b[0m         \u001b[0;32mtry\u001b[0m\u001b[0;34m:\u001b[0m    \u001b[0;31m# restore state no matter what (e.g., KeyboardInterrupt)\u001b[0m\u001b[0;34m\u001b[0m\u001b[0;34m\u001b[0m\u001b[0m\n\u001b[1;32m    301\u001b[0m             \u001b[0;32mif\u001b[0m \u001b[0mtimeout\u001b[0m \u001b[0;32mis\u001b[0m \u001b[0;32mNone\u001b[0m\u001b[0;34m:\u001b[0m\u001b[0;34m\u001b[0m\u001b[0;34m\u001b[0m\u001b[0m\n\u001b[0;32m--> 302\u001b[0;31m                 \u001b[0mwaiter\u001b[0m\u001b[0;34m.\u001b[0m\u001b[0macquire\u001b[0m\u001b[0;34m(\u001b[0m\u001b[0;34m)\u001b[0m\u001b[0;34m\u001b[0m\u001b[0;34m\u001b[0m\u001b[0m\n\u001b[0m\u001b[1;32m    303\u001b[0m                 \u001b[0mgotit\u001b[0m \u001b[0;34m=\u001b[0m \u001b[0;32mTrue\u001b[0m\u001b[0;34m\u001b[0m\u001b[0;34m\u001b[0m\u001b[0m\n\u001b[1;32m    304\u001b[0m             \u001b[0;32melse\u001b[0m\u001b[0;34m:\u001b[0m\u001b[0;34m\u001b[0m\u001b[0;34m\u001b[0m\u001b[0m\n",
      "\u001b[0;31mKeyboardInterrupt\u001b[0m: "
     ]
    }
   ],
   "metadata": {
    "colab": {
     "base_uri": "https://localhost:8080/"
    },
    "id": "UIM7vNo4Uw-i",
    "outputId": "9982f0cc-b83d-4707-aa59-e136684bf63e"
   }
  },
  {
   "cell_type": "code",
   "execution_count": null,
   "source": [
    "predictions.sum()"
   ],
   "outputs": [
    {
     "output_type": "execute_result",
     "data": {
      "text/plain": [
       "23"
      ]
     },
     "metadata": {
      "tags": []
     },
     "execution_count": 383
    }
   ],
   "metadata": {
    "colab": {
     "base_uri": "https://localhost:8080/"
    },
    "id": "JcDiAhYaYXlx",
    "outputId": "1f3215e9-5f2c-416c-8a82-6fdb65cbc7f6"
   }
  },
  {
   "cell_type": "code",
   "execution_count": null,
   "source": [
    "model_cv = Model()\n",
    "\n",
    "model_cv.fit(X_, y_, numeric_features, categorical_features, cross_validation = True)"
   ],
   "outputs": [],
   "metadata": {
    "id": "TBM0T9fax5JH",
    "scrolled": false
   }
  },
  {
   "cell_type": "markdown",
   "source": [
    "# Semi-supervised train"
   ],
   "metadata": {
    "id": "PTweSMJMx5JH"
   }
  },
  {
   "cell_type": "markdown",
   "source": [
    "## Preprocessing"
   ],
   "metadata": {
    "id": "GTkhnZoHx5JI"
   }
  },
  {
   "cell_type": "code",
   "execution_count": null,
   "source": [
    "X_unlab = pd.read_csv('/content/drive/MyDrive/aiijc_transport_simpleteam/data/base_files/unlabled_train_data.csv', index_col=0, sep='\\t', comment='#')\n",
    "comments_unlabeled = pd.read_csv('/content/drive/MyDrive/aiijc_transport_simpleteam/data/base_files/unlabled_train_comments.csv', index_col=0, sep='\\t', comment='#')\n",
    "tracks_unlabeled = pd.read_csv('/content/drive/MyDrive/aiijc_transport_simpleteam/data/base_files/unlabled_train_tracks.csv', index_col=0, sep='\\t', comment='#')\n",
    "\n",
    "X_unlab['client_rate_ride'] = X_unlab['client_rate_ride'].fillna(X_unlab['client_rate_ride'].mean())\n",
    "X_unlab['client_rides_cnt'] = X_unlab['client_rides_cnt'].fillna(X_unlab['client_rides_cnt'].mean())\n",
    "X_unlab['driver_rides_cnt'] = X_unlab['driver_rides_cnt'].fillna(X_unlab['driver_rides_cnt'].mean())"
   ],
   "outputs": [],
   "metadata": {
    "id": "faMhkd_2x5JI"
   }
  },
  {
   "cell_type": "code",
   "execution_count": null,
   "source": [
    "sum(X_unlab.comment.isna()) / len(X_unlab.comment)"
   ],
   "outputs": [
    {
     "output_type": "execute_result",
     "data": {
      "text/plain": [
       "0.64866629360194"
      ]
     },
     "metadata": {
      "tags": []
     },
     "execution_count": 31
    }
   ],
   "metadata": {
    "colab": {
     "base_uri": "https://localhost:8080/"
    },
    "id": "murUE39Rx5JJ",
    "outputId": "70f08b78-8dac-4307-c4ad-8ed28793190d"
   }
  },
  {
   "cell_type": "code",
   "execution_count": null,
   "source": [
    "np.where(X_unlab.comment.isna())[0]"
   ],
   "outputs": [
    {
     "output_type": "execute_result",
     "data": {
      "text/plain": [
       "array([ 2762,  3239,  3574, ..., 10719, 10720, 10721])"
      ]
     },
     "metadata": {
      "tags": []
     },
     "execution_count": 32
    }
   ],
   "metadata": {
    "colab": {
     "base_uri": "https://localhost:8080/"
    },
    "id": "P9_4PR_xx5JJ",
    "outputId": "b239c8f3-424b-4815-cf7f-f770685f6afa"
   }
  },
  {
   "cell_type": "code",
   "execution_count": null,
   "source": [
    "for nanIndex in np.where(X_unlab.comment.isna())[0]:\n",
    "    obj_comment = comments_unlabeled.loc[nanIndex]\n",
    "    \n",
    "    if (len(obj_comment) != 0):\n",
    "        X_unlab.comment.iloc[nanIndex] = obj_comment.comment"
   ],
   "outputs": [],
   "metadata": {
    "id": "LTfgggjLx5JJ",
    "scrolled": true
   }
  },
  {
   "cell_type": "code",
   "execution_count": null,
   "source": [
    "sum(X_unlab.comment.isna()) / len(X_unlab.comment)"
   ],
   "outputs": [
    {
     "output_type": "execute_result",
     "data": {
      "text/plain": [
       "0.00018653236336504383"
      ]
     },
     "metadata": {
      "tags": []
     },
     "execution_count": 34
    }
   ],
   "metadata": {
    "colab": {
     "base_uri": "https://localhost:8080/"
    },
    "id": "hUvW5EXYx5JJ",
    "outputId": "6ce4fadd-d067-4cae-e1f9-25132348ea51"
   }
  },
  {
   "cell_type": "code",
   "execution_count": null,
   "source": [
    "X_unlab.comment.iloc[np.where(X_unlab.comment.isna())[0]] = \"---\""
   ],
   "outputs": [],
   "metadata": {
    "id": "2UH_STafx5JK"
   }
  },
  {
   "cell_type": "markdown",
   "source": [
    "## Prediction&filling"
   ],
   "metadata": {
    "id": "UqEQmfo0x5JK"
   }
  },
  {
   "cell_type": "code",
   "execution_count": null,
   "source": [
    "y_unlab = model_supervised.predict_thresh(X_unlab, 0.99, 0.001)"
   ],
   "outputs": [
    {
     "output_type": "stream",
     "name": "stdout",
     "text": [
      "Thresh above: 0.003357582540570789\n",
      "Thresh below: 0.0\n"
     ]
    }
   ],
   "metadata": {
    "colab": {
     "base_uri": "https://localhost:8080/"
    },
    "id": "TSEcB99Ex5JK",
    "outputId": "0b278408-1f90-4617-bf0d-b25381fc25ac"
   }
  },
  {
   "cell_type": "code",
   "execution_count": null,
   "source": [
    "y_unlab.name = \"is_aggressive\""
   ],
   "outputs": [],
   "metadata": {
    "id": "I_hR7Co0x5JK"
   }
  },
  {
   "cell_type": "code",
   "execution_count": null,
   "source": [
    "y_unlab.value_counts()"
   ],
   "outputs": [
    {
     "output_type": "execute_result",
     "data": {
      "text/plain": [
       "-1    10686\n",
       " 1       36\n",
       "Name: is_aggressive, dtype: int64"
      ]
     },
     "metadata": {
      "tags": []
     },
     "execution_count": 38
    }
   ],
   "metadata": {
    "colab": {
     "base_uri": "https://localhost:8080/"
    },
    "id": "_qKiVFbKx5JK",
    "outputId": "943ed4b0-8e91-40ed-955f-c82bb176e075",
    "scrolled": true
   }
  },
  {
   "cell_type": "code",
   "execution_count": null,
   "source": [
    "X_unlab_lab = X_unlab.iloc[np.where(y_unlab != -1)]\n",
    "y_unlab_lab = y_unlab.iloc[np.where(y_unlab != -1)]"
   ],
   "outputs": [],
   "metadata": {
    "id": "VcTdG9nWx5JL"
   }
  },
  {
   "cell_type": "code",
   "execution_count": null,
   "source": [
    "X_unlab_lab.comment"
   ],
   "outputs": [
    {
     "output_type": "execute_result",
     "data": {
      "text/plain": [
       "7        1)Водитель играл в «шашки» на дороге и игрался...\n",
       "202              2 раза списали деньги, верните пожалуйста\n",
       "351      засыпал за рулём,  съезжал с дороги, приходило...\n",
       "551               резкие повороты. водитель резко тормозил\n",
       "568      Водитель смотрит кино на втором телефоне, проп...\n",
       "705      Вел медленно по бордовым дорогам, сказал «пешк...\n",
       "1317     Водитель резко тормозил, обгонял, кричал на др...\n",
       "1378                             Водитель вел себя грубо. \n",
       "1634     Водитель постоянно громко разговаривал на своё...\n",
       "1667     Водитель в возрасте, несколько раз отвечал на ...\n",
       "1707     Водитель 2 раза поругался с другими таксистами...\n",
       "1975     Водитель опасно вел автомобиль. Было ощущение ...\n",
       "2221     Водитель явно засыпал за рулём, постоянно зева...\n",
       "2261      Приехала другая машина вместо указанной в заказе\n",
       "2302                       Водитель неадекватно себя вёл, \n",
       "2346     Проехал на красный свет дважды на перекрестках...\n",
       "2472                      водит опасно и очень неаккуратно\n",
       "2890                           Резкие повороты на скорости\n",
       "2926     Водитель ехал по выделенной полосе со скорость...\n",
       "3113     Водитель был не пристегнут, вульгарно общался ...\n",
       "3605     Опасное вождение, даже укачало. Отличался номе...\n",
       "3640     водительница очень резко тормозит каждый раз, ...\n",
       "3845     приехал не туда,пришлось идти ,прокурен салон ...\n",
       "3902     Водитель не нажал кнопку \"начать поездку\" и с ...\n",
       "4369     Не понимает когда человек говорить не хочет, г...\n",
       "4553     Не доехали до конечной точки. То ли ошибка при...\n",
       "4658     Грязно в машине ,сидения в пятнах ,резко тормо...\n",
       "5819     я первый раз в жизни ездила с таким водителем,...\n",
       "7431     Заехал на заправку не предупредив, хотя мы опа...\n",
       "8506     не смогла перевести деньги. водитель позвоните...\n",
       "8660              Водитель создал аварийную ситуацию !!!! \n",
       "8837                    почему от меня личный деньги снял,\n",
       "9021     Водитель постоянно открывал дверь и харкал; ма...\n",
       "9862     ужасно медленный водитель, ехал 40-50 км в час...\n",
       "10369    водитель хамит, постоянно переписывается в мес...\n",
       "10711    высадил меня прямо посреди большой лужи со сне...\n",
       "Name: comment, dtype: object"
      ]
     },
     "metadata": {
      "tags": []
     },
     "execution_count": 40
    }
   ],
   "metadata": {
    "colab": {
     "base_uri": "https://localhost:8080/"
    },
    "id": "mz7y4knWx5JL",
    "outputId": "368b8e8c-6e05-4de5-bbc3-f7c8fc6ead77",
    "scrolled": true
   }
  },
  {
   "cell_type": "code",
   "execution_count": null,
   "source": [
    "X_unlab_lab.is_comment.value_counts()"
   ],
   "outputs": [
    {
     "output_type": "execute_result",
     "data": {
      "text/plain": [
       "1    36\n",
       "Name: is_comment, dtype: int64"
      ]
     },
     "metadata": {
      "tags": []
     },
     "execution_count": 41
    }
   ],
   "metadata": {
    "colab": {
     "base_uri": "https://localhost:8080/"
    },
    "id": "2kETFZg8x5JL",
    "outputId": "66154712-a8b9-4a42-e0c3-9c77639423f8"
   }
  },
  {
   "cell_type": "markdown",
   "source": [
    "## Train"
   ],
   "metadata": {
    "id": "oW92gZ9-x5JL"
   }
  },
  {
   "cell_type": "code",
   "execution_count": null,
   "source": [
    "model_semisupervised = Model()\n",
    "\n",
    "model_semisupervised.fit_ss(X_, y_, numeric_features, categorical_features, X_unlab_lab, y_unlab_lab)"
   ],
   "outputs": [
    {
     "output_type": "stream",
     "name": "stdout",
     "text": [
      "Train size: (7229, 14)\n",
      "Test size: (1798, 14)\n"
     ]
    },
    {
     "output_type": "execute_result",
     "data": {
      "text/plain": [
       "0.8488724212067151"
      ]
     },
     "metadata": {
      "tags": []
     },
     "execution_count": 42
    }
   ],
   "metadata": {
    "colab": {
     "base_uri": "https://localhost:8080/"
    },
    "id": "HKxX4spJx5JM",
    "outputId": "34cde40f-1bff-4222-de55-67c2e9ef09e5",
    "scrolled": false
   }
  },
  {
   "cell_type": "code",
   "execution_count": null,
   "source": [
    "model_ss_cv = Model()\n",
    "\n",
    "model_ss_cv.fit_ss(X_, y_, numeric_features, categorical_features, X_unlab_lab, y_unlab_lab, cross_validation=True)"
   ],
   "outputs": [
    {
     "output_type": "stream",
     "name": "stdout",
     "text": [
      "Part size: 1800.0\n",
      "Train size: (7224, 14)\n",
      "Test size: (1791, 14)\n",
      "Chunk 0; Score: 0.7396306537625914\n",
      "Train size: (7228, 14)\n",
      "Test size: (1797, 14)\n",
      "Chunk 1; Score: 0.742049078955933\n",
      "Train size: (7224, 14)\n",
      "Test size: (1794, 14)\n",
      "Chunk 2; Score: 0.7889097744360902\n",
      "Train size: (7225, 14)\n",
      "Test size: (1790, 14)\n",
      "Chunk 3; Score: 0.7370420937809273\n",
      "Train size: (7226, 14)\n",
      "Test size: (1792, 14)\n",
      "Chunk 4; Score: 0.85435199720914\n",
      "Mean score: 0.7723967196289363\n"
     ]
    },
    {
     "output_type": "execute_result",
     "data": {
      "text/plain": [
       "[((0.0, 1800.0), 0.7396306537625914),\n",
       " ((1800.0, 3600.0), 0.742049078955933),\n",
       " ((3600.0, 5400.0), 0.7889097744360902),\n",
       " ((5400.0, 7200.0), 0.7370420937809273),\n",
       " ((7200.0, 9000.0), 0.85435199720914)]"
      ]
     },
     "metadata": {
      "tags": []
     },
     "execution_count": 43
    }
   ],
   "metadata": {
    "colab": {
     "base_uri": "https://localhost:8080/"
    },
    "id": "3QuIHA4Ux5JM",
    "outputId": "ef68e8cb-f1a5-4175-bf3f-e0a62b4c5d6e"
   }
  },
  {
   "cell_type": "markdown",
   "source": [
    "# Prediction"
   ],
   "metadata": {
    "id": "7riHsyVAzwLC"
   }
  },
  {
   "cell_type": "code",
   "execution_count": null,
   "source": [
    "X_test = pd.read_csv('C:/Users/russi/Desktop/aiijc2021_transport-main/labled_test_data.csv', index_col=0, sep='\\t', comment='#')\n",
    "tracks_test = pd.read_csv('C:/Users/russi/Desktop/aiijc2021_transport-main/labled_test_tracks.csv', index_col=0, sep='\\t', comment='#')"
   ],
   "outputs": [],
   "metadata": {
    "id": "RsJBImFvzvoy"
   }
  },
  {
   "cell_type": "code",
   "execution_count": null,
   "source": [
    "tracks_test.groupby('order_id').size()"
   ],
   "outputs": [
    {
     "output_type": "execute_result",
     "data": {
      "text/plain": [
       "order_id\n",
       "000d9cf4365ad8be9b559951d0d945c7     12\n",
       "00287e34dd884a2a69c80346541d2aef     64\n",
       "00307c7812842b1159781c2c6375944a     41\n",
       "0061e7abbe5544c40781ba2816b3e026     61\n",
       "0074b0c828084e05c28035487ad2a130     82\n",
       "                                   ... \n",
       "ff209045501b1f25e8729a96a215a3d2     97\n",
       "ff4c5997ed87ff37a3c215bab2c0916e     49\n",
       "ff6873cfaccafec937bbed29e317d3e2     91\n",
       "ff9745e14cda84a4550b528a8d9aa4de    103\n",
       "ffd2c55165c42430793423c93211bd46     53\n",
       "Length: 1272, dtype: int64"
      ]
     },
     "metadata": {},
     "execution_count": 19
    }
   ],
   "metadata": {
    "colab": {
     "base_uri": "https://localhost:8080/"
    },
    "id": "JvU1xokzB_th",
    "outputId": "9547275e-40b1-47f6-b0e1-d35ea8318266"
   }
  },
  {
   "cell_type": "code",
   "execution_count": null,
   "source": [
    "result_series = pd.Series(model_supervised.predict_proba(X_test, add_feat=True, tracks=tracks_test))"
   ],
   "outputs": [
    {
     "output_type": "error",
     "ename": "KeyError",
     "evalue": "'None of [Index([\\'speed__index_mass_quantile__q_0.3\\',\\n       \\'speed__agg_autocorrelation__f_agg_\"mean\"__maxlag_40\\', \\'from_latitude\\',\\n       \\'from_longitude\\', \\'to_latitude\\', \\'to_longitude\\', \\'is_comment_x\\',\\n       \\'agg_verbs_rate\\', \\'agg_adjs_rate\\', \\'agg_nouns_rate\\'],\\n      dtype=\\'object\\')] are in the [columns]'",
     "traceback": [
      "\u001b[1;31m---------------------------------------------------------------------------\u001b[0m",
      "\u001b[1;31mKeyError\u001b[0m                                  Traceback (most recent call last)",
      "\u001b[1;32m<ipython-input-35-3291f6e8b90d>\u001b[0m in \u001b[0;36m<module>\u001b[1;34m\u001b[0m\n\u001b[1;32m----> 1\u001b[1;33m \u001b[0mresult_series\u001b[0m \u001b[1;33m=\u001b[0m \u001b[0mpd\u001b[0m\u001b[1;33m.\u001b[0m\u001b[0mSeries\u001b[0m\u001b[1;33m(\u001b[0m\u001b[0mmodel_supervised\u001b[0m\u001b[1;33m.\u001b[0m\u001b[0mpredict_proba\u001b[0m\u001b[1;33m(\u001b[0m\u001b[0mX_test\u001b[0m\u001b[1;33m,\u001b[0m \u001b[0madd_feat\u001b[0m\u001b[1;33m=\u001b[0m\u001b[1;32mTrue\u001b[0m\u001b[1;33m,\u001b[0m \u001b[0mtracks\u001b[0m\u001b[1;33m=\u001b[0m\u001b[0mtracks_test\u001b[0m\u001b[1;33m)\u001b[0m\u001b[1;33m)\u001b[0m\u001b[1;33m\u001b[0m\u001b[1;33m\u001b[0m\u001b[0m\n\u001b[0m",
      "\u001b[1;32m<ipython-input-33-55181de228a7>\u001b[0m in \u001b[0;36mpredict_proba\u001b[1;34m(self, X, add_feat, tracks)\u001b[0m\n\u001b[0;32m    322\u001b[0m \u001b[1;33m\u001b[0m\u001b[0m\n\u001b[0;32m    323\u001b[0m \u001b[1;33m\u001b[0m\u001b[0m\n\u001b[1;32m--> 324\u001b[1;33m         \u001b[1;32mreturn\u001b[0m \u001b[0mself\u001b[0m\u001b[1;33m.\u001b[0m\u001b[0mmodel\u001b[0m\u001b[1;33m.\u001b[0m\u001b[0mpredict_proba\u001b[0m\u001b[1;33m(\u001b[0m\u001b[0mres_matrix\u001b[0m\u001b[1;33m[\u001b[0m\u001b[0mself\u001b[0m\u001b[1;33m.\u001b[0m\u001b[0mselected_features\u001b[0m\u001b[1;33m]\u001b[0m\u001b[1;33m)\u001b[0m\u001b[1;33m.\u001b[0m\u001b[0mT\u001b[0m\u001b[1;33m[\u001b[0m\u001b[1;36m1\u001b[0m\u001b[1;33m]\u001b[0m\u001b[1;33m[\u001b[0m\u001b[1;33m:\u001b[0m\u001b[1;33m,\u001b[0m \u001b[1;36m1\u001b[0m\u001b[1;33m]\u001b[0m\u001b[1;33m\u001b[0m\u001b[1;33m\u001b[0m\u001b[0m\n\u001b[0m\u001b[0;32m    325\u001b[0m \u001b[1;33m\u001b[0m\u001b[0m\n\u001b[0;32m    326\u001b[0m     \u001b[1;32mdef\u001b[0m \u001b[0mpredict\u001b[0m\u001b[1;33m(\u001b[0m\u001b[0mself\u001b[0m\u001b[1;33m,\u001b[0m \u001b[0mX\u001b[0m\u001b[1;33m,\u001b[0m\u001b[0mcomm_dataset\u001b[0m\u001b[1;33m,\u001b[0m \u001b[0mtracks\u001b[0m\u001b[1;33m=\u001b[0m\u001b[1;32mNone\u001b[0m\u001b[1;33m)\u001b[0m\u001b[1;33m:\u001b[0m\u001b[1;33m\u001b[0m\u001b[1;33m\u001b[0m\u001b[0m\n",
      "\u001b[1;32m~\\anaconda3\\lib\\site-packages\\pandas\\core\\frame.py\u001b[0m in \u001b[0;36m__getitem__\u001b[1;34m(self, key)\u001b[0m\n\u001b[0;32m   3028\u001b[0m             \u001b[1;32mif\u001b[0m \u001b[0mis_iterator\u001b[0m\u001b[1;33m(\u001b[0m\u001b[0mkey\u001b[0m\u001b[1;33m)\u001b[0m\u001b[1;33m:\u001b[0m\u001b[1;33m\u001b[0m\u001b[1;33m\u001b[0m\u001b[0m\n\u001b[0;32m   3029\u001b[0m                 \u001b[0mkey\u001b[0m \u001b[1;33m=\u001b[0m \u001b[0mlist\u001b[0m\u001b[1;33m(\u001b[0m\u001b[0mkey\u001b[0m\u001b[1;33m)\u001b[0m\u001b[1;33m\u001b[0m\u001b[1;33m\u001b[0m\u001b[0m\n\u001b[1;32m-> 3030\u001b[1;33m             \u001b[0mindexer\u001b[0m \u001b[1;33m=\u001b[0m \u001b[0mself\u001b[0m\u001b[1;33m.\u001b[0m\u001b[0mloc\u001b[0m\u001b[1;33m.\u001b[0m\u001b[0m_get_listlike_indexer\u001b[0m\u001b[1;33m(\u001b[0m\u001b[0mkey\u001b[0m\u001b[1;33m,\u001b[0m \u001b[0maxis\u001b[0m\u001b[1;33m=\u001b[0m\u001b[1;36m1\u001b[0m\u001b[1;33m,\u001b[0m \u001b[0mraise_missing\u001b[0m\u001b[1;33m=\u001b[0m\u001b[1;32mTrue\u001b[0m\u001b[1;33m)\u001b[0m\u001b[1;33m[\u001b[0m\u001b[1;36m1\u001b[0m\u001b[1;33m]\u001b[0m\u001b[1;33m\u001b[0m\u001b[1;33m\u001b[0m\u001b[0m\n\u001b[0m\u001b[0;32m   3031\u001b[0m \u001b[1;33m\u001b[0m\u001b[0m\n\u001b[0;32m   3032\u001b[0m         \u001b[1;31m# take() does not accept boolean indexers\u001b[0m\u001b[1;33m\u001b[0m\u001b[1;33m\u001b[0m\u001b[1;33m\u001b[0m\u001b[0m\n",
      "\u001b[1;32m~\\anaconda3\\lib\\site-packages\\pandas\\core\\indexing.py\u001b[0m in \u001b[0;36m_get_listlike_indexer\u001b[1;34m(self, key, axis, raise_missing)\u001b[0m\n\u001b[0;32m   1264\u001b[0m             \u001b[0mkeyarr\u001b[0m\u001b[1;33m,\u001b[0m \u001b[0mindexer\u001b[0m\u001b[1;33m,\u001b[0m \u001b[0mnew_indexer\u001b[0m \u001b[1;33m=\u001b[0m \u001b[0max\u001b[0m\u001b[1;33m.\u001b[0m\u001b[0m_reindex_non_unique\u001b[0m\u001b[1;33m(\u001b[0m\u001b[0mkeyarr\u001b[0m\u001b[1;33m)\u001b[0m\u001b[1;33m\u001b[0m\u001b[1;33m\u001b[0m\u001b[0m\n\u001b[0;32m   1265\u001b[0m \u001b[1;33m\u001b[0m\u001b[0m\n\u001b[1;32m-> 1266\u001b[1;33m         \u001b[0mself\u001b[0m\u001b[1;33m.\u001b[0m\u001b[0m_validate_read_indexer\u001b[0m\u001b[1;33m(\u001b[0m\u001b[0mkeyarr\u001b[0m\u001b[1;33m,\u001b[0m \u001b[0mindexer\u001b[0m\u001b[1;33m,\u001b[0m \u001b[0maxis\u001b[0m\u001b[1;33m,\u001b[0m \u001b[0mraise_missing\u001b[0m\u001b[1;33m=\u001b[0m\u001b[0mraise_missing\u001b[0m\u001b[1;33m)\u001b[0m\u001b[1;33m\u001b[0m\u001b[1;33m\u001b[0m\u001b[0m\n\u001b[0m\u001b[0;32m   1267\u001b[0m         \u001b[1;32mreturn\u001b[0m \u001b[0mkeyarr\u001b[0m\u001b[1;33m,\u001b[0m \u001b[0mindexer\u001b[0m\u001b[1;33m\u001b[0m\u001b[1;33m\u001b[0m\u001b[0m\n\u001b[0;32m   1268\u001b[0m \u001b[1;33m\u001b[0m\u001b[0m\n",
      "\u001b[1;32m~\\anaconda3\\lib\\site-packages\\pandas\\core\\indexing.py\u001b[0m in \u001b[0;36m_validate_read_indexer\u001b[1;34m(self, key, indexer, axis, raise_missing)\u001b[0m\n\u001b[0;32m   1306\u001b[0m             \u001b[1;32mif\u001b[0m \u001b[0mmissing\u001b[0m \u001b[1;33m==\u001b[0m \u001b[0mlen\u001b[0m\u001b[1;33m(\u001b[0m\u001b[0mindexer\u001b[0m\u001b[1;33m)\u001b[0m\u001b[1;33m:\u001b[0m\u001b[1;33m\u001b[0m\u001b[1;33m\u001b[0m\u001b[0m\n\u001b[0;32m   1307\u001b[0m                 \u001b[0maxis_name\u001b[0m \u001b[1;33m=\u001b[0m \u001b[0mself\u001b[0m\u001b[1;33m.\u001b[0m\u001b[0mobj\u001b[0m\u001b[1;33m.\u001b[0m\u001b[0m_get_axis_name\u001b[0m\u001b[1;33m(\u001b[0m\u001b[0maxis\u001b[0m\u001b[1;33m)\u001b[0m\u001b[1;33m\u001b[0m\u001b[1;33m\u001b[0m\u001b[0m\n\u001b[1;32m-> 1308\u001b[1;33m                 \u001b[1;32mraise\u001b[0m \u001b[0mKeyError\u001b[0m\u001b[1;33m(\u001b[0m\u001b[1;34mf\"None of [{key}] are in the [{axis_name}]\"\u001b[0m\u001b[1;33m)\u001b[0m\u001b[1;33m\u001b[0m\u001b[1;33m\u001b[0m\u001b[0m\n\u001b[0m\u001b[0;32m   1309\u001b[0m \u001b[1;33m\u001b[0m\u001b[0m\n\u001b[0;32m   1310\u001b[0m             \u001b[0max\u001b[0m \u001b[1;33m=\u001b[0m \u001b[0mself\u001b[0m\u001b[1;33m.\u001b[0m\u001b[0mobj\u001b[0m\u001b[1;33m.\u001b[0m\u001b[0m_get_axis\u001b[0m\u001b[1;33m(\u001b[0m\u001b[0maxis\u001b[0m\u001b[1;33m)\u001b[0m\u001b[1;33m\u001b[0m\u001b[1;33m\u001b[0m\u001b[0m\n",
      "\u001b[1;31mKeyError\u001b[0m: 'None of [Index([\\'speed__index_mass_quantile__q_0.3\\',\\n       \\'speed__agg_autocorrelation__f_agg_\"mean\"__maxlag_40\\', \\'from_latitude\\',\\n       \\'from_longitude\\', \\'to_latitude\\', \\'to_longitude\\', \\'is_comment_x\\',\\n       \\'agg_verbs_rate\\', \\'agg_adjs_rate\\', \\'agg_nouns_rate\\'],\\n      dtype=\\'object\\')] are in the [columns]'"
     ]
    }
   ],
   "metadata": {
    "colab": {
     "base_uri": "https://localhost:8080/"
    },
    "id": "876gjCvrCBQw",
    "outputId": "b9b03573-e227-4dc9-adee-77c198074629"
   }
  },
  {
   "cell_type": "code",
   "execution_count": null,
   "source": [
    "result_series.sum()"
   ],
   "outputs": [],
   "metadata": {
    "colab": {
     "base_uri": "https://localhost:8080/"
    },
    "id": "L8b3DVpabnZS",
    "outputId": "c1e09beb-4120-4943-c435-9b3517c3e965"
   }
  },
  {
   "cell_type": "code",
   "execution_count": null,
   "source": [
    "result_series = pd.Series(model_supervised.predict_proba(X_test))\n",
    "# result_series = pd.Series(model_semisupervised.predict(X_test))\n",
    "# result_series = pd.Series(np.zeros(X_test.shape[0]))"
   ],
   "outputs": [
    {
     "output_type": "error",
     "ename": "NameError",
     "evalue": "name 'tracks_train' is not defined",
     "traceback": [
      "\u001b[1;31m---------------------------------------------------------------------------\u001b[0m",
      "\u001b[1;31mNameError\u001b[0m                                 Traceback (most recent call last)",
      "\u001b[1;32m<ipython-input-21-a10fcf4615d5>\u001b[0m in \u001b[0;36m<module>\u001b[1;34m\u001b[0m\n\u001b[1;32m----> 1\u001b[1;33m \u001b[0mresult_series\u001b[0m \u001b[1;33m=\u001b[0m \u001b[0mpd\u001b[0m\u001b[1;33m.\u001b[0m\u001b[0mSeries\u001b[0m\u001b[1;33m(\u001b[0m\u001b[0mmodel_supervised\u001b[0m\u001b[1;33m.\u001b[0m\u001b[0mpredict_proba\u001b[0m\u001b[1;33m(\u001b[0m\u001b[0mX_test\u001b[0m\u001b[1;33m)\u001b[0m\u001b[1;33m)\u001b[0m\u001b[1;33m\u001b[0m\u001b[1;33m\u001b[0m\u001b[0m\n\u001b[0m\u001b[0;32m      2\u001b[0m \u001b[1;31m# result_series = pd.Series(model_semisupervised.predict(X_test))\u001b[0m\u001b[1;33m\u001b[0m\u001b[1;33m\u001b[0m\u001b[1;33m\u001b[0m\u001b[0m\n\u001b[0;32m      3\u001b[0m \u001b[1;31m# result_series = pd.Series(np.zeros(X_test.shape[0]))\u001b[0m\u001b[1;33m\u001b[0m\u001b[1;33m\u001b[0m\u001b[1;33m\u001b[0m\u001b[0m\n",
      "\u001b[1;32m<ipython-input-10-3b91b36a159b>\u001b[0m in \u001b[0;36mpredict_proba\u001b[1;34m(self, X, add_feat, tracks)\u001b[0m\n\u001b[0;32m    315\u001b[0m         \u001b[0mX\u001b[0m \u001b[1;33m=\u001b[0m \u001b[0mself\u001b[0m\u001b[1;33m.\u001b[0m\u001b[0madd_features\u001b[0m\u001b[1;33m(\u001b[0m\u001b[0mX\u001b[0m\u001b[1;33m)\u001b[0m\u001b[1;33m[\u001b[0m\u001b[0mnumeric_features\u001b[0m \u001b[1;33m+\u001b[0m \u001b[0mcategorical_features\u001b[0m \u001b[1;33m+\u001b[0m \u001b[1;33m[\u001b[0m\u001b[1;34m\"order_id\"\u001b[0m\u001b[1;33m]\u001b[0m\u001b[1;33m]\u001b[0m\u001b[1;33m\u001b[0m\u001b[1;33m\u001b[0m\u001b[0m\n\u001b[0;32m    316\u001b[0m \u001b[1;33m\u001b[0m\u001b[0m\n\u001b[1;32m--> 317\u001b[1;33m         \u001b[0mres_matrix\u001b[0m \u001b[1;33m=\u001b[0m \u001b[0mX\u001b[0m\u001b[1;33m.\u001b[0m\u001b[0mmerge\u001b[0m\u001b[1;33m(\u001b[0m\u001b[0mtracks_train\u001b[0m\u001b[1;33m,\u001b[0m \u001b[0mhow\u001b[0m\u001b[1;33m=\u001b[0m\u001b[1;34m'left'\u001b[0m\u001b[1;33m,\u001b[0m \u001b[0mon\u001b[0m\u001b[1;33m=\u001b[0m\u001b[1;34m'order_id'\u001b[0m\u001b[1;33m)\u001b[0m\u001b[1;33m\u001b[0m\u001b[1;33m\u001b[0m\u001b[0m\n\u001b[0m\u001b[0;32m    318\u001b[0m         \u001b[0mres_matrix\u001b[0m \u001b[1;33m=\u001b[0m \u001b[0mres_matrix\u001b[0m\u001b[1;33m.\u001b[0m\u001b[0mfillna\u001b[0m\u001b[1;33m(\u001b[0m\u001b[1;36m0\u001b[0m\u001b[1;33m,\u001b[0m \u001b[0minplace\u001b[0m\u001b[1;33m=\u001b[0m\u001b[1;32mTrue\u001b[0m\u001b[1;33m)\u001b[0m\u001b[1;33m\u001b[0m\u001b[1;33m\u001b[0m\u001b[0m\n\u001b[0;32m    319\u001b[0m         \u001b[0mres_matrix\u001b[0m \u001b[1;33m=\u001b[0m \u001b[0mres_matrix\u001b[0m\u001b[1;33m.\u001b[0m\u001b[0mdrop\u001b[0m\u001b[1;33m(\u001b[0m\u001b[1;33m[\u001b[0m\u001b[1;34m'order_id'\u001b[0m\u001b[1;33m]\u001b[0m\u001b[1;33m,\u001b[0m \u001b[0maxis\u001b[0m\u001b[1;33m=\u001b[0m\u001b[1;36m1\u001b[0m\u001b[1;33m,\u001b[0m \u001b[0minplace\u001b[0m\u001b[1;33m=\u001b[0m\u001b[1;32mTrue\u001b[0m\u001b[1;33m)\u001b[0m\u001b[1;33m\u001b[0m\u001b[1;33m\u001b[0m\u001b[0m\n",
      "\u001b[1;31mNameError\u001b[0m: name 'tracks_train' is not defined"
     ]
    }
   ],
   "metadata": {
    "id": "0aS614MU2hD5"
   }
  },
  {
   "cell_type": "code",
   "execution_count": null,
   "source": [
    "result_series.name = 'is_aggressive'"
   ],
   "outputs": [],
   "metadata": {
    "id": "w2gV-eQg5Dyh"
   }
  },
  {
   "cell_type": "code",
   "execution_count": null,
   "source": [
    "result_series.sum()"
   ],
   "outputs": [
    {
     "output_type": "execute_result",
     "data": {
      "text/plain": [
       "40"
      ]
     },
     "metadata": {
      "tags": []
     },
     "execution_count": 417
    }
   ],
   "metadata": {
    "colab": {
     "base_uri": "https://localhost:8080/"
    },
    "id": "IHkfSDJljoTL",
    "outputId": "6fc4dc61-8d83-45c3-fc29-4e9085f185f2"
   }
  },
  {
   "cell_type": "code",
   "execution_count": null,
   "source": [
    "result_series.to_csv(\"result.csv\")"
   ],
   "outputs": [],
   "metadata": {
    "id": "pY6Fcj883x9i"
   }
  }
 ],
 "metadata": {
  "colab": {
   "collapsed_sections": [
    "IcH7T4cJsOzL",
    "BZNrSHdSORxG",
    "tJA_bsAaORxI",
    "_fZL4rRiFCio",
    "GTkhnZoHx5JI",
    "UqEQmfo0x5JK",
    "oW92gZ9-x5JL"
   ],
   "machine_shape": "hm",
   "name": "Model.ipynb",
   "provenance": []
  },
  "interpreter": {
   "hash": "f50bd5474255f82aa829301912ce59e29110123be660cf8d7583f66a20371684"
  },
  "kernelspec": {
   "name": "python3",
   "display_name": "Python 3.8.8 64-bit ('base': conda)"
  },
  "language_info": {
   "codemirror_mode": {
    "name": "ipython",
    "version": 3
   },
   "file_extension": ".py",
   "mimetype": "text/x-python",
   "name": "python",
   "nbconvert_exporter": "python",
   "pygments_lexer": "ipython3",
   "version": "3.8.8"
  }
 },
 "nbformat": 4,
 "nbformat_minor": 2
}