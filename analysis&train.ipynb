{
 "cells": [
  {
   "cell_type": "code",
   "execution_count": 1,
   "metadata": {},
   "outputs": [],
   "source": [
    "import numpy as np\n",
    "import pandas as pd\n",
    "\n",
    "from sklearn.compose import ColumnTransformer\n",
    "from sklearn.linear_model import LogisticRegression\n",
    "from catboost import CatBoostClassifier\n",
    "from sklearn.model_selection import train_test_split, GridSearchCV, cross_validate\n",
    "from sklearn.pipeline import Pipeline\n",
    "from sklearn.preprocessing import StandardScaler, OneHotEncoder\n",
    "from sklearn.metrics import roc_auc_score\n",
    "\n",
    "import warnings\n",
    "warnings.filterwarnings(\"ignore\")"
   ]
  },
  {
   "cell_type": "code",
   "execution_count": 2,
   "metadata": {},
   "outputs": [],
   "source": [
    "train_labeled = pd.read_csv('data/labled_train_data.csv', index_col=0, sep='\\t', comment='#')\n",
    "comments_labeled = pd.read_csv('data/labled_train_comments.csv', index_col=0, sep='\\t', comment='#')\n",
    "tracks_labeled = pd.read_csv('data/labled_train_tracks.csv', index_col=0, sep='\\t', comment='#')\n",
    "\n",
    "train_unlabeled = pd.read_csv('data/unlabled_train_data.csv', index_col=0, sep='\\t', comment='#')\n",
    "comments_unlabeled = pd.read_csv('data/unlabled_train_comments.csv', index_col=0, sep='\\t', comment='#')\n",
    "tracks_unlabeled = pd.read_csv('data/unlabled_train_tracks.csv', index_col=0, sep='\\t', comment='#')"
   ]
  },
  {
   "cell_type": "code",
   "execution_count": 3,
   "metadata": {},
   "outputs": [
    {
     "data": {
      "text/plain": [
       "((9000, 19), (10722, 18))"
      ]
     },
     "execution_count": 3,
     "metadata": {},
     "output_type": "execute_result"
    }
   ],
   "source": [
    "train_labeled.shape, train_unlabeled.shape"
   ]
  },
  {
   "cell_type": "code",
   "execution_count": 4,
   "metadata": {},
   "outputs": [],
   "source": [
    "X = train_labeled.iloc[:, :-1]\n",
    "y = train_labeled.iloc[:, -1:]"
   ]
  },
  {
   "cell_type": "code",
   "execution_count": 5,
   "metadata": {},
   "outputs": [],
   "source": [
    "X['client_rate_ride'] = X['client_rate_ride'].fillna(X['client_rate_ride'].mean())\n",
    "X['client_rides_cnt'] = X['client_rides_cnt'].fillna(X['client_rides_cnt'].mean())\n",
    "X['driver_rides_cnt'] = X['driver_rides_cnt'].fillna(X['driver_rides_cnt'].mean())"
   ]
  },
  {
   "cell_type": "code",
   "execution_count": 6,
   "metadata": {},
   "outputs": [
    {
     "data": {
      "text/html": [
       "<div>\n",
       "<style scoped>\n",
       "    .dataframe tbody tr th:only-of-type {\n",
       "        vertical-align: middle;\n",
       "    }\n",
       "\n",
       "    .dataframe tbody tr th {\n",
       "        vertical-align: top;\n",
       "    }\n",
       "\n",
       "    .dataframe thead th {\n",
       "        text-align: right;\n",
       "    }\n",
       "</style>\n",
       "<table border=\"1\" class=\"dataframe\">\n",
       "  <thead>\n",
       "    <tr style=\"text-align: right;\">\n",
       "      <th></th>\n",
       "      <th>order_id</th>\n",
       "      <th>driver_id</th>\n",
       "      <th>client_id</th>\n",
       "      <th>dttm</th>\n",
       "      <th>date</th>\n",
       "      <th>arrived_distance</th>\n",
       "      <th>arrived_duration</th>\n",
       "      <th>distance</th>\n",
       "      <th>duration</th>\n",
       "      <th>from_latitude</th>\n",
       "      <th>from_longitude</th>\n",
       "      <th>to_latitude</th>\n",
       "      <th>to_longitude</th>\n",
       "      <th>mark</th>\n",
       "      <th>client_rate_ride</th>\n",
       "      <th>client_rides_cnt</th>\n",
       "      <th>driver_rides_cnt</th>\n",
       "      <th>comment</th>\n",
       "    </tr>\n",
       "  </thead>\n",
       "  <tbody>\n",
       "    <tr>\n",
       "      <th>0</th>\n",
       "      <td>6a0f322ade1a05e5c4cec4344efbce8b</td>\n",
       "      <td>f7c2b293ef94420f5e51abae6889b83b</td>\n",
       "      <td>3156d05c6458a8228bed59f02075a61e</td>\n",
       "      <td>2021-01-22 21:53:00</td>\n",
       "      <td>2021-01-22</td>\n",
       "      <td>150.0</td>\n",
       "      <td>1.0</td>\n",
       "      <td>11.8</td>\n",
       "      <td>20.5</td>\n",
       "      <td>55.795900</td>\n",
       "      <td>37.560300</td>\n",
       "      <td>55.716502</td>\n",
       "      <td>37.524627</td>\n",
       "      <td>Kia K5</td>\n",
       "      <td>4.877908</td>\n",
       "      <td>16.0</td>\n",
       "      <td>39.0</td>\n",
       "      <td>Больше нечего сказать</td>\n",
       "    </tr>\n",
       "    <tr>\n",
       "      <th>1</th>\n",
       "      <td>934ecbe5845426fd3f8ef7938cce2a11</td>\n",
       "      <td>01d029c42c99581080a60679fca06ff9</td>\n",
       "      <td>3156d05c6458a8228bed59f02075a61e</td>\n",
       "      <td>2021-01-24 14:09:00</td>\n",
       "      <td>2021-01-24</td>\n",
       "      <td>570.0</td>\n",
       "      <td>1.0</td>\n",
       "      <td>17.2</td>\n",
       "      <td>26.2</td>\n",
       "      <td>55.716502</td>\n",
       "      <td>37.524627</td>\n",
       "      <td>55.808253</td>\n",
       "      <td>37.638847</td>\n",
       "      <td>Volkswagen Polo</td>\n",
       "      <td>4.877908</td>\n",
       "      <td>18.0</td>\n",
       "      <td>338.0</td>\n",
       "      <td>Да</td>\n",
       "    </tr>\n",
       "    <tr>\n",
       "      <th>2</th>\n",
       "      <td>5348cb339b63eaea3b2cb57a064ce550</td>\n",
       "      <td>3c88deb7df7a73a24ebc229db9783405</td>\n",
       "      <td>3156d05c6458a8228bed59f02075a61e</td>\n",
       "      <td>2021-01-26 21:02:00</td>\n",
       "      <td>2021-01-26</td>\n",
       "      <td>40.0</td>\n",
       "      <td>0.0</td>\n",
       "      <td>5.8</td>\n",
       "      <td>10.9</td>\n",
       "      <td>55.716637</td>\n",
       "      <td>37.524223</td>\n",
       "      <td>55.741958</td>\n",
       "      <td>37.568172</td>\n",
       "      <td>MercedesBenz EClass</td>\n",
       "      <td>4.877908</td>\n",
       "      <td>17.0</td>\n",
       "      <td>162.0</td>\n",
       "      <td>Больше нечего сказать</td>\n",
       "    </tr>\n",
       "    <tr>\n",
       "      <th>3</th>\n",
       "      <td>309ef91c3b51e27d097642169576f67b</td>\n",
       "      <td>f35a8ff85f2095755f16bba91035fbdc</td>\n",
       "      <td>3156d05c6458a8228bed59f02075a61e</td>\n",
       "      <td>2021-01-27 17:24:00</td>\n",
       "      <td>2021-01-27</td>\n",
       "      <td>140.0</td>\n",
       "      <td>1.0</td>\n",
       "      <td>4.5</td>\n",
       "      <td>10.7</td>\n",
       "      <td>55.689076</td>\n",
       "      <td>37.491088</td>\n",
       "      <td>55.716502</td>\n",
       "      <td>37.524627</td>\n",
       "      <td>Kia Optima</td>\n",
       "      <td>4.877908</td>\n",
       "      <td>18.0</td>\n",
       "      <td>136.0</td>\n",
       "      <td>Больше нечего сказать</td>\n",
       "    </tr>\n",
       "    <tr>\n",
       "      <th>4</th>\n",
       "      <td>3506e04e45d39c6e3033637389da1041</td>\n",
       "      <td>0a227ac8d702170c03acf36d55e60d0d</td>\n",
       "      <td>3156d05c6458a8228bed59f02075a61e</td>\n",
       "      <td>2021-01-29 15:31:00</td>\n",
       "      <td>2021-01-29</td>\n",
       "      <td>150.0</td>\n",
       "      <td>1.0</td>\n",
       "      <td>15.4</td>\n",
       "      <td>25.1</td>\n",
       "      <td>55.655489</td>\n",
       "      <td>37.616629</td>\n",
       "      <td>55.716502</td>\n",
       "      <td>37.524627</td>\n",
       "      <td>Kia Rio</td>\n",
       "      <td>5.000000</td>\n",
       "      <td>20.0</td>\n",
       "      <td>194.0</td>\n",
       "      <td>Больше нечего сказать</td>\n",
       "    </tr>\n",
       "    <tr>\n",
       "      <th>...</th>\n",
       "      <td>...</td>\n",
       "      <td>...</td>\n",
       "      <td>...</td>\n",
       "      <td>...</td>\n",
       "      <td>...</td>\n",
       "      <td>...</td>\n",
       "      <td>...</td>\n",
       "      <td>...</td>\n",
       "      <td>...</td>\n",
       "      <td>...</td>\n",
       "      <td>...</td>\n",
       "      <td>...</td>\n",
       "      <td>...</td>\n",
       "      <td>...</td>\n",
       "      <td>...</td>\n",
       "      <td>...</td>\n",
       "      <td>...</td>\n",
       "      <td>...</td>\n",
       "    </tr>\n",
       "    <tr>\n",
       "      <th>8995</th>\n",
       "      <td>bd1c7382bcfa4f5981a8b98d50cdbf37</td>\n",
       "      <td>f60352f28fc0b03c54e1e389519945eb</td>\n",
       "      <td>183c8d2838e8800609793f5925479f8c</td>\n",
       "      <td>2021-04-03 14:17:21</td>\n",
       "      <td>2021-04-03</td>\n",
       "      <td>0.0</td>\n",
       "      <td>0.0</td>\n",
       "      <td>20.5</td>\n",
       "      <td>42.6</td>\n",
       "      <td>55.711662</td>\n",
       "      <td>37.758961</td>\n",
       "      <td>55.748140</td>\n",
       "      <td>37.538721</td>\n",
       "      <td>Kia Optima</td>\n",
       "      <td>5.000000</td>\n",
       "      <td>14.0</td>\n",
       "      <td>79.0</td>\n",
       "      <td>Больше нечего сказать</td>\n",
       "    </tr>\n",
       "    <tr>\n",
       "      <th>8996</th>\n",
       "      <td>37a2c7ddf4e0e911d1f5b827a22424c6</td>\n",
       "      <td>52c7c1b99bf9eec8c36a3a852f4208a6</td>\n",
       "      <td>a3555aa482365082065ddbe2b60b7944</td>\n",
       "      <td>2021-04-03 14:17:44</td>\n",
       "      <td>2021-04-03</td>\n",
       "      <td>10.0</td>\n",
       "      <td>0.0</td>\n",
       "      <td>12.1</td>\n",
       "      <td>26.2</td>\n",
       "      <td>55.739415</td>\n",
       "      <td>37.649726</td>\n",
       "      <td>55.816200</td>\n",
       "      <td>37.631172</td>\n",
       "      <td>Lada Vesta</td>\n",
       "      <td>4.877908</td>\n",
       "      <td>38.0</td>\n",
       "      <td>383.0</td>\n",
       "      <td>На заднем сиденье жёлтые полосы и пятна остали...</td>\n",
       "    </tr>\n",
       "    <tr>\n",
       "      <th>8997</th>\n",
       "      <td>675f5308235dfb532bc12c628568a431</td>\n",
       "      <td>36a26e1bdad8ffa82020449e4c670f0d</td>\n",
       "      <td>e5070710fc47d467ebc6488eeceed19a</td>\n",
       "      <td>2021-04-03 14:24:30</td>\n",
       "      <td>2021-04-03</td>\n",
       "      <td>60.0</td>\n",
       "      <td>0.0</td>\n",
       "      <td>3.9</td>\n",
       "      <td>11.4</td>\n",
       "      <td>55.739262</td>\n",
       "      <td>37.633640</td>\n",
       "      <td>55.747094</td>\n",
       "      <td>37.605861</td>\n",
       "      <td>Kia Ceed</td>\n",
       "      <td>4.877908</td>\n",
       "      <td>14.0</td>\n",
       "      <td>38.0</td>\n",
       "      <td>Больше нечего сказать</td>\n",
       "    </tr>\n",
       "    <tr>\n",
       "      <th>8998</th>\n",
       "      <td>209184a3e7d4cff49703e03ea9329ce7</td>\n",
       "      <td>68a076cc5bb1e50a25086baa275af6a0</td>\n",
       "      <td>35fae1e96d973ac127e8bfa7859f1964</td>\n",
       "      <td>2021-04-03 14:30:45</td>\n",
       "      <td>2021-04-03</td>\n",
       "      <td>2650.0</td>\n",
       "      <td>6.0</td>\n",
       "      <td>2.0</td>\n",
       "      <td>6.0</td>\n",
       "      <td>55.783070</td>\n",
       "      <td>37.578504</td>\n",
       "      <td>55.795784</td>\n",
       "      <td>37.584560</td>\n",
       "      <td>Kia Rio</td>\n",
       "      <td>4.877908</td>\n",
       "      <td>32.0</td>\n",
       "      <td>121.0</td>\n",
       "      <td>Больше нечего сказать</td>\n",
       "    </tr>\n",
       "    <tr>\n",
       "      <th>8999</th>\n",
       "      <td>d1598b6d00f63b4470062724c50905b1</td>\n",
       "      <td>1ed2054808f94bb3b55486908eec6a3e</td>\n",
       "      <td>036d0078d76dad6ddf9e1d672ae13b02</td>\n",
       "      <td>2021-04-03 14:46:02</td>\n",
       "      <td>2021-04-03</td>\n",
       "      <td>2990.0</td>\n",
       "      <td>10.0</td>\n",
       "      <td>4.8</td>\n",
       "      <td>11.0</td>\n",
       "      <td>55.804893</td>\n",
       "      <td>37.846828</td>\n",
       "      <td>55.810376</td>\n",
       "      <td>37.798868</td>\n",
       "      <td>Skoda Octavia</td>\n",
       "      <td>5.000000</td>\n",
       "      <td>34.0</td>\n",
       "      <td>391.0</td>\n",
       "      <td>Больше нечего сказать</td>\n",
       "    </tr>\n",
       "  </tbody>\n",
       "</table>\n",
       "<p>9000 rows × 18 columns</p>\n",
       "</div>"
      ],
      "text/plain": [
       "                              order_id                         driver_id  \\\n",
       "0     6a0f322ade1a05e5c4cec4344efbce8b  f7c2b293ef94420f5e51abae6889b83b   \n",
       "1     934ecbe5845426fd3f8ef7938cce2a11  01d029c42c99581080a60679fca06ff9   \n",
       "2     5348cb339b63eaea3b2cb57a064ce550  3c88deb7df7a73a24ebc229db9783405   \n",
       "3     309ef91c3b51e27d097642169576f67b  f35a8ff85f2095755f16bba91035fbdc   \n",
       "4     3506e04e45d39c6e3033637389da1041  0a227ac8d702170c03acf36d55e60d0d   \n",
       "...                                ...                               ...   \n",
       "8995  bd1c7382bcfa4f5981a8b98d50cdbf37  f60352f28fc0b03c54e1e389519945eb   \n",
       "8996  37a2c7ddf4e0e911d1f5b827a22424c6  52c7c1b99bf9eec8c36a3a852f4208a6   \n",
       "8997  675f5308235dfb532bc12c628568a431  36a26e1bdad8ffa82020449e4c670f0d   \n",
       "8998  209184a3e7d4cff49703e03ea9329ce7  68a076cc5bb1e50a25086baa275af6a0   \n",
       "8999  d1598b6d00f63b4470062724c50905b1  1ed2054808f94bb3b55486908eec6a3e   \n",
       "\n",
       "                             client_id                 dttm        date  \\\n",
       "0     3156d05c6458a8228bed59f02075a61e  2021-01-22 21:53:00  2021-01-22   \n",
       "1     3156d05c6458a8228bed59f02075a61e  2021-01-24 14:09:00  2021-01-24   \n",
       "2     3156d05c6458a8228bed59f02075a61e  2021-01-26 21:02:00  2021-01-26   \n",
       "3     3156d05c6458a8228bed59f02075a61e  2021-01-27 17:24:00  2021-01-27   \n",
       "4     3156d05c6458a8228bed59f02075a61e  2021-01-29 15:31:00  2021-01-29   \n",
       "...                                ...                  ...         ...   \n",
       "8995  183c8d2838e8800609793f5925479f8c  2021-04-03 14:17:21  2021-04-03   \n",
       "8996  a3555aa482365082065ddbe2b60b7944  2021-04-03 14:17:44  2021-04-03   \n",
       "8997  e5070710fc47d467ebc6488eeceed19a  2021-04-03 14:24:30  2021-04-03   \n",
       "8998  35fae1e96d973ac127e8bfa7859f1964  2021-04-03 14:30:45  2021-04-03   \n",
       "8999  036d0078d76dad6ddf9e1d672ae13b02  2021-04-03 14:46:02  2021-04-03   \n",
       "\n",
       "      arrived_distance  arrived_duration  distance  duration  from_latitude  \\\n",
       "0                150.0               1.0      11.8      20.5      55.795900   \n",
       "1                570.0               1.0      17.2      26.2      55.716502   \n",
       "2                 40.0               0.0       5.8      10.9      55.716637   \n",
       "3                140.0               1.0       4.5      10.7      55.689076   \n",
       "4                150.0               1.0      15.4      25.1      55.655489   \n",
       "...                ...               ...       ...       ...            ...   \n",
       "8995               0.0               0.0      20.5      42.6      55.711662   \n",
       "8996              10.0               0.0      12.1      26.2      55.739415   \n",
       "8997              60.0               0.0       3.9      11.4      55.739262   \n",
       "8998            2650.0               6.0       2.0       6.0      55.783070   \n",
       "8999            2990.0              10.0       4.8      11.0      55.804893   \n",
       "\n",
       "      from_longitude  to_latitude  to_longitude                 mark  \\\n",
       "0          37.560300    55.716502     37.524627               Kia K5   \n",
       "1          37.524627    55.808253     37.638847      Volkswagen Polo   \n",
       "2          37.524223    55.741958     37.568172  MercedesBenz EClass   \n",
       "3          37.491088    55.716502     37.524627           Kia Optima   \n",
       "4          37.616629    55.716502     37.524627              Kia Rio   \n",
       "...              ...          ...           ...                  ...   \n",
       "8995       37.758961    55.748140     37.538721           Kia Optima   \n",
       "8996       37.649726    55.816200     37.631172           Lada Vesta   \n",
       "8997       37.633640    55.747094     37.605861             Kia Ceed   \n",
       "8998       37.578504    55.795784     37.584560              Kia Rio   \n",
       "8999       37.846828    55.810376     37.798868        Skoda Octavia   \n",
       "\n",
       "      client_rate_ride  client_rides_cnt  driver_rides_cnt  \\\n",
       "0             4.877908              16.0              39.0   \n",
       "1             4.877908              18.0             338.0   \n",
       "2             4.877908              17.0             162.0   \n",
       "3             4.877908              18.0             136.0   \n",
       "4             5.000000              20.0             194.0   \n",
       "...                ...               ...               ...   \n",
       "8995          5.000000              14.0              79.0   \n",
       "8996          4.877908              38.0             383.0   \n",
       "8997          4.877908              14.0              38.0   \n",
       "8998          4.877908              32.0             121.0   \n",
       "8999          5.000000              34.0             391.0   \n",
       "\n",
       "                                                comment  \n",
       "0                                 Больше нечего сказать  \n",
       "1                                                    Да  \n",
       "2                                 Больше нечего сказать  \n",
       "3                                 Больше нечего сказать  \n",
       "4                                 Больше нечего сказать  \n",
       "...                                                 ...  \n",
       "8995                              Больше нечего сказать  \n",
       "8996  На заднем сиденье жёлтые полосы и пятна остали...  \n",
       "8997                              Больше нечего сказать  \n",
       "8998                              Больше нечего сказать  \n",
       "8999                              Больше нечего сказать  \n",
       "\n",
       "[9000 rows x 18 columns]"
      ]
     },
     "execution_count": 6,
     "metadata": {},
     "output_type": "execute_result"
    }
   ],
   "source": [
    "X"
   ]
  },
  {
   "cell_type": "markdown",
   "metadata": {},
   "source": [
    "# Analysis"
   ]
  },
  {
   "cell_type": "code",
   "execution_count": 7,
   "metadata": {},
   "outputs": [],
   "source": [
    "dataset_joined = X.join(y)"
   ]
  },
  {
   "cell_type": "code",
   "execution_count": 8,
   "metadata": {},
   "outputs": [
    {
     "data": {
      "text/html": [
       "<div>\n",
       "<style scoped>\n",
       "    .dataframe tbody tr th:only-of-type {\n",
       "        vertical-align: middle;\n",
       "    }\n",
       "\n",
       "    .dataframe tbody tr th {\n",
       "        vertical-align: top;\n",
       "    }\n",
       "\n",
       "    .dataframe thead th {\n",
       "        text-align: right;\n",
       "    }\n",
       "</style>\n",
       "<table border=\"1\" class=\"dataframe\">\n",
       "  <thead>\n",
       "    <tr style=\"text-align: right;\">\n",
       "      <th></th>\n",
       "      <th>dttm</th>\n",
       "      <th>date</th>\n",
       "      <th>arrived_distance</th>\n",
       "      <th>arrived_duration</th>\n",
       "      <th>distance</th>\n",
       "      <th>duration</th>\n",
       "      <th>from_latitude</th>\n",
       "      <th>from_longitude</th>\n",
       "      <th>to_latitude</th>\n",
       "      <th>to_longitude</th>\n",
       "      <th>mark</th>\n",
       "      <th>client_rate_ride</th>\n",
       "      <th>client_rides_cnt</th>\n",
       "      <th>driver_rides_cnt</th>\n",
       "      <th>comment</th>\n",
       "      <th>is_aggressive</th>\n",
       "    </tr>\n",
       "  </thead>\n",
       "  <tbody>\n",
       "    <tr>\n",
       "      <th>0</th>\n",
       "      <td>2021-01-22 21:53:00</td>\n",
       "      <td>2021-01-22</td>\n",
       "      <td>150.0</td>\n",
       "      <td>1.0</td>\n",
       "      <td>11.8</td>\n",
       "      <td>20.5</td>\n",
       "      <td>55.795900</td>\n",
       "      <td>37.560300</td>\n",
       "      <td>55.716502</td>\n",
       "      <td>37.524627</td>\n",
       "      <td>Kia K5</td>\n",
       "      <td>4.877908</td>\n",
       "      <td>16.0</td>\n",
       "      <td>39.0</td>\n",
       "      <td>Больше нечего сказать</td>\n",
       "      <td>0</td>\n",
       "    </tr>\n",
       "    <tr>\n",
       "      <th>1</th>\n",
       "      <td>2021-01-24 14:09:00</td>\n",
       "      <td>2021-01-24</td>\n",
       "      <td>570.0</td>\n",
       "      <td>1.0</td>\n",
       "      <td>17.2</td>\n",
       "      <td>26.2</td>\n",
       "      <td>55.716502</td>\n",
       "      <td>37.524627</td>\n",
       "      <td>55.808253</td>\n",
       "      <td>37.638847</td>\n",
       "      <td>Volkswagen Polo</td>\n",
       "      <td>4.877908</td>\n",
       "      <td>18.0</td>\n",
       "      <td>338.0</td>\n",
       "      <td>Да</td>\n",
       "      <td>0</td>\n",
       "    </tr>\n",
       "    <tr>\n",
       "      <th>2</th>\n",
       "      <td>2021-01-26 21:02:00</td>\n",
       "      <td>2021-01-26</td>\n",
       "      <td>40.0</td>\n",
       "      <td>0.0</td>\n",
       "      <td>5.8</td>\n",
       "      <td>10.9</td>\n",
       "      <td>55.716637</td>\n",
       "      <td>37.524223</td>\n",
       "      <td>55.741958</td>\n",
       "      <td>37.568172</td>\n",
       "      <td>MercedesBenz EClass</td>\n",
       "      <td>4.877908</td>\n",
       "      <td>17.0</td>\n",
       "      <td>162.0</td>\n",
       "      <td>Больше нечего сказать</td>\n",
       "      <td>0</td>\n",
       "    </tr>\n",
       "    <tr>\n",
       "      <th>3</th>\n",
       "      <td>2021-01-27 17:24:00</td>\n",
       "      <td>2021-01-27</td>\n",
       "      <td>140.0</td>\n",
       "      <td>1.0</td>\n",
       "      <td>4.5</td>\n",
       "      <td>10.7</td>\n",
       "      <td>55.689076</td>\n",
       "      <td>37.491088</td>\n",
       "      <td>55.716502</td>\n",
       "      <td>37.524627</td>\n",
       "      <td>Kia Optima</td>\n",
       "      <td>4.877908</td>\n",
       "      <td>18.0</td>\n",
       "      <td>136.0</td>\n",
       "      <td>Больше нечего сказать</td>\n",
       "      <td>0</td>\n",
       "    </tr>\n",
       "    <tr>\n",
       "      <th>4</th>\n",
       "      <td>2021-01-29 15:31:00</td>\n",
       "      <td>2021-01-29</td>\n",
       "      <td>150.0</td>\n",
       "      <td>1.0</td>\n",
       "      <td>15.4</td>\n",
       "      <td>25.1</td>\n",
       "      <td>55.655489</td>\n",
       "      <td>37.616629</td>\n",
       "      <td>55.716502</td>\n",
       "      <td>37.524627</td>\n",
       "      <td>Kia Rio</td>\n",
       "      <td>5.000000</td>\n",
       "      <td>20.0</td>\n",
       "      <td>194.0</td>\n",
       "      <td>Больше нечего сказать</td>\n",
       "      <td>0</td>\n",
       "    </tr>\n",
       "    <tr>\n",
       "      <th>...</th>\n",
       "      <td>...</td>\n",
       "      <td>...</td>\n",
       "      <td>...</td>\n",
       "      <td>...</td>\n",
       "      <td>...</td>\n",
       "      <td>...</td>\n",
       "      <td>...</td>\n",
       "      <td>...</td>\n",
       "      <td>...</td>\n",
       "      <td>...</td>\n",
       "      <td>...</td>\n",
       "      <td>...</td>\n",
       "      <td>...</td>\n",
       "      <td>...</td>\n",
       "      <td>...</td>\n",
       "      <td>...</td>\n",
       "    </tr>\n",
       "    <tr>\n",
       "      <th>8995</th>\n",
       "      <td>2021-04-03 14:17:21</td>\n",
       "      <td>2021-04-03</td>\n",
       "      <td>0.0</td>\n",
       "      <td>0.0</td>\n",
       "      <td>20.5</td>\n",
       "      <td>42.6</td>\n",
       "      <td>55.711662</td>\n",
       "      <td>37.758961</td>\n",
       "      <td>55.748140</td>\n",
       "      <td>37.538721</td>\n",
       "      <td>Kia Optima</td>\n",
       "      <td>5.000000</td>\n",
       "      <td>14.0</td>\n",
       "      <td>79.0</td>\n",
       "      <td>Больше нечего сказать</td>\n",
       "      <td>0</td>\n",
       "    </tr>\n",
       "    <tr>\n",
       "      <th>8996</th>\n",
       "      <td>2021-04-03 14:17:44</td>\n",
       "      <td>2021-04-03</td>\n",
       "      <td>10.0</td>\n",
       "      <td>0.0</td>\n",
       "      <td>12.1</td>\n",
       "      <td>26.2</td>\n",
       "      <td>55.739415</td>\n",
       "      <td>37.649726</td>\n",
       "      <td>55.816200</td>\n",
       "      <td>37.631172</td>\n",
       "      <td>Lada Vesta</td>\n",
       "      <td>4.877908</td>\n",
       "      <td>38.0</td>\n",
       "      <td>383.0</td>\n",
       "      <td>На заднем сиденье жёлтые полосы и пятна остали...</td>\n",
       "      <td>0</td>\n",
       "    </tr>\n",
       "    <tr>\n",
       "      <th>8997</th>\n",
       "      <td>2021-04-03 14:24:30</td>\n",
       "      <td>2021-04-03</td>\n",
       "      <td>60.0</td>\n",
       "      <td>0.0</td>\n",
       "      <td>3.9</td>\n",
       "      <td>11.4</td>\n",
       "      <td>55.739262</td>\n",
       "      <td>37.633640</td>\n",
       "      <td>55.747094</td>\n",
       "      <td>37.605861</td>\n",
       "      <td>Kia Ceed</td>\n",
       "      <td>4.877908</td>\n",
       "      <td>14.0</td>\n",
       "      <td>38.0</td>\n",
       "      <td>Больше нечего сказать</td>\n",
       "      <td>0</td>\n",
       "    </tr>\n",
       "    <tr>\n",
       "      <th>8998</th>\n",
       "      <td>2021-04-03 14:30:45</td>\n",
       "      <td>2021-04-03</td>\n",
       "      <td>2650.0</td>\n",
       "      <td>6.0</td>\n",
       "      <td>2.0</td>\n",
       "      <td>6.0</td>\n",
       "      <td>55.783070</td>\n",
       "      <td>37.578504</td>\n",
       "      <td>55.795784</td>\n",
       "      <td>37.584560</td>\n",
       "      <td>Kia Rio</td>\n",
       "      <td>4.877908</td>\n",
       "      <td>32.0</td>\n",
       "      <td>121.0</td>\n",
       "      <td>Больше нечего сказать</td>\n",
       "      <td>0</td>\n",
       "    </tr>\n",
       "    <tr>\n",
       "      <th>8999</th>\n",
       "      <td>2021-04-03 14:46:02</td>\n",
       "      <td>2021-04-03</td>\n",
       "      <td>2990.0</td>\n",
       "      <td>10.0</td>\n",
       "      <td>4.8</td>\n",
       "      <td>11.0</td>\n",
       "      <td>55.804893</td>\n",
       "      <td>37.846828</td>\n",
       "      <td>55.810376</td>\n",
       "      <td>37.798868</td>\n",
       "      <td>Skoda Octavia</td>\n",
       "      <td>5.000000</td>\n",
       "      <td>34.0</td>\n",
       "      <td>391.0</td>\n",
       "      <td>Больше нечего сказать</td>\n",
       "      <td>0</td>\n",
       "    </tr>\n",
       "  </tbody>\n",
       "</table>\n",
       "<p>9000 rows × 16 columns</p>\n",
       "</div>"
      ],
      "text/plain": [
       "                     dttm        date  arrived_distance  arrived_duration  \\\n",
       "0     2021-01-22 21:53:00  2021-01-22             150.0               1.0   \n",
       "1     2021-01-24 14:09:00  2021-01-24             570.0               1.0   \n",
       "2     2021-01-26 21:02:00  2021-01-26              40.0               0.0   \n",
       "3     2021-01-27 17:24:00  2021-01-27             140.0               1.0   \n",
       "4     2021-01-29 15:31:00  2021-01-29             150.0               1.0   \n",
       "...                   ...         ...               ...               ...   \n",
       "8995  2021-04-03 14:17:21  2021-04-03               0.0               0.0   \n",
       "8996  2021-04-03 14:17:44  2021-04-03              10.0               0.0   \n",
       "8997  2021-04-03 14:24:30  2021-04-03              60.0               0.0   \n",
       "8998  2021-04-03 14:30:45  2021-04-03            2650.0               6.0   \n",
       "8999  2021-04-03 14:46:02  2021-04-03            2990.0              10.0   \n",
       "\n",
       "      distance  duration  from_latitude  from_longitude  to_latitude  \\\n",
       "0         11.8      20.5      55.795900       37.560300    55.716502   \n",
       "1         17.2      26.2      55.716502       37.524627    55.808253   \n",
       "2          5.8      10.9      55.716637       37.524223    55.741958   \n",
       "3          4.5      10.7      55.689076       37.491088    55.716502   \n",
       "4         15.4      25.1      55.655489       37.616629    55.716502   \n",
       "...        ...       ...            ...             ...          ...   \n",
       "8995      20.5      42.6      55.711662       37.758961    55.748140   \n",
       "8996      12.1      26.2      55.739415       37.649726    55.816200   \n",
       "8997       3.9      11.4      55.739262       37.633640    55.747094   \n",
       "8998       2.0       6.0      55.783070       37.578504    55.795784   \n",
       "8999       4.8      11.0      55.804893       37.846828    55.810376   \n",
       "\n",
       "      to_longitude                 mark  client_rate_ride  client_rides_cnt  \\\n",
       "0        37.524627               Kia K5          4.877908              16.0   \n",
       "1        37.638847      Volkswagen Polo          4.877908              18.0   \n",
       "2        37.568172  MercedesBenz EClass          4.877908              17.0   \n",
       "3        37.524627           Kia Optima          4.877908              18.0   \n",
       "4        37.524627              Kia Rio          5.000000              20.0   \n",
       "...            ...                  ...               ...               ...   \n",
       "8995     37.538721           Kia Optima          5.000000              14.0   \n",
       "8996     37.631172           Lada Vesta          4.877908              38.0   \n",
       "8997     37.605861             Kia Ceed          4.877908              14.0   \n",
       "8998     37.584560              Kia Rio          4.877908              32.0   \n",
       "8999     37.798868        Skoda Octavia          5.000000              34.0   \n",
       "\n",
       "      driver_rides_cnt                                            comment  \\\n",
       "0                 39.0                              Больше нечего сказать   \n",
       "1                338.0                                                 Да   \n",
       "2                162.0                              Больше нечего сказать   \n",
       "3                136.0                              Больше нечего сказать   \n",
       "4                194.0                              Больше нечего сказать   \n",
       "...                ...                                                ...   \n",
       "8995              79.0                              Больше нечего сказать   \n",
       "8996             383.0  На заднем сиденье жёлтые полосы и пятна остали...   \n",
       "8997              38.0                              Больше нечего сказать   \n",
       "8998             121.0                              Больше нечего сказать   \n",
       "8999             391.0                              Больше нечего сказать   \n",
       "\n",
       "      is_aggressive  \n",
       "0                 0  \n",
       "1                 0  \n",
       "2                 0  \n",
       "3                 0  \n",
       "4                 0  \n",
       "...             ...  \n",
       "8995              0  \n",
       "8996              0  \n",
       "8997              0  \n",
       "8998              0  \n",
       "8999              0  \n",
       "\n",
       "[9000 rows x 16 columns]"
      ]
     },
     "execution_count": 8,
     "metadata": {},
     "output_type": "execute_result"
    }
   ],
   "source": [
    "dataset_joined[dataset_joined.columns[3: ]]"
   ]
  },
  {
   "cell_type": "markdown",
   "metadata": {},
   "source": [
    "### Comments"
   ]
  },
  {
   "cell_type": "markdown",
   "metadata": {},
   "source": [
    "Как много комментариев было оставлено в случае агрессивной поездки?"
   ]
  },
  {
   "cell_type": "code",
   "execution_count": 9,
   "metadata": {},
   "outputs": [
    {
     "name": "stdout",
     "output_type": "stream",
     "text": [
      "43.28703703703704%\n"
     ]
    }
   ],
   "source": [
    "print(\"{}%\".format((1 - sum(dataset_joined[dataset_joined.is_aggressive == True].comment == 'Больше нечего сказать') / \\\n",
    "len(dataset_joined[dataset_joined.is_aggressive == True])) * 100))"
   ]
  },
  {
   "cell_type": "markdown",
   "metadata": {},
   "source": [
    "А в случае неагрессивной?"
   ]
  },
  {
   "cell_type": "code",
   "execution_count": 10,
   "metadata": {},
   "outputs": [
    {
     "name": "stdout",
     "output_type": "stream",
     "text": [
      "13.935574229691872%\n"
     ]
    }
   ],
   "source": [
    "print(\"{}%\".format((1 - sum(dataset_joined[dataset_joined.is_aggressive == False].comment == 'Больше нечего сказать') / \\\n",
    "len(dataset_joined[dataset_joined.is_aggressive == False])) * 100))"
   ]
  },
  {
   "cell_type": "code",
   "execution_count": 11,
   "metadata": {},
   "outputs": [],
   "source": [
    "comment_phrases = list(dataset_joined.comment.value_counts().index[: 10])"
   ]
  },
  {
   "cell_type": "code",
   "execution_count": 12,
   "metadata": {},
   "outputs": [
    {
     "data": {
      "text/plain": [
       "['Больше нечего сказать',\n",
       " 'Да',\n",
       " 'Все хорошо',\n",
       " 'Все ок',\n",
       " 'Нет',\n",
       " 'Отличный водитель',\n",
       " 'Хороший водитель',\n",
       " 'Отличный водитель!',\n",
       " 'Все отлично',\n",
       " 'Ок']"
      ]
     },
     "execution_count": 12,
     "metadata": {},
     "output_type": "execute_result"
    }
   ],
   "source": [
    "comment_phrases"
   ]
  },
  {
   "cell_type": "code",
   "execution_count": 269,
   "metadata": {},
   "outputs": [],
   "source": [
    "dataset_joined['is_comment'] = (~np.isin(dataset_joined.comment, comment_phrases)).astype(int)"
   ]
  },
  {
   "cell_type": "code",
   "execution_count": 275,
   "metadata": {},
   "outputs": [
    {
     "data": {
      "text/plain": [
       "0.03166962249809982"
      ]
     },
     "execution_count": 275,
     "metadata": {},
     "output_type": "execute_result"
    }
   ],
   "source": [
    "sum(dataset_joined[dataset_joined.is_comment == 0].is_aggressive == 1) \\\n",
    "/ len(dataset_joined[dataset_joined.is_comment == 0])"
   ]
  },
  {
   "cell_type": "code",
   "execution_count": 314,
   "metadata": {},
   "outputs": [],
   "source": [
    "agg_nocomment = dataset_joined[(dataset_joined.is_comment == 0) & (dataset_joined.is_aggressive == 1)]\n",
    "noagg_nocomment = dataset_joined[(dataset_joined.is_comment == 0) & (dataset_joined.is_aggressive == 0)]"
   ]
  },
  {
   "cell_type": "code",
   "execution_count": 315,
   "metadata": {},
   "outputs": [
    {
     "data": {
      "text/html": [
       "<div>\n",
       "<style scoped>\n",
       "    .dataframe tbody tr th:only-of-type {\n",
       "        vertical-align: middle;\n",
       "    }\n",
       "\n",
       "    .dataframe tbody tr th {\n",
       "        vertical-align: top;\n",
       "    }\n",
       "\n",
       "    .dataframe thead th {\n",
       "        text-align: right;\n",
       "    }\n",
       "</style>\n",
       "<table border=\"1\" class=\"dataframe\">\n",
       "  <thead>\n",
       "    <tr style=\"text-align: right;\">\n",
       "      <th></th>\n",
       "      <th>order_id</th>\n",
       "      <th>driver_id</th>\n",
       "      <th>client_id</th>\n",
       "      <th>dttm</th>\n",
       "      <th>date</th>\n",
       "      <th>arrived_distance</th>\n",
       "      <th>arrived_duration</th>\n",
       "      <th>distance</th>\n",
       "      <th>duration</th>\n",
       "      <th>from_latitude</th>\n",
       "      <th>...</th>\n",
       "      <th>driver_rides_cnt</th>\n",
       "      <th>comment</th>\n",
       "      <th>is_aggressive</th>\n",
       "      <th>is_comment</th>\n",
       "      <th>count_words</th>\n",
       "      <th>speed</th>\n",
       "      <th>hour</th>\n",
       "      <th>month</th>\n",
       "      <th>weekday</th>\n",
       "      <th>holiday</th>\n",
       "    </tr>\n",
       "  </thead>\n",
       "  <tbody>\n",
       "    <tr>\n",
       "      <th>9</th>\n",
       "      <td>c916745529bbcfbf0e42dcac65fa31dc</td>\n",
       "      <td>3758794edf08cab719834f2c9f683a27</td>\n",
       "      <td>2e70b3ef7b2d2295f823154bda43c815</td>\n",
       "      <td>2021-01-31 19:57:00</td>\n",
       "      <td>2021-01-31</td>\n",
       "      <td>300.0</td>\n",
       "      <td>1.0</td>\n",
       "      <td>29.7</td>\n",
       "      <td>38.4</td>\n",
       "      <td>55.729264</td>\n",
       "      <td>...</td>\n",
       "      <td>24.0</td>\n",
       "      <td>Больше нечего сказать</td>\n",
       "      <td>1</td>\n",
       "      <td>0</td>\n",
       "      <td>NaN</td>\n",
       "      <td>46.406250</td>\n",
       "      <td>19</td>\n",
       "      <td>1</td>\n",
       "      <td>6</td>\n",
       "      <td>1</td>\n",
       "    </tr>\n",
       "    <tr>\n",
       "      <th>34</th>\n",
       "      <td>8d277afb3f1ff63a1d13612c4a1ae913</td>\n",
       "      <td>0bb45584b071ef03eb3871728966af21</td>\n",
       "      <td>3f746ef490bffe5f4bd482bfddaf5edb</td>\n",
       "      <td>2021-01-28 22:51:00</td>\n",
       "      <td>2021-01-28</td>\n",
       "      <td>10.0</td>\n",
       "      <td>0.0</td>\n",
       "      <td>8.7</td>\n",
       "      <td>11.2</td>\n",
       "      <td>55.779235</td>\n",
       "      <td>...</td>\n",
       "      <td>58.0</td>\n",
       "      <td>Больше нечего сказать</td>\n",
       "      <td>1</td>\n",
       "      <td>0</td>\n",
       "      <td>NaN</td>\n",
       "      <td>46.607143</td>\n",
       "      <td>22</td>\n",
       "      <td>1</td>\n",
       "      <td>3</td>\n",
       "      <td>0</td>\n",
       "    </tr>\n",
       "    <tr>\n",
       "      <th>120</th>\n",
       "      <td>cb56f52331169df654403ae31b3eeb00</td>\n",
       "      <td>93830afe1fcad5ad8ed35134aba3c5e0</td>\n",
       "      <td>61af03f0c9bb949fe8cfdf2f98f3a73b</td>\n",
       "      <td>2021-01-23 17:18:00</td>\n",
       "      <td>2021-01-23</td>\n",
       "      <td>1770.0</td>\n",
       "      <td>8.0</td>\n",
       "      <td>5.8</td>\n",
       "      <td>11.7</td>\n",
       "      <td>55.723270</td>\n",
       "      <td>...</td>\n",
       "      <td>91.0</td>\n",
       "      <td>Больше нечего сказать</td>\n",
       "      <td>1</td>\n",
       "      <td>0</td>\n",
       "      <td>NaN</td>\n",
       "      <td>29.743590</td>\n",
       "      <td>17</td>\n",
       "      <td>1</td>\n",
       "      <td>5</td>\n",
       "      <td>1</td>\n",
       "    </tr>\n",
       "    <tr>\n",
       "      <th>132</th>\n",
       "      <td>58c491c971d4c35f422697506a9e5dd1</td>\n",
       "      <td>efba6a1bcd4a63875df6da1e3db2d4af</td>\n",
       "      <td>ed793f957eca35104ad94b817a24d2a6</td>\n",
       "      <td>2021-01-28 17:24:00</td>\n",
       "      <td>2021-01-28</td>\n",
       "      <td>1350.0</td>\n",
       "      <td>4.0</td>\n",
       "      <td>1.5</td>\n",
       "      <td>5.9</td>\n",
       "      <td>55.791068</td>\n",
       "      <td>...</td>\n",
       "      <td>217.0</td>\n",
       "      <td>Больше нечего сказать</td>\n",
       "      <td>1</td>\n",
       "      <td>0</td>\n",
       "      <td>NaN</td>\n",
       "      <td>15.254237</td>\n",
       "      <td>17</td>\n",
       "      <td>1</td>\n",
       "      <td>3</td>\n",
       "      <td>0</td>\n",
       "    </tr>\n",
       "    <tr>\n",
       "      <th>151</th>\n",
       "      <td>a049f3c52923219ddd8506075f1b5e1c</td>\n",
       "      <td>b16a4984199db37e9a6d363f192dd4c2</td>\n",
       "      <td>89ceff545ce75161851884c0370e42c0</td>\n",
       "      <td>2021-01-22 11:29:00</td>\n",
       "      <td>2021-01-22</td>\n",
       "      <td>10.0</td>\n",
       "      <td>0.0</td>\n",
       "      <td>8.6</td>\n",
       "      <td>24.7</td>\n",
       "      <td>55.770080</td>\n",
       "      <td>...</td>\n",
       "      <td>512.0</td>\n",
       "      <td>Больше нечего сказать</td>\n",
       "      <td>1</td>\n",
       "      <td>0</td>\n",
       "      <td>NaN</td>\n",
       "      <td>20.890688</td>\n",
       "      <td>11</td>\n",
       "      <td>1</td>\n",
       "      <td>4</td>\n",
       "      <td>0</td>\n",
       "    </tr>\n",
       "    <tr>\n",
       "      <th>...</th>\n",
       "      <td>...</td>\n",
       "      <td>...</td>\n",
       "      <td>...</td>\n",
       "      <td>...</td>\n",
       "      <td>...</td>\n",
       "      <td>...</td>\n",
       "      <td>...</td>\n",
       "      <td>...</td>\n",
       "      <td>...</td>\n",
       "      <td>...</td>\n",
       "      <td>...</td>\n",
       "      <td>...</td>\n",
       "      <td>...</td>\n",
       "      <td>...</td>\n",
       "      <td>...</td>\n",
       "      <td>...</td>\n",
       "      <td>...</td>\n",
       "      <td>...</td>\n",
       "      <td>...</td>\n",
       "      <td>...</td>\n",
       "      <td>...</td>\n",
       "    </tr>\n",
       "    <tr>\n",
       "      <th>8920</th>\n",
       "      <td>40d78f9967e04cbe3b7b9cf5f83e0971</td>\n",
       "      <td>297a421a92fcc51b5b866d8dd395ef37</td>\n",
       "      <td>8adb3e340425bcd03dc8f60eceeaded1</td>\n",
       "      <td>2021-04-03 00:02:51</td>\n",
       "      <td>2021-04-03</td>\n",
       "      <td>0.0</td>\n",
       "      <td>0.0</td>\n",
       "      <td>13.1</td>\n",
       "      <td>30.6</td>\n",
       "      <td>55.681759</td>\n",
       "      <td>...</td>\n",
       "      <td>32.0</td>\n",
       "      <td>Больше нечего сказать</td>\n",
       "      <td>1</td>\n",
       "      <td>0</td>\n",
       "      <td>NaN</td>\n",
       "      <td>25.686275</td>\n",
       "      <td>0</td>\n",
       "      <td>4</td>\n",
       "      <td>5</td>\n",
       "      <td>1</td>\n",
       "    </tr>\n",
       "    <tr>\n",
       "      <th>8953</th>\n",
       "      <td>2cc1ea3b4b115c49b5fae8525e4ca8f6</td>\n",
       "      <td>f51ccc2f00abefd10ab4fad41b3a9da8</td>\n",
       "      <td>c6106cac819a4fdcf6a915de5ddcf7ac</td>\n",
       "      <td>2021-04-03 07:53:26</td>\n",
       "      <td>2021-04-03</td>\n",
       "      <td>10.0</td>\n",
       "      <td>0.0</td>\n",
       "      <td>18.3</td>\n",
       "      <td>26.9</td>\n",
       "      <td>55.705847</td>\n",
       "      <td>...</td>\n",
       "      <td>145.0</td>\n",
       "      <td>Больше нечего сказать</td>\n",
       "      <td>1</td>\n",
       "      <td>0</td>\n",
       "      <td>NaN</td>\n",
       "      <td>40.817844</td>\n",
       "      <td>7</td>\n",
       "      <td>4</td>\n",
       "      <td>5</td>\n",
       "      <td>1</td>\n",
       "    </tr>\n",
       "    <tr>\n",
       "      <th>8970</th>\n",
       "      <td>3cc808f740118da4c235cb6952aea0b2</td>\n",
       "      <td>9f6a416e76491d5573b505004a9fa8a4</td>\n",
       "      <td>2a41e0a45a19a892e960d6c4bef5c27b</td>\n",
       "      <td>2021-04-03 11:03:38</td>\n",
       "      <td>2021-04-03</td>\n",
       "      <td>10.0</td>\n",
       "      <td>0.0</td>\n",
       "      <td>4.9</td>\n",
       "      <td>13.6</td>\n",
       "      <td>55.781719</td>\n",
       "      <td>...</td>\n",
       "      <td>170.0</td>\n",
       "      <td>Больше нечего сказать</td>\n",
       "      <td>1</td>\n",
       "      <td>0</td>\n",
       "      <td>NaN</td>\n",
       "      <td>21.617647</td>\n",
       "      <td>11</td>\n",
       "      <td>4</td>\n",
       "      <td>5</td>\n",
       "      <td>1</td>\n",
       "    </tr>\n",
       "    <tr>\n",
       "      <th>8974</th>\n",
       "      <td>8c064c6b80c0c1c83b0006b93e72e5cd</td>\n",
       "      <td>99affd7194f6f204d57a93c8d03f1cee</td>\n",
       "      <td>cd3b7ec5e6c6c0a8581ecd53d84a8b89</td>\n",
       "      <td>2021-04-03 11:42:52</td>\n",
       "      <td>2021-04-03</td>\n",
       "      <td>120.0</td>\n",
       "      <td>0.0</td>\n",
       "      <td>13.1</td>\n",
       "      <td>29.4</td>\n",
       "      <td>55.806932</td>\n",
       "      <td>...</td>\n",
       "      <td>42.0</td>\n",
       "      <td>Больше нечего сказать</td>\n",
       "      <td>1</td>\n",
       "      <td>0</td>\n",
       "      <td>NaN</td>\n",
       "      <td>26.734694</td>\n",
       "      <td>11</td>\n",
       "      <td>4</td>\n",
       "      <td>5</td>\n",
       "      <td>1</td>\n",
       "    </tr>\n",
       "    <tr>\n",
       "      <th>8986</th>\n",
       "      <td>04d310994e2b9060794c586310712874</td>\n",
       "      <td>dac86361078a4cd58d6ca9a61b204972</td>\n",
       "      <td>aef5bfc060bd73fdaa3d6f1ef29c43e0</td>\n",
       "      <td>2021-04-03 13:32:08</td>\n",
       "      <td>2021-04-03</td>\n",
       "      <td>20.0</td>\n",
       "      <td>0.0</td>\n",
       "      <td>4.1</td>\n",
       "      <td>10.9</td>\n",
       "      <td>55.876040</td>\n",
       "      <td>...</td>\n",
       "      <td>18.0</td>\n",
       "      <td>Больше нечего сказать</td>\n",
       "      <td>1</td>\n",
       "      <td>0</td>\n",
       "      <td>NaN</td>\n",
       "      <td>22.568807</td>\n",
       "      <td>13</td>\n",
       "      <td>4</td>\n",
       "      <td>5</td>\n",
       "      <td>1</td>\n",
       "    </tr>\n",
       "  </tbody>\n",
       "</table>\n",
       "<p>250 rows × 26 columns</p>\n",
       "</div>"
      ],
      "text/plain": [
       "                              order_id                         driver_id  \\\n",
       "9     c916745529bbcfbf0e42dcac65fa31dc  3758794edf08cab719834f2c9f683a27   \n",
       "34    8d277afb3f1ff63a1d13612c4a1ae913  0bb45584b071ef03eb3871728966af21   \n",
       "120   cb56f52331169df654403ae31b3eeb00  93830afe1fcad5ad8ed35134aba3c5e0   \n",
       "132   58c491c971d4c35f422697506a9e5dd1  efba6a1bcd4a63875df6da1e3db2d4af   \n",
       "151   a049f3c52923219ddd8506075f1b5e1c  b16a4984199db37e9a6d363f192dd4c2   \n",
       "...                                ...                               ...   \n",
       "8920  40d78f9967e04cbe3b7b9cf5f83e0971  297a421a92fcc51b5b866d8dd395ef37   \n",
       "8953  2cc1ea3b4b115c49b5fae8525e4ca8f6  f51ccc2f00abefd10ab4fad41b3a9da8   \n",
       "8970  3cc808f740118da4c235cb6952aea0b2  9f6a416e76491d5573b505004a9fa8a4   \n",
       "8974  8c064c6b80c0c1c83b0006b93e72e5cd  99affd7194f6f204d57a93c8d03f1cee   \n",
       "8986  04d310994e2b9060794c586310712874  dac86361078a4cd58d6ca9a61b204972   \n",
       "\n",
       "                             client_id                dttm        date  \\\n",
       "9     2e70b3ef7b2d2295f823154bda43c815 2021-01-31 19:57:00  2021-01-31   \n",
       "34    3f746ef490bffe5f4bd482bfddaf5edb 2021-01-28 22:51:00  2021-01-28   \n",
       "120   61af03f0c9bb949fe8cfdf2f98f3a73b 2021-01-23 17:18:00  2021-01-23   \n",
       "132   ed793f957eca35104ad94b817a24d2a6 2021-01-28 17:24:00  2021-01-28   \n",
       "151   89ceff545ce75161851884c0370e42c0 2021-01-22 11:29:00  2021-01-22   \n",
       "...                                ...                 ...         ...   \n",
       "8920  8adb3e340425bcd03dc8f60eceeaded1 2021-04-03 00:02:51  2021-04-03   \n",
       "8953  c6106cac819a4fdcf6a915de5ddcf7ac 2021-04-03 07:53:26  2021-04-03   \n",
       "8970  2a41e0a45a19a892e960d6c4bef5c27b 2021-04-03 11:03:38  2021-04-03   \n",
       "8974  cd3b7ec5e6c6c0a8581ecd53d84a8b89 2021-04-03 11:42:52  2021-04-03   \n",
       "8986  aef5bfc060bd73fdaa3d6f1ef29c43e0 2021-04-03 13:32:08  2021-04-03   \n",
       "\n",
       "      arrived_distance  arrived_duration  distance  duration  from_latitude  \\\n",
       "9                300.0               1.0      29.7      38.4      55.729264   \n",
       "34                10.0               0.0       8.7      11.2      55.779235   \n",
       "120             1770.0               8.0       5.8      11.7      55.723270   \n",
       "132             1350.0               4.0       1.5       5.9      55.791068   \n",
       "151               10.0               0.0       8.6      24.7      55.770080   \n",
       "...                ...               ...       ...       ...            ...   \n",
       "8920               0.0               0.0      13.1      30.6      55.681759   \n",
       "8953              10.0               0.0      18.3      26.9      55.705847   \n",
       "8970              10.0               0.0       4.9      13.6      55.781719   \n",
       "8974             120.0               0.0      13.1      29.4      55.806932   \n",
       "8986              20.0               0.0       4.1      10.9      55.876040   \n",
       "\n",
       "      ...  driver_rides_cnt                comment  is_aggressive is_comment  \\\n",
       "9     ...              24.0  Больше нечего сказать              1          0   \n",
       "34    ...              58.0  Больше нечего сказать              1          0   \n",
       "120   ...              91.0  Больше нечего сказать              1          0   \n",
       "132   ...             217.0  Больше нечего сказать              1          0   \n",
       "151   ...             512.0  Больше нечего сказать              1          0   \n",
       "...   ...               ...                    ...            ...        ...   \n",
       "8920  ...              32.0  Больше нечего сказать              1          0   \n",
       "8953  ...             145.0  Больше нечего сказать              1          0   \n",
       "8970  ...             170.0  Больше нечего сказать              1          0   \n",
       "8974  ...              42.0  Больше нечего сказать              1          0   \n",
       "8986  ...              18.0  Больше нечего сказать              1          0   \n",
       "\n",
       "      count_words      speed  hour month  weekday  holiday  \n",
       "9             NaN  46.406250    19     1        6        1  \n",
       "34            NaN  46.607143    22     1        3        0  \n",
       "120           NaN  29.743590    17     1        5        1  \n",
       "132           NaN  15.254237    17     1        3        0  \n",
       "151           NaN  20.890688    11     1        4        0  \n",
       "...           ...        ...   ...   ...      ...      ...  \n",
       "8920          NaN  25.686275     0     4        5        1  \n",
       "8953          NaN  40.817844     7     4        5        1  \n",
       "8970          NaN  21.617647    11     4        5        1  \n",
       "8974          NaN  26.734694    11     4        5        1  \n",
       "8986          NaN  22.568807    13     4        5        1  \n",
       "\n",
       "[250 rows x 26 columns]"
      ]
     },
     "execution_count": 315,
     "metadata": {},
     "output_type": "execute_result"
    }
   ],
   "source": [
    "agg_nocomment"
   ]
  },
  {
   "cell_type": "code",
   "execution_count": 316,
   "metadata": {},
   "outputs": [
    {
     "data": {
      "text/plain": [
       "(0.056, 0.07679225536368393)"
      ]
     },
     "execution_count": 316,
     "metadata": {},
     "output_type": "execute_result"
    }
   ],
   "source": [
    "sum(agg_nocomment.hour <= 5) / len(agg_nocomment.hour), sum(noagg_nocomment.hour <= 5) / len(noagg_nocomment.hour)"
   ]
  },
  {
   "cell_type": "code",
   "execution_count": 317,
   "metadata": {},
   "outputs": [
    {
     "data": {
      "text/plain": [
       "(0.04, 0.041339612768184195)"
      ]
     },
     "execution_count": 317,
     "metadata": {},
     "output_type": "execute_result"
    }
   ],
   "source": [
    "sum(agg_nocomment.hour > 22) / len(agg_nocomment.hour), sum(noagg_nocomment.hour > 22) / len(noagg_nocomment.hour)"
   ]
  },
  {
   "cell_type": "code",
   "execution_count": 318,
   "metadata": {},
   "outputs": [
    {
     "data": {
      "text/plain": [
       "(0    43\n",
       " 4    41\n",
       " 1    39\n",
       " 5    38\n",
       " 3    35\n",
       " 2    29\n",
       " 6    25\n",
       " Name: weekday, dtype: int64,\n",
       " 4    1407\n",
       " 5    1168\n",
       " 3    1110\n",
       " 2    1054\n",
       " 1    1012\n",
       " 0    1009\n",
       " 6     884\n",
       " Name: weekday, dtype: int64)"
      ]
     },
     "execution_count": 318,
     "metadata": {},
     "output_type": "execute_result"
    }
   ],
   "source": [
    "agg_nocomment.weekday.value_counts(), noagg_nocomment.weekday.value_counts()"
   ]
  },
  {
   "cell_type": "code",
   "execution_count": 319,
   "metadata": {},
   "outputs": [
    {
     "data": {
      "text/plain": [
       "(0    187\n",
       " 1     63\n",
       " Name: holiday, dtype: int64,\n",
       " 0    5592\n",
       " 1    2052\n",
       " Name: holiday, dtype: int64)"
      ]
     },
     "execution_count": 319,
     "metadata": {},
     "output_type": "execute_result"
    }
   ],
   "source": [
    "agg_nocomment.holiday.value_counts(), noagg_nocomment.holiday.value_counts()"
   ]
  },
  {
   "cell_type": "code",
   "execution_count": 320,
   "metadata": {},
   "outputs": [
    {
     "data": {
      "text/plain": [
       "(1.192, 1.0129513343799057)"
      ]
     },
     "execution_count": 320,
     "metadata": {},
     "output_type": "execute_result"
    }
   ],
   "source": [
    "agg_nocomment.arrived_duration.mean(), noagg_nocomment.arrived_duration.mean()"
   ]
  },
  {
   "cell_type": "code",
   "execution_count": 322,
   "metadata": {},
   "outputs": [
    {
     "data": {
      "text/plain": [
       "(24.664000000000005, 21.950601779173184)"
      ]
     },
     "execution_count": 322,
     "metadata": {},
     "output_type": "execute_result"
    }
   ],
   "source": [
    "agg_nocomment.duration.mean(), noagg_nocomment.duration.mean()"
   ]
  },
  {
   "cell_type": "code",
   "execution_count": 327,
   "metadata": {},
   "outputs": [
    {
     "data": {
      "text/plain": [
       "(4.763558488698235, 4.888538822684505)"
      ]
     },
     "execution_count": 327,
     "metadata": {},
     "output_type": "execute_result"
    }
   ],
   "source": [
    "agg_nocomment.client_rate_ride.mean(), noagg_nocomment.client_rate_ride.mean()"
   ]
  },
  {
   "cell_type": "markdown",
   "metadata": {},
   "source": [
    "Как много агрессивных поездок среди содержащих комментарий?"
   ]
  },
  {
   "cell_type": "code",
   "execution_count": 14,
   "metadata": {},
   "outputs": [
    {
     "name": "stdout",
     "output_type": "stream",
     "text": [
      "17.13747645951036%\n"
     ]
    }
   ],
   "source": [
    "print(\"{}%\".format(sum(dataset_joined[(dataset_joined.is_comment == True)].is_aggressive == True) \\\n",
    "                   / len(dataset_joined[(dataset_joined.is_comment == True)]) * 100))"
   ]
  },
  {
   "cell_type": "code",
   "execution_count": 15,
   "metadata": {},
   "outputs": [
    {
     "data": {
      "text/plain": [
       "'Очень вежливый'"
      ]
     },
     "execution_count": 15,
     "metadata": {},
     "output_type": "execute_result"
    }
   ],
   "source": [
    "(dataset_joined[(dataset_joined.is_comment == 1) & (dataset_joined.is_aggressive == 1)].comment).iloc[8]"
   ]
  },
  {
   "cell_type": "code",
   "execution_count": 16,
   "metadata": {},
   "outputs": [],
   "source": [
    "def count_words(x):\n",
    "    return len(x.split(\" \"))\n",
    "\n",
    "dataset_joined[\"count_words\"] = dataset_joined[(dataset_joined.is_comment == True)].comment.apply(lambda x: count_words(x))"
   ]
  },
  {
   "cell_type": "code",
   "execution_count": 17,
   "metadata": {},
   "outputs": [
    {
     "data": {
      "text/plain": [
       "<matplotlib.axes._subplots.AxesSubplot at 0x7f2bf2b0e8e0>"
      ]
     },
     "execution_count": 17,
     "metadata": {},
     "output_type": "execute_result"
    },
    {
     "data": {
      "image/png": "[encoded data removed]",
      "text/plain": [
       "<Figure size 432x288 with 1 Axes>"
      ]
     },
     "metadata": {
      "needs_background": "light"
     },
     "output_type": "display_data"
    }
   ],
   "source": [
    "dataset_joined[(dataset_joined[\"count_words\"] > 2) & (dataset_joined[\"count_words\"] < 25)].count_words.hist()"
   ]
  },
  {
   "cell_type": "markdown",
   "metadata": {},
   "source": [
    "#### Normal/aggressive words"
   ]
  },
  {
   "cell_type": "code",
   "execution_count": 18,
   "metadata": {},
   "outputs": [],
   "source": [
    "aggressive_comments = dataset_joined[(dataset_joined['is_comment'] == True) & (dataset_joined.is_aggressive == True)].comment.values\n",
    "normal_comments = dataset_joined[(dataset_joined['is_comment'] == True) & (dataset_joined.is_aggressive == False)].comment.values"
   ]
  },
  {
   "cell_type": "code",
   "execution_count": 19,
   "metadata": {},
   "outputs": [],
   "source": [
    "expection_words = ['на', 'по', 'с', 'в', 'что', 'и', 'а']"
   ]
  },
  {
   "cell_type": "code",
   "execution_count": 20,
   "metadata": {},
   "outputs": [],
   "source": [
    "from collections import Counter\n",
    "\n",
    "counter = {}\n",
    "\n",
    "for sentence in normal_comments:\n",
    "    for word in sentence.split(\" \"):\n",
    "        word = word.lower().replace(',', '').replace('.', '')\n",
    "        if (word in expection_words): continue\n",
    "        if (word in counter.keys()):\n",
    "            counter[word][0] += 1\n",
    "        else: counter[word] = [1, 0]\n",
    "\n",
    "for sentence in aggressive_comments:\n",
    "    for word in sentence.split(\" \"):\n",
    "        word = word.lower().replace(',', '').replace('.', '')\n",
    "        if (word in expection_words): continue\n",
    "        if (word in counter.keys()):\n",
    "            counter[word][1] += 1\n",
    "        else: counter[word] = [0, 1]\n"
   ]
  },
  {
   "cell_type": "code",
   "execution_count": 21,
   "metadata": {},
   "outputs": [],
   "source": [
    "count_all_words = np.array(list(map(lambda x: np.array(x), np.array(list(counter.items())).T[1]))).T\n",
    "\n",
    "count_normal_words = count_all_words[0].sum()\n",
    "count_aggressive_words = count_all_words[1].sum()\n",
    "\n",
    "for word_pair in list(counter.items()):\n",
    "    if (word_pair[1][1] == 0 and word_pair[1][0] > 0):\n",
    "        counter[word_pair[0]].append(\"normal\")\n",
    "        continue\n",
    "\n",
    "    if (word_pair[1][0] == 0 and word_pair[1][1] > 0):\n",
    "        counter[word_pair[0]].append(\"aggressive\")\n",
    "        continue\n",
    "\n",
    "    ratio_aggressive = word_pair[1][1] / count_aggressive_words\n",
    "    ratio_normal = word_pair[1][0] / count_normal_words\n",
    "\n",
    "    if (ratio_aggressive / ratio_normal >= 3):\n",
    "        counter[word_pair[0]].append(\"aggressive\")\n",
    "        continue\n",
    "\n",
    "    if (ratio_normal / ratio_aggressive >= 3):\n",
    "        counter[word_pair[0]].append(\"normal\")\n",
    "        continue\n",
    "\n",
    "    counter[word_pair[0]].append(\"neutral\")\n",
    "            "
   ]
  },
  {
   "cell_type": "code",
   "execution_count": 22,
   "metadata": {},
   "outputs": [],
   "source": [
    "def check_sentence(sentence, words_type):\n",
    "    words_count = 0\n",
    "    for word in sentence.split(\" \"):\n",
    "        word = word.lower().replace(',', '').replace('.', '')\n",
    "        \n",
    "        if (word not in list(counter.keys()) or len(counter[word]) == 2): continue\n",
    "        \n",
    "        if (words_type == counter[word][2]): \n",
    "            words_count += 1\n",
    "    return words_count"
   ]
  },
  {
   "cell_type": "code",
   "execution_count": 23,
   "metadata": {
    "scrolled": true
   },
   "outputs": [
    {
     "data": {
      "text/plain": [
       "0     699\n",
       "1     144\n",
       "2      73\n",
       "3      31\n",
       "4      29\n",
       "5      19\n",
       "7      14\n",
       "8      10\n",
       "6       7\n",
       "15      7\n",
       "9       5\n",
       "14      4\n",
       "10      3\n",
       "12      2\n",
       "16      2\n",
       "18      2\n",
       "34      1\n",
       "25      1\n",
       "32      1\n",
       "28      1\n",
       "26      1\n",
       "13      1\n",
       "21      1\n",
       "19      1\n",
       "17      1\n",
       "11      1\n",
       "46      1\n",
       "Name: comment, dtype: int64"
      ]
     },
     "execution_count": 23,
     "metadata": {},
     "output_type": "execute_result"
    }
   ],
   "source": [
    "dataset_joined[dataset_joined.is_comment == True].comment.apply(lambda x: check_sentence(x, \"aggressive\")).value_counts()"
   ]
  },
  {
   "cell_type": "code",
   "execution_count": 24,
   "metadata": {
    "scrolled": true
   },
   "outputs": [
    {
     "data": {
      "text/plain": [
       "2     237\n",
       "0     192\n",
       "1     176\n",
       "3     148\n",
       "4      91\n",
       "5      52\n",
       "7      41\n",
       "6      36\n",
       "8      22\n",
       "9      12\n",
       "12      9\n",
       "15      9\n",
       "11      7\n",
       "10      6\n",
       "13      5\n",
       "22      3\n",
       "14      3\n",
       "24      2\n",
       "25      2\n",
       "19      1\n",
       "20      1\n",
       "17      1\n",
       "23      1\n",
       "26      1\n",
       "27      1\n",
       "33      1\n",
       "58      1\n",
       "64      1\n",
       "Name: comment, dtype: int64"
      ]
     },
     "execution_count": 24,
     "metadata": {},
     "output_type": "execute_result"
    }
   ],
   "source": [
    "dataset_joined[dataset_joined.is_comment == True].comment.apply(lambda x: check_sentence(x, \"normal\")).value_counts()"
   ]
  },
  {
   "cell_type": "code",
   "execution_count": 25,
   "metadata": {},
   "outputs": [],
   "source": [
    "# dataset_joined['anxious_word'] = dataset_joined.comment.apply(lambda x: len(set(anxious_words) & set(x)) > 0)"
   ]
  },
  {
   "cell_type": "markdown",
   "metadata": {},
   "source": [
    "Сколько среди всех поездок, в описании которых есть тревожные слова, агрессивных?"
   ]
  },
  {
   "cell_type": "code",
   "execution_count": 26,
   "metadata": {},
   "outputs": [],
   "source": [
    "# sum(dataset_joined[(dataset_joined.anxious_word == True)].is_aggressive == True) / len(dataset_joined[(dataset_joined.anxious_word == True)])"
   ]
  },
  {
   "cell_type": "code",
   "execution_count": 27,
   "metadata": {},
   "outputs": [
    {
     "data": {
      "text/plain": [
       "9"
      ]
     },
     "execution_count": 27,
     "metadata": {},
     "output_type": "execute_result"
    }
   ],
   "source": [
    "sum(dataset_joined[(dataset_joined.is_comment == True)].comment.apply(lambda x: 'агрессивн' in x))"
   ]
  },
  {
   "cell_type": "code",
   "execution_count": 28,
   "metadata": {},
   "outputs": [
    {
     "data": {
      "text/plain": [
       "6"
      ]
     },
     "execution_count": 28,
     "metadata": {},
     "output_type": "execute_result"
    }
   ],
   "source": [
    "sum(dataset_joined[(dataset_joined.is_comment == True)].comment.apply(lambda x: 'укачало' in x))"
   ]
  },
  {
   "cell_type": "code",
   "execution_count": 29,
   "metadata": {},
   "outputs": [
    {
     "data": {
      "text/plain": [
       "3"
      ]
     },
     "execution_count": 29,
     "metadata": {},
     "output_type": "execute_result"
    }
   ],
   "source": [
    "sum(dataset_joined[(dataset_joined.is_comment == True)].comment.apply(lambda x: 'дтп' in x))"
   ]
  },
  {
   "cell_type": "code",
   "execution_count": 30,
   "metadata": {},
   "outputs": [
    {
     "data": {
      "text/plain": [
       "26"
      ]
     },
     "execution_count": 30,
     "metadata": {},
     "output_type": "execute_result"
    }
   ],
   "source": [
    "sum(dataset_joined[(dataset_joined.is_comment == True)].comment.apply(lambda x: 'опасн' in x))"
   ]
  },
  {
   "cell_type": "markdown",
   "metadata": {},
   "source": [
    "### Numerical features"
   ]
  },
  {
   "cell_type": "markdown",
   "metadata": {},
   "source": [
    "Средняя дальность поездки с агрессивным и обычным водителем"
   ]
  },
  {
   "cell_type": "code",
   "execution_count": 31,
   "metadata": {},
   "outputs": [
    {
     "data": {
      "text/plain": [
       "(13.435185185185187, 11.06733193277315)"
      ]
     },
     "execution_count": 31,
     "metadata": {},
     "output_type": "execute_result"
    }
   ],
   "source": [
    "dataset_joined[dataset_joined.is_aggressive == True].distance.mean(), dataset_joined[dataset_joined.is_aggressive == False].distance.mean()"
   ]
  },
  {
   "cell_type": "markdown",
   "metadata": {},
   "source": [
    "У неагрессивных поездок количество водителей с ростом дистанции уменьшается быстро и ступенчато, а у агрессивных - сильный спад происходит только ближе к 20 км"
   ]
  },
  {
   "cell_type": "code",
   "execution_count": 32,
   "metadata": {},
   "outputs": [
    {
     "data": {
      "text/plain": [
       "<matplotlib.axes._subplots.AxesSubplot at 0x7f2bf0a61970>"
      ]
     },
     "execution_count": 32,
     "metadata": {},
     "output_type": "execute_result"
    },
    {
     "data": {
      "image/png": "[encoded data removed]",
      "text/plain": [
       "<Figure size 432x288 with 1 Axes>"
      ]
     },
     "metadata": {
      "needs_background": "light"
     },
     "output_type": "display_data"
    }
   ],
   "source": [
    "dataset_joined[(dataset_joined.is_aggressive == True) & (dataset_joined.distance < 50)].distance.hist()"
   ]
  },
  {
   "cell_type": "code",
   "execution_count": 33,
   "metadata": {},
   "outputs": [
    {
     "data": {
      "text/plain": [
       "<matplotlib.axes._subplots.AxesSubplot at 0x7f2bf08b6fa0>"
      ]
     },
     "execution_count": 33,
     "metadata": {},
     "output_type": "execute_result"
    },
    {
     "data": {
      "image/png": "[encoded data removed]",
      "text/plain": [
       "<Figure size 432x288 with 1 Axes>"
      ]
     },
     "metadata": {
      "needs_background": "light"
     },
     "output_type": "display_data"
    }
   ],
   "source": [
    "dataset_joined[(dataset_joined.is_aggressive == False) & (dataset_joined.distance < 50)].distance.hist()"
   ]
  },
  {
   "cell_type": "markdown",
   "metadata": {},
   "source": [
    "Средняя продолжительность поездки с агрессивным и обычным водителем"
   ]
  },
  {
   "cell_type": "code",
   "execution_count": 36,
   "metadata": {},
   "outputs": [
    {
     "data": {
      "text/plain": [
       "(26.735648148148158, 22.129236694677886)"
      ]
     },
     "execution_count": 36,
     "metadata": {},
     "output_type": "execute_result"
    }
   ],
   "source": [
    "dataset_joined[dataset_joined.is_aggressive == True].duration.mean(), dataset_joined[dataset_joined.is_aggressive == False].duration.mean()"
   ]
  },
  {
   "cell_type": "markdown",
   "metadata": {},
   "source": [
    "Мода марки машины агрессивного и обычного водителя(hyundai просто самая популярная, так что изменения не налицо)"
   ]
  },
  {
   "cell_type": "code",
   "execution_count": 37,
   "metadata": {},
   "outputs": [
    {
     "data": {
      "text/plain": [
       "('Hyundai Solaris', 'Hyundai Solaris')"
      ]
     },
     "execution_count": 37,
     "metadata": {},
     "output_type": "execute_result"
    }
   ],
   "source": [
    "dataset_joined[dataset_joined.is_aggressive == True].mark.value_counts().index[0], dataset_joined[dataset_joined.is_aggressive == False].mark.value_counts().index[0]"
   ]
  },
  {
   "cell_type": "markdown",
   "metadata": {},
   "source": [
    "Все марки машин"
   ]
  },
  {
   "cell_type": "code",
   "execution_count": 38,
   "metadata": {
    "scrolled": true
   },
   "outputs": [
    {
     "data": {
      "text/plain": [
       "(Hyundai Solaris         94\n",
       " Skoda Octavia           59\n",
       " Kia Rio                 58\n",
       " Kia Optima              43\n",
       " Volkswagen Polo         36\n",
       " Skoda Rapid             22\n",
       " Toyota Camry            18\n",
       " Ford Focus              18\n",
       " Kia Ceed                14\n",
       " Hyundai Elantra          9\n",
       " Hyundai Sonata           8\n",
       " Nissan Almera            6\n",
       " Kia K5                   6\n",
       " Lada Vesta               5\n",
       " Hyundai i40              4\n",
       " Volkswagen Jetta         4\n",
       " Ford Galaxy              3\n",
       " Renault Logan            3\n",
       " MercedesBenz EClass      2\n",
       " Chevrolet Cruze          2\n",
       " Kia Cerato               2\n",
       " Lifan Solano 2           1\n",
       " Peugeot 408              1\n",
       " LADA ВАЗ Vesta           1\n",
       " Lexus ES                 1\n",
       " Renault Scenic           1\n",
       " Renault Sandero          1\n",
       " RAVON R4                 1\n",
       " Hyundai H1               1\n",
       " Ford Mondeo              1\n",
       " BMW 5er                  1\n",
       " Daewoo Gentra            1\n",
       " Skoda Kodiaq             1\n",
       " Chevrolet Orlando        1\n",
       " BMW 5 серия              1\n",
       " Mitsubishi Outlander     1\n",
       " Kia Ceed Sportswagon     1\n",
       " Name: mark, dtype: int64,\n",
       " Hyundai Solaris     1552\n",
       " Kia Optima          1257\n",
       " Skoda Octavia       1142\n",
       " Kia Rio              993\n",
       " Volkswagen Polo      654\n",
       "                     ... \n",
       " Kia Spectra            1\n",
       " Chevrolet Lanos        1\n",
       " Volkswagen Golf        1\n",
       " Citroen Berlingo       1\n",
       " Lifan Solano           1\n",
       " Name: mark, Length: 115, dtype: int64)"
      ]
     },
     "execution_count": 38,
     "metadata": {},
     "output_type": "execute_result"
    }
   ],
   "source": [
    "dataset_joined[dataset_joined.is_aggressive == True].mark.value_counts(), dataset_joined[dataset_joined.is_aggressive == False].mark.value_counts()"
   ]
  },
  {
   "cell_type": "markdown",
   "metadata": {},
   "source": [
    "Средняя оценка поездки пассажиром(у агрессивных поездок оценка ниже, но не сильно => видимо, агрессивность оценивает не пассажир)"
   ]
  },
  {
   "cell_type": "code",
   "execution_count": 39,
   "metadata": {},
   "outputs": [
    {
     "data": {
      "text/plain": [
       "(4.735102079475958, 4.885108231270127)"
      ]
     },
     "execution_count": 39,
     "metadata": {},
     "output_type": "execute_result"
    }
   ],
   "source": [
    "dataset_joined[dataset_joined.is_aggressive == True].client_rate_ride.mean(), dataset_joined[dataset_joined.is_aggressive == False].client_rate_ride.mean()"
   ]
  },
  {
   "cell_type": "markdown",
   "metadata": {},
   "source": [
    "Сколько агрессивных водителей среди тех, чьим поездкам поставили меньше 4?"
   ]
  },
  {
   "cell_type": "code",
   "execution_count": 40,
   "metadata": {},
   "outputs": [
    {
     "data": {
      "text/plain": [
       "0.12972972972972974"
      ]
     },
     "execution_count": 40,
     "metadata": {},
     "output_type": "execute_result"
    }
   ],
   "source": [
    "(dataset_joined[dataset_joined.client_rate_ride < 4].is_aggressive == True).sum() / len(dataset_joined[dataset_joined.client_rate_ride < 4])"
   ]
  },
  {
   "cell_type": "markdown",
   "metadata": {},
   "source": [
    "Количество поездок пассажира с агрессивным/неагрессивным водителем(не должно влиять, ведь оценку агрессивности, по-видимому, выдает не пассажир)"
   ]
  },
  {
   "cell_type": "code",
   "execution_count": 41,
   "metadata": {},
   "outputs": [
    {
     "data": {
      "text/plain": [
       "(23.979166666666668, 25.881293133875513)"
      ]
     },
     "execution_count": 41,
     "metadata": {},
     "output_type": "execute_result"
    }
   ],
   "source": [
    "dataset_joined[dataset_joined.is_aggressive == True].client_rides_cnt.mean(), dataset_joined[dataset_joined.is_aggressive == False].client_rides_cnt.mean()"
   ]
  },
  {
   "cell_type": "markdown",
   "metadata": {},
   "source": [
    "Среднее количество поездок агрессивного/неагрессивного водителя"
   ]
  },
  {
   "cell_type": "code",
   "execution_count": 42,
   "metadata": {},
   "outputs": [
    {
     "data": {
      "text/plain": [
       "(172.13848877799202, 177.31195338518717)"
      ]
     },
     "execution_count": 42,
     "metadata": {},
     "output_type": "execute_result"
    }
   ],
   "source": [
    "dataset_joined[dataset_joined.is_aggressive == True].driver_rides_cnt.mean(), dataset_joined[dataset_joined.is_aggressive == False].driver_rides_cnt.mean()"
   ]
  },
  {
   "cell_type": "markdown",
   "metadata": {},
   "source": [
    "Средняя скорость"
   ]
  },
  {
   "cell_type": "code",
   "execution_count": 43,
   "metadata": {},
   "outputs": [],
   "source": [
    "dataset_joined[\"speed\"] = dataset_joined.distance / (dataset_joined.duration / 60)"
   ]
  },
  {
   "cell_type": "code",
   "execution_count": 44,
   "metadata": {},
   "outputs": [],
   "source": [
    "speed_aggressive = dataset_joined[dataset_joined.is_aggressive == True].speed\n",
    "speed_notaggressive = dataset_joined[dataset_joined.is_aggressive == False].speed"
   ]
  },
  {
   "cell_type": "code",
   "execution_count": 45,
   "metadata": {},
   "outputs": [
    {
     "data": {
      "text/plain": [
       "(29.249228289049686, 28.63926292440239)"
      ]
     },
     "execution_count": 45,
     "metadata": {},
     "output_type": "execute_result"
    }
   ],
   "source": [
    "speed_aggressive.mean(), speed_notaggressive.mean()"
   ]
  },
  {
   "cell_type": "code",
   "execution_count": 46,
   "metadata": {},
   "outputs": [
    {
     "data": {
      "text/plain": [
       "<matplotlib.axes._subplots.AxesSubplot at 0x7f2bf0738fd0>"
      ]
     },
     "execution_count": 46,
     "metadata": {},
     "output_type": "execute_result"
    },
    {
     "data": {
      "image/png": "[encoded data removed]",
      "text/plain": [
       "<Figure size 432x288 with 1 Axes>"
      ]
     },
     "metadata": {
      "needs_background": "light"
     },
     "output_type": "display_data"
    }
   ],
   "source": [
    "speed_aggressive.hist()"
   ]
  },
  {
   "cell_type": "code",
   "execution_count": 47,
   "metadata": {},
   "outputs": [
    {
     "data": {
      "text/plain": [
       "<matplotlib.axes._subplots.AxesSubplot at 0x7f2bf072a640>"
      ]
     },
     "execution_count": 47,
     "metadata": {},
     "output_type": "execute_result"
    },
    {
     "data": {
      "image/png": "[encoded data removed]",
      "text/plain": [
       "<Figure size 432x288 with 1 Axes>"
      ]
     },
     "metadata": {
      "needs_background": "light"
     },
     "output_type": "display_data"
    }
   ],
   "source": [
    "speed_notaggressive.hist()"
   ]
  },
  {
   "cell_type": "markdown",
   "metadata": {},
   "source": [
    "## Time"
   ]
  },
  {
   "cell_type": "code",
   "execution_count": 48,
   "metadata": {},
   "outputs": [],
   "source": [
    "dataset_joined['dttm'] = pd.to_datetime(dataset_joined.dttm)"
   ]
  },
  {
   "cell_type": "markdown",
   "metadata": {},
   "source": [
    "### Hour"
   ]
  },
  {
   "cell_type": "code",
   "execution_count": 49,
   "metadata": {},
   "outputs": [],
   "source": [
    "dataset_joined['hour'] = dataset_joined.dttm.apply(lambda x: x.hour)"
   ]
  },
  {
   "cell_type": "code",
   "execution_count": 50,
   "metadata": {},
   "outputs": [
    {
     "data": {
      "text/plain": [
       "<matplotlib.axes._subplots.AxesSubplot at 0x7f2bf0690130>"
      ]
     },
     "execution_count": 50,
     "metadata": {},
     "output_type": "execute_result"
    },
    {
     "data": {
      "image/png": "[encoded data removed]",
      "text/plain": [
       "<Figure size 432x288 with 1 Axes>"
      ]
     },
     "metadata": {
      "needs_background": "light"
     },
     "output_type": "display_data"
    }
   ],
   "source": [
    "dataset_joined[dataset_joined.is_aggressive == True].hour.hist()"
   ]
  },
  {
   "cell_type": "code",
   "execution_count": 51,
   "metadata": {},
   "outputs": [
    {
     "data": {
      "text/plain": [
       "<matplotlib.axes._subplots.AxesSubplot at 0x7f2bf05ff910>"
      ]
     },
     "execution_count": 51,
     "metadata": {},
     "output_type": "execute_result"
    },
    {
     "data": {
      "image/png": "[encoded data removed]",
      "text/plain": [
       "<Figure size 432x288 with 1 Axes>"
      ]
     },
     "metadata": {
      "needs_background": "light"
     },
     "output_type": "display_data"
    }
   ],
   "source": [
    "dataset_joined[dataset_joined.is_aggressive == False].hour.hist()"
   ]
  },
  {
   "cell_type": "code",
   "execution_count": 52,
   "metadata": {},
   "outputs": [],
   "source": [
    "condition = ((dataset_joined.hour > 6) & (dataset_joined.hour < 10)) | ((dataset_joined.hour > 17) & (dataset_joined.hour < 23))"
   ]
  },
  {
   "cell_type": "code",
   "execution_count": 53,
   "metadata": {},
   "outputs": [],
   "source": [
    "dataset_traffjam = dataset_joined[condition]"
   ]
  },
  {
   "cell_type": "code",
   "execution_count": 54,
   "metadata": {},
   "outputs": [],
   "source": [
    "dataset_notraffjam = dataset_joined[~condition]"
   ]
  },
  {
   "cell_type": "code",
   "execution_count": 55,
   "metadata": {},
   "outputs": [
    {
     "data": {
      "text/plain": [
       "(0.0499378367177787, 0.08951512639867384)"
      ]
     },
     "execution_count": 55,
     "metadata": {},
     "output_type": "execute_result"
    }
   ],
   "source": [
    "(dataset_traffjam.is_aggressive == True).sum() / len(dataset_traffjam), (dataset_joined.is_aggressive == True).sum() / len(dataset_traffjam)"
   ]
  },
  {
   "cell_type": "code",
   "execution_count": 56,
   "metadata": {},
   "outputs": [
    {
     "data": {
      "text/plain": [
       "(0.045759463344513654, 0.08951512639867384)"
      ]
     },
     "execution_count": 56,
     "metadata": {},
     "output_type": "execute_result"
    }
   ],
   "source": [
    "(dataset_notraffjam.is_aggressive == True).sum() / len(dataset_notraffjam), (dataset_joined.is_aggressive == True).sum() / len(dataset_traffjam)"
   ]
  },
  {
   "cell_type": "markdown",
   "metadata": {},
   "source": [
    "### Month"
   ]
  },
  {
   "cell_type": "code",
   "execution_count": 57,
   "metadata": {},
   "outputs": [],
   "source": [
    "dataset_joined['month'] = dataset_joined.dttm.apply(lambda x: x.month)"
   ]
  },
  {
   "cell_type": "code",
   "execution_count": 58,
   "metadata": {},
   "outputs": [
    {
     "data": {
      "text/plain": [
       "3    4663\n",
       "2    2597\n",
       "1    1263\n",
       "4     477\n",
       "Name: month, dtype: int64"
      ]
     },
     "execution_count": 58,
     "metadata": {},
     "output_type": "execute_result"
    }
   ],
   "source": [
    "dataset_joined.month.value_counts()"
   ]
  },
  {
   "cell_type": "code",
   "execution_count": 59,
   "metadata": {},
   "outputs": [
    {
     "data": {
      "text/plain": [
       "<matplotlib.axes._subplots.AxesSubplot at 0x7f2bf0576760>"
      ]
     },
     "execution_count": 59,
     "metadata": {},
     "output_type": "execute_result"
    },
    {
     "data": {
      "image/png": "[encoded data removed]",
      "text/plain": [
       "<Figure size 432x288 with 1 Axes>"
      ]
     },
     "metadata": {
      "needs_background": "light"
     },
     "output_type": "display_data"
    }
   ],
   "source": [
    "dataset_joined[(dataset_joined.is_aggressive == True)].month.hist()"
   ]
  },
  {
   "cell_type": "code",
   "execution_count": 60,
   "metadata": {},
   "outputs": [
    {
     "data": {
      "text/plain": [
       "<matplotlib.axes._subplots.AxesSubplot at 0x7f2bf0565760>"
      ]
     },
     "execution_count": 60,
     "metadata": {},
     "output_type": "execute_result"
    },
    {
     "data": {
      "image/png": "[encoded data removed]",
      "text/plain": [
       "<Figure size 432x288 with 1 Axes>"
      ]
     },
     "metadata": {
      "needs_background": "light"
     },
     "output_type": "display_data"
    }
   ],
   "source": [
    "dataset_joined[(dataset_joined.is_aggressive == False)].month.hist()"
   ]
  },
  {
   "cell_type": "code",
   "execution_count": 61,
   "metadata": {},
   "outputs": [
    {
     "data": {
      "text/plain": [
       "month\n",
       "1    0.059382\n",
       "2    0.041586\n",
       "3    0.047180\n",
       "4    0.060797\n",
       "Name: is_aggressive, dtype: float64"
      ]
     },
     "execution_count": 61,
     "metadata": {},
     "output_type": "execute_result"
    }
   ],
   "source": [
    "dataset_joined.groupby(\"month\").is_aggressive.mean()"
   ]
  },
  {
   "cell_type": "markdown",
   "metadata": {},
   "source": [
    "### Weekday"
   ]
  },
  {
   "cell_type": "code",
   "execution_count": 62,
   "metadata": {},
   "outputs": [
    {
     "data": {
      "text/plain": [
       "4"
      ]
     },
     "execution_count": 62,
     "metadata": {},
     "output_type": "execute_result"
    }
   ],
   "source": [
    "dataset_joined.dttm.iloc[0].weekday()"
   ]
  },
  {
   "cell_type": "code",
   "execution_count": 63,
   "metadata": {},
   "outputs": [],
   "source": [
    "dataset_joined['weekday'] = dataset_joined.dttm.apply(lambda x: x.weekday())"
   ]
  },
  {
   "cell_type": "code",
   "execution_count": 64,
   "metadata": {},
   "outputs": [],
   "source": [
    "dataset_joined['holiday'] = (dataset_joined.weekday >= 5).astype(int)"
   ]
  },
  {
   "cell_type": "code",
   "execution_count": 65,
   "metadata": {},
   "outputs": [
    {
     "data": {
      "text/plain": [
       "0.04805683242791475"
      ]
     },
     "execution_count": 65,
     "metadata": {},
     "output_type": "execute_result"
    }
   ],
   "source": [
    "dataset_joined[(dataset_joined.holiday == 1)].is_aggressive.sum() / len(dataset_joined[(dataset_joined.holiday == 1)])"
   ]
  },
  {
   "cell_type": "code",
   "execution_count": 66,
   "metadata": {},
   "outputs": [
    {
     "data": {
      "text/plain": [
       "0.04797941577115181"
      ]
     },
     "execution_count": 66,
     "metadata": {},
     "output_type": "execute_result"
    }
   ],
   "source": [
    "(dataset_joined[(dataset_joined.holiday != 1)].is_aggressive.astype(bool)).sum() / len(dataset_joined[(dataset_joined.holiday != 1)])"
   ]
  },
  {
   "cell_type": "code",
   "execution_count": 67,
   "metadata": {},
   "outputs": [
    {
     "data": {
      "text/plain": [
       "weekday\n",
       "0    0.061157\n",
       "1    0.053018\n",
       "2    0.042891\n",
       "3    0.043580\n",
       "4    0.041795\n",
       "5    0.048175\n",
       "6    0.047898\n",
       "Name: is_aggressive, dtype: float64"
      ]
     },
     "execution_count": 67,
     "metadata": {},
     "output_type": "execute_result"
    }
   ],
   "source": [
    "dataset_joined.groupby(\"weekday\").is_aggressive.mean()"
   ]
  },
  {
   "cell_type": "markdown",
   "metadata": {},
   "source": [
    "# Features generation"
   ]
  },
  {
   "cell_type": "code",
   "execution_count": 212,
   "metadata": {},
   "outputs": [],
   "source": [
    "comment_phrases = list(X.comment.value_counts().index[: 5])"
   ]
  },
  {
   "cell_type": "code",
   "execution_count": 213,
   "metadata": {},
   "outputs": [
    {
     "data": {
      "text/plain": [
       "['Больше нечего сказать', 'Да', 'Все хорошо', 'Все ок', 'Нет']"
      ]
     },
     "execution_count": 213,
     "metadata": {},
     "output_type": "execute_result"
    }
   ],
   "source": [
    "comment_phrases"
   ]
  },
  {
   "cell_type": "code",
   "execution_count": 214,
   "metadata": {},
   "outputs": [],
   "source": [
    "X[\"is_comment\"] = (~np.isin(X.comment, comment_phrases)).astype(int)"
   ]
  },
  {
   "cell_type": "code",
   "execution_count": 215,
   "metadata": {
    "scrolled": true
   },
   "outputs": [
    {
     "data": {
      "text/plain": [
       "28                         Отличный водитель!!!Спасибо!!!\n",
       "29                          Лучший водитель!!! Спасибо!!!\n",
       "35      водитель заехал и сразу встал с той стороны до...\n",
       "36      постоянно отвлекался на поиск и просмотр ролик...\n",
       "43                      выезжал на встречку несколько раз\n",
       "                              ...                        \n",
       "8965                                          Всё отлично\n",
       "8967    Водитель приятный в общении. Но показалось, чт...\n",
       "8975    Говорил по телефону во время движения, делал о...\n",
       "8989    Отличный водитель, помог нам найти более корот...\n",
       "8996    На заднем сиденье жёлтые полосы и пятна остали...\n",
       "Name: comment, Length: 1106, dtype: object"
      ]
     },
     "execution_count": 215,
     "metadata": {},
     "output_type": "execute_result"
    }
   ],
   "source": [
    "X[X.is_comment == True].comment"
   ]
  },
  {
   "cell_type": "code",
   "execution_count": 216,
   "metadata": {},
   "outputs": [],
   "source": [
    "X['dttm'] = pd.to_datetime(X.dttm)"
   ]
  },
  {
   "cell_type": "code",
   "execution_count": 217,
   "metadata": {},
   "outputs": [],
   "source": [
    "X['hour'] = X.dttm.apply(lambda x: x.hour)"
   ]
  },
  {
   "cell_type": "code",
   "execution_count": 218,
   "metadata": {},
   "outputs": [],
   "source": [
    "X['traff_jam'] = ((X.hour > 6) & (X.hour < 10)) | ((X.hour > 17) & (X.hour < 23))\n",
    "X['traff_jam'] = X.traff_jam.astype(int)"
   ]
  },
  {
   "cell_type": "code",
   "execution_count": 219,
   "metadata": {},
   "outputs": [],
   "source": [
    "X['weekday'] = X.dttm.apply(lambda x: x.weekday())\n",
    "X['holiday'] = (X.weekday >= 5).astype(int)"
   ]
  },
  {
   "cell_type": "code",
   "execution_count": 220,
   "metadata": {},
   "outputs": [],
   "source": [
    "# X['anxious_word'] = X.comment.apply(lambda x: int(len(set(anxious_words) & set(x)) > 0))"
   ]
  },
  {
   "cell_type": "code",
   "execution_count": 221,
   "metadata": {},
   "outputs": [],
   "source": [
    "X[\"count_words\"] = [-1] * X.shape[0]"
   ]
  },
  {
   "cell_type": "code",
   "execution_count": 222,
   "metadata": {},
   "outputs": [],
   "source": [
    "X.loc[X.is_comment == True, \"count_words\"] = X[X.is_comment == True].comment.apply(lambda x: count_words(x))"
   ]
  },
  {
   "cell_type": "code",
   "execution_count": 223,
   "metadata": {},
   "outputs": [],
   "source": [
    "X[\"speed\"] = X.distance / (X.duration / 60)"
   ]
  },
  {
   "cell_type": "code",
   "execution_count": 224,
   "metadata": {},
   "outputs": [],
   "source": [
    "X['agg_words'] = X.comment.apply(lambda x: check_sentence(x, \"aggressive\"))\n",
    "X['normal_words'] = X.comment.apply(lambda x: check_sentence(x, \"normal\"))"
   ]
  },
  {
   "cell_type": "code",
   "execution_count": 225,
   "metadata": {},
   "outputs": [],
   "source": [
    "X['distance_thresh'] = ((X.distance > 5) & (X.distance < 20)).astype(int)"
   ]
  },
  {
   "cell_type": "code",
   "execution_count": 226,
   "metadata": {
    "scrolled": true
   },
   "outputs": [
    {
     "data": {
      "text/html": [
       "<div>\n",
       "<style scoped>\n",
       "    .dataframe tbody tr th:only-of-type {\n",
       "        vertical-align: middle;\n",
       "    }\n",
       "\n",
       "    .dataframe tbody tr th {\n",
       "        vertical-align: top;\n",
       "    }\n",
       "\n",
       "    .dataframe thead th {\n",
       "        text-align: right;\n",
       "    }\n",
       "</style>\n",
       "<table border=\"1\" class=\"dataframe\">\n",
       "  <thead>\n",
       "    <tr style=\"text-align: right;\">\n",
       "      <th></th>\n",
       "      <th>order_id</th>\n",
       "      <th>driver_id</th>\n",
       "      <th>client_id</th>\n",
       "      <th>dttm</th>\n",
       "      <th>date</th>\n",
       "      <th>arrived_distance</th>\n",
       "      <th>arrived_duration</th>\n",
       "      <th>distance</th>\n",
       "      <th>duration</th>\n",
       "      <th>from_latitude</th>\n",
       "      <th>...</th>\n",
       "      <th>is_comment</th>\n",
       "      <th>hour</th>\n",
       "      <th>traff_jam</th>\n",
       "      <th>weekday</th>\n",
       "      <th>holiday</th>\n",
       "      <th>count_words</th>\n",
       "      <th>speed</th>\n",
       "      <th>agg_words</th>\n",
       "      <th>normal_words</th>\n",
       "      <th>distance_thresh</th>\n",
       "    </tr>\n",
       "  </thead>\n",
       "  <tbody>\n",
       "    <tr>\n",
       "      <th>0</th>\n",
       "      <td>6a0f322ade1a05e5c4cec4344efbce8b</td>\n",
       "      <td>f7c2b293ef94420f5e51abae6889b83b</td>\n",
       "      <td>3156d05c6458a8228bed59f02075a61e</td>\n",
       "      <td>2021-01-22 21:53:00</td>\n",
       "      <td>2021-01-22</td>\n",
       "      <td>150.0</td>\n",
       "      <td>1.0</td>\n",
       "      <td>11.8</td>\n",
       "      <td>20.5</td>\n",
       "      <td>55.795900</td>\n",
       "      <td>...</td>\n",
       "      <td>0</td>\n",
       "      <td>21</td>\n",
       "      <td>1</td>\n",
       "      <td>4</td>\n",
       "      <td>0</td>\n",
       "      <td>-1</td>\n",
       "      <td>34.536585</td>\n",
       "      <td>0</td>\n",
       "      <td>1</td>\n",
       "      <td>1</td>\n",
       "    </tr>\n",
       "    <tr>\n",
       "      <th>1</th>\n",
       "      <td>934ecbe5845426fd3f8ef7938cce2a11</td>\n",
       "      <td>01d029c42c99581080a60679fca06ff9</td>\n",
       "      <td>3156d05c6458a8228bed59f02075a61e</td>\n",
       "      <td>2021-01-24 14:09:00</td>\n",
       "      <td>2021-01-24</td>\n",
       "      <td>570.0</td>\n",
       "      <td>1.0</td>\n",
       "      <td>17.2</td>\n",
       "      <td>26.2</td>\n",
       "      <td>55.716502</td>\n",
       "      <td>...</td>\n",
       "      <td>0</td>\n",
       "      <td>14</td>\n",
       "      <td>0</td>\n",
       "      <td>6</td>\n",
       "      <td>1</td>\n",
       "      <td>-1</td>\n",
       "      <td>39.389313</td>\n",
       "      <td>1</td>\n",
       "      <td>0</td>\n",
       "      <td>1</td>\n",
       "    </tr>\n",
       "    <tr>\n",
       "      <th>2</th>\n",
       "      <td>5348cb339b63eaea3b2cb57a064ce550</td>\n",
       "      <td>3c88deb7df7a73a24ebc229db9783405</td>\n",
       "      <td>3156d05c6458a8228bed59f02075a61e</td>\n",
       "      <td>2021-01-26 21:02:00</td>\n",
       "      <td>2021-01-26</td>\n",
       "      <td>40.0</td>\n",
       "      <td>0.0</td>\n",
       "      <td>5.8</td>\n",
       "      <td>10.9</td>\n",
       "      <td>55.716637</td>\n",
       "      <td>...</td>\n",
       "      <td>0</td>\n",
       "      <td>21</td>\n",
       "      <td>1</td>\n",
       "      <td>1</td>\n",
       "      <td>0</td>\n",
       "      <td>-1</td>\n",
       "      <td>31.926606</td>\n",
       "      <td>0</td>\n",
       "      <td>1</td>\n",
       "      <td>1</td>\n",
       "    </tr>\n",
       "    <tr>\n",
       "      <th>3</th>\n",
       "      <td>309ef91c3b51e27d097642169576f67b</td>\n",
       "      <td>f35a8ff85f2095755f16bba91035fbdc</td>\n",
       "      <td>3156d05c6458a8228bed59f02075a61e</td>\n",
       "      <td>2021-01-27 17:24:00</td>\n",
       "      <td>2021-01-27</td>\n",
       "      <td>140.0</td>\n",
       "      <td>1.0</td>\n",
       "      <td>4.5</td>\n",
       "      <td>10.7</td>\n",
       "      <td>55.689076</td>\n",
       "      <td>...</td>\n",
       "      <td>0</td>\n",
       "      <td>17</td>\n",
       "      <td>0</td>\n",
       "      <td>2</td>\n",
       "      <td>0</td>\n",
       "      <td>-1</td>\n",
       "      <td>25.233645</td>\n",
       "      <td>0</td>\n",
       "      <td>1</td>\n",
       "      <td>0</td>\n",
       "    </tr>\n",
       "    <tr>\n",
       "      <th>4</th>\n",
       "      <td>3506e04e45d39c6e3033637389da1041</td>\n",
       "      <td>0a227ac8d702170c03acf36d55e60d0d</td>\n",
       "      <td>3156d05c6458a8228bed59f02075a61e</td>\n",
       "      <td>2021-01-29 15:31:00</td>\n",
       "      <td>2021-01-29</td>\n",
       "      <td>150.0</td>\n",
       "      <td>1.0</td>\n",
       "      <td>15.4</td>\n",
       "      <td>25.1</td>\n",
       "      <td>55.655489</td>\n",
       "      <td>...</td>\n",
       "      <td>0</td>\n",
       "      <td>15</td>\n",
       "      <td>0</td>\n",
       "      <td>4</td>\n",
       "      <td>0</td>\n",
       "      <td>-1</td>\n",
       "      <td>36.812749</td>\n",
       "      <td>0</td>\n",
       "      <td>1</td>\n",
       "      <td>1</td>\n",
       "    </tr>\n",
       "    <tr>\n",
       "      <th>...</th>\n",
       "      <td>...</td>\n",
       "      <td>...</td>\n",
       "      <td>...</td>\n",
       "      <td>...</td>\n",
       "      <td>...</td>\n",
       "      <td>...</td>\n",
       "      <td>...</td>\n",
       "      <td>...</td>\n",
       "      <td>...</td>\n",
       "      <td>...</td>\n",
       "      <td>...</td>\n",
       "      <td>...</td>\n",
       "      <td>...</td>\n",
       "      <td>...</td>\n",
       "      <td>...</td>\n",
       "      <td>...</td>\n",
       "      <td>...</td>\n",
       "      <td>...</td>\n",
       "      <td>...</td>\n",
       "      <td>...</td>\n",
       "      <td>...</td>\n",
       "    </tr>\n",
       "    <tr>\n",
       "      <th>8995</th>\n",
       "      <td>bd1c7382bcfa4f5981a8b98d50cdbf37</td>\n",
       "      <td>f60352f28fc0b03c54e1e389519945eb</td>\n",
       "      <td>183c8d2838e8800609793f5925479f8c</td>\n",
       "      <td>2021-04-03 14:17:21</td>\n",
       "      <td>2021-04-03</td>\n",
       "      <td>0.0</td>\n",
       "      <td>0.0</td>\n",
       "      <td>20.5</td>\n",
       "      <td>42.6</td>\n",
       "      <td>55.711662</td>\n",
       "      <td>...</td>\n",
       "      <td>0</td>\n",
       "      <td>14</td>\n",
       "      <td>0</td>\n",
       "      <td>5</td>\n",
       "      <td>1</td>\n",
       "      <td>-1</td>\n",
       "      <td>28.873239</td>\n",
       "      <td>0</td>\n",
       "      <td>1</td>\n",
       "      <td>0</td>\n",
       "    </tr>\n",
       "    <tr>\n",
       "      <th>8996</th>\n",
       "      <td>37a2c7ddf4e0e911d1f5b827a22424c6</td>\n",
       "      <td>52c7c1b99bf9eec8c36a3a852f4208a6</td>\n",
       "      <td>a3555aa482365082065ddbe2b60b7944</td>\n",
       "      <td>2021-04-03 14:17:44</td>\n",
       "      <td>2021-04-03</td>\n",
       "      <td>10.0</td>\n",
       "      <td>0.0</td>\n",
       "      <td>12.1</td>\n",
       "      <td>26.2</td>\n",
       "      <td>55.739415</td>\n",
       "      <td>...</td>\n",
       "      <td>1</td>\n",
       "      <td>14</td>\n",
       "      <td>0</td>\n",
       "      <td>5</td>\n",
       "      <td>1</td>\n",
       "      <td>12</td>\n",
       "      <td>27.709924</td>\n",
       "      <td>1</td>\n",
       "      <td>8</td>\n",
       "      <td>1</td>\n",
       "    </tr>\n",
       "    <tr>\n",
       "      <th>8997</th>\n",
       "      <td>675f5308235dfb532bc12c628568a431</td>\n",
       "      <td>36a26e1bdad8ffa82020449e4c670f0d</td>\n",
       "      <td>e5070710fc47d467ebc6488eeceed19a</td>\n",
       "      <td>2021-04-03 14:24:30</td>\n",
       "      <td>2021-04-03</td>\n",
       "      <td>60.0</td>\n",
       "      <td>0.0</td>\n",
       "      <td>3.9</td>\n",
       "      <td>11.4</td>\n",
       "      <td>55.739262</td>\n",
       "      <td>...</td>\n",
       "      <td>0</td>\n",
       "      <td>14</td>\n",
       "      <td>0</td>\n",
       "      <td>5</td>\n",
       "      <td>1</td>\n",
       "      <td>-1</td>\n",
       "      <td>20.526316</td>\n",
       "      <td>0</td>\n",
       "      <td>1</td>\n",
       "      <td>0</td>\n",
       "    </tr>\n",
       "    <tr>\n",
       "      <th>8998</th>\n",
       "      <td>209184a3e7d4cff49703e03ea9329ce7</td>\n",
       "      <td>68a076cc5bb1e50a25086baa275af6a0</td>\n",
       "      <td>35fae1e96d973ac127e8bfa7859f1964</td>\n",
       "      <td>2021-04-03 14:30:45</td>\n",
       "      <td>2021-04-03</td>\n",
       "      <td>2650.0</td>\n",
       "      <td>6.0</td>\n",
       "      <td>2.0</td>\n",
       "      <td>6.0</td>\n",
       "      <td>55.783070</td>\n",
       "      <td>...</td>\n",
       "      <td>0</td>\n",
       "      <td>14</td>\n",
       "      <td>0</td>\n",
       "      <td>5</td>\n",
       "      <td>1</td>\n",
       "      <td>-1</td>\n",
       "      <td>20.000000</td>\n",
       "      <td>0</td>\n",
       "      <td>1</td>\n",
       "      <td>0</td>\n",
       "    </tr>\n",
       "    <tr>\n",
       "      <th>8999</th>\n",
       "      <td>d1598b6d00f63b4470062724c50905b1</td>\n",
       "      <td>1ed2054808f94bb3b55486908eec6a3e</td>\n",
       "      <td>036d0078d76dad6ddf9e1d672ae13b02</td>\n",
       "      <td>2021-04-03 14:46:02</td>\n",
       "      <td>2021-04-03</td>\n",
       "      <td>2990.0</td>\n",
       "      <td>10.0</td>\n",
       "      <td>4.8</td>\n",
       "      <td>11.0</td>\n",
       "      <td>55.804893</td>\n",
       "      <td>...</td>\n",
       "      <td>0</td>\n",
       "      <td>14</td>\n",
       "      <td>0</td>\n",
       "      <td>5</td>\n",
       "      <td>1</td>\n",
       "      <td>-1</td>\n",
       "      <td>26.181818</td>\n",
       "      <td>0</td>\n",
       "      <td>1</td>\n",
       "      <td>0</td>\n",
       "    </tr>\n",
       "  </tbody>\n",
       "</table>\n",
       "<p>9000 rows × 28 columns</p>\n",
       "</div>"
      ],
      "text/plain": [
       "                              order_id                         driver_id  \\\n",
       "0     6a0f322ade1a05e5c4cec4344efbce8b  f7c2b293ef94420f5e51abae6889b83b   \n",
       "1     934ecbe5845426fd3f8ef7938cce2a11  01d029c42c99581080a60679fca06ff9   \n",
       "2     5348cb339b63eaea3b2cb57a064ce550  3c88deb7df7a73a24ebc229db9783405   \n",
       "3     309ef91c3b51e27d097642169576f67b  f35a8ff85f2095755f16bba91035fbdc   \n",
       "4     3506e04e45d39c6e3033637389da1041  0a227ac8d702170c03acf36d55e60d0d   \n",
       "...                                ...                               ...   \n",
       "8995  bd1c7382bcfa4f5981a8b98d50cdbf37  f60352f28fc0b03c54e1e389519945eb   \n",
       "8996  37a2c7ddf4e0e911d1f5b827a22424c6  52c7c1b99bf9eec8c36a3a852f4208a6   \n",
       "8997  675f5308235dfb532bc12c628568a431  36a26e1bdad8ffa82020449e4c670f0d   \n",
       "8998  209184a3e7d4cff49703e03ea9329ce7  68a076cc5bb1e50a25086baa275af6a0   \n",
       "8999  d1598b6d00f63b4470062724c50905b1  1ed2054808f94bb3b55486908eec6a3e   \n",
       "\n",
       "                             client_id                dttm        date  \\\n",
       "0     3156d05c6458a8228bed59f02075a61e 2021-01-22 21:53:00  2021-01-22   \n",
       "1     3156d05c6458a8228bed59f02075a61e 2021-01-24 14:09:00  2021-01-24   \n",
       "2     3156d05c6458a8228bed59f02075a61e 2021-01-26 21:02:00  2021-01-26   \n",
       "3     3156d05c6458a8228bed59f02075a61e 2021-01-27 17:24:00  2021-01-27   \n",
       "4     3156d05c6458a8228bed59f02075a61e 2021-01-29 15:31:00  2021-01-29   \n",
       "...                                ...                 ...         ...   \n",
       "8995  183c8d2838e8800609793f5925479f8c 2021-04-03 14:17:21  2021-04-03   \n",
       "8996  a3555aa482365082065ddbe2b60b7944 2021-04-03 14:17:44  2021-04-03   \n",
       "8997  e5070710fc47d467ebc6488eeceed19a 2021-04-03 14:24:30  2021-04-03   \n",
       "8998  35fae1e96d973ac127e8bfa7859f1964 2021-04-03 14:30:45  2021-04-03   \n",
       "8999  036d0078d76dad6ddf9e1d672ae13b02 2021-04-03 14:46:02  2021-04-03   \n",
       "\n",
       "      arrived_distance  arrived_duration  distance  duration  from_latitude  \\\n",
       "0                150.0               1.0      11.8      20.5      55.795900   \n",
       "1                570.0               1.0      17.2      26.2      55.716502   \n",
       "2                 40.0               0.0       5.8      10.9      55.716637   \n",
       "3                140.0               1.0       4.5      10.7      55.689076   \n",
       "4                150.0               1.0      15.4      25.1      55.655489   \n",
       "...                ...               ...       ...       ...            ...   \n",
       "8995               0.0               0.0      20.5      42.6      55.711662   \n",
       "8996              10.0               0.0      12.1      26.2      55.739415   \n",
       "8997              60.0               0.0       3.9      11.4      55.739262   \n",
       "8998            2650.0               6.0       2.0       6.0      55.783070   \n",
       "8999            2990.0              10.0       4.8      11.0      55.804893   \n",
       "\n",
       "      ...  is_comment  hour  traff_jam weekday  holiday  count_words  \\\n",
       "0     ...           0    21          1       4        0           -1   \n",
       "1     ...           0    14          0       6        1           -1   \n",
       "2     ...           0    21          1       1        0           -1   \n",
       "3     ...           0    17          0       2        0           -1   \n",
       "4     ...           0    15          0       4        0           -1   \n",
       "...   ...         ...   ...        ...     ...      ...          ...   \n",
       "8995  ...           0    14          0       5        1           -1   \n",
       "8996  ...           1    14          0       5        1           12   \n",
       "8997  ...           0    14          0       5        1           -1   \n",
       "8998  ...           0    14          0       5        1           -1   \n",
       "8999  ...           0    14          0       5        1           -1   \n",
       "\n",
       "          speed agg_words  normal_words  distance_thresh  \n",
       "0     34.536585         0             1                1  \n",
       "1     39.389313         1             0                1  \n",
       "2     31.926606         0             1                1  \n",
       "3     25.233645         0             1                0  \n",
       "4     36.812749         0             1                1  \n",
       "...         ...       ...           ...              ...  \n",
       "8995  28.873239         0             1                0  \n",
       "8996  27.709924         1             8                1  \n",
       "8997  20.526316         0             1                0  \n",
       "8998  20.000000         0             1                0  \n",
       "8999  26.181818         0             1                0  \n",
       "\n",
       "[9000 rows x 28 columns]"
      ]
     },
     "execution_count": 226,
     "metadata": {},
     "output_type": "execute_result"
    }
   ],
   "source": [
    "X"
   ]
  },
  {
   "cell_type": "markdown",
   "metadata": {},
   "source": [
    "# Train"
   ]
  },
  {
   "cell_type": "code",
   "execution_count": 481,
   "metadata": {},
   "outputs": [],
   "source": [
    "numeric_features = ['distance', 'arrived_distance', 'arrived_duration', 'duration', 'driver_rides_cnt', 'client_rides_cnt', 'client_rate_ride', 'count_words']\n",
    "\n",
    "categorical_features = ['mark', 'is_comment', 'hour', 'weekday', 'agg_words', 'normal_words']"
   ]
  },
  {
   "cell_type": "code",
   "execution_count": 482,
   "metadata": {},
   "outputs": [],
   "source": [
    "X_ = X[numeric_features + categorical_features]\n",
    "y_ = y"
   ]
  },
  {
   "cell_type": "code",
   "execution_count": 483,
   "metadata": {},
   "outputs": [],
   "source": [
    "# X_ = X_[(X.is_comment == False)]\n",
    "# y_ = y.loc[X_.index]"
   ]
  },
  {
   "cell_type": "markdown",
   "metadata": {},
   "source": [
    "full best score = 0.7744 <br />\n",
    "no comments score = 0.6245 <br />\n",
    "only comments score = 0.9966 <br />"
   ]
  },
  {
   "cell_type": "code",
   "execution_count": 507,
   "metadata": {},
   "outputs": [
    {
     "data": {
      "text/plain": [
       "<catboost.core.CatBoostClassifier at 0x7f2beeae08b0>"
      ]
     },
     "execution_count": 507,
     "metadata": {},
     "output_type": "execute_result"
    }
   ],
   "source": [
    "X_train, X_test, y_train, y_test = train_test_split(X_, y_, test_size = 0.2, random_state = 42)\n",
    "\n",
    "numeric_transformer = Pipeline(steps=[('scaler', StandardScaler())])\n",
    "categorical_transformer = OneHotEncoder(handle_unknown='ignore')\n",
    "\n",
    "model = CatBoostClassifier(iterations = 2000,\n",
    "                   depth = 2,\n",
    "                   silent = True,\n",
    "                   loss_function = 'Logloss',\n",
    "                   class_weights = (1, 2),\n",
    "                   random_state = 42)\n",
    "\n",
    "model.fit(X_train, y_train, cat_features = categorical_features)"
   ]
  },
  {
   "cell_type": "code",
   "execution_count": 508,
   "metadata": {},
   "outputs": [
    {
     "data": {
      "text/plain": [
       "0.7744731855851712"
      ]
     },
     "execution_count": 508,
     "metadata": {},
     "output_type": "execute_result"
    }
   ],
   "source": [
    "roc_auc_score(y_test, model.predict_proba(X_test).T[1])"
   ]
  },
  {
   "cell_type": "code",
   "execution_count": 509,
   "metadata": {},
   "outputs": [
    {
     "data": {
      "text/plain": [
       "0.6245186959869942"
      ]
     },
     "execution_count": 509,
     "metadata": {},
     "output_type": "execute_result"
    }
   ],
   "source": [
    "roc_auc_score(y_test.loc[X_test[(X_test.is_comment == 0)].index], model.predict_proba(X_test[(X_test.is_comment == 0)]).T[1])"
   ]
  },
  {
   "cell_type": "code",
   "execution_count": 510,
   "metadata": {},
   "outputs": [
    {
     "data": {
      "text/plain": [
       "0.9966300366300366"
      ]
     },
     "execution_count": 510,
     "metadata": {},
     "output_type": "execute_result"
    }
   ],
   "source": [
    "roc_auc_score(y_test.loc[X_test[(X_test.is_comment == 1)].index], model.predict_proba(X_test[(X_test.is_comment == 1)]).T[1])"
   ]
  },
  {
   "cell_type": "code",
   "execution_count": 511,
   "metadata": {},
   "outputs": [
    {
     "data": {
      "text/plain": [
       "0.932484076433121"
      ]
     },
     "execution_count": 511,
     "metadata": {},
     "output_type": "execute_result"
    }
   ],
   "source": [
    "sum(model.predict_proba(X_test[X_test.is_comment == 0]).T[1] < 0.1) \\\n",
    "/ len(model.predict_proba(X_test[X_test.is_comment == 0]).T[1])"
   ]
  },
  {
   "cell_type": "code",
   "execution_count": 512,
   "metadata": {},
   "outputs": [
    {
     "data": {
      "text/plain": [
       "0.7565217391304347"
      ]
     },
     "execution_count": 512,
     "metadata": {},
     "output_type": "execute_result"
    }
   ],
   "source": [
    "sum(model.predict_proba(X_test[X_test.is_comment == 1]).T[1] < 0.1) / len(model.predict_proba(X_test[X_test.is_comment == 1]).T[1])"
   ]
  },
  {
   "cell_type": "code",
   "execution_count": 513,
   "metadata": {},
   "outputs": [
    {
     "data": {
      "text/plain": [
       "array([ 4.61914254,  5.4891612 ,  0.60827655,  6.07629704,  2.57988672,\n",
       "        4.03349429,  1.60141666,  7.0521888 ,  1.98426128, 14.05981174,\n",
       "        3.93729472,  3.09562081, 14.42612294, 30.4370247 ])"
      ]
     },
     "execution_count": 513,
     "metadata": {},
     "output_type": "execute_result"
    }
   ],
   "source": [
    "model.feature_importances_"
   ]
  },
  {
   "cell_type": "code",
   "execution_count": 514,
   "metadata": {},
   "outputs": [],
   "source": [
    "import shap"
   ]
  },
  {
   "cell_type": "code",
   "execution_count": 515,
   "metadata": {},
   "outputs": [],
   "source": [
    "explainer = shap.TreeExplainer(model)"
   ]
  },
  {
   "cell_type": "code",
   "execution_count": 516,
   "metadata": {},
   "outputs": [],
   "source": [
    "shap_values = explainer.shap_values(X_train)"
   ]
  },
  {
   "cell_type": "code",
   "execution_count": 517,
   "metadata": {},
   "outputs": [
    {
     "data": {
      "image/png": "[encoded data removed]",
      "text/plain": [
       "<Figure size 576x511.2 with 2 Axes>"
      ]
     },
     "metadata": {
      "needs_background": "light"
     },
     "output_type": "display_data"
    }
   ],
   "source": [
    "shap.summary_plot(shap_values, X_train)"
   ]
  }
 ],
 "metadata": {
  "kernelspec": {
   "display_name": "Python 3",
   "language": "python",
   "name": "python3"
  },
  "language_info": {
   "codemirror_mode": {
    "name": "ipython",
    "version": 3
   },
   "file_extension": ".py",
   "mimetype": "text/x-python",
   "name": "python",
   "nbconvert_exporter": "python",
   "pygments_lexer": "ipython3",
   "version": "3.8.3"
  }
 },
 "nbformat": 4,
 "nbformat_minor": 4
}
