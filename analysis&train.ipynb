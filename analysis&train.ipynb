{
 "cells": [
  {
   "cell_type": "code",
   "execution_count": 587,
   "metadata": {},
   "outputs": [],
   "source": [
    "import numpy as np\n",
    "import pandas as pd\n",
    "\n",
    "from sklearn.compose import ColumnTransformer\n",
    "from sklearn.linear_model import LogisticRegression\n",
    "from catboost import CatBoostClassifier\n",
    "from sklearn.model_selection import train_test_split, GridSearchCV, cross_validate\n",
    "from sklearn.pipeline import Pipeline\n",
    "from sklearn.preprocessing import StandardScaler, OneHotEncoder\n",
    "\n",
    "\n",
    "import warnings\n",
    "warnings.filterwarnings(\"ignore\")"
   ]
  },
  {
   "cell_type": "code",
   "execution_count": 588,
   "metadata": {},
   "outputs": [],
   "source": [
    "train_labeled = pd.read_csv('data/labled_train_data.csv', index_col=0, sep='\\t', comment='#')\n",
    "comments_labeled = pd.read_csv('data/labled_train_comments.csv', index_col=0, sep='\\t', comment='#')\n",
    "tracks_labeled = pd.read_csv('data/labled_train_tracks.csv', index_col=0, sep='\\t', comment='#')\n",
    "\n",
    "train_unlabeled = pd.read_csv('data/unlabled_train_data.csv', index_col=0, sep='\\t', comment='#')\n",
    "comments_unlabeled = pd.read_csv('data/unlabled_train_comments.csv', index_col=0, sep='\\t', comment='#')\n",
    "tracks_unlabeled = pd.read_csv('data/unlabled_train_tracks.csv', index_col=0, sep='\\t', comment='#')"
   ]
  },
  {
   "cell_type": "code",
   "execution_count": 589,
   "metadata": {},
   "outputs": [],
   "source": [
    "X = train_labeled.iloc[:, :-1]\n",
    "y = train_labeled.iloc[:, -1:]"
   ]
  },
  {
   "cell_type": "code",
   "execution_count": 590,
   "metadata": {},
   "outputs": [],
   "source": [
    "X['client_rate_ride'] = X['client_rate_ride'].fillna(X['client_rate_ride'].mean())\n",
    "X['client_rides_cnt'] = X['client_rides_cnt'].fillna(X['client_rides_cnt'].mean())\n",
    "X['driver_rides_cnt'] = X['driver_rides_cnt'].fillna(X['driver_rides_cnt'].mean())"
   ]
  },
  {
   "cell_type": "code",
   "execution_count": 591,
   "metadata": {},
   "outputs": [
    {
     "data": {
      "text/html": [
       "<div>\n",
       "<style scoped>\n",
       "    .dataframe tbody tr th:only-of-type {\n",
       "        vertical-align: middle;\n",
       "    }\n",
       "\n",
       "    .dataframe tbody tr th {\n",
       "        vertical-align: top;\n",
       "    }\n",
       "\n",
       "    .dataframe thead th {\n",
       "        text-align: right;\n",
       "    }\n",
       "</style>\n",
       "<table border=\"1\" class=\"dataframe\">\n",
       "  <thead>\n",
       "    <tr style=\"text-align: right;\">\n",
       "      <th></th>\n",
       "      <th>order_id</th>\n",
       "      <th>driver_id</th>\n",
       "      <th>client_id</th>\n",
       "      <th>dttm</th>\n",
       "      <th>date</th>\n",
       "      <th>arrived_distance</th>\n",
       "      <th>arrived_duration</th>\n",
       "      <th>distance</th>\n",
       "      <th>duration</th>\n",
       "      <th>from_latitude</th>\n",
       "      <th>from_longitude</th>\n",
       "      <th>to_latitude</th>\n",
       "      <th>to_longitude</th>\n",
       "      <th>mark</th>\n",
       "      <th>client_rate_ride</th>\n",
       "      <th>client_rides_cnt</th>\n",
       "      <th>driver_rides_cnt</th>\n",
       "      <th>comment</th>\n",
       "    </tr>\n",
       "  </thead>\n",
       "  <tbody>\n",
       "    <tr>\n",
       "      <th>0</th>\n",
       "      <td>6a0f322ade1a05e5c4cec4344efbce8b</td>\n",
       "      <td>f7c2b293ef94420f5e51abae6889b83b</td>\n",
       "      <td>3156d05c6458a8228bed59f02075a61e</td>\n",
       "      <td>2021-01-22 21:53:00</td>\n",
       "      <td>2021-01-22</td>\n",
       "      <td>150.0</td>\n",
       "      <td>1.0</td>\n",
       "      <td>11.8</td>\n",
       "      <td>20.5</td>\n",
       "      <td>55.795900</td>\n",
       "      <td>37.560300</td>\n",
       "      <td>55.716502</td>\n",
       "      <td>37.524627</td>\n",
       "      <td>Kia K5</td>\n",
       "      <td>4.877908</td>\n",
       "      <td>16.0</td>\n",
       "      <td>39.0</td>\n",
       "      <td>Больше нечего сказать</td>\n",
       "    </tr>\n",
       "    <tr>\n",
       "      <th>1</th>\n",
       "      <td>934ecbe5845426fd3f8ef7938cce2a11</td>\n",
       "      <td>01d029c42c99581080a60679fca06ff9</td>\n",
       "      <td>3156d05c6458a8228bed59f02075a61e</td>\n",
       "      <td>2021-01-24 14:09:00</td>\n",
       "      <td>2021-01-24</td>\n",
       "      <td>570.0</td>\n",
       "      <td>1.0</td>\n",
       "      <td>17.2</td>\n",
       "      <td>26.2</td>\n",
       "      <td>55.716502</td>\n",
       "      <td>37.524627</td>\n",
       "      <td>55.808253</td>\n",
       "      <td>37.638847</td>\n",
       "      <td>Volkswagen Polo</td>\n",
       "      <td>4.877908</td>\n",
       "      <td>18.0</td>\n",
       "      <td>338.0</td>\n",
       "      <td>Да</td>\n",
       "    </tr>\n",
       "    <tr>\n",
       "      <th>2</th>\n",
       "      <td>5348cb339b63eaea3b2cb57a064ce550</td>\n",
       "      <td>3c88deb7df7a73a24ebc229db9783405</td>\n",
       "      <td>3156d05c6458a8228bed59f02075a61e</td>\n",
       "      <td>2021-01-26 21:02:00</td>\n",
       "      <td>2021-01-26</td>\n",
       "      <td>40.0</td>\n",
       "      <td>0.0</td>\n",
       "      <td>5.8</td>\n",
       "      <td>10.9</td>\n",
       "      <td>55.716637</td>\n",
       "      <td>37.524223</td>\n",
       "      <td>55.741958</td>\n",
       "      <td>37.568172</td>\n",
       "      <td>MercedesBenz EClass</td>\n",
       "      <td>4.877908</td>\n",
       "      <td>17.0</td>\n",
       "      <td>162.0</td>\n",
       "      <td>Больше нечего сказать</td>\n",
       "    </tr>\n",
       "    <tr>\n",
       "      <th>3</th>\n",
       "      <td>309ef91c3b51e27d097642169576f67b</td>\n",
       "      <td>f35a8ff85f2095755f16bba91035fbdc</td>\n",
       "      <td>3156d05c6458a8228bed59f02075a61e</td>\n",
       "      <td>2021-01-27 17:24:00</td>\n",
       "      <td>2021-01-27</td>\n",
       "      <td>140.0</td>\n",
       "      <td>1.0</td>\n",
       "      <td>4.5</td>\n",
       "      <td>10.7</td>\n",
       "      <td>55.689076</td>\n",
       "      <td>37.491088</td>\n",
       "      <td>55.716502</td>\n",
       "      <td>37.524627</td>\n",
       "      <td>Kia Optima</td>\n",
       "      <td>4.877908</td>\n",
       "      <td>18.0</td>\n",
       "      <td>136.0</td>\n",
       "      <td>Больше нечего сказать</td>\n",
       "    </tr>\n",
       "    <tr>\n",
       "      <th>4</th>\n",
       "      <td>3506e04e45d39c6e3033637389da1041</td>\n",
       "      <td>0a227ac8d702170c03acf36d55e60d0d</td>\n",
       "      <td>3156d05c6458a8228bed59f02075a61e</td>\n",
       "      <td>2021-01-29 15:31:00</td>\n",
       "      <td>2021-01-29</td>\n",
       "      <td>150.0</td>\n",
       "      <td>1.0</td>\n",
       "      <td>15.4</td>\n",
       "      <td>25.1</td>\n",
       "      <td>55.655489</td>\n",
       "      <td>37.616629</td>\n",
       "      <td>55.716502</td>\n",
       "      <td>37.524627</td>\n",
       "      <td>Kia Rio</td>\n",
       "      <td>5.000000</td>\n",
       "      <td>20.0</td>\n",
       "      <td>194.0</td>\n",
       "      <td>Больше нечего сказать</td>\n",
       "    </tr>\n",
       "    <tr>\n",
       "      <th>...</th>\n",
       "      <td>...</td>\n",
       "      <td>...</td>\n",
       "      <td>...</td>\n",
       "      <td>...</td>\n",
       "      <td>...</td>\n",
       "      <td>...</td>\n",
       "      <td>...</td>\n",
       "      <td>...</td>\n",
       "      <td>...</td>\n",
       "      <td>...</td>\n",
       "      <td>...</td>\n",
       "      <td>...</td>\n",
       "      <td>...</td>\n",
       "      <td>...</td>\n",
       "      <td>...</td>\n",
       "      <td>...</td>\n",
       "      <td>...</td>\n",
       "      <td>...</td>\n",
       "    </tr>\n",
       "    <tr>\n",
       "      <th>8995</th>\n",
       "      <td>bd1c7382bcfa4f5981a8b98d50cdbf37</td>\n",
       "      <td>f60352f28fc0b03c54e1e389519945eb</td>\n",
       "      <td>183c8d2838e8800609793f5925479f8c</td>\n",
       "      <td>2021-04-03 14:17:21</td>\n",
       "      <td>2021-04-03</td>\n",
       "      <td>0.0</td>\n",
       "      <td>0.0</td>\n",
       "      <td>20.5</td>\n",
       "      <td>42.6</td>\n",
       "      <td>55.711662</td>\n",
       "      <td>37.758961</td>\n",
       "      <td>55.748140</td>\n",
       "      <td>37.538721</td>\n",
       "      <td>Kia Optima</td>\n",
       "      <td>5.000000</td>\n",
       "      <td>14.0</td>\n",
       "      <td>79.0</td>\n",
       "      <td>Больше нечего сказать</td>\n",
       "    </tr>\n",
       "    <tr>\n",
       "      <th>8996</th>\n",
       "      <td>37a2c7ddf4e0e911d1f5b827a22424c6</td>\n",
       "      <td>52c7c1b99bf9eec8c36a3a852f4208a6</td>\n",
       "      <td>a3555aa482365082065ddbe2b60b7944</td>\n",
       "      <td>2021-04-03 14:17:44</td>\n",
       "      <td>2021-04-03</td>\n",
       "      <td>10.0</td>\n",
       "      <td>0.0</td>\n",
       "      <td>12.1</td>\n",
       "      <td>26.2</td>\n",
       "      <td>55.739415</td>\n",
       "      <td>37.649726</td>\n",
       "      <td>55.816200</td>\n",
       "      <td>37.631172</td>\n",
       "      <td>Lada Vesta</td>\n",
       "      <td>4.877908</td>\n",
       "      <td>38.0</td>\n",
       "      <td>383.0</td>\n",
       "      <td>На заднем сиденье жёлтые полосы и пятна остали...</td>\n",
       "    </tr>\n",
       "    <tr>\n",
       "      <th>8997</th>\n",
       "      <td>675f5308235dfb532bc12c628568a431</td>\n",
       "      <td>36a26e1bdad8ffa82020449e4c670f0d</td>\n",
       "      <td>e5070710fc47d467ebc6488eeceed19a</td>\n",
       "      <td>2021-04-03 14:24:30</td>\n",
       "      <td>2021-04-03</td>\n",
       "      <td>60.0</td>\n",
       "      <td>0.0</td>\n",
       "      <td>3.9</td>\n",
       "      <td>11.4</td>\n",
       "      <td>55.739262</td>\n",
       "      <td>37.633640</td>\n",
       "      <td>55.747094</td>\n",
       "      <td>37.605861</td>\n",
       "      <td>Kia Ceed</td>\n",
       "      <td>4.877908</td>\n",
       "      <td>14.0</td>\n",
       "      <td>38.0</td>\n",
       "      <td>Больше нечего сказать</td>\n",
       "    </tr>\n",
       "    <tr>\n",
       "      <th>8998</th>\n",
       "      <td>209184a3e7d4cff49703e03ea9329ce7</td>\n",
       "      <td>68a076cc5bb1e50a25086baa275af6a0</td>\n",
       "      <td>35fae1e96d973ac127e8bfa7859f1964</td>\n",
       "      <td>2021-04-03 14:30:45</td>\n",
       "      <td>2021-04-03</td>\n",
       "      <td>2650.0</td>\n",
       "      <td>6.0</td>\n",
       "      <td>2.0</td>\n",
       "      <td>6.0</td>\n",
       "      <td>55.783070</td>\n",
       "      <td>37.578504</td>\n",
       "      <td>55.795784</td>\n",
       "      <td>37.584560</td>\n",
       "      <td>Kia Rio</td>\n",
       "      <td>4.877908</td>\n",
       "      <td>32.0</td>\n",
       "      <td>121.0</td>\n",
       "      <td>Больше нечего сказать</td>\n",
       "    </tr>\n",
       "    <tr>\n",
       "      <th>8999</th>\n",
       "      <td>d1598b6d00f63b4470062724c50905b1</td>\n",
       "      <td>1ed2054808f94bb3b55486908eec6a3e</td>\n",
       "      <td>036d0078d76dad6ddf9e1d672ae13b02</td>\n",
       "      <td>2021-04-03 14:46:02</td>\n",
       "      <td>2021-04-03</td>\n",
       "      <td>2990.0</td>\n",
       "      <td>10.0</td>\n",
       "      <td>4.8</td>\n",
       "      <td>11.0</td>\n",
       "      <td>55.804893</td>\n",
       "      <td>37.846828</td>\n",
       "      <td>55.810376</td>\n",
       "      <td>37.798868</td>\n",
       "      <td>Skoda Octavia</td>\n",
       "      <td>5.000000</td>\n",
       "      <td>34.0</td>\n",
       "      <td>391.0</td>\n",
       "      <td>Больше нечего сказать</td>\n",
       "    </tr>\n",
       "  </tbody>\n",
       "</table>\n",
       "<p>9000 rows × 18 columns</p>\n",
       "</div>"
      ],
      "text/plain": [
       "                              order_id                         driver_id  \\\n",
       "0     6a0f322ade1a05e5c4cec4344efbce8b  f7c2b293ef94420f5e51abae6889b83b   \n",
       "1     934ecbe5845426fd3f8ef7938cce2a11  01d029c42c99581080a60679fca06ff9   \n",
       "2     5348cb339b63eaea3b2cb57a064ce550  3c88deb7df7a73a24ebc229db9783405   \n",
       "3     309ef91c3b51e27d097642169576f67b  f35a8ff85f2095755f16bba91035fbdc   \n",
       "4     3506e04e45d39c6e3033637389da1041  0a227ac8d702170c03acf36d55e60d0d   \n",
       "...                                ...                               ...   \n",
       "8995  bd1c7382bcfa4f5981a8b98d50cdbf37  f60352f28fc0b03c54e1e389519945eb   \n",
       "8996  37a2c7ddf4e0e911d1f5b827a22424c6  52c7c1b99bf9eec8c36a3a852f4208a6   \n",
       "8997  675f5308235dfb532bc12c628568a431  36a26e1bdad8ffa82020449e4c670f0d   \n",
       "8998  209184a3e7d4cff49703e03ea9329ce7  68a076cc5bb1e50a25086baa275af6a0   \n",
       "8999  d1598b6d00f63b4470062724c50905b1  1ed2054808f94bb3b55486908eec6a3e   \n",
       "\n",
       "                             client_id                 dttm        date  \\\n",
       "0     3156d05c6458a8228bed59f02075a61e  2021-01-22 21:53:00  2021-01-22   \n",
       "1     3156d05c6458a8228bed59f02075a61e  2021-01-24 14:09:00  2021-01-24   \n",
       "2     3156d05c6458a8228bed59f02075a61e  2021-01-26 21:02:00  2021-01-26   \n",
       "3     3156d05c6458a8228bed59f02075a61e  2021-01-27 17:24:00  2021-01-27   \n",
       "4     3156d05c6458a8228bed59f02075a61e  2021-01-29 15:31:00  2021-01-29   \n",
       "...                                ...                  ...         ...   \n",
       "8995  183c8d2838e8800609793f5925479f8c  2021-04-03 14:17:21  2021-04-03   \n",
       "8996  a3555aa482365082065ddbe2b60b7944  2021-04-03 14:17:44  2021-04-03   \n",
       "8997  e5070710fc47d467ebc6488eeceed19a  2021-04-03 14:24:30  2021-04-03   \n",
       "8998  35fae1e96d973ac127e8bfa7859f1964  2021-04-03 14:30:45  2021-04-03   \n",
       "8999  036d0078d76dad6ddf9e1d672ae13b02  2021-04-03 14:46:02  2021-04-03   \n",
       "\n",
       "      arrived_distance  arrived_duration  distance  duration  from_latitude  \\\n",
       "0                150.0               1.0      11.8      20.5      55.795900   \n",
       "1                570.0               1.0      17.2      26.2      55.716502   \n",
       "2                 40.0               0.0       5.8      10.9      55.716637   \n",
       "3                140.0               1.0       4.5      10.7      55.689076   \n",
       "4                150.0               1.0      15.4      25.1      55.655489   \n",
       "...                ...               ...       ...       ...            ...   \n",
       "8995               0.0               0.0      20.5      42.6      55.711662   \n",
       "8996              10.0               0.0      12.1      26.2      55.739415   \n",
       "8997              60.0               0.0       3.9      11.4      55.739262   \n",
       "8998            2650.0               6.0       2.0       6.0      55.783070   \n",
       "8999            2990.0              10.0       4.8      11.0      55.804893   \n",
       "\n",
       "      from_longitude  to_latitude  to_longitude                 mark  \\\n",
       "0          37.560300    55.716502     37.524627               Kia K5   \n",
       "1          37.524627    55.808253     37.638847      Volkswagen Polo   \n",
       "2          37.524223    55.741958     37.568172  MercedesBenz EClass   \n",
       "3          37.491088    55.716502     37.524627           Kia Optima   \n",
       "4          37.616629    55.716502     37.524627              Kia Rio   \n",
       "...              ...          ...           ...                  ...   \n",
       "8995       37.758961    55.748140     37.538721           Kia Optima   \n",
       "8996       37.649726    55.816200     37.631172           Lada Vesta   \n",
       "8997       37.633640    55.747094     37.605861             Kia Ceed   \n",
       "8998       37.578504    55.795784     37.584560              Kia Rio   \n",
       "8999       37.846828    55.810376     37.798868        Skoda Octavia   \n",
       "\n",
       "      client_rate_ride  client_rides_cnt  driver_rides_cnt  \\\n",
       "0             4.877908              16.0              39.0   \n",
       "1             4.877908              18.0             338.0   \n",
       "2             4.877908              17.0             162.0   \n",
       "3             4.877908              18.0             136.0   \n",
       "4             5.000000              20.0             194.0   \n",
       "...                ...               ...               ...   \n",
       "8995          5.000000              14.0              79.0   \n",
       "8996          4.877908              38.0             383.0   \n",
       "8997          4.877908              14.0              38.0   \n",
       "8998          4.877908              32.0             121.0   \n",
       "8999          5.000000              34.0             391.0   \n",
       "\n",
       "                                                comment  \n",
       "0                                 Больше нечего сказать  \n",
       "1                                                    Да  \n",
       "2                                 Больше нечего сказать  \n",
       "3                                 Больше нечего сказать  \n",
       "4                                 Больше нечего сказать  \n",
       "...                                                 ...  \n",
       "8995                              Больше нечего сказать  \n",
       "8996  На заднем сиденье жёлтые полосы и пятна остали...  \n",
       "8997                              Больше нечего сказать  \n",
       "8998                              Больше нечего сказать  \n",
       "8999                              Больше нечего сказать  \n",
       "\n",
       "[9000 rows x 18 columns]"
      ]
     },
     "execution_count": 591,
     "metadata": {},
     "output_type": "execute_result"
    }
   ],
   "source": [
    "X"
   ]
  },
  {
   "cell_type": "markdown",
   "metadata": {},
   "source": [
    "# Analysis"
   ]
  },
  {
   "cell_type": "code",
   "execution_count": 592,
   "metadata": {},
   "outputs": [],
   "source": [
    "dataset_joined = X.join(y)"
   ]
  },
  {
   "cell_type": "code",
   "execution_count": 593,
   "metadata": {},
   "outputs": [
    {
     "data": {
      "text/html": [
       "<div>\n",
       "<style scoped>\n",
       "    .dataframe tbody tr th:only-of-type {\n",
       "        vertical-align: middle;\n",
       "    }\n",
       "\n",
       "    .dataframe tbody tr th {\n",
       "        vertical-align: top;\n",
       "    }\n",
       "\n",
       "    .dataframe thead th {\n",
       "        text-align: right;\n",
       "    }\n",
       "</style>\n",
       "<table border=\"1\" class=\"dataframe\">\n",
       "  <thead>\n",
       "    <tr style=\"text-align: right;\">\n",
       "      <th></th>\n",
       "      <th>dttm</th>\n",
       "      <th>date</th>\n",
       "      <th>arrived_distance</th>\n",
       "      <th>arrived_duration</th>\n",
       "      <th>distance</th>\n",
       "      <th>duration</th>\n",
       "      <th>from_latitude</th>\n",
       "      <th>from_longitude</th>\n",
       "      <th>to_latitude</th>\n",
       "      <th>to_longitude</th>\n",
       "      <th>mark</th>\n",
       "      <th>client_rate_ride</th>\n",
       "      <th>client_rides_cnt</th>\n",
       "      <th>driver_rides_cnt</th>\n",
       "      <th>comment</th>\n",
       "      <th>is_aggressive</th>\n",
       "    </tr>\n",
       "  </thead>\n",
       "  <tbody>\n",
       "    <tr>\n",
       "      <th>0</th>\n",
       "      <td>2021-01-22 21:53:00</td>\n",
       "      <td>2021-01-22</td>\n",
       "      <td>150.0</td>\n",
       "      <td>1.0</td>\n",
       "      <td>11.8</td>\n",
       "      <td>20.5</td>\n",
       "      <td>55.795900</td>\n",
       "      <td>37.560300</td>\n",
       "      <td>55.716502</td>\n",
       "      <td>37.524627</td>\n",
       "      <td>Kia K5</td>\n",
       "      <td>4.877908</td>\n",
       "      <td>16.0</td>\n",
       "      <td>39.0</td>\n",
       "      <td>Больше нечего сказать</td>\n",
       "      <td>0</td>\n",
       "    </tr>\n",
       "    <tr>\n",
       "      <th>1</th>\n",
       "      <td>2021-01-24 14:09:00</td>\n",
       "      <td>2021-01-24</td>\n",
       "      <td>570.0</td>\n",
       "      <td>1.0</td>\n",
       "      <td>17.2</td>\n",
       "      <td>26.2</td>\n",
       "      <td>55.716502</td>\n",
       "      <td>37.524627</td>\n",
       "      <td>55.808253</td>\n",
       "      <td>37.638847</td>\n",
       "      <td>Volkswagen Polo</td>\n",
       "      <td>4.877908</td>\n",
       "      <td>18.0</td>\n",
       "      <td>338.0</td>\n",
       "      <td>Да</td>\n",
       "      <td>0</td>\n",
       "    </tr>\n",
       "    <tr>\n",
       "      <th>2</th>\n",
       "      <td>2021-01-26 21:02:00</td>\n",
       "      <td>2021-01-26</td>\n",
       "      <td>40.0</td>\n",
       "      <td>0.0</td>\n",
       "      <td>5.8</td>\n",
       "      <td>10.9</td>\n",
       "      <td>55.716637</td>\n",
       "      <td>37.524223</td>\n",
       "      <td>55.741958</td>\n",
       "      <td>37.568172</td>\n",
       "      <td>MercedesBenz EClass</td>\n",
       "      <td>4.877908</td>\n",
       "      <td>17.0</td>\n",
       "      <td>162.0</td>\n",
       "      <td>Больше нечего сказать</td>\n",
       "      <td>0</td>\n",
       "    </tr>\n",
       "    <tr>\n",
       "      <th>3</th>\n",
       "      <td>2021-01-27 17:24:00</td>\n",
       "      <td>2021-01-27</td>\n",
       "      <td>140.0</td>\n",
       "      <td>1.0</td>\n",
       "      <td>4.5</td>\n",
       "      <td>10.7</td>\n",
       "      <td>55.689076</td>\n",
       "      <td>37.491088</td>\n",
       "      <td>55.716502</td>\n",
       "      <td>37.524627</td>\n",
       "      <td>Kia Optima</td>\n",
       "      <td>4.877908</td>\n",
       "      <td>18.0</td>\n",
       "      <td>136.0</td>\n",
       "      <td>Больше нечего сказать</td>\n",
       "      <td>0</td>\n",
       "    </tr>\n",
       "    <tr>\n",
       "      <th>4</th>\n",
       "      <td>2021-01-29 15:31:00</td>\n",
       "      <td>2021-01-29</td>\n",
       "      <td>150.0</td>\n",
       "      <td>1.0</td>\n",
       "      <td>15.4</td>\n",
       "      <td>25.1</td>\n",
       "      <td>55.655489</td>\n",
       "      <td>37.616629</td>\n",
       "      <td>55.716502</td>\n",
       "      <td>37.524627</td>\n",
       "      <td>Kia Rio</td>\n",
       "      <td>5.000000</td>\n",
       "      <td>20.0</td>\n",
       "      <td>194.0</td>\n",
       "      <td>Больше нечего сказать</td>\n",
       "      <td>0</td>\n",
       "    </tr>\n",
       "    <tr>\n",
       "      <th>...</th>\n",
       "      <td>...</td>\n",
       "      <td>...</td>\n",
       "      <td>...</td>\n",
       "      <td>...</td>\n",
       "      <td>...</td>\n",
       "      <td>...</td>\n",
       "      <td>...</td>\n",
       "      <td>...</td>\n",
       "      <td>...</td>\n",
       "      <td>...</td>\n",
       "      <td>...</td>\n",
       "      <td>...</td>\n",
       "      <td>...</td>\n",
       "      <td>...</td>\n",
       "      <td>...</td>\n",
       "      <td>...</td>\n",
       "    </tr>\n",
       "    <tr>\n",
       "      <th>8995</th>\n",
       "      <td>2021-04-03 14:17:21</td>\n",
       "      <td>2021-04-03</td>\n",
       "      <td>0.0</td>\n",
       "      <td>0.0</td>\n",
       "      <td>20.5</td>\n",
       "      <td>42.6</td>\n",
       "      <td>55.711662</td>\n",
       "      <td>37.758961</td>\n",
       "      <td>55.748140</td>\n",
       "      <td>37.538721</td>\n",
       "      <td>Kia Optima</td>\n",
       "      <td>5.000000</td>\n",
       "      <td>14.0</td>\n",
       "      <td>79.0</td>\n",
       "      <td>Больше нечего сказать</td>\n",
       "      <td>0</td>\n",
       "    </tr>\n",
       "    <tr>\n",
       "      <th>8996</th>\n",
       "      <td>2021-04-03 14:17:44</td>\n",
       "      <td>2021-04-03</td>\n",
       "      <td>10.0</td>\n",
       "      <td>0.0</td>\n",
       "      <td>12.1</td>\n",
       "      <td>26.2</td>\n",
       "      <td>55.739415</td>\n",
       "      <td>37.649726</td>\n",
       "      <td>55.816200</td>\n",
       "      <td>37.631172</td>\n",
       "      <td>Lada Vesta</td>\n",
       "      <td>4.877908</td>\n",
       "      <td>38.0</td>\n",
       "      <td>383.0</td>\n",
       "      <td>На заднем сиденье жёлтые полосы и пятна остали...</td>\n",
       "      <td>0</td>\n",
       "    </tr>\n",
       "    <tr>\n",
       "      <th>8997</th>\n",
       "      <td>2021-04-03 14:24:30</td>\n",
       "      <td>2021-04-03</td>\n",
       "      <td>60.0</td>\n",
       "      <td>0.0</td>\n",
       "      <td>3.9</td>\n",
       "      <td>11.4</td>\n",
       "      <td>55.739262</td>\n",
       "      <td>37.633640</td>\n",
       "      <td>55.747094</td>\n",
       "      <td>37.605861</td>\n",
       "      <td>Kia Ceed</td>\n",
       "      <td>4.877908</td>\n",
       "      <td>14.0</td>\n",
       "      <td>38.0</td>\n",
       "      <td>Больше нечего сказать</td>\n",
       "      <td>0</td>\n",
       "    </tr>\n",
       "    <tr>\n",
       "      <th>8998</th>\n",
       "      <td>2021-04-03 14:30:45</td>\n",
       "      <td>2021-04-03</td>\n",
       "      <td>2650.0</td>\n",
       "      <td>6.0</td>\n",
       "      <td>2.0</td>\n",
       "      <td>6.0</td>\n",
       "      <td>55.783070</td>\n",
       "      <td>37.578504</td>\n",
       "      <td>55.795784</td>\n",
       "      <td>37.584560</td>\n",
       "      <td>Kia Rio</td>\n",
       "      <td>4.877908</td>\n",
       "      <td>32.0</td>\n",
       "      <td>121.0</td>\n",
       "      <td>Больше нечего сказать</td>\n",
       "      <td>0</td>\n",
       "    </tr>\n",
       "    <tr>\n",
       "      <th>8999</th>\n",
       "      <td>2021-04-03 14:46:02</td>\n",
       "      <td>2021-04-03</td>\n",
       "      <td>2990.0</td>\n",
       "      <td>10.0</td>\n",
       "      <td>4.8</td>\n",
       "      <td>11.0</td>\n",
       "      <td>55.804893</td>\n",
       "      <td>37.846828</td>\n",
       "      <td>55.810376</td>\n",
       "      <td>37.798868</td>\n",
       "      <td>Skoda Octavia</td>\n",
       "      <td>5.000000</td>\n",
       "      <td>34.0</td>\n",
       "      <td>391.0</td>\n",
       "      <td>Больше нечего сказать</td>\n",
       "      <td>0</td>\n",
       "    </tr>\n",
       "  </tbody>\n",
       "</table>\n",
       "<p>9000 rows × 16 columns</p>\n",
       "</div>"
      ],
      "text/plain": [
       "                     dttm        date  arrived_distance  arrived_duration  \\\n",
       "0     2021-01-22 21:53:00  2021-01-22             150.0               1.0   \n",
       "1     2021-01-24 14:09:00  2021-01-24             570.0               1.0   \n",
       "2     2021-01-26 21:02:00  2021-01-26              40.0               0.0   \n",
       "3     2021-01-27 17:24:00  2021-01-27             140.0               1.0   \n",
       "4     2021-01-29 15:31:00  2021-01-29             150.0               1.0   \n",
       "...                   ...         ...               ...               ...   \n",
       "8995  2021-04-03 14:17:21  2021-04-03               0.0               0.0   \n",
       "8996  2021-04-03 14:17:44  2021-04-03              10.0               0.0   \n",
       "8997  2021-04-03 14:24:30  2021-04-03              60.0               0.0   \n",
       "8998  2021-04-03 14:30:45  2021-04-03            2650.0               6.0   \n",
       "8999  2021-04-03 14:46:02  2021-04-03            2990.0              10.0   \n",
       "\n",
       "      distance  duration  from_latitude  from_longitude  to_latitude  \\\n",
       "0         11.8      20.5      55.795900       37.560300    55.716502   \n",
       "1         17.2      26.2      55.716502       37.524627    55.808253   \n",
       "2          5.8      10.9      55.716637       37.524223    55.741958   \n",
       "3          4.5      10.7      55.689076       37.491088    55.716502   \n",
       "4         15.4      25.1      55.655489       37.616629    55.716502   \n",
       "...        ...       ...            ...             ...          ...   \n",
       "8995      20.5      42.6      55.711662       37.758961    55.748140   \n",
       "8996      12.1      26.2      55.739415       37.649726    55.816200   \n",
       "8997       3.9      11.4      55.739262       37.633640    55.747094   \n",
       "8998       2.0       6.0      55.783070       37.578504    55.795784   \n",
       "8999       4.8      11.0      55.804893       37.846828    55.810376   \n",
       "\n",
       "      to_longitude                 mark  client_rate_ride  client_rides_cnt  \\\n",
       "0        37.524627               Kia K5          4.877908              16.0   \n",
       "1        37.638847      Volkswagen Polo          4.877908              18.0   \n",
       "2        37.568172  MercedesBenz EClass          4.877908              17.0   \n",
       "3        37.524627           Kia Optima          4.877908              18.0   \n",
       "4        37.524627              Kia Rio          5.000000              20.0   \n",
       "...            ...                  ...               ...               ...   \n",
       "8995     37.538721           Kia Optima          5.000000              14.0   \n",
       "8996     37.631172           Lada Vesta          4.877908              38.0   \n",
       "8997     37.605861             Kia Ceed          4.877908              14.0   \n",
       "8998     37.584560              Kia Rio          4.877908              32.0   \n",
       "8999     37.798868        Skoda Octavia          5.000000              34.0   \n",
       "\n",
       "      driver_rides_cnt                                            comment  \\\n",
       "0                 39.0                              Больше нечего сказать   \n",
       "1                338.0                                                 Да   \n",
       "2                162.0                              Больше нечего сказать   \n",
       "3                136.0                              Больше нечего сказать   \n",
       "4                194.0                              Больше нечего сказать   \n",
       "...                ...                                                ...   \n",
       "8995              79.0                              Больше нечего сказать   \n",
       "8996             383.0  На заднем сиденье жёлтые полосы и пятна остали...   \n",
       "8997              38.0                              Больше нечего сказать   \n",
       "8998             121.0                              Больше нечего сказать   \n",
       "8999             391.0                              Больше нечего сказать   \n",
       "\n",
       "      is_aggressive  \n",
       "0                 0  \n",
       "1                 0  \n",
       "2                 0  \n",
       "3                 0  \n",
       "4                 0  \n",
       "...             ...  \n",
       "8995              0  \n",
       "8996              0  \n",
       "8997              0  \n",
       "8998              0  \n",
       "8999              0  \n",
       "\n",
       "[9000 rows x 16 columns]"
      ]
     },
     "execution_count": 593,
     "metadata": {},
     "output_type": "execute_result"
    }
   ],
   "source": [
    "dataset_joined[dataset_joined.columns[3: ]]"
   ]
  },
  {
   "cell_type": "markdown",
   "metadata": {},
   "source": [
    "### Comments"
   ]
  },
  {
   "cell_type": "markdown",
   "metadata": {},
   "source": [
    "Как много комментариев было оставлено в случае агрессивной поездки?"
   ]
  },
  {
   "cell_type": "code",
   "execution_count": 594,
   "metadata": {},
   "outputs": [
    {
     "name": "stdout",
     "output_type": "stream",
     "text": [
      "43.28703703703704%\n"
     ]
    }
   ],
   "source": [
    "print(\"{}%\".format((1 - sum(dataset_joined[dataset_joined.is_aggressive == True].comment == 'Больше нечего сказать') / \\\n",
    "len(dataset_joined[dataset_joined.is_aggressive == True])) * 100))"
   ]
  },
  {
   "cell_type": "markdown",
   "metadata": {},
   "source": [
    "А в случае неагрессивной?"
   ]
  },
  {
   "cell_type": "code",
   "execution_count": 595,
   "metadata": {},
   "outputs": [
    {
     "name": "stdout",
     "output_type": "stream",
     "text": [
      "13.935574229691872%\n"
     ]
    }
   ],
   "source": [
    "print(\"{}%\".format((1 - sum(dataset_joined[dataset_joined.is_aggressive == False].comment == 'Больше нечего сказать') / \\\n",
    "len(dataset_joined[dataset_joined.is_aggressive == False])) * 100))"
   ]
  },
  {
   "cell_type": "code",
   "execution_count": 596,
   "metadata": {},
   "outputs": [],
   "source": [
    "comment_phrases = list(dataset_joined.comment.value_counts().index[: 10])"
   ]
  },
  {
   "cell_type": "code",
   "execution_count": 597,
   "metadata": {},
   "outputs": [],
   "source": [
    "dataset_joined['is_comment'] = (~np.isin(dataset_joined.comment, comment_phrases)).astype(int)"
   ]
  },
  {
   "cell_type": "code",
   "execution_count": 598,
   "metadata": {},
   "outputs": [
    {
     "data": {
      "text/plain": [
       "'Очень вежливый'"
      ]
     },
     "execution_count": 598,
     "metadata": {},
     "output_type": "execute_result"
    }
   ],
   "source": [
    "(dataset_joined[(dataset_joined.is_comment == 1) & (dataset_joined.is_aggressive == 1)].comment).iloc[8]"
   ]
  },
  {
   "cell_type": "markdown",
   "metadata": {},
   "source": [
    "### Numerical features"
   ]
  },
  {
   "cell_type": "markdown",
   "metadata": {},
   "source": [
    "Средняя дальность поездки с агрессивным и обычным водителем"
   ]
  },
  {
   "cell_type": "code",
   "execution_count": 599,
   "metadata": {},
   "outputs": [
    {
     "data": {
      "text/plain": [
       "(13.435185185185187, 11.06733193277315)"
      ]
     },
     "execution_count": 599,
     "metadata": {},
     "output_type": "execute_result"
    }
   ],
   "source": [
    "dataset_joined[dataset_joined.is_aggressive == True].distance.mean(), dataset_joined[dataset_joined.is_aggressive == False].distance.mean()"
   ]
  },
  {
   "cell_type": "markdown",
   "metadata": {},
   "source": [
    "Средняя продолжительность поездки с агрессивным и обычным водителем"
   ]
  },
  {
   "cell_type": "code",
   "execution_count": 600,
   "metadata": {},
   "outputs": [
    {
     "data": {
      "text/plain": [
       "(26.735648148148158, 22.129236694677886)"
      ]
     },
     "execution_count": 600,
     "metadata": {},
     "output_type": "execute_result"
    }
   ],
   "source": [
    "dataset_joined[dataset_joined.is_aggressive == True].duration.mean(), dataset_joined[dataset_joined.is_aggressive == False].duration.mean()"
   ]
  },
  {
   "cell_type": "markdown",
   "metadata": {},
   "source": [
    "Мода марки машины агрессивного и обычного водителя(hyundai просто самая популярная, так что изменения не налицо)"
   ]
  },
  {
   "cell_type": "code",
   "execution_count": 601,
   "metadata": {},
   "outputs": [
    {
     "data": {
      "text/plain": [
       "('Hyundai Solaris', 'Hyundai Solaris')"
      ]
     },
     "execution_count": 601,
     "metadata": {},
     "output_type": "execute_result"
    }
   ],
   "source": [
    "dataset_joined[dataset_joined.is_aggressive == True].mark.value_counts().index[0], dataset_joined[dataset_joined.is_aggressive == False].mark.value_counts().index[0]"
   ]
  },
  {
   "cell_type": "markdown",
   "metadata": {},
   "source": [
    "Все марки машин"
   ]
  },
  {
   "cell_type": "code",
   "execution_count": 602,
   "metadata": {
    "scrolled": true
   },
   "outputs": [
    {
     "data": {
      "text/plain": [
       "(Hyundai Solaris         94\n",
       " Skoda Octavia           59\n",
       " Kia Rio                 58\n",
       " Kia Optima              43\n",
       " Volkswagen Polo         36\n",
       " Skoda Rapid             22\n",
       " Ford Focus              18\n",
       " Toyota Camry            18\n",
       " Kia Ceed                14\n",
       " Hyundai Elantra          9\n",
       " Hyundai Sonata           8\n",
       " Nissan Almera            6\n",
       " Kia K5                   6\n",
       " Lada Vesta               5\n",
       " Volkswagen Jetta         4\n",
       " Hyundai i40              4\n",
       " Ford Galaxy              3\n",
       " Renault Logan            3\n",
       " Kia Cerato               2\n",
       " MercedesBenz EClass      2\n",
       " Chevrolet Cruze          2\n",
       " Chevrolet Orlando        1\n",
       " Hyundai H1               1\n",
       " Renault Sandero          1\n",
       " LADA ВАЗ Vesta           1\n",
       " Mitsubishi Outlander     1\n",
       " Skoda Kodiaq             1\n",
       " Lifan Solano 2           1\n",
       " Renault Scenic           1\n",
       " Daewoo Gentra            1\n",
       " Lexus ES                 1\n",
       " BMW 5er                  1\n",
       " BMW 5 серия              1\n",
       " Ford Mondeo              1\n",
       " Peugeot 408              1\n",
       " Kia Ceed Sportswagon     1\n",
       " RAVON R4                 1\n",
       " Name: mark, dtype: int64,\n",
       " Hyundai Solaris      1552\n",
       " Kia Optima           1257\n",
       " Skoda Octavia        1142\n",
       " Kia Rio               993\n",
       " Volkswagen Polo       654\n",
       "                      ... \n",
       " Genesis G80             1\n",
       " Chevrolet Lacetti       1\n",
       " Lifan Solano            1\n",
       " LADA ВАЗ 2114           1\n",
       " Toyota Succeed          1\n",
       " Name: mark, Length: 115, dtype: int64)"
      ]
     },
     "execution_count": 602,
     "metadata": {},
     "output_type": "execute_result"
    }
   ],
   "source": [
    "dataset_joined[dataset_joined.is_aggressive == True].mark.value_counts(), dataset_joined[dataset_joined.is_aggressive == False].mark.value_counts()"
   ]
  },
  {
   "cell_type": "markdown",
   "metadata": {},
   "source": [
    "Средняя оценка поездки пассажиром(у агрессивных поездок оценка ниже, но не сильно => видимо, агрессивность оценивает не пассажир)"
   ]
  },
  {
   "cell_type": "code",
   "execution_count": 603,
   "metadata": {},
   "outputs": [
    {
     "data": {
      "text/plain": [
       "(4.735102079475958, 4.885108231270127)"
      ]
     },
     "execution_count": 603,
     "metadata": {},
     "output_type": "execute_result"
    }
   ],
   "source": [
    "dataset_joined[dataset_joined.is_aggressive == True].client_rate_ride.mean(), dataset_joined[dataset_joined.is_aggressive == False].client_rate_ride.mean()"
   ]
  },
  {
   "cell_type": "markdown",
   "metadata": {},
   "source": [
    "Количество поездок пассажира с агрессивным/неагрессивным водителем(не должно влиять, ведь оценку агрессивности, по-видимому, выдает не пассажир)"
   ]
  },
  {
   "cell_type": "code",
   "execution_count": 604,
   "metadata": {},
   "outputs": [
    {
     "data": {
      "text/plain": [
       "(23.979166666666668, 25.881293133875513)"
      ]
     },
     "execution_count": 604,
     "metadata": {},
     "output_type": "execute_result"
    }
   ],
   "source": [
    "dataset_joined[dataset_joined.is_aggressive == True].client_rides_cnt.mean(), dataset_joined[dataset_joined.is_aggressive == False].client_rides_cnt.mean()"
   ]
  },
  {
   "cell_type": "markdown",
   "metadata": {},
   "source": [
    "Среднее количетсво поездок агрессивного/неагрессивного водителя"
   ]
  },
  {
   "cell_type": "code",
   "execution_count": 605,
   "metadata": {},
   "outputs": [
    {
     "data": {
      "text/plain": [
       "(172.13848877799202, 177.31195338518717)"
      ]
     },
     "execution_count": 605,
     "metadata": {},
     "output_type": "execute_result"
    }
   ],
   "source": [
    "dataset_joined[dataset_joined.is_aggressive == True].driver_rides_cnt.mean(), dataset_joined[dataset_joined.is_aggressive == False].driver_rides_cnt.mean()"
   ]
  },
  {
   "cell_type": "markdown",
   "metadata": {},
   "source": [
    "## Time"
   ]
  },
  {
   "cell_type": "code",
   "execution_count": 606,
   "metadata": {},
   "outputs": [],
   "source": [
    "dataset_joined['dttm'] = pd.to_datetime(dataset_joined.dttm)"
   ]
  },
  {
   "cell_type": "markdown",
   "metadata": {},
   "source": [
    "### Hour"
   ]
  },
  {
   "cell_type": "code",
   "execution_count": 607,
   "metadata": {},
   "outputs": [],
   "source": [
    "dataset_joined['hour'] = dataset_joined.dttm.apply(lambda x: x.hour)"
   ]
  },
  {
   "cell_type": "code",
   "execution_count": 608,
   "metadata": {},
   "outputs": [
    {
     "data": {
      "text/plain": [
       "<matplotlib.axes._subplots.AxesSubplot at 0x7ff172f84be0>"
      ]
     },
     "execution_count": 608,
     "metadata": {},
     "output_type": "execute_result"
    },
    {
     "data": {
      "image/png": "[encoded data removed]",
      "text/plain": [
       "<Figure size 432x288 with 1 Axes>"
      ]
     },
     "metadata": {
      "needs_background": "light"
     },
     "output_type": "display_data"
    }
   ],
   "source": [
    "dataset_joined[dataset_joined.is_aggressive == True].hour.hist()"
   ]
  },
  {
   "cell_type": "code",
   "execution_count": 609,
   "metadata": {},
   "outputs": [
    {
     "data": {
      "text/plain": [
       "<matplotlib.axes._subplots.AxesSubplot at 0x7ff16de199d0>"
      ]
     },
     "execution_count": 609,
     "metadata": {},
     "output_type": "execute_result"
    },
    {
     "data": {
      "image/png": "[encoded data removed]",
      "text/plain": [
       "<Figure size 432x288 with 1 Axes>"
      ]
     },
     "metadata": {
      "needs_background": "light"
     },
     "output_type": "display_data"
    }
   ],
   "source": [
    "dataset_joined[dataset_joined.is_aggressive == False].hour.hist()"
   ]
  },
  {
   "cell_type": "code",
   "execution_count": 610,
   "metadata": {},
   "outputs": [],
   "source": [
    "dataset_traffjam = dataset_joined[((dataset_joined.hour > 6) & (dataset_joined.hour < 10)) | ((dataset_joined.hour > 17) & (dataset_joined.hour < 23))]"
   ]
  },
  {
   "cell_type": "code",
   "execution_count": 611,
   "metadata": {},
   "outputs": [],
   "source": [
    "dataset_notraffjam = dataset_joined[~(((dataset_joined.hour > 6) & (dataset_joined.hour < 10)) | ((dataset_joined.hour > 17) & (dataset_joined.hour < 23)))]"
   ]
  },
  {
   "cell_type": "code",
   "execution_count": 612,
   "metadata": {},
   "outputs": [
    {
     "data": {
      "text/plain": [
       "0.0499378367177787"
      ]
     },
     "execution_count": 612,
     "metadata": {},
     "output_type": "execute_result"
    }
   ],
   "source": [
    "(dataset_traffjam.is_aggressive == True).sum() / len(dataset_traffjam)"
   ]
  },
  {
   "cell_type": "code",
   "execution_count": 613,
   "metadata": {},
   "outputs": [
    {
     "data": {
      "text/plain": [
       "0.045759463344513654"
      ]
     },
     "execution_count": 613,
     "metadata": {},
     "output_type": "execute_result"
    }
   ],
   "source": [
    "(dataset_notraffjam.is_aggressive == True).sum() / len(dataset_notraffjam)"
   ]
  },
  {
   "cell_type": "markdown",
   "metadata": {},
   "source": [
    "### Month"
   ]
  },
  {
   "cell_type": "code",
   "execution_count": 614,
   "metadata": {},
   "outputs": [],
   "source": [
    "dataset_joined['month'] = dataset_joined.dttm.apply(lambda x: x.month)"
   ]
  },
  {
   "cell_type": "code",
   "execution_count": 615,
   "metadata": {},
   "outputs": [
    {
     "data": {
      "text/plain": [
       "3    4663\n",
       "2    2597\n",
       "1    1263\n",
       "4     477\n",
       "Name: month, dtype: int64"
      ]
     },
     "execution_count": 615,
     "metadata": {},
     "output_type": "execute_result"
    }
   ],
   "source": [
    "dataset_joined.month.value_counts()"
   ]
  },
  {
   "cell_type": "code",
   "execution_count": 616,
   "metadata": {},
   "outputs": [
    {
     "data": {
      "text/plain": [
       "<matplotlib.axes._subplots.AxesSubplot at 0x7ff172e9cc10>"
      ]
     },
     "execution_count": 616,
     "metadata": {},
     "output_type": "execute_result"
    },
    {
     "data": {
      "image/png": "[encoded data removed]",
      "text/plain": [
       "<Figure size 432x288 with 1 Axes>"
      ]
     },
     "metadata": {
      "needs_background": "light"
     },
     "output_type": "display_data"
    }
   ],
   "source": [
    "dataset_joined[(dataset_joined.is_aggressive == True)].month.hist()"
   ]
  },
  {
   "cell_type": "code",
   "execution_count": 617,
   "metadata": {},
   "outputs": [
    {
     "data": {
      "text/plain": [
       "<matplotlib.axes._subplots.AxesSubplot at 0x7ff171aa3490>"
      ]
     },
     "execution_count": 617,
     "metadata": {},
     "output_type": "execute_result"
    },
    {
     "data": {
      "image/png": "[encoded data removed]",
      "text/plain": [
       "<Figure size 432x288 with 1 Axes>"
      ]
     },
     "metadata": {
      "needs_background": "light"
     },
     "output_type": "display_data"
    }
   ],
   "source": [
    "dataset_joined[(dataset_joined.is_aggressive == False)].month.hist()"
   ]
  },
  {
   "cell_type": "markdown",
   "metadata": {},
   "source": [
    "### Weekday"
   ]
  },
  {
   "cell_type": "code",
   "execution_count": 618,
   "metadata": {},
   "outputs": [
    {
     "data": {
      "text/plain": [
       "4"
      ]
     },
     "execution_count": 618,
     "metadata": {},
     "output_type": "execute_result"
    }
   ],
   "source": [
    "dataset_joined.dttm.iloc[0].weekday()"
   ]
  },
  {
   "cell_type": "code",
   "execution_count": 619,
   "metadata": {},
   "outputs": [],
   "source": [
    "dataset_joined['weekday'] = dataset_joined.dttm.apply(lambda x: x.weekday())"
   ]
  },
  {
   "cell_type": "code",
   "execution_count": 620,
   "metadata": {},
   "outputs": [],
   "source": [
    "dataset_joined['holiday'] = (dataset_joined.weekday >= 5).astype(int)"
   ]
  },
  {
   "cell_type": "code",
   "execution_count": 621,
   "metadata": {},
   "outputs": [
    {
     "data": {
      "text/plain": [
       "0.04805683242791475"
      ]
     },
     "execution_count": 621,
     "metadata": {},
     "output_type": "execute_result"
    }
   ],
   "source": [
    "dataset_joined[(dataset_joined.holiday == 1)].is_aggressive.sum() / len(dataset_joined[(dataset_joined.holiday == 1)])"
   ]
  },
  {
   "cell_type": "code",
   "execution_count": 622,
   "metadata": {},
   "outputs": [
    {
     "data": {
      "text/plain": [
       "0.04797941577115181"
      ]
     },
     "execution_count": 622,
     "metadata": {},
     "output_type": "execute_result"
    }
   ],
   "source": [
    "(dataset_joined[(dataset_joined.holiday != 1)].is_aggressive.astype(bool)).sum() / len(dataset_joined[(dataset_joined.holiday != 1)])"
   ]
  },
  {
   "cell_type": "markdown",
   "metadata": {},
   "source": [
    "# Features generation"
   ]
  },
  {
   "cell_type": "code",
   "execution_count": 623,
   "metadata": {},
   "outputs": [],
   "source": [
    "comment_phrases = list(X.comment.value_counts().index[: 10])"
   ]
  },
  {
   "cell_type": "code",
   "execution_count": 624,
   "metadata": {},
   "outputs": [
    {
     "data": {
      "text/plain": [
       "['Больше нечего сказать',\n",
       " 'Да',\n",
       " 'Все хорошо',\n",
       " 'Все ок',\n",
       " 'Нет',\n",
       " 'Отличный водитель',\n",
       " 'Отличный водитель!',\n",
       " 'Все отлично',\n",
       " 'Хороший водитель',\n",
       " 'Ок']"
      ]
     },
     "execution_count": 624,
     "metadata": {},
     "output_type": "execute_result"
    }
   ],
   "source": [
    "comment_phrases"
   ]
  },
  {
   "cell_type": "code",
   "execution_count": 625,
   "metadata": {},
   "outputs": [],
   "source": [
    "X[\"is_comment\"] = (~np.isin(X.comment, comment_phrases)).astype(int)"
   ]
  },
  {
   "cell_type": "code",
   "execution_count": 626,
   "metadata": {
    "scrolled": true
   },
   "outputs": [
    {
     "data": {
      "text/plain": [
       "28                         Отличный водитель!!!Спасибо!!!\n",
       "29                          Лучший водитель!!! Спасибо!!!\n",
       "35      водитель заехал и сразу встал с той стороны до...\n",
       "36      постоянно отвлекался на поиск и просмотр ролик...\n",
       "43                      выезжал на встречку несколько раз\n",
       "                              ...                        \n",
       "8965                                          Всё отлично\n",
       "8967    Водитель приятный в общении. Но показалось, чт...\n",
       "8975    Говорил по телефону во время движения, делал о...\n",
       "8989    Отличный водитель, помог нам найти более корот...\n",
       "8996    На заднем сиденье жёлтые полосы и пятна остали...\n",
       "Name: comment, Length: 1062, dtype: object"
      ]
     },
     "execution_count": 626,
     "metadata": {},
     "output_type": "execute_result"
    }
   ],
   "source": [
    "X[X.is_comment == True].comment"
   ]
  },
  {
   "cell_type": "code",
   "execution_count": 627,
   "metadata": {},
   "outputs": [],
   "source": [
    "X['dttm'] = pd.to_datetime(X.dttm)"
   ]
  },
  {
   "cell_type": "code",
   "execution_count": 628,
   "metadata": {},
   "outputs": [],
   "source": [
    "X['hour'] = X.dttm.apply(lambda x: x.hour)"
   ]
  },
  {
   "cell_type": "code",
   "execution_count": 629,
   "metadata": {},
   "outputs": [],
   "source": [
    "X['traff_jam'] = ((X.hour > 6) & (X.hour < 10)) | ((X.hour > 17) & (X.hour < 23))\n",
    "X['traff_jam'] = X.traff_jam.astype(int)"
   ]
  },
  {
   "cell_type": "code",
   "execution_count": 630,
   "metadata": {},
   "outputs": [],
   "source": [
    "X['weekday'] = X.dttm.apply(lambda x: x.weekday())\n",
    "X['holiday'] = (X.weekday >= 5).astype(int)"
   ]
  },
  {
   "cell_type": "code",
   "execution_count": 631,
   "metadata": {
    "scrolled": true
   },
   "outputs": [
    {
     "data": {
      "text/html": [
       "<div>\n",
       "<style scoped>\n",
       "    .dataframe tbody tr th:only-of-type {\n",
       "        vertical-align: middle;\n",
       "    }\n",
       "\n",
       "    .dataframe tbody tr th {\n",
       "        vertical-align: top;\n",
       "    }\n",
       "\n",
       "    .dataframe thead th {\n",
       "        text-align: right;\n",
       "    }\n",
       "</style>\n",
       "<table border=\"1\" class=\"dataframe\">\n",
       "  <thead>\n",
       "    <tr style=\"text-align: right;\">\n",
       "      <th></th>\n",
       "      <th>order_id</th>\n",
       "      <th>driver_id</th>\n",
       "      <th>client_id</th>\n",
       "      <th>dttm</th>\n",
       "      <th>date</th>\n",
       "      <th>arrived_distance</th>\n",
       "      <th>arrived_duration</th>\n",
       "      <th>distance</th>\n",
       "      <th>duration</th>\n",
       "      <th>from_latitude</th>\n",
       "      <th>...</th>\n",
       "      <th>mark</th>\n",
       "      <th>client_rate_ride</th>\n",
       "      <th>client_rides_cnt</th>\n",
       "      <th>driver_rides_cnt</th>\n",
       "      <th>comment</th>\n",
       "      <th>is_comment</th>\n",
       "      <th>hour</th>\n",
       "      <th>traff_jam</th>\n",
       "      <th>weekday</th>\n",
       "      <th>holiday</th>\n",
       "    </tr>\n",
       "  </thead>\n",
       "  <tbody>\n",
       "    <tr>\n",
       "      <th>0</th>\n",
       "      <td>6a0f322ade1a05e5c4cec4344efbce8b</td>\n",
       "      <td>f7c2b293ef94420f5e51abae6889b83b</td>\n",
       "      <td>3156d05c6458a8228bed59f02075a61e</td>\n",
       "      <td>2021-01-22 21:53:00</td>\n",
       "      <td>2021-01-22</td>\n",
       "      <td>150.0</td>\n",
       "      <td>1.0</td>\n",
       "      <td>11.8</td>\n",
       "      <td>20.5</td>\n",
       "      <td>55.795900</td>\n",
       "      <td>...</td>\n",
       "      <td>Kia K5</td>\n",
       "      <td>4.877908</td>\n",
       "      <td>16.0</td>\n",
       "      <td>39.0</td>\n",
       "      <td>Больше нечего сказать</td>\n",
       "      <td>0</td>\n",
       "      <td>21</td>\n",
       "      <td>1</td>\n",
       "      <td>4</td>\n",
       "      <td>0</td>\n",
       "    </tr>\n",
       "    <tr>\n",
       "      <th>1</th>\n",
       "      <td>934ecbe5845426fd3f8ef7938cce2a11</td>\n",
       "      <td>01d029c42c99581080a60679fca06ff9</td>\n",
       "      <td>3156d05c6458a8228bed59f02075a61e</td>\n",
       "      <td>2021-01-24 14:09:00</td>\n",
       "      <td>2021-01-24</td>\n",
       "      <td>570.0</td>\n",
       "      <td>1.0</td>\n",
       "      <td>17.2</td>\n",
       "      <td>26.2</td>\n",
       "      <td>55.716502</td>\n",
       "      <td>...</td>\n",
       "      <td>Volkswagen Polo</td>\n",
       "      <td>4.877908</td>\n",
       "      <td>18.0</td>\n",
       "      <td>338.0</td>\n",
       "      <td>Да</td>\n",
       "      <td>0</td>\n",
       "      <td>14</td>\n",
       "      <td>0</td>\n",
       "      <td>6</td>\n",
       "      <td>1</td>\n",
       "    </tr>\n",
       "    <tr>\n",
       "      <th>2</th>\n",
       "      <td>5348cb339b63eaea3b2cb57a064ce550</td>\n",
       "      <td>3c88deb7df7a73a24ebc229db9783405</td>\n",
       "      <td>3156d05c6458a8228bed59f02075a61e</td>\n",
       "      <td>2021-01-26 21:02:00</td>\n",
       "      <td>2021-01-26</td>\n",
       "      <td>40.0</td>\n",
       "      <td>0.0</td>\n",
       "      <td>5.8</td>\n",
       "      <td>10.9</td>\n",
       "      <td>55.716637</td>\n",
       "      <td>...</td>\n",
       "      <td>MercedesBenz EClass</td>\n",
       "      <td>4.877908</td>\n",
       "      <td>17.0</td>\n",
       "      <td>162.0</td>\n",
       "      <td>Больше нечего сказать</td>\n",
       "      <td>0</td>\n",
       "      <td>21</td>\n",
       "      <td>1</td>\n",
       "      <td>1</td>\n",
       "      <td>0</td>\n",
       "    </tr>\n",
       "    <tr>\n",
       "      <th>3</th>\n",
       "      <td>309ef91c3b51e27d097642169576f67b</td>\n",
       "      <td>f35a8ff85f2095755f16bba91035fbdc</td>\n",
       "      <td>3156d05c6458a8228bed59f02075a61e</td>\n",
       "      <td>2021-01-27 17:24:00</td>\n",
       "      <td>2021-01-27</td>\n",
       "      <td>140.0</td>\n",
       "      <td>1.0</td>\n",
       "      <td>4.5</td>\n",
       "      <td>10.7</td>\n",
       "      <td>55.689076</td>\n",
       "      <td>...</td>\n",
       "      <td>Kia Optima</td>\n",
       "      <td>4.877908</td>\n",
       "      <td>18.0</td>\n",
       "      <td>136.0</td>\n",
       "      <td>Больше нечего сказать</td>\n",
       "      <td>0</td>\n",
       "      <td>17</td>\n",
       "      <td>0</td>\n",
       "      <td>2</td>\n",
       "      <td>0</td>\n",
       "    </tr>\n",
       "    <tr>\n",
       "      <th>4</th>\n",
       "      <td>3506e04e45d39c6e3033637389da1041</td>\n",
       "      <td>0a227ac8d702170c03acf36d55e60d0d</td>\n",
       "      <td>3156d05c6458a8228bed59f02075a61e</td>\n",
       "      <td>2021-01-29 15:31:00</td>\n",
       "      <td>2021-01-29</td>\n",
       "      <td>150.0</td>\n",
       "      <td>1.0</td>\n",
       "      <td>15.4</td>\n",
       "      <td>25.1</td>\n",
       "      <td>55.655489</td>\n",
       "      <td>...</td>\n",
       "      <td>Kia Rio</td>\n",
       "      <td>5.000000</td>\n",
       "      <td>20.0</td>\n",
       "      <td>194.0</td>\n",
       "      <td>Больше нечего сказать</td>\n",
       "      <td>0</td>\n",
       "      <td>15</td>\n",
       "      <td>0</td>\n",
       "      <td>4</td>\n",
       "      <td>0</td>\n",
       "    </tr>\n",
       "    <tr>\n",
       "      <th>...</th>\n",
       "      <td>...</td>\n",
       "      <td>...</td>\n",
       "      <td>...</td>\n",
       "      <td>...</td>\n",
       "      <td>...</td>\n",
       "      <td>...</td>\n",
       "      <td>...</td>\n",
       "      <td>...</td>\n",
       "      <td>...</td>\n",
       "      <td>...</td>\n",
       "      <td>...</td>\n",
       "      <td>...</td>\n",
       "      <td>...</td>\n",
       "      <td>...</td>\n",
       "      <td>...</td>\n",
       "      <td>...</td>\n",
       "      <td>...</td>\n",
       "      <td>...</td>\n",
       "      <td>...</td>\n",
       "      <td>...</td>\n",
       "      <td>...</td>\n",
       "    </tr>\n",
       "    <tr>\n",
       "      <th>8995</th>\n",
       "      <td>bd1c7382bcfa4f5981a8b98d50cdbf37</td>\n",
       "      <td>f60352f28fc0b03c54e1e389519945eb</td>\n",
       "      <td>183c8d2838e8800609793f5925479f8c</td>\n",
       "      <td>2021-04-03 14:17:21</td>\n",
       "      <td>2021-04-03</td>\n",
       "      <td>0.0</td>\n",
       "      <td>0.0</td>\n",
       "      <td>20.5</td>\n",
       "      <td>42.6</td>\n",
       "      <td>55.711662</td>\n",
       "      <td>...</td>\n",
       "      <td>Kia Optima</td>\n",
       "      <td>5.000000</td>\n",
       "      <td>14.0</td>\n",
       "      <td>79.0</td>\n",
       "      <td>Больше нечего сказать</td>\n",
       "      <td>0</td>\n",
       "      <td>14</td>\n",
       "      <td>0</td>\n",
       "      <td>5</td>\n",
       "      <td>1</td>\n",
       "    </tr>\n",
       "    <tr>\n",
       "      <th>8996</th>\n",
       "      <td>37a2c7ddf4e0e911d1f5b827a22424c6</td>\n",
       "      <td>52c7c1b99bf9eec8c36a3a852f4208a6</td>\n",
       "      <td>a3555aa482365082065ddbe2b60b7944</td>\n",
       "      <td>2021-04-03 14:17:44</td>\n",
       "      <td>2021-04-03</td>\n",
       "      <td>10.0</td>\n",
       "      <td>0.0</td>\n",
       "      <td>12.1</td>\n",
       "      <td>26.2</td>\n",
       "      <td>55.739415</td>\n",
       "      <td>...</td>\n",
       "      <td>Lada Vesta</td>\n",
       "      <td>4.877908</td>\n",
       "      <td>38.0</td>\n",
       "      <td>383.0</td>\n",
       "      <td>На заднем сиденье жёлтые полосы и пятна остали...</td>\n",
       "      <td>1</td>\n",
       "      <td>14</td>\n",
       "      <td>0</td>\n",
       "      <td>5</td>\n",
       "      <td>1</td>\n",
       "    </tr>\n",
       "    <tr>\n",
       "      <th>8997</th>\n",
       "      <td>675f5308235dfb532bc12c628568a431</td>\n",
       "      <td>36a26e1bdad8ffa82020449e4c670f0d</td>\n",
       "      <td>e5070710fc47d467ebc6488eeceed19a</td>\n",
       "      <td>2021-04-03 14:24:30</td>\n",
       "      <td>2021-04-03</td>\n",
       "      <td>60.0</td>\n",
       "      <td>0.0</td>\n",
       "      <td>3.9</td>\n",
       "      <td>11.4</td>\n",
       "      <td>55.739262</td>\n",
       "      <td>...</td>\n",
       "      <td>Kia Ceed</td>\n",
       "      <td>4.877908</td>\n",
       "      <td>14.0</td>\n",
       "      <td>38.0</td>\n",
       "      <td>Больше нечего сказать</td>\n",
       "      <td>0</td>\n",
       "      <td>14</td>\n",
       "      <td>0</td>\n",
       "      <td>5</td>\n",
       "      <td>1</td>\n",
       "    </tr>\n",
       "    <tr>\n",
       "      <th>8998</th>\n",
       "      <td>209184a3e7d4cff49703e03ea9329ce7</td>\n",
       "      <td>68a076cc5bb1e50a25086baa275af6a0</td>\n",
       "      <td>35fae1e96d973ac127e8bfa7859f1964</td>\n",
       "      <td>2021-04-03 14:30:45</td>\n",
       "      <td>2021-04-03</td>\n",
       "      <td>2650.0</td>\n",
       "      <td>6.0</td>\n",
       "      <td>2.0</td>\n",
       "      <td>6.0</td>\n",
       "      <td>55.783070</td>\n",
       "      <td>...</td>\n",
       "      <td>Kia Rio</td>\n",
       "      <td>4.877908</td>\n",
       "      <td>32.0</td>\n",
       "      <td>121.0</td>\n",
       "      <td>Больше нечего сказать</td>\n",
       "      <td>0</td>\n",
       "      <td>14</td>\n",
       "      <td>0</td>\n",
       "      <td>5</td>\n",
       "      <td>1</td>\n",
       "    </tr>\n",
       "    <tr>\n",
       "      <th>8999</th>\n",
       "      <td>d1598b6d00f63b4470062724c50905b1</td>\n",
       "      <td>1ed2054808f94bb3b55486908eec6a3e</td>\n",
       "      <td>036d0078d76dad6ddf9e1d672ae13b02</td>\n",
       "      <td>2021-04-03 14:46:02</td>\n",
       "      <td>2021-04-03</td>\n",
       "      <td>2990.0</td>\n",
       "      <td>10.0</td>\n",
       "      <td>4.8</td>\n",
       "      <td>11.0</td>\n",
       "      <td>55.804893</td>\n",
       "      <td>...</td>\n",
       "      <td>Skoda Octavia</td>\n",
       "      <td>5.000000</td>\n",
       "      <td>34.0</td>\n",
       "      <td>391.0</td>\n",
       "      <td>Больше нечего сказать</td>\n",
       "      <td>0</td>\n",
       "      <td>14</td>\n",
       "      <td>0</td>\n",
       "      <td>5</td>\n",
       "      <td>1</td>\n",
       "    </tr>\n",
       "  </tbody>\n",
       "</table>\n",
       "<p>9000 rows × 23 columns</p>\n",
       "</div>"
      ],
      "text/plain": [
       "                              order_id                         driver_id  \\\n",
       "0     6a0f322ade1a05e5c4cec4344efbce8b  f7c2b293ef94420f5e51abae6889b83b   \n",
       "1     934ecbe5845426fd3f8ef7938cce2a11  01d029c42c99581080a60679fca06ff9   \n",
       "2     5348cb339b63eaea3b2cb57a064ce550  3c88deb7df7a73a24ebc229db9783405   \n",
       "3     309ef91c3b51e27d097642169576f67b  f35a8ff85f2095755f16bba91035fbdc   \n",
       "4     3506e04e45d39c6e3033637389da1041  0a227ac8d702170c03acf36d55e60d0d   \n",
       "...                                ...                               ...   \n",
       "8995  bd1c7382bcfa4f5981a8b98d50cdbf37  f60352f28fc0b03c54e1e389519945eb   \n",
       "8996  37a2c7ddf4e0e911d1f5b827a22424c6  52c7c1b99bf9eec8c36a3a852f4208a6   \n",
       "8997  675f5308235dfb532bc12c628568a431  36a26e1bdad8ffa82020449e4c670f0d   \n",
       "8998  209184a3e7d4cff49703e03ea9329ce7  68a076cc5bb1e50a25086baa275af6a0   \n",
       "8999  d1598b6d00f63b4470062724c50905b1  1ed2054808f94bb3b55486908eec6a3e   \n",
       "\n",
       "                             client_id                dttm        date  \\\n",
       "0     3156d05c6458a8228bed59f02075a61e 2021-01-22 21:53:00  2021-01-22   \n",
       "1     3156d05c6458a8228bed59f02075a61e 2021-01-24 14:09:00  2021-01-24   \n",
       "2     3156d05c6458a8228bed59f02075a61e 2021-01-26 21:02:00  2021-01-26   \n",
       "3     3156d05c6458a8228bed59f02075a61e 2021-01-27 17:24:00  2021-01-27   \n",
       "4     3156d05c6458a8228bed59f02075a61e 2021-01-29 15:31:00  2021-01-29   \n",
       "...                                ...                 ...         ...   \n",
       "8995  183c8d2838e8800609793f5925479f8c 2021-04-03 14:17:21  2021-04-03   \n",
       "8996  a3555aa482365082065ddbe2b60b7944 2021-04-03 14:17:44  2021-04-03   \n",
       "8997  e5070710fc47d467ebc6488eeceed19a 2021-04-03 14:24:30  2021-04-03   \n",
       "8998  35fae1e96d973ac127e8bfa7859f1964 2021-04-03 14:30:45  2021-04-03   \n",
       "8999  036d0078d76dad6ddf9e1d672ae13b02 2021-04-03 14:46:02  2021-04-03   \n",
       "\n",
       "      arrived_distance  arrived_duration  distance  duration  from_latitude  \\\n",
       "0                150.0               1.0      11.8      20.5      55.795900   \n",
       "1                570.0               1.0      17.2      26.2      55.716502   \n",
       "2                 40.0               0.0       5.8      10.9      55.716637   \n",
       "3                140.0               1.0       4.5      10.7      55.689076   \n",
       "4                150.0               1.0      15.4      25.1      55.655489   \n",
       "...                ...               ...       ...       ...            ...   \n",
       "8995               0.0               0.0      20.5      42.6      55.711662   \n",
       "8996              10.0               0.0      12.1      26.2      55.739415   \n",
       "8997              60.0               0.0       3.9      11.4      55.739262   \n",
       "8998            2650.0               6.0       2.0       6.0      55.783070   \n",
       "8999            2990.0              10.0       4.8      11.0      55.804893   \n",
       "\n",
       "      ...                 mark  client_rate_ride  client_rides_cnt  \\\n",
       "0     ...               Kia K5          4.877908              16.0   \n",
       "1     ...      Volkswagen Polo          4.877908              18.0   \n",
       "2     ...  MercedesBenz EClass          4.877908              17.0   \n",
       "3     ...           Kia Optima          4.877908              18.0   \n",
       "4     ...              Kia Rio          5.000000              20.0   \n",
       "...   ...                  ...               ...               ...   \n",
       "8995  ...           Kia Optima          5.000000              14.0   \n",
       "8996  ...           Lada Vesta          4.877908              38.0   \n",
       "8997  ...             Kia Ceed          4.877908              14.0   \n",
       "8998  ...              Kia Rio          4.877908              32.0   \n",
       "8999  ...        Skoda Octavia          5.000000              34.0   \n",
       "\n",
       "     driver_rides_cnt                                            comment  \\\n",
       "0                39.0                              Больше нечего сказать   \n",
       "1               338.0                                                 Да   \n",
       "2               162.0                              Больше нечего сказать   \n",
       "3               136.0                              Больше нечего сказать   \n",
       "4               194.0                              Больше нечего сказать   \n",
       "...               ...                                                ...   \n",
       "8995             79.0                              Больше нечего сказать   \n",
       "8996            383.0  На заднем сиденье жёлтые полосы и пятна остали...   \n",
       "8997             38.0                              Больше нечего сказать   \n",
       "8998            121.0                              Больше нечего сказать   \n",
       "8999            391.0                              Больше нечего сказать   \n",
       "\n",
       "      is_comment  hour traff_jam  weekday  holiday  \n",
       "0              0    21         1        4        0  \n",
       "1              0    14         0        6        1  \n",
       "2              0    21         1        1        0  \n",
       "3              0    17         0        2        0  \n",
       "4              0    15         0        4        0  \n",
       "...          ...   ...       ...      ...      ...  \n",
       "8995           0    14         0        5        1  \n",
       "8996           1    14         0        5        1  \n",
       "8997           0    14         0        5        1  \n",
       "8998           0    14         0        5        1  \n",
       "8999           0    14         0        5        1  \n",
       "\n",
       "[9000 rows x 23 columns]"
      ]
     },
     "execution_count": 631,
     "metadata": {},
     "output_type": "execute_result"
    }
   ],
   "source": [
    "X"
   ]
  },
  {
   "cell_type": "markdown",
   "metadata": {},
   "source": [
    "# Train"
   ]
  },
  {
   "cell_type": "code",
   "execution_count": 556,
   "metadata": {},
   "outputs": [],
   "source": [
    "# X = X[['arrived_distance', 'arrived_duration', 'distance', 'duration', 'driver_rides_cnt', 'client_rides_cnt', 'client_rate_ride', 'mark', 'is_comment', 'traff_jam', 'holiday']]\n",
    "X = X[['arrived_distance', 'arrived_duration', 'distance', 'duration', 'driver_rides_cnt', 'client_rides_cnt', 'client_rate_ride', 'mark', 'is_comment', 'traff_jam', 'weekday']]"
   ]
  },
  {
   "cell_type": "code",
   "execution_count": 562,
   "metadata": {},
   "outputs": [
    {
     "name": "stdout",
     "output_type": "stream",
     "text": [
      "Средний скор на кросс-валидации 0.7289995760454826\n"
     ]
    }
   ],
   "source": [
    "X_train, X_test, y_train, y_test = train_test_split(X, y, test_size=0.2, random_state=42)\n",
    "\n",
    "numeric_features = ['arrived_distance', 'arrived_duration', 'distance', 'duration',  'driver_rides_cnt', 'client_rides_cnt', 'client_rate_ride']\n",
    "numeric_transformer = Pipeline(steps=[('scaler', StandardScaler())])\n",
    "\n",
    "# categorical_features = ['mark', 'is_comment', 'traff_jam', 'holiday']\n",
    "categorical_features = ['mark', 'is_comment', 'traff_jam', 'weekday']\n",
    "categorical_transformer = OneHotEncoder(handle_unknown='ignore')\n",
    "\n",
    "preprocessor = ColumnTransformer(\n",
    "    transformers=[\n",
    "        ('num', numeric_transformer, numeric_features),\n",
    "        ('cat', categorical_transformer, categorical_features)])\n",
    "\n",
    "# clf = Pipeline(steps=[('preprocessor', preprocessor),\n",
    "#                       ('classifier', LogisticRegression(max_iter=1000))])\n",
    "\n",
    "clf = Pipeline(steps=[('preprocessor', preprocessor),\n",
    "                      ('classifier', CatBoostClassifier(iterations = 2000, \n",
    "                                                        depth = 2,\n",
    "                                                        silent = True))])\n",
    "\n",
    "scores = cross_validate(clf, X_train, y_train, scoring='roc_auc', cv=5)\n",
    "\n",
    "print(f'Средний скор на кросс-валидации {np.mean(scores[\"test_score\"])}')"
   ]
  },
  {
   "cell_type": "code",
   "execution_count": null,
   "metadata": {},
   "outputs": [],
   "source": []
  }
 ],
 "metadata": {
  "kernelspec": {
   "display_name": "Python 3",
   "language": "python",
   "name": "python3"
  },
  "language_info": {
   "codemirror_mode": {
    "name": "ipython",
    "version": 3
   },
   "file_extension": ".py",
   "mimetype": "text/x-python",
   "name": "python",
   "nbconvert_exporter": "python",
   "pygments_lexer": "ipython3",
   "version": "3.8.3"
  }
 },
 "nbformat": 4,
 "nbformat_minor": 4
}
