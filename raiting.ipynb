{
 "cells": [
  {
   "cell_type": "code",
   "execution_count": 2,
   "source": [
    "from model import Model\n",
    "import pandas as pd\n",
    "import numpy as np\n",
    "import shap"
   ],
   "outputs": [
    {
     "output_type": "error",
     "ename": "ModuleNotFoundError",
     "evalue": "No module named 'model'",
     "traceback": [
      "\u001b[0;31m---------------------------------------------------------------------------\u001b[0m",
      "\u001b[0;31mModuleNotFoundError\u001b[0m                       Traceback (most recent call last)",
      "\u001b[0;32m<ipython-input-2-02f6b51d3f31>\u001b[0m in \u001b[0;36m<module>\u001b[0;34m\u001b[0m\n\u001b[0;32m----> 1\u001b[0;31m \u001b[0;32mfrom\u001b[0m \u001b[0mmodel\u001b[0m \u001b[0;32mimport\u001b[0m \u001b[0mModel\u001b[0m\u001b[0;34m\u001b[0m\u001b[0;34m\u001b[0m\u001b[0m\n\u001b[0m\u001b[1;32m      2\u001b[0m \u001b[0;32mimport\u001b[0m \u001b[0mpandas\u001b[0m \u001b[0;32mas\u001b[0m \u001b[0mpd\u001b[0m\u001b[0;34m\u001b[0m\u001b[0;34m\u001b[0m\u001b[0m\n\u001b[1;32m      3\u001b[0m \u001b[0;32mimport\u001b[0m \u001b[0mnumpy\u001b[0m \u001b[0;32mas\u001b[0m \u001b[0mnp\u001b[0m\u001b[0;34m\u001b[0m\u001b[0;34m\u001b[0m\u001b[0m\n\u001b[1;32m      4\u001b[0m \u001b[0;32mimport\u001b[0m \u001b[0mshap\u001b[0m\u001b[0;34m\u001b[0m\u001b[0;34m\u001b[0m\u001b[0m\n",
      "\u001b[0;31mModuleNotFoundError\u001b[0m: No module named 'model'"
     ]
    }
   ],
   "metadata": {}
  },
  {
   "cell_type": "code",
   "execution_count": null,
   "source": [],
   "outputs": [],
   "metadata": {}
  },
  {
   "cell_type": "code",
   "execution_count": null,
   "source": [
    "\n",
    "#TODO: доделать _update_score(какая то формула из агрессивности всех поездок, средних звездочек), получить среднюю оценку из новой даты, сделать отображение всего рейтинга\n",
    "\n",
    "class Driver:\n",
    "    def __init__(self, id, main_df, comment_df, tracks_df, model):\n",
    "        '''\n",
    "        id - driver id\n",
    "        initial_orders_data - all the driver's orders\n",
    "        model - catboost model for agressivness prediction\n",
    "        '''\n",
    "        \n",
    "        self.id: str= id\n",
    "        # хз как устроить лучше\n",
    "        self.features = {'agressivness':0.0, 'average_mark':0.0, 'speed_limit_ignorance':0.0 }\n",
    "\n",
    "        self.main_df = main_df\n",
    "        self.comment_df = comment_df\n",
    "        self.tracks_df = tracks_df\n",
    "\n",
    "        for order_id in self.orders_data['order_id'].unique():\n",
    "            order_data = self.orders_data[['order_id'==order_id]]\n",
    "            comment_data= self.comment_df[['order_id'==order_id]]\n",
    "            tracks_data = self.tracks_df[['order_id'==order_id]]\n",
    "            self.add_order(order_data, comment_data, tracks_data)\n",
    "\n",
    "        self.model = Model\n",
    "        self.score = 0.0\n",
    "\n",
    "    def _update_score(self,):\n",
    "        ...\n",
    "\n",
    "    def add_order(self, main_order_data: pd.DataFrame,comment_order_data: pd.DataFrame,track_order_data: pd.DataFrame):\n",
    "        '''extracts features from order's data \n",
    "           and appends it to self.features\n",
    "        '''\n",
    "        # возможно стоит сделать усредненный скор по заказу(из звездочек, аргессивности и тд), добавлять к общему и считать среднее(на пeрвое время)\n",
    "        transformed, order_aggressivness = self.model.predict_proba(main_order_data, comment_order_data, track_order_data)\n",
    "\n",
    "        shap.initjs()\n",
    "        shap_values = self.model.explainer(transformed)\n",
    "        shap.plots.waterfall(shap_values)"
   ],
   "outputs": [],
   "metadata": {}
  },
  {
   "cell_type": "code",
   "execution_count": null,
   "source": [
    "class Rating:\n",
    "    def __init__(self, initial_df=None, initial_comment_df=None, initial_tracks_df=None):\n",
    "        self.drivers = []\n",
    "        self.main_df = initial_df\n",
    "        self.comment_df = initial_comment_df\n",
    "        self.tracks_df = initial_tracks_df\n",
    "        self.model = Model() \n",
    "\n",
    "    def initial(self):\n",
    "        for driver_id in self.main_df['driver_id'].unique():\n",
    "\n",
    "            # append a driver with all his orders from initial data to the driver list \n",
    "            driver = Driver(driver_id, self.main_df[['driver_id'==driver_id]],self.comment_df[['driver_id'==driver_id]],self.tracks_df[['driver_id'==driver_id]], self.model)\n",
    "            self.drivers.append(driver)\n",
    "    \n",
    "    def output_rating(self):\n",
    "        ...\n"
   ],
   "outputs": [],
   "metadata": {}
  }
 ],
 "metadata": {
  "orig_nbformat": 4,
  "language_info": {
   "name": "python",
   "version": "3.8.8",
   "mimetype": "text/x-python",
   "codemirror_mode": {
    "name": "ipython",
    "version": 3
   },
   "pygments_lexer": "ipython3",
   "nbconvert_exporter": "python",
   "file_extension": ".py"
  },
  "kernelspec": {
   "name": "python3",
   "display_name": "Python 3.8.8 64-bit ('base': conda)"
  },
  "interpreter": {
   "hash": "f50bd5474255f82aa829301912ce59e29110123be660cf8d7583f66a20371684"
  }
 },
 "nbformat": 4,
 "nbformat_minor": 2
}