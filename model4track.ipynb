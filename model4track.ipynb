{
  "nbformat": 4,
  "nbformat_minor": 0,
  "metadata": {
    "orig_nbformat": 4,
    "language_info": {
      "name": "python",
      "version": "3.8.8",
      "mimetype": "text/x-python",
      "codemirror_mode": {
        "name": "ipython",
        "version": 3
      },
      "pygments_lexer": "ipython3",
      "nbconvert_exporter": "python",
      "file_extension": ".py"
    },
    "kernelspec": {
      "name": "python3",
      "display_name": "Python 3.8.8 64-bit ('base': conda)"
    },
    "interpreter": {
      "hash": "7516c659bdcc433c8c39cdea861bb49741b3d7df0de931f4ed98c3067001b5c7"
    },
    "colab": {
      "name": "model4track.ipynb",
      "provenance": [],
      "include_colab_link": true
    },
    "accelerator": "GPU"
  },
  "cells": [
    {
      "cell_type": "markdown",
      "metadata": {
        "id": "view-in-github",
        "colab_type": "text"
      },
      "source": [
        "<a href=\"https://colab.research.google.com/github/Egoluback/aijic2021_transport/blob/yarik/model4track.ipynb\" target=\"_parent\"><img src=\"https://colab.research.google.com/assets/colab-badge.svg\" alt=\"Open In Colab\"/></a>"
      ]
    },
    {
      "cell_type": "code",
      "metadata": {
        "id": "UBD5ozotX3Qt",
        "colab": {
          "base_uri": "https://localhost:8080/"
        },
        "outputId": "d6524d11-3fb6-4a51-884b-182d510925fb"
      },
      "source": [
        "import numpy as np\n",
        "import pandas as pd\n",
        "import time\n",
        "import seaborn as sns\n",
        "import matplotlib.pyplot as plt\n",
        "from imblearn.under_sampling import RandomUnderSampler"
      ],
      "execution_count": 1,
      "outputs": [
        {
          "output_type": "stream",
          "text": [
            "/usr/local/lib/python3.7/dist-packages/sklearn/externals/six.py:31: FutureWarning: The module is deprecated in version 0.21 and will be removed in version 0.23 since we've dropped support for Python 2.7. Please rely on the official version of six (https://pypi.org/project/six/).\n",
            "  \"(https://pypi.org/project/six/).\", FutureWarning)\n",
            "/usr/local/lib/python3.7/dist-packages/sklearn/utils/deprecation.py:144: FutureWarning: The sklearn.neighbors.base module is  deprecated in version 0.22 and will be removed in version 0.24. The corresponding classes / functions should instead be imported from sklearn.neighbors. Anything that cannot be imported from sklearn.neighbors is now part of the private API.\n",
            "  warnings.warn(message, FutureWarning)\n"
          ],
          "name": "stderr"
        }
      ]
    },
    {
      "cell_type": "code",
      "metadata": {
        "colab": {
          "base_uri": "https://localhost:8080/"
        },
        "id": "Uf8lR4KnYL1l",
        "outputId": "3d2fec0a-5f8a-4bdd-a0d2-7b219a36a549"
      },
      "source": [
        "from google.colab import drive\n",
        "drive.mount(\"/content/drive\")"
      ],
      "execution_count": 2,
      "outputs": [
        {
          "output_type": "stream",
          "text": [
            "Mounted at /content/drive\n"
          ],
          "name": "stdout"
        }
      ]
    },
    {
      "cell_type": "code",
      "metadata": {
        "id": "-PSrLGdXX3Qy"
      },
      "source": [
        "path = './drive/MyDrive/aiijc_transport_simpleteam/'\n",
        "\n",
        "train_labeled = pd.read_csv(path + 'data/base_files/labled_train_data.csv', index_col=0, sep='\\t', comment='#')\n",
        "comments_labeled = pd.read_csv(path + 'data/base_files/labled_train_comments.csv', index_col=0, sep='\\t', comment='#')\n",
        "tracks_labeled = pd.read_csv(path + 'data/labled_train_tracks_speed.csv', index_col=0, sep=',', comment='#')\n",
        "\n",
        "train_unlabeled = pd.read_csv(path +'data/base_files/unlabled_train_data.csv', index_col=0, sep='\\t', comment='#')\n",
        "comments_unlabeled = pd.read_csv(path+ 'data/base_files/unlabled_train_comments.csv', index_col=0, sep='\\t', comment='#')\n",
        "tracks_unlabeled = pd.read_csv(path+ 'data/unlabled_train_tracks_speed.csv', index_col=0, sep='\\t', comment='#')"
      ],
      "execution_count": 3,
      "outputs": []
    },
    {
      "cell_type": "code",
      "metadata": {
        "colab": {
          "base_uri": "https://localhost:8080/",
          "height": 419
        },
        "id": "RiDUIy40nlsu",
        "outputId": "99fd7bf4-f14d-44bd-9a12-a4c5acc08b57"
      },
      "source": [
        "tracks_labeled"
      ],
      "execution_count": 16,
      "outputs": [
        {
          "output_type": "execute_result",
          "data": {
            "text/html": [
              "<div>\n",
              "<style scoped>\n",
              "    .dataframe tbody tr th:only-of-type {\n",
              "        vertical-align: middle;\n",
              "    }\n",
              "\n",
              "    .dataframe tbody tr th {\n",
              "        vertical-align: top;\n",
              "    }\n",
              "\n",
              "    .dataframe thead th {\n",
              "        text-align: right;\n",
              "    }\n",
              "</style>\n",
              "<table border=\"1\" class=\"dataframe\">\n",
              "  <thead>\n",
              "    <tr style=\"text-align: right;\">\n",
              "      <th></th>\n",
              "      <th>Unnamed: 0.1</th>\n",
              "      <th>driver_id</th>\n",
              "      <th>dt</th>\n",
              "      <th>lat_</th>\n",
              "      <th>lon_</th>\n",
              "      <th>order_id</th>\n",
              "      <th>speed</th>\n",
              "      <th>is_aggressive</th>\n",
              "    </tr>\n",
              "  </thead>\n",
              "  <tbody>\n",
              "    <tr>\n",
              "      <th>0</th>\n",
              "      <td>0</td>\n",
              "      <td>b76545fa3cc14acd6a69ac13c1edac33</td>\n",
              "      <td>2021-02-09 21:43:41</td>\n",
              "      <td>55.792710</td>\n",
              "      <td>37.545409</td>\n",
              "      <td>001662da857b5a39bb402aacf3145f86</td>\n",
              "      <td>NaN</td>\n",
              "      <td>0.0</td>\n",
              "    </tr>\n",
              "    <tr>\n",
              "      <th>1</th>\n",
              "      <td>1</td>\n",
              "      <td>b76545fa3cc14acd6a69ac13c1edac33</td>\n",
              "      <td>2021-02-09 21:44:40</td>\n",
              "      <td>55.792013</td>\n",
              "      <td>37.544481</td>\n",
              "      <td>001662da857b5a39bb402aacf3145f86</td>\n",
              "      <td>5.906441</td>\n",
              "      <td>0.0</td>\n",
              "    </tr>\n",
              "    <tr>\n",
              "      <th>2</th>\n",
              "      <td>2</td>\n",
              "      <td>b76545fa3cc14acd6a69ac13c1edac33</td>\n",
              "      <td>2021-02-09 21:45:00</td>\n",
              "      <td>55.791365</td>\n",
              "      <td>37.543695</td>\n",
              "      <td>001662da857b5a39bb402aacf3145f86</td>\n",
              "      <td>15.696000</td>\n",
              "      <td>0.0</td>\n",
              "    </tr>\n",
              "    <tr>\n",
              "      <th>3</th>\n",
              "      <td>3</td>\n",
              "      <td>b76545fa3cc14acd6a69ac13c1edac33</td>\n",
              "      <td>2021-02-09 21:45:20</td>\n",
              "      <td>55.791267</td>\n",
              "      <td>37.543512</td>\n",
              "      <td>001662da857b5a39bb402aacf3145f86</td>\n",
              "      <td>2.862000</td>\n",
              "      <td>0.0</td>\n",
              "    </tr>\n",
              "    <tr>\n",
              "      <th>4</th>\n",
              "      <td>4</td>\n",
              "      <td>b76545fa3cc14acd6a69ac13c1edac33</td>\n",
              "      <td>2021-02-09 21:45:37</td>\n",
              "      <td>55.791175</td>\n",
              "      <td>37.543634</td>\n",
              "      <td>001662da857b5a39bb402aacf3145f86</td>\n",
              "      <td>2.710588</td>\n",
              "      <td>0.0</td>\n",
              "    </tr>\n",
              "    <tr>\n",
              "      <th>...</th>\n",
              "      <td>...</td>\n",
              "      <td>...</td>\n",
              "      <td>...</td>\n",
              "      <td>...</td>\n",
              "      <td>...</td>\n",
              "      <td>...</td>\n",
              "      <td>...</td>\n",
              "      <td>...</td>\n",
              "    </tr>\n",
              "    <tr>\n",
              "      <th>675217</th>\n",
              "      <td>675217</td>\n",
              "      <td>1c11e4febcc32f17e7fbbd20a86b9a59</td>\n",
              "      <td>2021-03-04 19:38:08</td>\n",
              "      <td>55.833583</td>\n",
              "      <td>37.490335</td>\n",
              "      <td>fffdfda358f35cf2d7f9d87d205655a7</td>\n",
              "      <td>36.891429</td>\n",
              "      <td>0.0</td>\n",
              "    </tr>\n",
              "    <tr>\n",
              "      <th>675219</th>\n",
              "      <td>675219</td>\n",
              "      <td>1c11e4febcc32f17e7fbbd20a86b9a59</td>\n",
              "      <td>2021-03-04 19:38:57</td>\n",
              "      <td>55.833093</td>\n",
              "      <td>37.491756</td>\n",
              "      <td>fffdfda358f35cf2d7f9d87d205655a7</td>\n",
              "      <td>8.517273</td>\n",
              "      <td>0.0</td>\n",
              "    </tr>\n",
              "    <tr>\n",
              "      <th>675220</th>\n",
              "      <td>675220</td>\n",
              "      <td>1c11e4febcc32f17e7fbbd20a86b9a59</td>\n",
              "      <td>2021-03-04 19:39:14</td>\n",
              "      <td>55.832650</td>\n",
              "      <td>37.493704</td>\n",
              "      <td>fffdfda358f35cf2d7f9d87d205655a7</td>\n",
              "      <td>27.783529</td>\n",
              "      <td>0.0</td>\n",
              "    </tr>\n",
              "    <tr>\n",
              "      <th>675222</th>\n",
              "      <td>675222</td>\n",
              "      <td>1c11e4febcc32f17e7fbbd20a86b9a59</td>\n",
              "      <td>2021-03-04 19:39:37</td>\n",
              "      <td>55.833031</td>\n",
              "      <td>37.495477</td>\n",
              "      <td>fffdfda358f35cf2d7f9d87d205655a7</td>\n",
              "      <td>23.720000</td>\n",
              "      <td>0.0</td>\n",
              "    </tr>\n",
              "    <tr>\n",
              "      <th>675223</th>\n",
              "      <td>675223</td>\n",
              "      <td>1c11e4febcc32f17e7fbbd20a86b9a59</td>\n",
              "      <td>2021-03-04 19:39:59</td>\n",
              "      <td>55.833368</td>\n",
              "      <td>37.496879</td>\n",
              "      <td>fffdfda358f35cf2d7f9d87d205655a7</td>\n",
              "      <td>15.578182</td>\n",
              "      <td>0.0</td>\n",
              "    </tr>\n",
              "  </tbody>\n",
              "</table>\n",
              "<p>395687 rows × 8 columns</p>\n",
              "</div>"
            ],
            "text/plain": [
              "        Unnamed: 0.1  ... is_aggressive\n",
              "0                  0  ...           0.0\n",
              "1                  1  ...           0.0\n",
              "2                  2  ...           0.0\n",
              "3                  3  ...           0.0\n",
              "4                  4  ...           0.0\n",
              "...              ...  ...           ...\n",
              "675217        675217  ...           0.0\n",
              "675219        675219  ...           0.0\n",
              "675220        675220  ...           0.0\n",
              "675222        675222  ...           0.0\n",
              "675223        675223  ...           0.0\n",
              "\n",
              "[395687 rows x 8 columns]"
            ]
          },
          "metadata": {
            "tags": []
          },
          "execution_count": 16
        }
      ]
    },
    {
      "cell_type": "code",
      "metadata": {
        "id": "tir81tvuX3Q0",
        "colab": {
          "base_uri": "https://localhost:8080/",
          "height": 711
        },
        "outputId": "4e85dea6-e0d4-4ca5-fab8-e922a8c521b6"
      },
      "source": [
        "tracks_unlabeled['is_aggressive']=-1\n",
        "all_tracks = pd.concat([tracks_labeled, tracks_unlabeled])\n",
        "all_tracks"
      ],
      "execution_count": null,
      "outputs": [
        {
          "output_type": "execute_result",
          "data": {
            "text/html": [
              "<div>\n",
              "<style scoped>\n",
              "    .dataframe tbody tr th:only-of-type {\n",
              "        vertical-align: middle;\n",
              "    }\n",
              "\n",
              "    .dataframe tbody tr th {\n",
              "        vertical-align: top;\n",
              "    }\n",
              "\n",
              "    .dataframe thead th {\n",
              "        text-align: right;\n",
              "    }\n",
              "</style>\n",
              "<table border=\"1\" class=\"dataframe\">\n",
              "  <thead>\n",
              "    <tr style=\"text-align: right;\">\n",
              "      <th></th>\n",
              "      <th>Unnamed: 0.1</th>\n",
              "      <th>driver_id</th>\n",
              "      <th>dt</th>\n",
              "      <th>lat_</th>\n",
              "      <th>lon_</th>\n",
              "      <th>order_id</th>\n",
              "      <th>speed</th>\n",
              "      <th>is_aggressive</th>\n",
              "    </tr>\n",
              "  </thead>\n",
              "  <tbody>\n",
              "    <tr>\n",
              "      <th>0</th>\n",
              "      <td>0.0</td>\n",
              "      <td>b76545fa3cc14acd6a69ac13c1edac33</td>\n",
              "      <td>2021-02-09 21:43:41</td>\n",
              "      <td>55.792710</td>\n",
              "      <td>37.545409</td>\n",
              "      <td>001662da857b5a39bb402aacf3145f86</td>\n",
              "      <td>NaN</td>\n",
              "      <td>0.0</td>\n",
              "    </tr>\n",
              "    <tr>\n",
              "      <th>1</th>\n",
              "      <td>1.0</td>\n",
              "      <td>b76545fa3cc14acd6a69ac13c1edac33</td>\n",
              "      <td>2021-02-09 21:44:40</td>\n",
              "      <td>55.792013</td>\n",
              "      <td>37.544481</td>\n",
              "      <td>001662da857b5a39bb402aacf3145f86</td>\n",
              "      <td>5.906441</td>\n",
              "      <td>0.0</td>\n",
              "    </tr>\n",
              "    <tr>\n",
              "      <th>2</th>\n",
              "      <td>2.0</td>\n",
              "      <td>b76545fa3cc14acd6a69ac13c1edac33</td>\n",
              "      <td>2021-02-09 21:45:00</td>\n",
              "      <td>55.791365</td>\n",
              "      <td>37.543695</td>\n",
              "      <td>001662da857b5a39bb402aacf3145f86</td>\n",
              "      <td>15.696000</td>\n",
              "      <td>0.0</td>\n",
              "    </tr>\n",
              "    <tr>\n",
              "      <th>3</th>\n",
              "      <td>3.0</td>\n",
              "      <td>b76545fa3cc14acd6a69ac13c1edac33</td>\n",
              "      <td>2021-02-09 21:45:20</td>\n",
              "      <td>55.791267</td>\n",
              "      <td>37.543512</td>\n",
              "      <td>001662da857b5a39bb402aacf3145f86</td>\n",
              "      <td>2.862000</td>\n",
              "      <td>0.0</td>\n",
              "    </tr>\n",
              "    <tr>\n",
              "      <th>4</th>\n",
              "      <td>4.0</td>\n",
              "      <td>b76545fa3cc14acd6a69ac13c1edac33</td>\n",
              "      <td>2021-02-09 21:45:37</td>\n",
              "      <td>55.791175</td>\n",
              "      <td>37.543634</td>\n",
              "      <td>001662da857b5a39bb402aacf3145f86</td>\n",
              "      <td>2.710588</td>\n",
              "      <td>0.0</td>\n",
              "    </tr>\n",
              "    <tr>\n",
              "      <th>...</th>\n",
              "      <td>...</td>\n",
              "      <td>...</td>\n",
              "      <td>...</td>\n",
              "      <td>...</td>\n",
              "      <td>...</td>\n",
              "      <td>...</td>\n",
              "      <td>...</td>\n",
              "      <td>...</td>\n",
              "    </tr>\n",
              "    <tr>\n",
              "      <th>674713,cb82836394c8d6b49258c2993d833587,2021-03-18 23:45:53,55.7936508,37.4938731,b8af43aa9f542bb6d869b19690a8ebbd,0.26441944973178755</th>\n",
              "      <td>NaN</td>\n",
              "      <td>NaN</td>\n",
              "      <td>NaN</td>\n",
              "      <td>NaN</td>\n",
              "      <td>NaN</td>\n",
              "      <td>NaN</td>\n",
              "      <td>NaN</td>\n",
              "      <td>-1.0</td>\n",
              "    </tr>\n",
              "    <tr>\n",
              "      <th>674714,6354ef9186ef028b633d598354b190d7,2021-03-18 19:26:55,55.7488301,37.5761351,c6f2ab6dbacc1655909281124a7db5db,-1.6596421675891364</th>\n",
              "      <td>NaN</td>\n",
              "      <td>NaN</td>\n",
              "      <td>NaN</td>\n",
              "      <td>NaN</td>\n",
              "      <td>NaN</td>\n",
              "      <td>NaN</td>\n",
              "      <td>NaN</td>\n",
              "      <td>-1.0</td>\n",
              "    </tr>\n",
              "    <tr>\n",
              "      <th>674715,4a43794a11c47f3f62eef22b97f6f9b1,2021-03-18 08:30:09,55.9104284,37.5840968,56c1826d6060e1bd19125b0cdaebb781,-1.6422088006902502</th>\n",
              "      <td>NaN</td>\n",
              "      <td>NaN</td>\n",
              "      <td>NaN</td>\n",
              "      <td>NaN</td>\n",
              "      <td>NaN</td>\n",
              "      <td>NaN</td>\n",
              "      <td>NaN</td>\n",
              "      <td>-1.0</td>\n",
              "    </tr>\n",
              "    <tr>\n",
              "      <th>674716,df80d194cbb12e286c8b5175d9938dfe,2021-03-18 23:56:01,55.6566868,37.846926,ca267eb622d411adb713703d738ff98f,2.115978542626728</th>\n",
              "      <td>NaN</td>\n",
              "      <td>NaN</td>\n",
              "      <td>NaN</td>\n",
              "      <td>NaN</td>\n",
              "      <td>NaN</td>\n",
              "      <td>NaN</td>\n",
              "      <td>NaN</td>\n",
              "      <td>-1.0</td>\n",
              "    </tr>\n",
              "    <tr>\n",
              "      <th>674717,4291f1fbbc5eee0c268c997671ec704d,2021-03-18 20:04:18,55.7744254,37.8430477,50b4ab55cf787dad0567e2aa0472bd3c,-3.3905718190318637</th>\n",
              "      <td>NaN</td>\n",
              "      <td>NaN</td>\n",
              "      <td>NaN</td>\n",
              "      <td>NaN</td>\n",
              "      <td>NaN</td>\n",
              "      <td>NaN</td>\n",
              "      <td>NaN</td>\n",
              "      <td>-1.0</td>\n",
              "    </tr>\n",
              "  </tbody>\n",
              "</table>\n",
              "<p>1349942 rows × 8 columns</p>\n",
              "</div>"
            ],
            "text/plain": [
              "                                                    Unnamed: 0.1  ... is_aggressive\n",
              "0                                                            0.0  ...           0.0\n",
              "1                                                            1.0  ...           0.0\n",
              "2                                                            2.0  ...           0.0\n",
              "3                                                            3.0  ...           0.0\n",
              "4                                                            4.0  ...           0.0\n",
              "...                                                          ...  ...           ...\n",
              "674713,cb82836394c8d6b49258c2993d833587,2021-03...           NaN  ...          -1.0\n",
              "674714,6354ef9186ef028b633d598354b190d7,2021-03...           NaN  ...          -1.0\n",
              "674715,4a43794a11c47f3f62eef22b97f6f9b1,2021-03...           NaN  ...          -1.0\n",
              "674716,df80d194cbb12e286c8b5175d9938dfe,2021-03...           NaN  ...          -1.0\n",
              "674717,4291f1fbbc5eee0c268c997671ec704d,2021-03...           NaN  ...          -1.0\n",
              "\n",
              "[1349942 rows x 8 columns]"
            ]
          },
          "metadata": {
            "tags": []
          },
          "execution_count": 14
        }
      ]
    },
    {
      "cell_type": "markdown",
      "metadata": {
        "id": "fi10wdSXX3Q2"
      },
      "source": [
        "each order is different batch"
      ]
    },
    {
      "cell_type": "code",
      "metadata": {
        "colab": {
          "base_uri": "https://localhost:8080/"
        },
        "id": "ES6yLStFX3Q3",
        "outputId": "6a2103dc-49b9-4913-bf43-ce68f4d22d6d"
      },
      "source": [
        "def preprocess(tracks, chunk_size, multiplier):\n",
        "  \n",
        "  # undersampling method deletes some extra non aggressive values\n",
        "  def undersampling(X, multiplier):\n",
        "    aggressive_count = sum(X.is_aggressive==1)\n",
        "    non_aggressive_ind = X[X.is_aggressive==0].index\n",
        "\n",
        "    # number of aggressive and non-aggressive labels is the same\n",
        "    random_indices = np.random.choice(non_aggressive_ind, aggressive_count*multiplier, replace=False)\n",
        "    return X.loc[random_indices]\n",
        "\n",
        "  def split(arr, chunk_size = 15):\n",
        "    result = []\n",
        "    #get right length of arr so that it equally splits into chunks\n",
        "    length = len(arr)\n",
        "    split_length = length - (length%chunk_size)\n",
        "            \n",
        "    for i in range(split_length)[chunk_size::chunk_size]:\n",
        "        result.append(arr[i-chunk_size:i])\n",
        "\n",
        "    return np.array(result)\n",
        "\n",
        "  # make df, so that each row has whole order speeds time series\n",
        "  def make_nested(tracks, chunk_size, multiplier):\n",
        "    unique_orders= tracks.drop_duplicates('order_id', keep='last')\n",
        "    unique_orders = undersampling(unique_orders, multiplier)\n",
        "    y_labels = []\n",
        "    X_train = []\n",
        "    for order in unique_orders['order_id']:\n",
        "      order_df = tracks[tracks.order_id==order]\n",
        "      order_df.loc[0, 'speed']=0\n",
        "\n",
        "      if order_df.shape[0]<chunk_size:\n",
        "        continue\n",
        "\n",
        "      splitted_arrs = split(order_df.values, chunk_size)\n",
        "      for arr in splitted_arrs:\n",
        "        is_aggressive = arr[0][7]\n",
        "        y_labels.append(is_aggressive)\n",
        "        speed_series = []\n",
        "        for row in arr:  \n",
        "            # append only speed and dt values \n",
        "            speed_series.append(row[6])\n",
        "        X_train.append(pd.Series(speed_series))\n",
        "    return X_train, y_labels\n",
        "\n",
        "  X_train, train_labels = make_nested(tracks, chunk_size, multiplier)\n",
        "\n",
        "  X_train = pd.DataFrame({'speed':X_train})\n",
        "  y_train = np.array(train_labels)\n",
        "\n",
        "  return X_train, y_train\n",
        "\n",
        "CHUNK_SIZE = 20 \n",
        "MULTIPLIER = 3 \n",
        "X_train, y_train = preprocess(tracks_labeled, CHUNK_SIZE, MULTIPLIER)"
      ],
      "execution_count": 16,
      "outputs": [
        {
          "output_type": "stream",
          "text": [
            "/usr/local/lib/python3.7/dist-packages/ipykernel_launcher.py:31: SettingWithCopyWarning: \n",
            "A value is trying to be set on a copy of a slice from a DataFrame\n",
            "\n",
            "See the caveats in the documentation: https://pandas.pydata.org/pandas-docs/stable/user_guide/indexing.html#returning-a-view-versus-a-copy\n"
          ],
          "name": "stderr"
        }
      ]
    },
    {
      "cell_type": "code",
      "metadata": {
        "colab": {
          "base_uri": "https://localhost:8080/",
          "height": 419
        },
        "id": "vjkfOwV9SXmm",
        "outputId": "adebdef7-845d-4c9b-8e59-d45d91e5c695"
      },
      "source": [
        "X_train"
      ],
      "execution_count": 17,
      "outputs": [
        {
          "output_type": "execute_result",
          "data": {
            "text/html": [
              "<div>\n",
              "<style scoped>\n",
              "    .dataframe tbody tr th:only-of-type {\n",
              "        vertical-align: middle;\n",
              "    }\n",
              "\n",
              "    .dataframe tbody tr th {\n",
              "        vertical-align: top;\n",
              "    }\n",
              "\n",
              "    .dataframe thead th {\n",
              "        text-align: right;\n",
              "    }\n",
              "</style>\n",
              "<table border=\"1\" class=\"dataframe\">\n",
              "  <thead>\n",
              "    <tr style=\"text-align: right;\">\n",
              "      <th></th>\n",
              "      <th>speed</th>\n",
              "    </tr>\n",
              "  </thead>\n",
              "  <tbody>\n",
              "    <tr>\n",
              "      <th>0</th>\n",
              "      <td>0     -0.113554\n",
              "1      3.562759\n",
              "2     26.92800...</td>\n",
              "    </tr>\n",
              "    <tr>\n",
              "      <th>1</th>\n",
              "      <td>0      0.008005\n",
              "1      2.755385\n",
              "2      0.35122...</td>\n",
              "    </tr>\n",
              "    <tr>\n",
              "      <th>2</th>\n",
              "      <td>0     -0.006301\n",
              "1      0.892800\n",
              "2      0.28636...</td>\n",
              "    </tr>\n",
              "    <tr>\n",
              "      <th>3</th>\n",
              "      <td>0      6.300000\n",
              "1      2.491200\n",
              "2      4.66000...</td>\n",
              "    </tr>\n",
              "    <tr>\n",
              "      <th>4</th>\n",
              "      <td>0       0.050996\n",
              "1       3.960000\n",
              "2       4.69...</td>\n",
              "    </tr>\n",
              "    <tr>\n",
              "      <th>...</th>\n",
              "      <td>...</td>\n",
              "    </tr>\n",
              "    <tr>\n",
              "      <th>1439</th>\n",
              "      <td>0      83.595789\n",
              "1      72.480000\n",
              "2      79.35...</td>\n",
              "    </tr>\n",
              "    <tr>\n",
              "      <th>1440</th>\n",
              "      <td>0     -0.024098\n",
              "1     34.200000\n",
              "2      7.86857...</td>\n",
              "    </tr>\n",
              "    <tr>\n",
              "      <th>1441</th>\n",
              "      <td>0     38.926957\n",
              "1     28.722857\n",
              "2     32.86285...</td>\n",
              "    </tr>\n",
              "    <tr>\n",
              "      <th>1442</th>\n",
              "      <td>0     13.221818\n",
              "1      7.046809\n",
              "2     27.08341...</td>\n",
              "    </tr>\n",
              "    <tr>\n",
              "      <th>1443</th>\n",
              "      <td>0       7.449796\n",
              "1     148.200000\n",
              "2      67.49...</td>\n",
              "    </tr>\n",
              "  </tbody>\n",
              "</table>\n",
              "<p>1444 rows × 1 columns</p>\n",
              "</div>"
            ],
            "text/plain": [
              "                                                  speed\n",
              "0     0     -0.113554\n",
              "1      3.562759\n",
              "2     26.92800...\n",
              "1     0      0.008005\n",
              "1      2.755385\n",
              "2      0.35122...\n",
              "2     0     -0.006301\n",
              "1      0.892800\n",
              "2      0.28636...\n",
              "3     0      6.300000\n",
              "1      2.491200\n",
              "2      4.66000...\n",
              "4     0       0.050996\n",
              "1       3.960000\n",
              "2       4.69...\n",
              "...                                                 ...\n",
              "1439  0      83.595789\n",
              "1      72.480000\n",
              "2      79.35...\n",
              "1440  0     -0.024098\n",
              "1     34.200000\n",
              "2      7.86857...\n",
              "1441  0     38.926957\n",
              "1     28.722857\n",
              "2     32.86285...\n",
              "1442  0     13.221818\n",
              "1      7.046809\n",
              "2     27.08341...\n",
              "1443  0       7.449796\n",
              "1     148.200000\n",
              "2      67.49...\n",
              "\n",
              "[1444 rows x 1 columns]"
            ]
          },
          "metadata": {
            "tags": []
          },
          "execution_count": 17
        }
      ]
    },
    {
      "cell_type": "code",
      "metadata": {
        "id": "fsf8qxg6X3Q4",
        "colab": {
          "base_uri": "https://localhost:8080/"
        },
        "outputId": "99d1f52d-a47e-44ff-aedf-6e90693cc8fc"
      },
      "source": [
        "from sklearn.model_selection import KFold  \n",
        "from sklearn.pipeline import make_pipeline\n",
        "from sktime.transformations.panel.rocket import MiniRocket\n",
        "from sklearn.model_selection import train_test_split\n",
        "from sklearn.linear_model import RidgeClassifierCV\n",
        "from sklearn.semi_supervised import SelfTrainingClassifier\n",
        "\n",
        "X_train, X_test, y_train, y_test = train_test_split(X_train, y_train, test_size=0.33, random_state=42)\n",
        "rocket = MiniRocket()\n",
        "rocket.fit(X_train, y_train)\n",
        "X_train_transform = rocket.transform(X_train,y_train)\n",
        "\n",
        "classifier = RidgeClassifierCV(alphas = np.logspace(-3, 3, 10), normalize = True)\n",
        "#classifier = SelfTrainingClassifier(classifier)\n",
        "classifier.fit(X_train_transform, y_train)\n",
        "\n",
        "X_test_transform = rocket.transform(X_test)\n",
        "classifier.score(X_test_transform, y_test)\n",
        "classifier\n"
      ],
      "execution_count": 18,
      "outputs": [
        {
          "output_type": "execute_result",
          "data": {
            "text/plain": [
              "RidgeClassifierCV(alphas=array([1.00000000e-03, 4.64158883e-03, 2.15443469e-02, 1.00000000e-01,\n",
              "       4.64158883e-01, 2.15443469e+00, 1.00000000e+01, 4.64158883e+01,\n",
              "       2.15443469e+02, 1.00000000e+03]),\n",
              "                  class_weight=None, cv=None, fit_intercept=True,\n",
              "                  normalize=True, scoring=None, store_cv_values=False)"
            ]
          },
          "metadata": {
            "tags": []
          },
          "execution_count": 18
        }
      ]
    },
    {
      "cell_type": "code",
      "metadata": {
        "colab": {
          "base_uri": "https://localhost:8080/",
          "height": 663
        },
        "id": "lwCl8sYW5_Ed",
        "outputId": "c2df0a83-9f90-46dd-f4b3-d91a86b299e6"
      },
      "source": [
        "!pip install sktime"
      ],
      "execution_count": 7,
      "outputs": [
        {
          "output_type": "stream",
          "text": [
            "Collecting sktime\n",
            "  Downloading sktime-0.7.0-cp37-cp37m-manylinux_2_17_x86_64.manylinux2014_x86_64.whl (5.8 MB)\n",
            "\u001b[K     |████████████████████████████████| 5.8 MB 6.8 MB/s \n",
            "\u001b[?25hRequirement already satisfied: wheel in /usr/local/lib/python3.7/dist-packages (from sktime) (0.37.0)\n",
            "Collecting scikit-learn>=0.24.0\n",
            "  Downloading scikit_learn-0.24.2-cp37-cp37m-manylinux2010_x86_64.whl (22.3 MB)\n",
            "\u001b[K     |████████████████████████████████| 22.3 MB 1.4 MB/s \n",
            "\u001b[?25hRequirement already satisfied: numba>=0.50 in /usr/local/lib/python3.7/dist-packages (from sktime) (0.51.2)\n",
            "Requirement already satisfied: pandas>=1.1.0 in /usr/local/lib/python3.7/dist-packages (from sktime) (1.1.5)\n",
            "Collecting statsmodels>=0.12.1\n",
            "  Downloading statsmodels-0.12.2-cp37-cp37m-manylinux1_x86_64.whl (9.5 MB)\n",
            "\u001b[K     |████████████████████████████████| 9.5 MB 66.6 MB/s \n",
            "\u001b[?25hRequirement already satisfied: numpy>=1.19.0 in /usr/local/lib/python3.7/dist-packages (from sktime) (1.19.5)\n",
            "Requirement already satisfied: setuptools in /usr/local/lib/python3.7/dist-packages (from numba>=0.50->sktime) (57.2.0)\n",
            "Requirement already satisfied: llvmlite<0.35,>=0.34.0.dev0 in /usr/local/lib/python3.7/dist-packages (from numba>=0.50->sktime) (0.34.0)\n",
            "Requirement already satisfied: pytz>=2017.2 in /usr/local/lib/python3.7/dist-packages (from pandas>=1.1.0->sktime) (2018.9)\n",
            "Requirement already satisfied: python-dateutil>=2.7.3 in /usr/local/lib/python3.7/dist-packages (from pandas>=1.1.0->sktime) (2.8.2)\n",
            "Requirement already satisfied: six>=1.5 in /usr/local/lib/python3.7/dist-packages (from python-dateutil>=2.7.3->pandas>=1.1.0->sktime) (1.15.0)\n",
            "Requirement already satisfied: joblib>=0.11 in /usr/local/lib/python3.7/dist-packages (from scikit-learn>=0.24.0->sktime) (1.0.1)\n",
            "Requirement already satisfied: scipy>=0.19.1 in /usr/local/lib/python3.7/dist-packages (from scikit-learn>=0.24.0->sktime) (1.4.1)\n",
            "Collecting threadpoolctl>=2.0.0\n",
            "  Downloading threadpoolctl-2.2.0-py3-none-any.whl (12 kB)\n",
            "Requirement already satisfied: patsy>=0.5 in /usr/local/lib/python3.7/dist-packages (from statsmodels>=0.12.1->sktime) (0.5.1)\n",
            "Installing collected packages: threadpoolctl, statsmodels, scikit-learn, sktime\n",
            "  Attempting uninstall: statsmodels\n",
            "    Found existing installation: statsmodels 0.10.2\n",
            "    Uninstalling statsmodels-0.10.2:\n",
            "      Successfully uninstalled statsmodels-0.10.2\n",
            "  Attempting uninstall: scikit-learn\n",
            "    Found existing installation: scikit-learn 0.22.2.post1\n",
            "    Uninstalling scikit-learn-0.22.2.post1:\n",
            "      Successfully uninstalled scikit-learn-0.22.2.post1\n",
            "Successfully installed scikit-learn-0.24.2 sktime-0.7.0 statsmodels-0.12.2 threadpoolctl-2.2.0\n"
          ],
          "name": "stdout"
        },
        {
          "output_type": "display_data",
          "data": {
            "application/vnd.colab-display-data+json": {
              "pip_warning": {
                "packages": [
                  "sklearn",
                  "statsmodels"
                ]
              }
            }
          },
          "metadata": {
            "tags": []
          }
        }
      ]
    },
    {
      "cell_type": "code",
      "metadata": {
        "id": "ybyyvgtjX3Q7",
        "colab": {
          "base_uri": "https://localhost:8080/"
        },
        "outputId": "5870a4b0-d0dc-4d1c-f1a7-dae8d2e80f5e"
      },
      "source": [
        "classifier.score(X_test_transform, y_test)"
      ],
      "execution_count": 19,
      "outputs": [
        {
          "output_type": "execute_result",
          "data": {
            "text/plain": [
              "1.0"
            ]
          },
          "metadata": {
            "tags": []
          },
          "execution_count": 19
        }
      ]
    }
  ]
}