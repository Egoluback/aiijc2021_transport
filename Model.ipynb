{
  "nbformat": 4,
  "nbformat_minor": 2,
  "metadata": {
    "kernelspec": {
      "name": "python3",
      "display_name": "Python 3.8.8 64-bit ('base': conda)"
    },
    "language_info": {
      "codemirror_mode": {
        "name": "ipython",
        "version": 3
      },
      "file_extension": ".py",
      "mimetype": "text/x-python",
      "name": "python",
      "nbconvert_exporter": "python",
      "pygments_lexer": "ipython3",
      "version": "3.8.8"
    },
    "colab": {
      "name": "Model.ipynb",
      "provenance": [],
      "collapsed_sections": [
        "IcH7T4cJsOzL",
        "BZNrSHdSORxG",
        "tJA_bsAaORxI",
        "_fZL4rRiFCio",
        "GTkhnZoHx5JI",
        "UqEQmfo0x5JK",
        "oW92gZ9-x5JL"
      ],
      "machine_shape": "hm"
    },
    "interpreter": {
      "hash": "f50bd5474255f82aa829301912ce59e29110123be660cf8d7583f66a20371684"
    }
  },
  "cells": [
    {
      "cell_type": "markdown",
      "source": [
        "# Install environment"
      ],
      "metadata": {
        "id": "IcH7T4cJsOzL"
      }
    },
    {
      "cell_type": "code",
      "execution_count": 1,
      "source": [
        "RANDOM_STATE = 42\n",
        "COLAB = False "
      ],
      "outputs": [],
      "metadata": {
        "id": "XsBW5f7rFx0g"
      }
    },
    {
      "cell_type": "code",
      "execution_count": 2,
      "source": [
        "if COLAB:\n",
        "    from google.colab import drive\n",
        "    drive.mount('/content/drive')\n",
        "    \n",
        "    !pip install catboost\n",
        "    !pip install sktime\n",
        "    !pip install tqdm"
      ],
      "outputs": [],
      "metadata": {
        "colab": {
          "base_uri": "https://localhost:8080/"
        },
        "id": "dT4V-uZiJFE-",
        "outputId": "489aa38e-fbb6-43d7-d850-2f2bc92d9d16"
      }
    },
    {
      "cell_type": "code",
      "execution_count": 3,
      "source": [
        "import numpy as np\n",
        "import pandas as pd\n",
        "\n",
        "from collections import Counter\n",
        "from tqdm import tqdm\n",
        "\n",
        "from sklearn.linear_model import LogisticRegression\n",
        "from catboost import CatBoostClassifier\n",
        "from sktime.transformations.panel.rocket import MiniRocket\n",
        "from sklearn.linear_model import RidgeClassifierCV\n",
        "from sklearn.linear_model import RidgeClassifier\n",
        "\n",
        "from sklearn.compose import ColumnTransformer\n",
        "from sklearn.model_selection import train_test_split, GridSearchCV, cross_validate\n",
        "from sklearn.pipeline import Pipeline\n",
        "from sklearn.preprocessing import StandardScaler, OneHotEncoder\n",
        "from sklearn.metrics import roc_auc_score\n",
        "\n",
        "import warnings\n",
        "warnings.filterwarnings(\"ignore\")\n",
        "import ssl\n",
        "\n",
        "ssl._create_default_https_context = ssl._create_unverified_context"
      ],
      "outputs": [],
      "metadata": {
        "id": "j1qmmvEyx5I_",
        "colab": {
          "base_uri": "https://localhost:8080/"
        },
        "outputId": "8ecde0fd-5e2d-49ef-8703-cebd5311c56a"
      }
    },
    {
      "cell_type": "markdown",
      "source": [
        "# Model code"
      ],
      "metadata": {
        "id": "Zk2YRwe9ONnZ"
      }
    },
    {
      "cell_type": "code",
      "execution_count": 4,
      "source": [
        "import datetime \n",
        "import pickle\n",
        "from math import cos, asin, sqrt, pi\n",
        "from tracks.tracks_preprocessing import Tracks_preprocessing\n",
        "from nlp.nlp_model import get_model\n",
        "from tsfresh import select_features\n",
        "\n",
        "# formula using pythogorian theorem\n",
        "# (as distances are not large, we can approximate earth rounding)\n",
        "def get_distance(lat1,lon1,lat2,lon2):\n",
        "    delta_lat = pow(lat2-lat1,2)\n",
        "    delta_lon = pow(lon2-lon1,2)\n",
        "    return np.round(sqrt(delta_lat+delta_lon)*100, 3)    \n",
        "\n",
        "def get_speed(lat1, lon1, lat2, lon2, dt1: str, dt2: str) -> float:\n",
        "    distance = get_distance(lat1, lon1, lat2, lon2).tolist()\n",
        "    format = \"%Y-%m-%d %H:%M:%S\"\n",
        "    dt1=datetime.datetime.strptime(dt1, format)\n",
        "    dt2=datetime.datetime.strptime(dt2, format)\n",
        "    time = (dt2-dt1).total_seconds()/3600 # convert timedelta into hours\n",
        "    if time==0:\n",
        "        return 0\n",
        "    return distance/time\n",
        "\n",
        "\n",
        "class Model:\n",
        "    def __init__(self):        \n",
        "        self.model = None\n",
        "        self.model_tracks = None\n",
        "\n",
        "        self.counter_words = {}\n",
        "    \n",
        "    def count_words(self, x):\n",
        "        return len(x.split(\" \"))\n",
        "\n",
        "    def check_sentence(self, sentence, words_type):\n",
        "        words_count = 0\n",
        "        for word in sentence.split(\" \"):\n",
        "            word = word.lower().replace(',', '').replace('.', '')\n",
        "\n",
        "            if (word not in list(self.counter_words.keys()) or len(self.counter_words[word]) == 2): continue\n",
        "\n",
        "            if (words_type == self.counter_words[word][2]): \n",
        "                words_count += 1\n",
        "        return words_count\n",
        "        \n",
        "    def NLP_features(self, X: pd.DataFrame,y:pd.DataFrame,comments: pd.DataFrame):\n",
        "        self.NLP_model, result = get_model(X,y, comments)\n",
        "        self.nlp_features=result\n",
        "        return result\n",
        "\n",
        "    def add_features(self, X):\n",
        "        comment_phrases = list(X.comment.value_counts().index[: 5]) + [\"---\"]\n",
        "        \n",
        "        X[\"is_comment\"] = (~np.isin(X.comment, comment_phrases)).astype(int)\n",
        "        X['dttm'] = pd.to_datetime(X.dttm)\n",
        "        X['hour'] = X.dttm.apply(lambda x: x.hour)\n",
        "        X['traff_jam'] = ((X.hour > 6) & (X.hour < 10)) | ((X.hour > 17) & (X.hour < 23))\n",
        "        X['traff_jam'] = X.traff_jam.astype(int)\n",
        "        X['weekday'] = X.dttm.apply(lambda x: x.weekday())\n",
        "        X['holiday'] = (X.weekday >= 5).astype(int)\n",
        "        X[\"count_words\"] = [-1] * X.shape[0]\n",
        "        X.loc[X.is_comment == True, \"count_words\"] = X[X.is_comment == True].comment.apply(lambda x: self.count_words(x))\n",
        "        X[\"speed\"] = X.distance / (X.duration / 60)\n",
        "        X['agg_words'] = X.comment.apply(lambda x: self.check_sentence(x, \"aggressive\"))\n",
        "        X['normal_words'] = X.comment.apply(lambda x: self.check_sentence(x, \"normal\"))\n",
        "        X['distance_thresh'] = ((X.distance > 5) & (X.distance < 20)).astype(int)\n",
        "        \n",
        "        return X\n",
        "    \n",
        "    def gen_speed(self, tracks):\n",
        "        tracks['speed'] = np.zeros(tracks.shape[0])\n",
        "        for i in tqdm(range(1, len(tracks))):\n",
        "            tracks.iloc[i, tracks.columns.get_loc('speed')] = get_speed(tracks.iloc[i-1, tracks.columns.get_loc('lat_')], tracks.iloc[i-1, tracks.columns.get_loc('lon_')],\n",
        "                                        tracks.iloc[i, tracks.columns.get_loc('lat_')], tracks.iloc[i, tracks.columns.get_loc('lon_')], tracks.iloc[i-1, tracks.columns.get_loc('dt')], tracks.iloc[i, tracks.columns.get_loc('dt')])\n",
        "        return tracks\n",
        "    \n",
        "    def estimate(self, X, y):\n",
        "        print('ESTIMATION')\n",
        "        print(X.shape)\n",
        "        print(y.shape)\n",
        "\n",
        "        print(self.model.predict(X))\n",
        "        print(roc_auc_score(y, self.model.predict(X)))\n",
        "        return roc_auc_score(y, self.model.predict(X))\n",
        "\n",
        "    def estimate_log(self, X, y):\n",
        "        print('ESTIMATION')\n",
        "        print(X.shape)\n",
        "        print(y.shape)\n",
        "        y= y.reindex(index= X['order_id'])\n",
        "        y= y.reset_index()\n",
        "        X= X._get_numeric_data()\n",
        "        print(self.model.predict(X._get_numeric_data()))\n",
        "        print(roc_auc_score(y, self.model.predict_proba(X._get_numeric_data())))\n",
        "        return roc_auc_score(y, self.model.predict_proba(X._get_numeric_data))\n",
        "\n",
        "    def train_test_split_(self, X, y, test_size, X_ss=None, y_ss=None, random_state=RANDOM_STATE):\n",
        "        assert X.shape[0] == y.shape[0]\n",
        "        if (X_ss is not None):\n",
        "            X_ss_full, y_ss_full = self.label_shuffle(X, y, X_ss, y_ss, random_state = random_state)\n",
        "            \n",
        "            len_train = len(X_ss_full) - round(len(X_ss_full) * test_size)\n",
        "            \n",
        "            x_train = X_ss_full[: len_train]\n",
        "            x_train.drop('ss', axis = 1, inplace = True)\n",
        "            \n",
        "            x_test = X_ss_full.iloc[len_train + 1:]\n",
        "            x_test = x_test[x_test.ss == 0]\n",
        "            x_test.drop('ss', axis = 1, inplace = True)\n",
        "            \n",
        "            y_train = y_ss_full[: len_train]\n",
        "            y_train.drop('ss', axis = 1, inplace = True)\n",
        "            \n",
        "            y_test = y_ss_full.iloc[len_train + 1:]\n",
        "            y_test = y_test[y_test.ss == 0]\n",
        "            y_test.drop('ss', axis = 1, inplace = True)\n",
        "            \n",
        "            return (x_train, x_test, y_train, y_test)\n",
        "        \n",
        "        len_train = len(X) - round(len(X) * test_size)\n",
        "        \n",
        "        X = X.sample(frac=1, random_state=random_state)\n",
        "        y = y.sample(frac=1, random_state=random_state)\n",
        "        \n",
        "        return (X[: len_train], X[len_train :], y[: len_train], y[len_train :])\n",
        "    \n",
        "    def train(self, X_train, X_test, y_train, y_test, categorical_feature, random_state=RANDOM_STATE):\n",
        "        print(f\"Train size: {X_train.shape}\")\n",
        "        print(f\"Test size: {X_test.shape}\")\n",
        "        print(f'TRAIN HEAD: \\n {X_train.head()}')\n",
        "\n",
        "        print('y_TRAIN')\n",
        "        print(y_train.head())\n",
        "        print('X_TRAIN')\n",
        "        print(X_train.head())\n",
        "        non_aggressive = len(y_train)-sum(y_train)\n",
        "        aggressive = sum(y_train)\n",
        "        class_weights = (1, int(non_aggressive/aggressive))\n",
        "\n",
        "        self.model = CatBoostClassifier(iterations=4000,\n",
        "                           depth=8,\n",
        "                           silent=False,\n",
        "                           loss_function='Logloss',\n",
        "                           class_weights=class_weights,\n",
        "                           random_state=random_state)\n",
        "        self.model.fit(X_train, y_train, cat_features=X_train.select_dtypes(include=['category', 'object']).columns.tolist())\n",
        "        main_model_path = './model.pkl'\n",
        "        with open(main_model_path, 'wb') as f:\n",
        "            pickle.dump(self.model, f)\n",
        "        \n",
        "        print(y_test.shape)\n",
        "\n",
        "        return self.estimate(X_test, y_test)\n",
        "    \n",
        "    def train_logistic(self, X_train, X_test, y_train, y_test, categorical_feature, random_state=RANDOM_STATE):\n",
        "        print(f\"Train size: {X_train.shape}\")\n",
        "        print(f\"Test size: {X_test.shape}\")\n",
        "        print(f'TRAIN HEAD: \\n {X_train.head()}')\n",
        "\n",
        "        print('y_TRAIN')\n",
        "        print(y_train.head())\n",
        "        print('X_TRAIN')\n",
        "        print(X_train.head())\n",
        "        non_aggressive = len(y_train)-sum(y_train)\n",
        "        aggressive = sum(y_train)\n",
        "        class_weights = (1, int(non_aggressive/aggressive))\n",
        "        y_train = y_train.reindex(index=X_train.index)\n",
        "        y_test = y_test.reindex(index=X_test.index)\n",
        "        \n",
        "        y_test= y_test.reset_index()\n",
        "        y_train = y_train.reset_index()\n",
        "\n",
        "        X_train = X_train._get_numeric_data()\n",
        "        X_test = X_test._get_numeric_data()\n",
        "\n",
        "        self.model = LogisticRegression(class_weight = 'balanced', verbose=1)\n",
        "        self.model.fit(X_train, y_train)\n",
        "        #self.model.fit(X_train, y_train, cat_features=X_train.select_dtypes(include=['category', 'object']).columns.tolist())\n",
        "        main_model_path = './model.pkl'\n",
        "        with open(main_model_path, 'wb') as f:\n",
        "            pickle.dump(self.model, f)\n",
        "        \n",
        "        print(y_test.shape)\n",
        "\n",
        "        return self.estimate_log(X_test, y_test)\n",
        "    \n",
        "    \n",
        "    \n",
        "    \n",
        "    def label_shuffle(self, X, y, X_ss, y_ss, random_state=RANDOM_STATE):\n",
        "        X_ss['ss'] = 1\n",
        "        y_ss = y_ss.to_frame()\n",
        "        y_ss['ss'] = 1\n",
        "\n",
        "        X['ss'] = 0\n",
        "        y['ss'] = 0\n",
        "\n",
        "        X_ss_full = pd.concat([X, X_ss]).sample(frac=1, random_state=random_state)\n",
        "        y_ss_full = pd.concat([y, y_ss]).sample(frac=1, random_state=random_state)\n",
        "        \n",
        "        return (X_ss_full, y_ss_full)\n",
        "    \n",
        "    def train_cross_validation(self, X, y, k, categorical_features, X_ss=None, y_ss=None, random_state=RANDOM_STATE):\n",
        "        chunk_size = len(X) / k\n",
        "        chunks_size = [(i*chunk_size, i*chunk_size + chunk_size) for i in range(k)]\n",
        "        \n",
        "        result_score = []\n",
        "        \n",
        "        print(f\"Part size: {chunk_size}\")\n",
        "        \n",
        "        if (X_ss is not None):\n",
        "            X_ss_full, y_ss_full = self.label_shuffle(X, y, X_ss, y_ss, random_state = random_state)\n",
        "            \n",
        "            for chunkIndex in range(len(chunks_size)):\n",
        "                x_test = X_ss_full[int(chunks_size[chunkIndex][0]) : int(chunks_size[chunkIndex][1])]\n",
        "                y_test = y_ss_full[int(chunks_size[chunkIndex][0]) : int(chunks_size[chunkIndex][1])]\n",
        "                \n",
        "                x_train = X_ss_full.drop(x_test.index, axis = 0)\n",
        "                y_train = y_ss_full.drop(y_test.index, axis = 0)\n",
        "                \n",
        "                x_test = x_test[x_test.ss == 0]\n",
        "                y_test = y_test[y_test.ss == 0]\n",
        "                \n",
        "                x_train.drop('ss', axis = 1, inplace = True)\n",
        "                y_train.drop('ss', axis = 1, inplace = True)\n",
        "                x_test.drop('ss', axis = 1, inplace = True)\n",
        "                y_test.drop('ss', axis = 1, inplace = True)\n",
        "                \n",
        "                score = self.train(x_train, x_test, y_train, y_test, categorical_features)\n",
        "                \n",
        "                print(f\"Chunk {chunkIndex}; Score: {score}\")\n",
        "                \n",
        "                result_score.append((chunks_size[chunkIndex], score))\n",
        "        else:            \n",
        "            for chunkIndex in range(len(chunks_size)):\n",
        "                x_test = X[int(chunks_size[chunkIndex][0]) : int(chunks_size[chunkIndex][1])]\n",
        "                y_test = y[int(chunks_size[chunkIndex][0]) : int(chunks_size[chunkIndex][1])]\n",
        "                \n",
        "                x_train = X.drop(x_test.index, axis = 0)\n",
        "                y_train = y.drop(y_test.index, axis = 0)\n",
        "                \n",
        "                score = self.train(x_train, x_test, y_train, y_test, categorical_features)\n",
        "                \n",
        "                print(f\"Chunk {chunkIndex}; Score: {score}\")\n",
        "                \n",
        "                result_score.append((chunks_size[chunkIndex], score))\n",
        "            \n",
        "        print(f\"Mean score: {sum(list(map(lambda x: x[1], result_score))) / k}\")\n",
        "        \n",
        "        return result_score\n",
        "    \n",
        "    def fit_ss(self, X, y, numeric_features, categorial_features, X_ss, y_ss, cross_validation=False, random_state=RANDOM_STATE):\n",
        "        self.counter_words = {}\n",
        "        \n",
        "        X_ = X\n",
        "        y_ = y\n",
        "        \n",
        "        self.NLP_preprocess(pd.concat([X_, X_ss]), pd.concat([y_, y_ss]))\n",
        "        X_ = self.add_features(X_)[numeric_features + categorical_features]\n",
        "        \n",
        "        X_ss = self.add_features(X_ss)\n",
        "        \n",
        "        if (not cross_validation):\n",
        "            X_train, X_test, y_train, y_test = self.train_test_split_(X_, y_, test_size=0.2, X_ss=X_ss, y_ss=y_ss, random_state=random_state)\n",
        "            return self.train(X_train, X_test, y_train, y_test, categorical_features)\n",
        "        else:\n",
        "            return self.train_cross_validation(X_, y_, 5, categorical_features, X_ss=X_ss, y_ss=y_ss, random_state=random_state)\n",
        "        \n",
        "    def transform(self, X:pd.DataFrame, tracks:pd.DataFrame, comm_dataset:pd.DataFrame, is_training = True,random_state=RANDOM_STATE):\n",
        "        if tracks is not None:\n",
        "            self.preprocessing = Tracks_preprocessing() \n",
        "            if is_training:\n",
        "                tracks_train, tracks_y_train = self.preprocessing.preprocess(tracks)\n",
        "            else:\n",
        "                tracks_train = self.preprocessing.preprocess_unlabeled(tracks)\n",
        "        \n",
        "        self.counter_words = {}\n",
        "        \n",
        "        X_ = X.set_index('order_id')\n",
        "        if is_training:\n",
        "            X_=X_.drop('is_aggressive', axis=1)\n",
        "            y_ = tracks_y_train\n",
        "        else:\n",
        "            y_=None\n",
        "        X_ = self.add_features(X_)\n",
        "\n",
        "        if is_training:\n",
        "            features = self.NLP_features(X_, y_,comm_dataset)\n",
        "        else: \n",
        "            features = self.NLP_model.features(X_, comm_dataset)\n",
        "        X_ = X_.merge(features, on='order_id', how='left')\n",
        "        print(X_.head())\n",
        "\n",
        "        print(f\"Table data matrix shape: {X_.shape}\")\n",
        "        print(f\"Tracks data matrix shape: {tracks_train.shape}\")\n",
        "        # у датасета в виде индекса ордер айди, колонки - фичи заказа\n",
        "        res_matrix = tracks_train.merge(X_, right_index=True,left_index=True)\n",
        "        print('RES MATRIX')\n",
        "        print(res_matrix)\n",
        "        res_matrix.fillna(0, inplace=True)\n",
        "        res_matrix.sort_index()\n",
        "\n",
        "        print(f\"Result matrix shape: {res_matrix.shape}\")\n",
        "        if is_training:\n",
        "            return res_matrix, y_\n",
        "        return res_matrix\n",
        "\n",
        "\n",
        "    def fit(self, X:pd.DataFrame, y_:pd.DataFrame, comments:pd.DataFrame, numeric_features, categorical_features, tracks:pd.DataFrame = None, cross_validation=False, random_state=RANDOM_STATE):\n",
        "\n",
        "        res_matrix,y_ = self.transform(X, tracks,comments, random_state,True)\n",
        "\n",
        "        if (not cross_validation):\n",
        "            X_train, X_test, y_train, y_test = self.train_test_split_(res_matrix, y_, test_size=0.3, random_state=random_state)\n",
        "            return self.train_logistic(X_train, X_test, y_train, y_test, categorical_features)\n",
        "        else:\n",
        "            return self.train_cross_validation(X_, y_, 5, categorical_features, random_state=random_state)\n",
        "\n",
        "    def predict_proba(self, X, add_feat=True, tracks=None):\n",
        "        # не доделано еще\n",
        "        if (add_feat): X = self.add_features(X)\n",
        "        \n",
        "        X = self.add_features(X)[numeric_features + categorical_features + [\"order_id\"]]\n",
        "\n",
        "        res_matrix = X.merge(tracks_train, how='left', on='order_id')\n",
        "        res_matrix.fillna(0, inplace=True)\n",
        "        res_matrix.drop(['order_id'], axis=1, inplace=True)\n",
        "\n",
        "        return self.model.predict_proba(res_matrix).T[1]\n",
        "    \n",
        "    def predict(self, X,comm_dataset, tracks=None):\n",
        "        res_matrix=self.transform(X,tracks,comm_dataset,is_training=False)\n",
        "        \n",
        "        return res_matrix, self.model.predict_proba(res_matrix)\n",
        "    \n",
        "    def predict_thresh(self, X, thresh_above, thresh_below):\n",
        "        y_unlab_full = self.predict_proba(X)\n",
        "        \n",
        "        y_unlab = pd.Series([-1 for i in range(len(X))])\n",
        "        \n",
        "        print(\"Thresh above: {}\".format(sum(y_unlab_full >= thresh_above) / len(y_unlab_full)))\n",
        "        print(\"Thresh below: {}\".format(sum(y_unlab_full <= thresh_below) / len(y_unlab_full)))\n",
        "        \n",
        "        y_unlab.iloc[np.where(y_unlab_full >= thresh_above)] = 1\n",
        "        y_unlab.iloc[np.where(y_unlab_full <= thresh_below)] = 0\n",
        "        \n",
        "        return y_unlab\n"
      ],
      "outputs": [
        {
          "output_type": "stream",
          "name": "stderr",
          "text": [
            "[nltk_data] Downloading package stopwords to\n",
            "[nltk_data]     /home/porosenok/nltk_data...\n",
            "[nltk_data]   Package stopwords is already up-to-date!\n"
          ]
        }
      ],
      "metadata": {
        "id": "73bPA-Pcx5JA"
      }
    },
    {
      "cell_type": "code",
      "execution_count": null,
      "source": [],
      "outputs": [],
      "metadata": {}
    },
    {
      "cell_type": "markdown",
      "source": [
        "# Train on labled data"
      ],
      "metadata": {
        "id": "fbSXf2PYx5JF"
      }
    },
    {
      "cell_type": "code",
      "execution_count": 5,
      "source": [
        "if COLAB:\n",
        "    path = '/content/drive/MyDrive/aiijc_transport_simpleteam/'\n",
        "else:\n",
        "    path = './'\n",
        "\n",
        "train_labled = pd.read_csv(path + 'data/base_files/labled_train_data.csv', index_col=0, sep='\\t', comment='#')\n",
        "tracks_labled = pd.read_csv(path+\"data/labled_train_tracks_speed.csv\", index_col=0, sep=',', comment='#')\n",
        "tracks_unlabled = pd.read_csv(path +\"data/unlabled_train_tracks_speed.csv\", index_col=0, sep=',', comment='#')\n",
        "\n",
        "test_tracks = pd.read_csv(path +\"data/test_tracks_speed.csv\", index_col=0, sep=',', comment='#')\n",
        "test_data = pd.read_csv(path +\"data/base_files/labled_test_data.csv\", index_col=0, sep='\\t', comment='#')\n",
        "print(test_data.columns)\n",
        "test_comments = test_data[['driver_id','comment']]\n",
        "\n",
        "labled_train_comments = pd.read_csv('data/base_files/labled_train_comments.csv', comment='#', sep='\\t').drop('Unnamed: 0', axis=1)\n",
        "\n",
        "\n",
        "X_ = train_labled\n",
        "print(X_.columns)\n",
        "y_ = train_labled.iloc[:, -1:]\n",
        "print(y_)\n",
        "X_['client_rate_ride'] = X_['client_rate_ride'].fillna(X_['client_rate_ride'].mean())\n",
        "X_['client_rides_cnt'] = X_['client_rides_cnt'].fillna(X_['client_rides_cnt'].mean())\n",
        "X_['driver_rides_cnt'] = X_['driver_rides_cnt'].fillna(X_['driver_rides_cnt'].mean())"
      ],
      "outputs": [
        {
          "output_type": "stream",
          "name": "stdout",
          "text": [
            "Index(['order_id', 'driver_id', 'client_id', 'dttm', 'date',\n",
            "       'arrived_distance', 'arrived_duration', 'distance', 'duration',\n",
            "       'from_latitude', 'from_longitude', 'to_latitude', 'to_longitude',\n",
            "       'mark', 'client_rate_ride', 'client_rides_cnt', 'driver_rides_cnt',\n",
            "       'comment'],\n",
            "      dtype='object')\n",
            "Index(['order_id', 'driver_id', 'client_id', 'dttm', 'date',\n",
            "       'arrived_distance', 'arrived_duration', 'distance', 'duration',\n",
            "       'from_latitude', 'from_longitude', 'to_latitude', 'to_longitude',\n",
            "       'mark', 'client_rate_ride', 'client_rides_cnt', 'driver_rides_cnt',\n",
            "       'comment', 'is_aggressive'],\n",
            "      dtype='object')\n",
            "      is_aggressive\n",
            "0                 0\n",
            "1                 0\n",
            "2                 0\n",
            "3                 0\n",
            "4                 0\n",
            "...             ...\n",
            "8995              0\n",
            "8996              0\n",
            "8997              0\n",
            "8998              0\n",
            "8999              0\n",
            "\n",
            "[9000 rows x 1 columns]\n"
          ]
        }
      ],
      "metadata": {
        "id": "roi11zG3x5JF"
      }
    },
    {
      "cell_type": "code",
      "execution_count": 6,
      "source": [
        "labled_train_comments = labled_train_comments.fillna('Больше нечего сказать'.lower())\n",
        "test_comments = test_comments.fillna('Больше нечего сказать'.lower())"
      ],
      "outputs": [],
      "metadata": {
        "id": "kFkCdcz_CHyN"
      }
    },
    {
      "cell_type": "code",
      "execution_count": 7,
      "source": [
        "numeric_features = ['distance', 'arrived_distance', 'arrived_duration', 'duration', 'driver_rides_cnt', 'client_rides_cnt', 'client_rate_ride', 'count_words']\n",
        "\n",
        "categorical_features = ['mark', 'is_comment', 'hour', 'weekday', 'agg_words', 'normal_words']\n",
        "model_supervised = Model()\n",
        "\n",
        "model_supervised.fit(X_,y_, labled_train_comments, numeric_features, categorical_features, tracks=tracks_labled)\n",
        "\n",
        "with open('model.pkl','wb') as f:\n",
        "    pickle.dump(model_supervised, f)\n",
        "#with open('model.pkl','rb') as f:\n",
        "#    model_supervised = pickle.load(f)"
      ],
      "outputs": [
        {
          "output_type": "stream",
          "name": "stdout",
          "text": [
            "training vectorizer model...\n",
            "TEXT WECTORIZER TRAINED\n",
            "training vectorizer model...\n",
            "CARS WECTORIZER TRAINED\n",
            "training cars clustering model...\n",
            "CARS CLUSTERING COMPLETED\n",
            "COMM MODEL TRAINED\n",
            "                                                         driver_id  \\\n",
            "order_id                                                             \n",
            "6a0f322ade1a05e5c4cec4344efbce8b  f7c2b293ef94420f5e51abae6889b83b   \n",
            "934ecbe5845426fd3f8ef7938cce2a11  01d029c42c99581080a60679fca06ff9   \n",
            "5348cb339b63eaea3b2cb57a064ce550  3c88deb7df7a73a24ebc229db9783405   \n",
            "309ef91c3b51e27d097642169576f67b  f35a8ff85f2095755f16bba91035fbdc   \n",
            "3506e04e45d39c6e3033637389da1041  0a227ac8d702170c03acf36d55e60d0d   \n",
            "\n",
            "                                                         client_id  \\\n",
            "order_id                                                             \n",
            "6a0f322ade1a05e5c4cec4344efbce8b  3156d05c6458a8228bed59f02075a61e   \n",
            "934ecbe5845426fd3f8ef7938cce2a11  3156d05c6458a8228bed59f02075a61e   \n",
            "5348cb339b63eaea3b2cb57a064ce550  3156d05c6458a8228bed59f02075a61e   \n",
            "309ef91c3b51e27d097642169576f67b  3156d05c6458a8228bed59f02075a61e   \n",
            "3506e04e45d39c6e3033637389da1041  3156d05c6458a8228bed59f02075a61e   \n",
            "\n",
            "                                                dttm        date  \\\n",
            "order_id                                                           \n",
            "6a0f322ade1a05e5c4cec4344efbce8b 2021-01-22 21:53:00  2021-01-22   \n",
            "934ecbe5845426fd3f8ef7938cce2a11 2021-01-24 14:09:00  2021-01-24   \n",
            "5348cb339b63eaea3b2cb57a064ce550 2021-01-26 21:02:00  2021-01-26   \n",
            "309ef91c3b51e27d097642169576f67b 2021-01-27 17:24:00  2021-01-27   \n",
            "3506e04e45d39c6e3033637389da1041 2021-01-29 15:31:00  2021-01-29   \n",
            "\n",
            "                                  arrived_distance  arrived_duration  \\\n",
            "order_id                                                               \n",
            "6a0f322ade1a05e5c4cec4344efbce8b             150.0               1.0   \n",
            "934ecbe5845426fd3f8ef7938cce2a11             570.0               1.0   \n",
            "5348cb339b63eaea3b2cb57a064ce550              40.0               0.0   \n",
            "309ef91c3b51e27d097642169576f67b             140.0               1.0   \n",
            "3506e04e45d39c6e3033637389da1041             150.0               1.0   \n",
            "\n",
            "                                  distance  duration  from_latitude  \\\n",
            "order_id                                                              \n",
            "6a0f322ade1a05e5c4cec4344efbce8b      11.8      20.5      55.795900   \n",
            "934ecbe5845426fd3f8ef7938cce2a11      17.2      26.2      55.716502   \n",
            "5348cb339b63eaea3b2cb57a064ce550       5.8      10.9      55.716637   \n",
            "309ef91c3b51e27d097642169576f67b       4.5      10.7      55.689076   \n",
            "3506e04e45d39c6e3033637389da1041      15.4      25.1      55.655489   \n",
            "\n",
            "                                  from_longitude  ...      speed  agg_words  \\\n",
            "order_id                                          ...                         \n",
            "6a0f322ade1a05e5c4cec4344efbce8b       37.560300  ...  34.536585          0   \n",
            "934ecbe5845426fd3f8ef7938cce2a11       37.524627  ...  39.389313          0   \n",
            "5348cb339b63eaea3b2cb57a064ce550       37.524223  ...  31.926606          0   \n",
            "309ef91c3b51e27d097642169576f67b       37.491088  ...  25.233645          0   \n",
            "3506e04e45d39c6e3033637389da1041       37.616629  ...  36.812749          0   \n",
            "\n",
            "                                 normal_words  distance_thresh  \\\n",
            "order_id                                                         \n",
            "6a0f322ade1a05e5c4cec4344efbce8b            0                1   \n",
            "934ecbe5845426fd3f8ef7938cce2a11            0                1   \n",
            "5348cb339b63eaea3b2cb57a064ce550            0                1   \n",
            "309ef91c3b51e27d097642169576f67b            0                0   \n",
            "3506e04e45d39c6e3033637389da1041            0                1   \n",
            "\n",
            "                                  agg_verbs_rate  agg_adjs_rate  \\\n",
            "order_id                                                          \n",
            "6a0f322ade1a05e5c4cec4344efbce8b             0.0            0.0   \n",
            "934ecbe5845426fd3f8ef7938cce2a11             0.0            0.0   \n",
            "5348cb339b63eaea3b2cb57a064ce550             0.0            0.0   \n",
            "309ef91c3b51e27d097642169576f67b             0.0            0.0   \n",
            "3506e04e45d39c6e3033637389da1041             0.0            0.0   \n",
            "\n",
            "                                 agg_nouns_rate  \\\n",
            "order_id                                          \n",
            "6a0f322ade1a05e5c4cec4344efbce8b            0.0   \n",
            "934ecbe5845426fd3f8ef7938cce2a11            0.0   \n",
            "5348cb339b63eaea3b2cb57a064ce550            0.0   \n",
            "309ef91c3b51e27d097642169576f67b            0.0   \n",
            "3506e04e45d39c6e3033637389da1041            0.0   \n",
            "\n",
            "                                  mean_comments_aggressive_rate  \\\n",
            "order_id                                                          \n",
            "6a0f322ade1a05e5c4cec4344efbce8b                       0.159114   \n",
            "934ecbe5845426fd3f8ef7938cce2a11                       0.158955   \n",
            "5348cb339b63eaea3b2cb57a064ce550                       0.158681   \n",
            "309ef91c3b51e27d097642169576f67b                       0.158143   \n",
            "3506e04e45d39c6e3033637389da1041                       0.160163   \n",
            "\n",
            "                                  agg_comm_probability  is_comment_y  \n",
            "order_id                                                              \n",
            "6a0f322ade1a05e5c4cec4344efbce8b                   0.0             0  \n",
            "934ecbe5845426fd3f8ef7938cce2a11                   0.0             0  \n",
            "5348cb339b63eaea3b2cb57a064ce550                   0.0             0  \n",
            "309ef91c3b51e27d097642169576f67b                   0.0             0  \n",
            "3506e04e45d39c6e3033637389da1041                   0.0             0  \n",
            "\n",
            "[5 rows x 33 columns]\n",
            "Table data matrix shape: (9000, 33)\n",
            "Tracks data matrix shape: (9000, 124)\n",
            "RES MATRIX\n",
            "                                  speed__fft_coefficient__attr_\"abs\"__coeff_3  \\\n",
            "001662da857b5a39bb402aacf3145f86                                   175.189443   \n",
            "001a8da3b83fe77dd0f3a406acb414c2                                    18.445105   \n",
            "001eaa75ad97eff199d914f67b8e32ef                                   112.883308   \n",
            "001f7deb75b27d8ef5a68204a0bd86a2                                   156.402613   \n",
            "002946d95ca1bc6954858b63c202bbb1                                   382.243667   \n",
            "...                                                                       ...   \n",
            "ffdb0446f266cdc96fe79b9ff4e5ca35                                    53.330944   \n",
            "ffe343aba3979857c5d268011147d720                                    53.210107   \n",
            "ffeb60427212d142a2aa6dc9fb23713f                                    96.240277   \n",
            "fffd991bb7f71a047aa7e982fd7ceea8                                   397.738315   \n",
            "fffdfda358f35cf2d7f9d87d205655a7                                   269.221159   \n",
            "\n",
            "                                  speed__absolute_sum_of_changes  \\\n",
            "001662da857b5a39bb402aacf3145f86                      651.486763   \n",
            "001a8da3b83fe77dd0f3a406acb414c2                      307.701308   \n",
            "001eaa75ad97eff199d914f67b8e32ef                      797.382464   \n",
            "001f7deb75b27d8ef5a68204a0bd86a2                      303.249206   \n",
            "002946d95ca1bc6954858b63c202bbb1                     2241.758557   \n",
            "...                                                          ...   \n",
            "ffdb0446f266cdc96fe79b9ff4e5ca35                      197.074584   \n",
            "ffe343aba3979857c5d268011147d720                      330.874955   \n",
            "ffeb60427212d142a2aa6dc9fb23713f                      300.223541   \n",
            "fffd991bb7f71a047aa7e982fd7ceea8                     1490.784674   \n",
            "fffdfda358f35cf2d7f9d87d205655a7                      661.671638   \n",
            "\n",
            "                                  speed__cid_ce__normalize_False  \\\n",
            "001662da857b5a39bb402aacf3145f86                      110.173614   \n",
            "001a8da3b83fe77dd0f3a406acb414c2                      107.669605   \n",
            "001eaa75ad97eff199d914f67b8e32ef                      219.164383   \n",
            "001f7deb75b27d8ef5a68204a0bd86a2                       82.362531   \n",
            "002946d95ca1bc6954858b63c202bbb1                      857.467006   \n",
            "...                                                          ...   \n",
            "ffdb0446f266cdc96fe79b9ff4e5ca35                       75.799367   \n",
            "ffe343aba3979857c5d268011147d720                       99.237017   \n",
            "ffeb60427212d142a2aa6dc9fb23713f                      105.817751   \n",
            "fffd991bb7f71a047aa7e982fd7ceea8                      317.135977   \n",
            "fffdfda358f35cf2d7f9d87d205655a7                      119.155789   \n",
            "\n",
            "                                  speed__count_below_mean  \\\n",
            "001662da857b5a39bb402aacf3145f86                     26.0   \n",
            "001a8da3b83fe77dd0f3a406acb414c2                     11.0   \n",
            "001eaa75ad97eff199d914f67b8e32ef                     30.0   \n",
            "001f7deb75b27d8ef5a68204a0bd86a2                     15.0   \n",
            "002946d95ca1bc6954858b63c202bbb1                     59.0   \n",
            "...                                                   ...   \n",
            "ffdb0446f266cdc96fe79b9ff4e5ca35                      7.0   \n",
            "ffe343aba3979857c5d268011147d720                      8.0   \n",
            "ffeb60427212d142a2aa6dc9fb23713f                     18.0   \n",
            "fffd991bb7f71a047aa7e982fd7ceea8                     32.0   \n",
            "fffdfda358f35cf2d7f9d87d205655a7                     36.0   \n",
            "\n",
            "                                  speed__number_cwt_peaks__n_5  \\\n",
            "001662da857b5a39bb402aacf3145f86                           9.0   \n",
            "001a8da3b83fe77dd0f3a406acb414c2                           1.0   \n",
            "001eaa75ad97eff199d914f67b8e32ef                           5.0   \n",
            "001f7deb75b27d8ef5a68204a0bd86a2                           3.0   \n",
            "002946d95ca1bc6954858b63c202bbb1                           7.0   \n",
            "...                                                        ...   \n",
            "ffdb0446f266cdc96fe79b9ff4e5ca35                           1.0   \n",
            "ffe343aba3979857c5d268011147d720                           2.0   \n",
            "ffeb60427212d142a2aa6dc9fb23713f                           2.0   \n",
            "fffd991bb7f71a047aa7e982fd7ceea8                          10.0   \n",
            "fffdfda358f35cf2d7f9d87d205655a7                           6.0   \n",
            "\n",
            "                                  speed__fft_aggregated__aggtype_\"variance\"  \\\n",
            "001662da857b5a39bb402aacf3145f86                                  63.298473   \n",
            "001a8da3b83fe77dd0f3a406acb414c2                                   8.960314   \n",
            "001eaa75ad97eff199d914f67b8e32ef                                  62.006897   \n",
            "001f7deb75b27d8ef5a68204a0bd86a2                                  11.987534   \n",
            "002946d95ca1bc6954858b63c202bbb1                                 175.742229   \n",
            "...                                                                     ...   \n",
            "ffdb0446f266cdc96fe79b9ff4e5ca35                                   3.444987   \n",
            "ffe343aba3979857c5d268011147d720                                   7.432740   \n",
            "ffeb60427212d142a2aa6dc9fb23713f                                  17.564257   \n",
            "fffd991bb7f71a047aa7e982fd7ceea8                                 227.670345   \n",
            "fffdfda358f35cf2d7f9d87d205655a7                                  69.027038   \n",
            "\n",
            "                                  speed__sum_values  \\\n",
            "001662da857b5a39bb402aacf3145f86        1160.082688   \n",
            "001a8da3b83fe77dd0f3a406acb414c2         346.478537   \n",
            "001eaa75ad97eff199d914f67b8e32ef        1750.109161   \n",
            "001f7deb75b27d8ef5a68204a0bd86a2         455.341910   \n",
            "002946d95ca1bc6954858b63c202bbb1        2616.695643   \n",
            "...                                             ...   \n",
            "ffdb0446f266cdc96fe79b9ff4e5ca35         351.204299   \n",
            "ffe343aba3979857c5d268011147d720         401.598052   \n",
            "ffeb60427212d142a2aa6dc9fb23713f        1138.570433   \n",
            "fffd991bb7f71a047aa7e982fd7ceea8        7739.947308   \n",
            "fffdfda358f35cf2d7f9d87d205655a7        1447.386311   \n",
            "\n",
            "                                  speed__fft_coefficient__attr_\"real\"__coeff_0  \\\n",
            "001662da857b5a39bb402aacf3145f86                                   1160.082688   \n",
            "001a8da3b83fe77dd0f3a406acb414c2                                    346.478537   \n",
            "001eaa75ad97eff199d914f67b8e32ef                                   1750.109161   \n",
            "001f7deb75b27d8ef5a68204a0bd86a2                                    455.341910   \n",
            "002946d95ca1bc6954858b63c202bbb1                                   2616.695643   \n",
            "...                                                                        ...   \n",
            "ffdb0446f266cdc96fe79b9ff4e5ca35                                    351.204299   \n",
            "ffe343aba3979857c5d268011147d720                                    401.598052   \n",
            "ffeb60427212d142a2aa6dc9fb23713f                                   1138.570433   \n",
            "fffd991bb7f71a047aa7e982fd7ceea8                                   7739.947308   \n",
            "fffdfda358f35cf2d7f9d87d205655a7                                   1447.386311   \n",
            "\n",
            "                                  speed__fft_aggregated__aggtype_\"centroid\"  \\\n",
            "001662da857b5a39bb402aacf3145f86                                   7.281716   \n",
            "001a8da3b83fe77dd0f3a406acb414c2                                   2.858879   \n",
            "001eaa75ad97eff199d914f67b8e32ef                                   7.257688   \n",
            "001f7deb75b27d8ef5a68204a0bd86a2                                   3.016641   \n",
            "002946d95ca1bc6954858b63c202bbb1                                  19.054013   \n",
            "...                                                                     ...   \n",
            "ffdb0446f266cdc96fe79b9ff4e5ca35                                   1.541947   \n",
            "ffe343aba3979857c5d268011147d720                                   2.430485   \n",
            "ffeb60427212d142a2aa6dc9fb23713f                                   3.035254   \n",
            "fffd991bb7f71a047aa7e982fd7ceea8                                  12.045972   \n",
            "fffdfda358f35cf2d7f9d87d205655a7                                   6.751269   \n",
            "\n",
            "                                  speed__fft_coefficient__attr_\"abs\"__coeff_0  \\\n",
            "001662da857b5a39bb402aacf3145f86                                  1160.082688   \n",
            "001a8da3b83fe77dd0f3a406acb414c2                                   346.478537   \n",
            "001eaa75ad97eff199d914f67b8e32ef                                  1750.109161   \n",
            "001f7deb75b27d8ef5a68204a0bd86a2                                   455.341910   \n",
            "002946d95ca1bc6954858b63c202bbb1                                  2616.695643   \n",
            "...                                                                       ...   \n",
            "ffdb0446f266cdc96fe79b9ff4e5ca35                                   351.204299   \n",
            "ffe343aba3979857c5d268011147d720                                   401.598052   \n",
            "ffeb60427212d142a2aa6dc9fb23713f                                  1138.570433   \n",
            "fffd991bb7f71a047aa7e982fd7ceea8                                  7739.947308   \n",
            "fffdfda358f35cf2d7f9d87d205655a7                                  1447.386311   \n",
            "\n",
            "                                  ...      speed  agg_words  normal_words  \\\n",
            "001662da857b5a39bb402aacf3145f86  ...  18.441558          0             0   \n",
            "001a8da3b83fe77dd0f3a406acb414c2  ...  20.851064          0             0   \n",
            "001eaa75ad97eff199d914f67b8e32ef  ...  35.714286          0             0   \n",
            "001f7deb75b27d8ef5a68204a0bd86a2  ...  27.096774          0             0   \n",
            "002946d95ca1bc6954858b63c202bbb1  ...  23.903743          0             0   \n",
            "...                               ...        ...        ...           ...   \n",
            "ffdb0446f266cdc96fe79b9ff4e5ca35  ...  24.507042          0             0   \n",
            "ffe343aba3979857c5d268011147d720  ...  26.250000          0             0   \n",
            "ffeb60427212d142a2aa6dc9fb23713f  ...  38.333333          0             0   \n",
            "fffd991bb7f71a047aa7e982fd7ceea8  ...  63.069054          0             0   \n",
            "fffdfda358f35cf2d7f9d87d205655a7  ...  33.956044          0             0   \n",
            "\n",
            "                                  distance_thresh  agg_verbs_rate  \\\n",
            "001662da857b5a39bb402aacf3145f86                1             0.0   \n",
            "001a8da3b83fe77dd0f3a406acb414c2                0             0.0   \n",
            "001eaa75ad97eff199d914f67b8e32ef                1             0.0   \n",
            "001f7deb75b27d8ef5a68204a0bd86a2                1             0.0   \n",
            "002946d95ca1bc6954858b63c202bbb1                1             0.0   \n",
            "...                                           ...             ...   \n",
            "ffdb0446f266cdc96fe79b9ff4e5ca35                0             0.0   \n",
            "ffe343aba3979857c5d268011147d720                0             0.0   \n",
            "ffeb60427212d142a2aa6dc9fb23713f                1             0.0   \n",
            "fffd991bb7f71a047aa7e982fd7ceea8                0             0.0   \n",
            "fffdfda358f35cf2d7f9d87d205655a7                1             0.0   \n",
            "\n",
            "                                  agg_adjs_rate  agg_nouns_rate  \\\n",
            "001662da857b5a39bb402aacf3145f86            0.0             0.0   \n",
            "001a8da3b83fe77dd0f3a406acb414c2            0.0             0.0   \n",
            "001eaa75ad97eff199d914f67b8e32ef            0.0             0.0   \n",
            "001f7deb75b27d8ef5a68204a0bd86a2            0.0             1.0   \n",
            "002946d95ca1bc6954858b63c202bbb1            0.0             0.0   \n",
            "...                                         ...             ...   \n",
            "ffdb0446f266cdc96fe79b9ff4e5ca35            0.0             0.0   \n",
            "ffe343aba3979857c5d268011147d720            0.0             0.0   \n",
            "ffeb60427212d142a2aa6dc9fb23713f            0.0             0.0   \n",
            "fffd991bb7f71a047aa7e982fd7ceea8            0.0             0.0   \n",
            "fffdfda358f35cf2d7f9d87d205655a7            0.0             0.0   \n",
            "\n",
            "                                  mean_comments_aggressive_rate  \\\n",
            "001662da857b5a39bb402aacf3145f86                       0.000000   \n",
            "001a8da3b83fe77dd0f3a406acb414c2                       0.159122   \n",
            "001eaa75ad97eff199d914f67b8e32ef                       0.159817   \n",
            "001f7deb75b27d8ef5a68204a0bd86a2                       0.159142   \n",
            "002946d95ca1bc6954858b63c202bbb1                       0.158883   \n",
            "...                                                         ...   \n",
            "ffdb0446f266cdc96fe79b9ff4e5ca35                       0.159266   \n",
            "ffe343aba3979857c5d268011147d720                       0.159537   \n",
            "ffeb60427212d142a2aa6dc9fb23713f                       0.158819   \n",
            "fffd991bb7f71a047aa7e982fd7ceea8                       0.159553   \n",
            "fffdfda358f35cf2d7f9d87d205655a7                       0.157924   \n",
            "\n",
            "                                  agg_comm_probability  is_comment_y  \n",
            "001662da857b5a39bb402aacf3145f86              0.000000             0  \n",
            "001a8da3b83fe77dd0f3a406acb414c2              0.000000             0  \n",
            "001eaa75ad97eff199d914f67b8e32ef              0.000000             0  \n",
            "001f7deb75b27d8ef5a68204a0bd86a2              0.158111             1  \n",
            "002946d95ca1bc6954858b63c202bbb1              0.000000             0  \n",
            "...                                                ...           ...  \n",
            "ffdb0446f266cdc96fe79b9ff4e5ca35              0.000000             0  \n",
            "ffe343aba3979857c5d268011147d720              0.000000             0  \n",
            "ffeb60427212d142a2aa6dc9fb23713f              0.000000             0  \n",
            "fffd991bb7f71a047aa7e982fd7ceea8              0.000000             0  \n",
            "fffdfda358f35cf2d7f9d87d205655a7              0.000000             0  \n",
            "\n",
            "[9000 rows x 157 columns]\n",
            "Result matrix shape: (9000, 157)\n",
            "Train size: (6300, 157)\n",
            "Test size: (2700, 157)\n",
            "TRAIN HEAD: \n",
            "                                   speed__fft_coefficient__attr_\"abs\"__coeff_3  \\\n",
            "e269ffdd307e47338873dae037afd87e                                    29.267806   \n",
            "21279318eace725f719ca995556a4019                                   186.068059   \n",
            "10796ee1694d7db972b323d480b00781                                   308.538082   \n",
            "75773d133623d3905d14405030826059                                   222.072185   \n",
            "ef2247019abe71fcc1af9cde9620d836                                    47.221144   \n",
            "\n",
            "                                  speed__absolute_sum_of_changes  \\\n",
            "e269ffdd307e47338873dae037afd87e                      116.727176   \n",
            "21279318eace725f719ca995556a4019                      950.702603   \n",
            "10796ee1694d7db972b323d480b00781                      576.860606   \n",
            "75773d133623d3905d14405030826059                      995.208925   \n",
            "ef2247019abe71fcc1af9cde9620d836                      686.998975   \n",
            "\n",
            "                                  speed__cid_ce__normalize_False  \\\n",
            "e269ffdd307e47338873dae037afd87e                       41.548298   \n",
            "21279318eace725f719ca995556a4019                      162.429872   \n",
            "10796ee1694d7db972b323d480b00781                      136.685510   \n",
            "75773d133623d3905d14405030826059                      195.958220   \n",
            "ef2247019abe71fcc1af9cde9620d836                      128.065793   \n",
            "\n",
            "                                  speed__count_below_mean  \\\n",
            "e269ffdd307e47338873dae037afd87e                      7.0   \n",
            "21279318eace725f719ca995556a4019                     28.0   \n",
            "10796ee1694d7db972b323d480b00781                     14.0   \n",
            "75773d133623d3905d14405030826059                     45.0   \n",
            "ef2247019abe71fcc1af9cde9620d836                     27.0   \n",
            "\n",
            "                                  speed__number_cwt_peaks__n_5  \\\n",
            "e269ffdd307e47338873dae037afd87e                           3.0   \n",
            "21279318eace725f719ca995556a4019                           6.0   \n",
            "10796ee1694d7db972b323d480b00781                           3.0   \n",
            "75773d133623d3905d14405030826059                           8.0   \n",
            "ef2247019abe71fcc1af9cde9620d836                           6.0   \n",
            "\n",
            "                                  speed__fft_aggregated__aggtype_\"variance\"  \\\n",
            "e269ffdd307e47338873dae037afd87e                                   4.536906   \n",
            "21279318eace725f719ca995556a4019                                  81.813436   \n",
            "10796ee1694d7db972b323d480b00781                                  33.656569   \n",
            "75773d133623d3905d14405030826059                                 104.192580   \n",
            "ef2247019abe71fcc1af9cde9620d836                                  57.211442   \n",
            "\n",
            "                                  speed__sum_values  \\\n",
            "e269ffdd307e47338873dae037afd87e         312.336880   \n",
            "21279318eace725f719ca995556a4019        1963.078358   \n",
            "10796ee1694d7db972b323d480b00781        2749.421198   \n",
            "75773d133623d3905d14405030826059        2397.185369   \n",
            "ef2247019abe71fcc1af9cde9620d836        1781.118104   \n",
            "\n",
            "                                  speed__fft_coefficient__attr_\"real\"__coeff_0  \\\n",
            "e269ffdd307e47338873dae037afd87e                                    312.336880   \n",
            "21279318eace725f719ca995556a4019                                   1963.078358   \n",
            "10796ee1694d7db972b323d480b00781                                   2749.421198   \n",
            "75773d133623d3905d14405030826059                                   2397.185369   \n",
            "ef2247019abe71fcc1af9cde9620d836                                   1781.118104   \n",
            "\n",
            "                                  speed__fft_aggregated__aggtype_\"centroid\"  \\\n",
            "e269ffdd307e47338873dae037afd87e                                   1.396784   \n",
            "21279318eace725f719ca995556a4019                                   7.817345   \n",
            "10796ee1694d7db972b323d480b00781                                   3.738514   \n",
            "75773d133623d3905d14405030826059                                   8.919037   \n",
            "ef2247019abe71fcc1af9cde9620d836                                   6.126819   \n",
            "\n",
            "                                  speed__fft_coefficient__attr_\"abs\"__coeff_0  \\\n",
            "e269ffdd307e47338873dae037afd87e                                   312.336880   \n",
            "21279318eace725f719ca995556a4019                                  1963.078358   \n",
            "10796ee1694d7db972b323d480b00781                                  2749.421198   \n",
            "75773d133623d3905d14405030826059                                  2397.185369   \n",
            "ef2247019abe71fcc1af9cde9620d836                                  1781.118104   \n",
            "\n",
            "                                  ...      speed  agg_words  normal_words  \\\n",
            "e269ffdd307e47338873dae037afd87e  ...  23.265306          0             0   \n",
            "21279318eace725f719ca995556a4019  ...  30.000000          0             0   \n",
            "10796ee1694d7db972b323d480b00781  ...  51.037344          0             0   \n",
            "75773d133623d3905d14405030826059  ...  36.214286          0             0   \n",
            "ef2247019abe71fcc1af9cde9620d836  ...  25.414013          0             0   \n",
            "\n",
            "                                  distance_thresh  agg_verbs_rate  \\\n",
            "e269ffdd307e47338873dae037afd87e                0             0.0   \n",
            "21279318eace725f719ca995556a4019                1             0.0   \n",
            "10796ee1694d7db972b323d480b00781                0             0.0   \n",
            "75773d133623d3905d14405030826059                1             0.0   \n",
            "ef2247019abe71fcc1af9cde9620d836                1             0.0   \n",
            "\n",
            "                                  agg_adjs_rate  agg_nouns_rate  \\\n",
            "e269ffdd307e47338873dae037afd87e            0.0             0.0   \n",
            "21279318eace725f719ca995556a4019            0.0             0.0   \n",
            "10796ee1694d7db972b323d480b00781            0.0             0.0   \n",
            "75773d133623d3905d14405030826059            0.0             0.0   \n",
            "ef2247019abe71fcc1af9cde9620d836            0.0             0.0   \n",
            "\n",
            "                                  mean_comments_aggressive_rate  \\\n",
            "e269ffdd307e47338873dae037afd87e                       0.159195   \n",
            "21279318eace725f719ca995556a4019                       0.159412   \n",
            "10796ee1694d7db972b323d480b00781                       0.159854   \n",
            "75773d133623d3905d14405030826059                       0.160584   \n",
            "ef2247019abe71fcc1af9cde9620d836                       0.159684   \n",
            "\n",
            "                                  agg_comm_probability  is_comment_y  \n",
            "e269ffdd307e47338873dae037afd87e                   0.0             0  \n",
            "21279318eace725f719ca995556a4019                   0.0             0  \n",
            "10796ee1694d7db972b323d480b00781                   0.0             0  \n",
            "75773d133623d3905d14405030826059                   0.0             0  \n",
            "ef2247019abe71fcc1af9cde9620d836                   0.0             0  \n",
            "\n",
            "[5 rows x 157 columns]\n",
            "y_TRAIN\n",
            "order_id\n",
            "e269ffdd307e47338873dae037afd87e    0.0\n",
            "21279318eace725f719ca995556a4019    0.0\n",
            "10796ee1694d7db972b323d480b00781    0.0\n",
            "75773d133623d3905d14405030826059    0.0\n",
            "ef2247019abe71fcc1af9cde9620d836    0.0\n",
            "Name: is_aggressive, dtype: float64\n",
            "X_TRAIN\n",
            "                                  speed__fft_coefficient__attr_\"abs\"__coeff_3  \\\n",
            "e269ffdd307e47338873dae037afd87e                                    29.267806   \n",
            "21279318eace725f719ca995556a4019                                   186.068059   \n",
            "10796ee1694d7db972b323d480b00781                                   308.538082   \n",
            "75773d133623d3905d14405030826059                                   222.072185   \n",
            "ef2247019abe71fcc1af9cde9620d836                                    47.221144   \n",
            "\n",
            "                                  speed__absolute_sum_of_changes  \\\n",
            "e269ffdd307e47338873dae037afd87e                      116.727176   \n",
            "21279318eace725f719ca995556a4019                      950.702603   \n",
            "10796ee1694d7db972b323d480b00781                      576.860606   \n",
            "75773d133623d3905d14405030826059                      995.208925   \n",
            "ef2247019abe71fcc1af9cde9620d836                      686.998975   \n",
            "\n",
            "                                  speed__cid_ce__normalize_False  \\\n",
            "e269ffdd307e47338873dae037afd87e                       41.548298   \n",
            "21279318eace725f719ca995556a4019                      162.429872   \n",
            "10796ee1694d7db972b323d480b00781                      136.685510   \n",
            "75773d133623d3905d14405030826059                      195.958220   \n",
            "ef2247019abe71fcc1af9cde9620d836                      128.065793   \n",
            "\n",
            "                                  speed__count_below_mean  \\\n",
            "e269ffdd307e47338873dae037afd87e                      7.0   \n",
            "21279318eace725f719ca995556a4019                     28.0   \n",
            "10796ee1694d7db972b323d480b00781                     14.0   \n",
            "75773d133623d3905d14405030826059                     45.0   \n",
            "ef2247019abe71fcc1af9cde9620d836                     27.0   \n",
            "\n",
            "                                  speed__number_cwt_peaks__n_5  \\\n",
            "e269ffdd307e47338873dae037afd87e                           3.0   \n",
            "21279318eace725f719ca995556a4019                           6.0   \n",
            "10796ee1694d7db972b323d480b00781                           3.0   \n",
            "75773d133623d3905d14405030826059                           8.0   \n",
            "ef2247019abe71fcc1af9cde9620d836                           6.0   \n",
            "\n",
            "                                  speed__fft_aggregated__aggtype_\"variance\"  \\\n",
            "e269ffdd307e47338873dae037afd87e                                   4.536906   \n",
            "21279318eace725f719ca995556a4019                                  81.813436   \n",
            "10796ee1694d7db972b323d480b00781                                  33.656569   \n",
            "75773d133623d3905d14405030826059                                 104.192580   \n",
            "ef2247019abe71fcc1af9cde9620d836                                  57.211442   \n",
            "\n",
            "                                  speed__sum_values  \\\n",
            "e269ffdd307e47338873dae037afd87e         312.336880   \n",
            "21279318eace725f719ca995556a4019        1963.078358   \n",
            "10796ee1694d7db972b323d480b00781        2749.421198   \n",
            "75773d133623d3905d14405030826059        2397.185369   \n",
            "ef2247019abe71fcc1af9cde9620d836        1781.118104   \n",
            "\n",
            "                                  speed__fft_coefficient__attr_\"real\"__coeff_0  \\\n",
            "e269ffdd307e47338873dae037afd87e                                    312.336880   \n",
            "21279318eace725f719ca995556a4019                                   1963.078358   \n",
            "10796ee1694d7db972b323d480b00781                                   2749.421198   \n",
            "75773d133623d3905d14405030826059                                   2397.185369   \n",
            "ef2247019abe71fcc1af9cde9620d836                                   1781.118104   \n",
            "\n",
            "                                  speed__fft_aggregated__aggtype_\"centroid\"  \\\n",
            "e269ffdd307e47338873dae037afd87e                                   1.396784   \n",
            "21279318eace725f719ca995556a4019                                   7.817345   \n",
            "10796ee1694d7db972b323d480b00781                                   3.738514   \n",
            "75773d133623d3905d14405030826059                                   8.919037   \n",
            "ef2247019abe71fcc1af9cde9620d836                                   6.126819   \n",
            "\n",
            "                                  speed__fft_coefficient__attr_\"abs\"__coeff_0  \\\n",
            "e269ffdd307e47338873dae037afd87e                                   312.336880   \n",
            "21279318eace725f719ca995556a4019                                  1963.078358   \n",
            "10796ee1694d7db972b323d480b00781                                  2749.421198   \n",
            "75773d133623d3905d14405030826059                                  2397.185369   \n",
            "ef2247019abe71fcc1af9cde9620d836                                  1781.118104   \n",
            "\n",
            "                                  ...      speed  agg_words  normal_words  \\\n",
            "e269ffdd307e47338873dae037afd87e  ...  23.265306          0             0   \n",
            "21279318eace725f719ca995556a4019  ...  30.000000          0             0   \n",
            "10796ee1694d7db972b323d480b00781  ...  51.037344          0             0   \n",
            "75773d133623d3905d14405030826059  ...  36.214286          0             0   \n",
            "ef2247019abe71fcc1af9cde9620d836  ...  25.414013          0             0   \n",
            "\n",
            "                                  distance_thresh  agg_verbs_rate  \\\n",
            "e269ffdd307e47338873dae037afd87e                0             0.0   \n",
            "21279318eace725f719ca995556a4019                1             0.0   \n",
            "10796ee1694d7db972b323d480b00781                0             0.0   \n",
            "75773d133623d3905d14405030826059                1             0.0   \n",
            "ef2247019abe71fcc1af9cde9620d836                1             0.0   \n",
            "\n",
            "                                  agg_adjs_rate  agg_nouns_rate  \\\n",
            "e269ffdd307e47338873dae037afd87e            0.0             0.0   \n",
            "21279318eace725f719ca995556a4019            0.0             0.0   \n",
            "10796ee1694d7db972b323d480b00781            0.0             0.0   \n",
            "75773d133623d3905d14405030826059            0.0             0.0   \n",
            "ef2247019abe71fcc1af9cde9620d836            0.0             0.0   \n",
            "\n",
            "                                  mean_comments_aggressive_rate  \\\n",
            "e269ffdd307e47338873dae037afd87e                       0.159195   \n",
            "21279318eace725f719ca995556a4019                       0.159412   \n",
            "10796ee1694d7db972b323d480b00781                       0.159854   \n",
            "75773d133623d3905d14405030826059                       0.160584   \n",
            "ef2247019abe71fcc1af9cde9620d836                       0.159684   \n",
            "\n",
            "                                  agg_comm_probability  is_comment_y  \n",
            "e269ffdd307e47338873dae037afd87e                   0.0             0  \n",
            "21279318eace725f719ca995556a4019                   0.0             0  \n",
            "10796ee1694d7db972b323d480b00781                   0.0             0  \n",
            "75773d133623d3905d14405030826059                   0.0             0  \n",
            "ef2247019abe71fcc1af9cde9620d836                   0.0             0  \n",
            "\n",
            "[5 rows x 157 columns]\n"
          ]
        },
        {
          "output_type": "error",
          "ename": "ValueError",
          "evalue": "y should be a 1d array, got an array of shape (6300, 2) instead.",
          "traceback": [
            "\u001b[0;31m---------------------------------------------------------------------------\u001b[0m",
            "\u001b[0;31mValueError\u001b[0m                                Traceback (most recent call last)",
            "\u001b[0;32m<ipython-input-7-5740ac6a4308>\u001b[0m in \u001b[0;36m<module>\u001b[0;34m\u001b[0m\n\u001b[1;32m      4\u001b[0m \u001b[0mmodel_supervised\u001b[0m \u001b[0;34m=\u001b[0m \u001b[0mModel\u001b[0m\u001b[0;34m(\u001b[0m\u001b[0;34m)\u001b[0m\u001b[0;34m\u001b[0m\u001b[0;34m\u001b[0m\u001b[0m\n\u001b[1;32m      5\u001b[0m \u001b[0;34m\u001b[0m\u001b[0m\n\u001b[0;32m----> 6\u001b[0;31m \u001b[0mmodel_supervised\u001b[0m\u001b[0;34m.\u001b[0m\u001b[0mfit\u001b[0m\u001b[0;34m(\u001b[0m\u001b[0mX_\u001b[0m\u001b[0;34m,\u001b[0m\u001b[0my_\u001b[0m\u001b[0;34m,\u001b[0m \u001b[0mlabled_train_comments\u001b[0m\u001b[0;34m,\u001b[0m \u001b[0mnumeric_features\u001b[0m\u001b[0;34m,\u001b[0m \u001b[0mcategorical_features\u001b[0m\u001b[0;34m,\u001b[0m \u001b[0mtracks\u001b[0m\u001b[0;34m=\u001b[0m\u001b[0mtracks_labled\u001b[0m\u001b[0;34m)\u001b[0m\u001b[0;34m\u001b[0m\u001b[0;34m\u001b[0m\u001b[0m\n\u001b[0m\u001b[1;32m      7\u001b[0m \u001b[0;34m\u001b[0m\u001b[0m\n\u001b[1;32m      8\u001b[0m \u001b[0;32mwith\u001b[0m \u001b[0mopen\u001b[0m\u001b[0;34m(\u001b[0m\u001b[0;34m'model.pkl'\u001b[0m\u001b[0;34m,\u001b[0m\u001b[0;34m'wb'\u001b[0m\u001b[0;34m)\u001b[0m \u001b[0;32mas\u001b[0m \u001b[0mf\u001b[0m\u001b[0;34m:\u001b[0m\u001b[0;34m\u001b[0m\u001b[0;34m\u001b[0m\u001b[0m\n",
            "\u001b[0;32m<ipython-input-4-b80d1206ed4e>\u001b[0m in \u001b[0;36mfit\u001b[0;34m(self, X, y_, comments, numeric_features, categorical_features, tracks, cross_validation, random_state)\u001b[0m\n\u001b[1;32m    314\u001b[0m         \u001b[0;32mif\u001b[0m \u001b[0;34m(\u001b[0m\u001b[0;32mnot\u001b[0m \u001b[0mcross_validation\u001b[0m\u001b[0;34m)\u001b[0m\u001b[0;34m:\u001b[0m\u001b[0;34m\u001b[0m\u001b[0;34m\u001b[0m\u001b[0m\n\u001b[1;32m    315\u001b[0m             \u001b[0mX_train\u001b[0m\u001b[0;34m,\u001b[0m \u001b[0mX_test\u001b[0m\u001b[0;34m,\u001b[0m \u001b[0my_train\u001b[0m\u001b[0;34m,\u001b[0m \u001b[0my_test\u001b[0m \u001b[0;34m=\u001b[0m \u001b[0mself\u001b[0m\u001b[0;34m.\u001b[0m\u001b[0mtrain_test_split_\u001b[0m\u001b[0;34m(\u001b[0m\u001b[0mres_matrix\u001b[0m\u001b[0;34m,\u001b[0m \u001b[0my_\u001b[0m\u001b[0;34m,\u001b[0m \u001b[0mtest_size\u001b[0m\u001b[0;34m=\u001b[0m\u001b[0;36m0.3\u001b[0m\u001b[0;34m,\u001b[0m \u001b[0mrandom_state\u001b[0m\u001b[0;34m=\u001b[0m\u001b[0mrandom_state\u001b[0m\u001b[0;34m)\u001b[0m\u001b[0;34m\u001b[0m\u001b[0;34m\u001b[0m\u001b[0m\n\u001b[0;32m--> 316\u001b[0;31m             \u001b[0;32mreturn\u001b[0m \u001b[0mself\u001b[0m\u001b[0;34m.\u001b[0m\u001b[0mtrain_logistic\u001b[0m\u001b[0;34m(\u001b[0m\u001b[0mX_train\u001b[0m\u001b[0;34m,\u001b[0m \u001b[0mX_test\u001b[0m\u001b[0;34m,\u001b[0m \u001b[0my_train\u001b[0m\u001b[0;34m,\u001b[0m \u001b[0my_test\u001b[0m\u001b[0;34m,\u001b[0m \u001b[0mcategorical_features\u001b[0m\u001b[0;34m)\u001b[0m\u001b[0;34m\u001b[0m\u001b[0;34m\u001b[0m\u001b[0m\n\u001b[0m\u001b[1;32m    317\u001b[0m         \u001b[0;32melse\u001b[0m\u001b[0;34m:\u001b[0m\u001b[0;34m\u001b[0m\u001b[0;34m\u001b[0m\u001b[0m\n\u001b[1;32m    318\u001b[0m             \u001b[0;32mreturn\u001b[0m \u001b[0mself\u001b[0m\u001b[0;34m.\u001b[0m\u001b[0mtrain_cross_validation\u001b[0m\u001b[0;34m(\u001b[0m\u001b[0mX_\u001b[0m\u001b[0;34m,\u001b[0m \u001b[0my_\u001b[0m\u001b[0;34m,\u001b[0m \u001b[0;36m5\u001b[0m\u001b[0;34m,\u001b[0m \u001b[0mcategorical_features\u001b[0m\u001b[0;34m,\u001b[0m \u001b[0mrandom_state\u001b[0m\u001b[0;34m=\u001b[0m\u001b[0mrandom_state\u001b[0m\u001b[0;34m)\u001b[0m\u001b[0;34m\u001b[0m\u001b[0;34m\u001b[0m\u001b[0m\n",
            "\u001b[0;32m<ipython-input-4-b80d1206ed4e>\u001b[0m in \u001b[0;36mtrain_logistic\u001b[0;34m(self, X_train, X_test, y_train, y_test, categorical_feature, random_state)\u001b[0m\n\u001b[1;32m    176\u001b[0m \u001b[0;34m\u001b[0m\u001b[0m\n\u001b[1;32m    177\u001b[0m         \u001b[0mself\u001b[0m\u001b[0;34m.\u001b[0m\u001b[0mmodel\u001b[0m \u001b[0;34m=\u001b[0m \u001b[0mLogisticRegression\u001b[0m\u001b[0;34m(\u001b[0m\u001b[0mclass_weight\u001b[0m \u001b[0;34m=\u001b[0m \u001b[0;34m'balanced'\u001b[0m\u001b[0;34m,\u001b[0m \u001b[0mverbose\u001b[0m\u001b[0;34m=\u001b[0m\u001b[0;36m1\u001b[0m\u001b[0;34m)\u001b[0m\u001b[0;34m\u001b[0m\u001b[0;34m\u001b[0m\u001b[0m\n\u001b[0;32m--> 178\u001b[0;31m         \u001b[0mself\u001b[0m\u001b[0;34m.\u001b[0m\u001b[0mmodel\u001b[0m\u001b[0;34m.\u001b[0m\u001b[0mfit\u001b[0m\u001b[0;34m(\u001b[0m\u001b[0mX_train\u001b[0m\u001b[0;34m,\u001b[0m \u001b[0my_train\u001b[0m\u001b[0;34m)\u001b[0m\u001b[0;34m\u001b[0m\u001b[0;34m\u001b[0m\u001b[0m\n\u001b[0m\u001b[1;32m    179\u001b[0m         \u001b[0;31m#self.model.fit(X_train, y_train, cat_features=X_train.select_dtypes(include=['category', 'object']).columns.tolist())\u001b[0m\u001b[0;34m\u001b[0m\u001b[0;34m\u001b[0m\u001b[0;34m\u001b[0m\u001b[0m\n\u001b[1;32m    180\u001b[0m         \u001b[0mmain_model_path\u001b[0m \u001b[0;34m=\u001b[0m \u001b[0;34m'./model.pkl'\u001b[0m\u001b[0;34m\u001b[0m\u001b[0;34m\u001b[0m\u001b[0m\n",
            "\u001b[0;32m/opt/anaconda/lib/python3.8/site-packages/sklearn/linear_model/_logistic.py\u001b[0m in \u001b[0;36mfit\u001b[0;34m(self, X, y, sample_weight)\u001b[0m\n\u001b[1;32m   1342\u001b[0m             \u001b[0m_dtype\u001b[0m \u001b[0;34m=\u001b[0m \u001b[0;34m[\u001b[0m\u001b[0mnp\u001b[0m\u001b[0;34m.\u001b[0m\u001b[0mfloat64\u001b[0m\u001b[0;34m,\u001b[0m \u001b[0mnp\u001b[0m\u001b[0;34m.\u001b[0m\u001b[0mfloat32\u001b[0m\u001b[0;34m]\u001b[0m\u001b[0;34m\u001b[0m\u001b[0;34m\u001b[0m\u001b[0m\n\u001b[1;32m   1343\u001b[0m \u001b[0;34m\u001b[0m\u001b[0m\n\u001b[0;32m-> 1344\u001b[0;31m         X, y = self._validate_data(X, y, accept_sparse='csr', dtype=_dtype,\n\u001b[0m\u001b[1;32m   1345\u001b[0m                                    \u001b[0morder\u001b[0m\u001b[0;34m=\u001b[0m\u001b[0;34m\"C\"\u001b[0m\u001b[0;34m,\u001b[0m\u001b[0;34m\u001b[0m\u001b[0;34m\u001b[0m\u001b[0m\n\u001b[1;32m   1346\u001b[0m                                    accept_large_sparse=solver != 'liblinear')\n",
            "\u001b[0;32m/opt/anaconda/lib/python3.8/site-packages/sklearn/base.py\u001b[0m in \u001b[0;36m_validate_data\u001b[0;34m(self, X, y, reset, validate_separately, **check_params)\u001b[0m\n\u001b[1;32m    431\u001b[0m                 \u001b[0my\u001b[0m \u001b[0;34m=\u001b[0m \u001b[0mcheck_array\u001b[0m\u001b[0;34m(\u001b[0m\u001b[0my\u001b[0m\u001b[0;34m,\u001b[0m \u001b[0;34m**\u001b[0m\u001b[0mcheck_y_params\u001b[0m\u001b[0;34m)\u001b[0m\u001b[0;34m\u001b[0m\u001b[0;34m\u001b[0m\u001b[0m\n\u001b[1;32m    432\u001b[0m             \u001b[0;32melse\u001b[0m\u001b[0;34m:\u001b[0m\u001b[0;34m\u001b[0m\u001b[0;34m\u001b[0m\u001b[0m\n\u001b[0;32m--> 433\u001b[0;31m                 \u001b[0mX\u001b[0m\u001b[0;34m,\u001b[0m \u001b[0my\u001b[0m \u001b[0;34m=\u001b[0m \u001b[0mcheck_X_y\u001b[0m\u001b[0;34m(\u001b[0m\u001b[0mX\u001b[0m\u001b[0;34m,\u001b[0m \u001b[0my\u001b[0m\u001b[0;34m,\u001b[0m \u001b[0;34m**\u001b[0m\u001b[0mcheck_params\u001b[0m\u001b[0;34m)\u001b[0m\u001b[0;34m\u001b[0m\u001b[0;34m\u001b[0m\u001b[0m\n\u001b[0m\u001b[1;32m    434\u001b[0m             \u001b[0mout\u001b[0m \u001b[0;34m=\u001b[0m \u001b[0mX\u001b[0m\u001b[0;34m,\u001b[0m \u001b[0my\u001b[0m\u001b[0;34m\u001b[0m\u001b[0;34m\u001b[0m\u001b[0m\n\u001b[1;32m    435\u001b[0m \u001b[0;34m\u001b[0m\u001b[0m\n",
            "\u001b[0;32m/opt/anaconda/lib/python3.8/site-packages/sklearn/utils/validation.py\u001b[0m in \u001b[0;36minner_f\u001b[0;34m(*args, **kwargs)\u001b[0m\n\u001b[1;32m     61\u001b[0m             \u001b[0mextra_args\u001b[0m \u001b[0;34m=\u001b[0m \u001b[0mlen\u001b[0m\u001b[0;34m(\u001b[0m\u001b[0margs\u001b[0m\u001b[0;34m)\u001b[0m \u001b[0;34m-\u001b[0m \u001b[0mlen\u001b[0m\u001b[0;34m(\u001b[0m\u001b[0mall_args\u001b[0m\u001b[0;34m)\u001b[0m\u001b[0;34m\u001b[0m\u001b[0;34m\u001b[0m\u001b[0m\n\u001b[1;32m     62\u001b[0m             \u001b[0;32mif\u001b[0m \u001b[0mextra_args\u001b[0m \u001b[0;34m<=\u001b[0m \u001b[0;36m0\u001b[0m\u001b[0;34m:\u001b[0m\u001b[0;34m\u001b[0m\u001b[0;34m\u001b[0m\u001b[0m\n\u001b[0;32m---> 63\u001b[0;31m                 \u001b[0;32mreturn\u001b[0m \u001b[0mf\u001b[0m\u001b[0;34m(\u001b[0m\u001b[0;34m*\u001b[0m\u001b[0margs\u001b[0m\u001b[0;34m,\u001b[0m \u001b[0;34m**\u001b[0m\u001b[0mkwargs\u001b[0m\u001b[0;34m)\u001b[0m\u001b[0;34m\u001b[0m\u001b[0;34m\u001b[0m\u001b[0m\n\u001b[0m\u001b[1;32m     64\u001b[0m \u001b[0;34m\u001b[0m\u001b[0m\n\u001b[1;32m     65\u001b[0m             \u001b[0;31m# extra_args > 0\u001b[0m\u001b[0;34m\u001b[0m\u001b[0;34m\u001b[0m\u001b[0;34m\u001b[0m\u001b[0m\n",
            "\u001b[0;32m/opt/anaconda/lib/python3.8/site-packages/sklearn/utils/validation.py\u001b[0m in \u001b[0;36mcheck_X_y\u001b[0;34m(X, y, accept_sparse, accept_large_sparse, dtype, order, copy, force_all_finite, ensure_2d, allow_nd, multi_output, ensure_min_samples, ensure_min_features, y_numeric, estimator)\u001b[0m\n\u001b[1;32m    824\u001b[0m                         ensure_2d=False, dtype=None)\n\u001b[1;32m    825\u001b[0m     \u001b[0;32melse\u001b[0m\u001b[0;34m:\u001b[0m\u001b[0;34m\u001b[0m\u001b[0;34m\u001b[0m\u001b[0m\n\u001b[0;32m--> 826\u001b[0;31m         \u001b[0my\u001b[0m \u001b[0;34m=\u001b[0m \u001b[0mcolumn_or_1d\u001b[0m\u001b[0;34m(\u001b[0m\u001b[0my\u001b[0m\u001b[0;34m,\u001b[0m \u001b[0mwarn\u001b[0m\u001b[0;34m=\u001b[0m\u001b[0;32mTrue\u001b[0m\u001b[0;34m)\u001b[0m\u001b[0;34m\u001b[0m\u001b[0;34m\u001b[0m\u001b[0m\n\u001b[0m\u001b[1;32m    827\u001b[0m         \u001b[0m_assert_all_finite\u001b[0m\u001b[0;34m(\u001b[0m\u001b[0my\u001b[0m\u001b[0;34m)\u001b[0m\u001b[0;34m\u001b[0m\u001b[0;34m\u001b[0m\u001b[0m\n\u001b[1;32m    828\u001b[0m     \u001b[0;32mif\u001b[0m \u001b[0my_numeric\u001b[0m \u001b[0;32mand\u001b[0m \u001b[0my\u001b[0m\u001b[0;34m.\u001b[0m\u001b[0mdtype\u001b[0m\u001b[0;34m.\u001b[0m\u001b[0mkind\u001b[0m \u001b[0;34m==\u001b[0m \u001b[0;34m'O'\u001b[0m\u001b[0;34m:\u001b[0m\u001b[0;34m\u001b[0m\u001b[0;34m\u001b[0m\u001b[0m\n",
            "\u001b[0;32m/opt/anaconda/lib/python3.8/site-packages/sklearn/utils/validation.py\u001b[0m in \u001b[0;36minner_f\u001b[0;34m(*args, **kwargs)\u001b[0m\n\u001b[1;32m     61\u001b[0m             \u001b[0mextra_args\u001b[0m \u001b[0;34m=\u001b[0m \u001b[0mlen\u001b[0m\u001b[0;34m(\u001b[0m\u001b[0margs\u001b[0m\u001b[0;34m)\u001b[0m \u001b[0;34m-\u001b[0m \u001b[0mlen\u001b[0m\u001b[0;34m(\u001b[0m\u001b[0mall_args\u001b[0m\u001b[0;34m)\u001b[0m\u001b[0;34m\u001b[0m\u001b[0;34m\u001b[0m\u001b[0m\n\u001b[1;32m     62\u001b[0m             \u001b[0;32mif\u001b[0m \u001b[0mextra_args\u001b[0m \u001b[0;34m<=\u001b[0m \u001b[0;36m0\u001b[0m\u001b[0;34m:\u001b[0m\u001b[0;34m\u001b[0m\u001b[0;34m\u001b[0m\u001b[0m\n\u001b[0;32m---> 63\u001b[0;31m                 \u001b[0;32mreturn\u001b[0m \u001b[0mf\u001b[0m\u001b[0;34m(\u001b[0m\u001b[0;34m*\u001b[0m\u001b[0margs\u001b[0m\u001b[0;34m,\u001b[0m \u001b[0;34m**\u001b[0m\u001b[0mkwargs\u001b[0m\u001b[0;34m)\u001b[0m\u001b[0;34m\u001b[0m\u001b[0;34m\u001b[0m\u001b[0m\n\u001b[0m\u001b[1;32m     64\u001b[0m \u001b[0;34m\u001b[0m\u001b[0m\n\u001b[1;32m     65\u001b[0m             \u001b[0;31m# extra_args > 0\u001b[0m\u001b[0;34m\u001b[0m\u001b[0;34m\u001b[0m\u001b[0;34m\u001b[0m\u001b[0m\n",
            "\u001b[0;32m/opt/anaconda/lib/python3.8/site-packages/sklearn/utils/validation.py\u001b[0m in \u001b[0;36mcolumn_or_1d\u001b[0;34m(y, warn)\u001b[0m\n\u001b[1;32m    862\u001b[0m         \u001b[0;32mreturn\u001b[0m \u001b[0mnp\u001b[0m\u001b[0;34m.\u001b[0m\u001b[0mravel\u001b[0m\u001b[0;34m(\u001b[0m\u001b[0my\u001b[0m\u001b[0;34m)\u001b[0m\u001b[0;34m\u001b[0m\u001b[0;34m\u001b[0m\u001b[0m\n\u001b[1;32m    863\u001b[0m \u001b[0;34m\u001b[0m\u001b[0m\n\u001b[0;32m--> 864\u001b[0;31m     raise ValueError(\n\u001b[0m\u001b[1;32m    865\u001b[0m         \u001b[0;34m\"y should be a 1d array, \"\u001b[0m\u001b[0;34m\u001b[0m\u001b[0;34m\u001b[0m\u001b[0m\n\u001b[1;32m    866\u001b[0m         \"got an array of shape {} instead.\".format(shape))\n",
            "\u001b[0;31mValueError\u001b[0m: y should be a 1d array, got an array of shape (6300, 2) instead."
          ]
        }
      ],
      "metadata": {
        "id": "l5W_90wZx5JG"
      }
    },
    {
      "cell_type": "code",
      "execution_count": null,
      "source": [
        "result = model_supervised.predict_log(test_data,test_comments,test_tracks) "
      ],
      "outputs": [
        {
          "output_type": "stream",
          "name": "stderr",
          "text": [
            "Feature Extraction: 100%|██████████| 40/40 [00:08<00:00,  4.48it/s]\n"
          ]
        },
        {
          "output_type": "stream",
          "name": "stdout",
          "text": [
            "                                                         driver_id  \\\n",
            "order_id                                                             \n",
            "49430c6531d098d3b288d95d7d1e7f4f  21348747875e0b01bc492d32b49c638d   \n",
            "d3fff1a829a5b5ccbccd40c9895ff4b0  398fe459519b5facba93168b71df0625   \n",
            "f73533b8aab3b1d7b52488d954a46fa0  951410ef679f167e6515ea5e4d5fb92d   \n",
            "43c6c249e4751b9ba0cf68de3e40a053  311ac9352166fb9b2f9153581b03ab5b   \n",
            "b88dccdeaa7c5c1478915d7532082cda  cccd0c6d3ce5a7c553a1f28086beef5a   \n",
            "\n",
            "                                                         client_id  \\\n",
            "order_id                                                             \n",
            "49430c6531d098d3b288d95d7d1e7f4f  4d4d06feddc5669339b1cd9d7941a116   \n",
            "d3fff1a829a5b5ccbccd40c9895ff4b0  2a41e0a45a19a892e960d6c4bef5c27b   \n",
            "f73533b8aab3b1d7b52488d954a46fa0  9a8017ac4e8b0ce55b0dbd75c2f25445   \n",
            "43c6c249e4751b9ba0cf68de3e40a053  2f9a136bb3baa4912748a981033fd272   \n",
            "b88dccdeaa7c5c1478915d7532082cda  121a25147dafdb4565cf4eb6db7302f6   \n",
            "\n",
            "                                                dttm        date  \\\n",
            "order_id                                                           \n",
            "49430c6531d098d3b288d95d7d1e7f4f 2021-04-03 14:49:46  2021-04-03   \n",
            "d3fff1a829a5b5ccbccd40c9895ff4b0 2021-04-03 15:02:44  2021-04-03   \n",
            "f73533b8aab3b1d7b52488d954a46fa0 2021-04-03 15:04:47  2021-04-03   \n",
            "43c6c249e4751b9ba0cf68de3e40a053 2021-04-03 15:05:58  2021-04-03   \n",
            "b88dccdeaa7c5c1478915d7532082cda 2021-04-03 15:10:29  2021-04-03   \n",
            "\n",
            "                                  arrived_distance  arrived_duration  \\\n",
            "order_id                                                               \n",
            "49430c6531d098d3b288d95d7d1e7f4f             180.0               1.0   \n",
            "d3fff1a829a5b5ccbccd40c9895ff4b0             790.0               2.0   \n",
            "f73533b8aab3b1d7b52488d954a46fa0             170.0               1.0   \n",
            "43c6c249e4751b9ba0cf68de3e40a053             140.0               0.0   \n",
            "b88dccdeaa7c5c1478915d7532082cda              40.0               0.0   \n",
            "\n",
            "                                  distance  duration  from_latitude  \\\n",
            "order_id                                                              \n",
            "49430c6531d098d3b288d95d7d1e7f4f       6.1      19.4      55.822578   \n",
            "d3fff1a829a5b5ccbccd40c9895ff4b0       6.4      19.0      55.609624   \n",
            "f73533b8aab3b1d7b52488d954a46fa0       9.0      15.4      55.570245   \n",
            "43c6c249e4751b9ba0cf68de3e40a053      10.7      27.0      55.747910   \n",
            "b88dccdeaa7c5c1478915d7532082cda      21.8      38.2      55.849331   \n",
            "\n",
            "                                  from_longitude  ...      speed  agg_words  \\\n",
            "order_id                                          ...                         \n",
            "49430c6531d098d3b288d95d7d1e7f4f       37.596844  ...  18.865979          0   \n",
            "d3fff1a829a5b5ccbccd40c9895ff4b0       37.719165  ...  20.210526          0   \n",
            "f73533b8aab3b1d7b52488d954a46fa0       37.576624  ...  35.064935          0   \n",
            "43c6c249e4751b9ba0cf68de3e40a053       37.691090  ...  23.777778          0   \n",
            "b88dccdeaa7c5c1478915d7532082cda       37.494747  ...  34.240838          0   \n",
            "\n",
            "                                 normal_words  distance_thresh  \\\n",
            "order_id                                                         \n",
            "49430c6531d098d3b288d95d7d1e7f4f            0                1   \n",
            "d3fff1a829a5b5ccbccd40c9895ff4b0            0                1   \n",
            "f73533b8aab3b1d7b52488d954a46fa0            0                1   \n",
            "43c6c249e4751b9ba0cf68de3e40a053            0                1   \n",
            "b88dccdeaa7c5c1478915d7532082cda            0                0   \n",
            "\n",
            "                                  agg_verbs_rate  agg_adjs_rate  \\\n",
            "order_id                                                          \n",
            "49430c6531d098d3b288d95d7d1e7f4f             0.0            0.0   \n",
            "d3fff1a829a5b5ccbccd40c9895ff4b0             0.0            0.0   \n",
            "f73533b8aab3b1d7b52488d954a46fa0             0.0            0.0   \n",
            "43c6c249e4751b9ba0cf68de3e40a053             0.0            0.0   \n",
            "b88dccdeaa7c5c1478915d7532082cda             0.0            0.0   \n",
            "\n",
            "                                 agg_nouns_rate  \\\n",
            "order_id                                          \n",
            "49430c6531d098d3b288d95d7d1e7f4f            0.0   \n",
            "d3fff1a829a5b5ccbccd40c9895ff4b0            0.0   \n",
            "f73533b8aab3b1d7b52488d954a46fa0            0.0   \n",
            "43c6c249e4751b9ba0cf68de3e40a053            1.0   \n",
            "b88dccdeaa7c5c1478915d7532082cda            0.0   \n",
            "\n",
            "                                  mean_comments_aggressive_rate  \\\n",
            "order_id                                                          \n",
            "49430c6531d098d3b288d95d7d1e7f4f                        0.00000   \n",
            "d3fff1a829a5b5ccbccd40c9895ff4b0                        0.00000   \n",
            "f73533b8aab3b1d7b52488d954a46fa0                        0.15894   \n",
            "43c6c249e4751b9ba0cf68de3e40a053                        0.15804   \n",
            "b88dccdeaa7c5c1478915d7532082cda                        0.00000   \n",
            "\n",
            "                                  agg_comm_probability  is_comment_y  \n",
            "order_id                                                              \n",
            "49430c6531d098d3b288d95d7d1e7f4f               0.00000             0  \n",
            "d3fff1a829a5b5ccbccd40c9895ff4b0               0.00000             0  \n",
            "f73533b8aab3b1d7b52488d954a46fa0               0.15894             1  \n",
            "43c6c249e4751b9ba0cf68de3e40a053               0.15804             1  \n",
            "b88dccdeaa7c5c1478915d7532082cda               0.00000             0  \n",
            "\n",
            "[5 rows x 33 columns]\n",
            "Table data matrix shape: (1272, 33)\n",
            "Tracks data matrix shape: (1272, 124)\n",
            "RES MATRIX\n",
            "                                  speed__fft_coefficient__attr_\"abs\"__coeff_3  \\\n",
            "000d9cf4365ad8be9b559951d0d945c7                                    25.509130   \n",
            "00287e34dd884a2a69c80346541d2aef                                   220.302145   \n",
            "00307c7812842b1159781c2c6375944a                                    78.431549   \n",
            "0061e7abbe5544c40781ba2816b3e026                                    50.780780   \n",
            "0074b0c828084e05c28035487ad2a130                                   117.050115   \n",
            "...                                                                       ...   \n",
            "ff209045501b1f25e8729a96a215a3d2                                   302.766730   \n",
            "ff4c5997ed87ff37a3c215bab2c0916e                                   171.895503   \n",
            "ff6873cfaccafec937bbed29e317d3e2                                    71.112287   \n",
            "ff9745e14cda84a4550b528a8d9aa4de                                   737.061231   \n",
            "ffd2c55165c42430793423c93211bd46                                   413.663085   \n",
            "\n",
            "                                  speed__absolute_sum_of_changes  \\\n",
            "000d9cf4365ad8be9b559951d0d945c7                      121.431818   \n",
            "00287e34dd884a2a69c80346541d2aef                     2725.300554   \n",
            "00307c7812842b1159781c2c6375944a                     1071.797026   \n",
            "0061e7abbe5544c40781ba2816b3e026                     1974.429822   \n",
            "0074b0c828084e05c28035487ad2a130                      540.546495   \n",
            "...                                                          ...   \n",
            "ff209045501b1f25e8729a96a215a3d2                     2228.731298   \n",
            "ff4c5997ed87ff37a3c215bab2c0916e                      452.979030   \n",
            "ff6873cfaccafec937bbed29e317d3e2                     2060.805190   \n",
            "ff9745e14cda84a4550b528a8d9aa4de                     2867.020269   \n",
            "ffd2c55165c42430793423c93211bd46                     1134.262008   \n",
            "\n",
            "                                  speed__cid_ce__normalize_False  \\\n",
            "000d9cf4365ad8be9b559951d0d945c7                       51.621640   \n",
            "00287e34dd884a2a69c80346541d2aef                      426.205616   \n",
            "00307c7812842b1159781c2c6375944a                      256.922076   \n",
            "0061e7abbe5544c40781ba2816b3e026                      372.291320   \n",
            "0074b0c828084e05c28035487ad2a130                      129.109832   \n",
            "...                                                          ...   \n",
            "ff209045501b1f25e8729a96a215a3d2                      369.974019   \n",
            "ff4c5997ed87ff37a3c215bab2c0916e                      123.459313   \n",
            "ff6873cfaccafec937bbed29e317d3e2                      309.275987   \n",
            "ff9745e14cda84a4550b528a8d9aa4de                      466.859379   \n",
            "ffd2c55165c42430793423c93211bd46                      224.939581   \n",
            "\n",
            "                                  speed__count_below_mean  \\\n",
            "000d9cf4365ad8be9b559951d0d945c7                      7.0   \n",
            "00287e34dd884a2a69c80346541d2aef                     34.0   \n",
            "00307c7812842b1159781c2c6375944a                     27.0   \n",
            "0061e7abbe5544c40781ba2816b3e026                     39.0   \n",
            "0074b0c828084e05c28035487ad2a130                     66.0   \n",
            "...                                                   ...   \n",
            "ff209045501b1f25e8729a96a215a3d2                     66.0   \n",
            "ff4c5997ed87ff37a3c215bab2c0916e                     37.0   \n",
            "ff6873cfaccafec937bbed29e317d3e2                     60.0   \n",
            "ff9745e14cda84a4550b528a8d9aa4de                     65.0   \n",
            "ffd2c55165c42430793423c93211bd46                     35.0   \n",
            "\n",
            "                                  speed__number_cwt_peaks__n_5  \\\n",
            "000d9cf4365ad8be9b559951d0d945c7                           1.0   \n",
            "00287e34dd884a2a69c80346541d2aef                          11.0   \n",
            "00307c7812842b1159781c2c6375944a                           5.0   \n",
            "0061e7abbe5544c40781ba2816b3e026                           7.0   \n",
            "0074b0c828084e05c28035487ad2a130                           8.0   \n",
            "...                                                        ...   \n",
            "ff209045501b1f25e8729a96a215a3d2                          13.0   \n",
            "ff4c5997ed87ff37a3c215bab2c0916e                           5.0   \n",
            "ff6873cfaccafec937bbed29e317d3e2                           8.0   \n",
            "ff9745e14cda84a4550b528a8d9aa4de                          10.0   \n",
            "ffd2c55165c42430793423c93211bd46                           4.0   \n",
            "\n",
            "                                  speed__fft_aggregated__aggtype_\"variance\"  \\\n",
            "000d9cf4365ad8be9b559951d0d945c7                                   4.114945   \n",
            "00287e34dd884a2a69c80346541d2aef                                 129.758044   \n",
            "00307c7812842b1159781c2c6375944a                                  65.635491   \n",
            "0061e7abbe5544c40781ba2816b3e026                                 131.048076   \n",
            "0074b0c828084e05c28035487ad2a130                                 185.975320   \n",
            "...                                                                     ...   \n",
            "ff209045501b1f25e8729a96a215a3d2                                 302.018974   \n",
            "ff4c5997ed87ff37a3c215bab2c0916e                                  54.038836   \n",
            "ff6873cfaccafec937bbed29e317d3e2                                 237.165897   \n",
            "ff9745e14cda84a4550b528a8d9aa4de                                 296.847180   \n",
            "ffd2c55165c42430793423c93211bd46                                  81.724254   \n",
            "\n",
            "                                  speed__sum_values  \\\n",
            "000d9cf4365ad8be9b559951d0d945c7         113.241876   \n",
            "00287e34dd884a2a69c80346541d2aef        2761.787850   \n",
            "00307c7812842b1159781c2c6375944a         754.180424   \n",
            "0061e7abbe5544c40781ba2816b3e026        1445.177600   \n",
            "0074b0c828084e05c28035487ad2a130         408.879864   \n",
            "...                                             ...   \n",
            "ff209045501b1f25e8729a96a215a3d2        1910.234311   \n",
            "ff4c5997ed87ff37a3c215bab2c0916e         384.905864   \n",
            "ff6873cfaccafec937bbed29e317d3e2        1678.718723   \n",
            "ff9745e14cda84a4550b528a8d9aa4de        3838.832243   \n",
            "ffd2c55165c42430793423c93211bd46        1094.071762   \n",
            "\n",
            "                                  speed__fft_coefficient__attr_\"real\"__coeff_0  \\\n",
            "000d9cf4365ad8be9b559951d0d945c7                                    113.241876   \n",
            "00287e34dd884a2a69c80346541d2aef                                   2761.787850   \n",
            "00307c7812842b1159781c2c6375944a                                    754.180424   \n",
            "0061e7abbe5544c40781ba2816b3e026                                   1445.177600   \n",
            "0074b0c828084e05c28035487ad2a130                                    408.879864   \n",
            "...                                                                        ...   \n",
            "ff209045501b1f25e8729a96a215a3d2                                   1910.234311   \n",
            "ff4c5997ed87ff37a3c215bab2c0916e                                    384.905864   \n",
            "ff6873cfaccafec937bbed29e317d3e2                                   1678.718723   \n",
            "ff9745e14cda84a4550b528a8d9aa4de                                   3838.832243   \n",
            "ffd2c55165c42430793423c93211bd46                                   1094.071762   \n",
            "\n",
            "                                  speed__fft_aggregated__aggtype_\"centroid\"  \\\n",
            "000d9cf4365ad8be9b559951d0d945c7                                   2.068663   \n",
            "00287e34dd884a2a69c80346541d2aef                                  12.923285   \n",
            "00307c7812842b1159781c2c6375944a                                   8.909017   \n",
            "0061e7abbe5544c40781ba2816b3e026                                  13.336169   \n",
            "0074b0c828084e05c28035487ad2a130                                  17.150792   \n",
            "...                                                                     ...   \n",
            "ff209045501b1f25e8729a96a215a3d2                                  20.295279   \n",
            "ff4c5997ed87ff37a3c215bab2c0916e                                   8.874209   \n",
            "ff6873cfaccafec937bbed29e317d3e2                                  19.289195   \n",
            "ff9745e14cda84a4550b528a8d9aa4de                                  18.199204   \n",
            "ffd2c55165c42430793423c93211bd46                                   9.367517   \n",
            "\n",
            "                                  speed__fft_coefficient__attr_\"abs\"__coeff_0  \\\n",
            "000d9cf4365ad8be9b559951d0d945c7                                   113.241876   \n",
            "00287e34dd884a2a69c80346541d2aef                                  2761.787850   \n",
            "00307c7812842b1159781c2c6375944a                                   754.180424   \n",
            "0061e7abbe5544c40781ba2816b3e026                                  1445.177600   \n",
            "0074b0c828084e05c28035487ad2a130                                   408.879864   \n",
            "...                                                                       ...   \n",
            "ff209045501b1f25e8729a96a215a3d2                                  1910.234311   \n",
            "ff4c5997ed87ff37a3c215bab2c0916e                                   384.905864   \n",
            "ff6873cfaccafec937bbed29e317d3e2                                  1678.718723   \n",
            "ff9745e14cda84a4550b528a8d9aa4de                                  3838.832243   \n",
            "ffd2c55165c42430793423c93211bd46                                  1094.071762   \n",
            "\n",
            "                                  ...      speed  agg_words  normal_words  \\\n",
            "000d9cf4365ad8be9b559951d0d945c7  ...  18.947368          0             0   \n",
            "00287e34dd884a2a69c80346541d2aef  ...  40.505415          0             0   \n",
            "00307c7812842b1159781c2c6375944a  ...  22.409639          0             0   \n",
            "0061e7abbe5544c40781ba2816b3e026  ...  42.519685          0             0   \n",
            "0074b0c828084e05c28035487ad2a130  ...  20.314961          0             0   \n",
            "...                               ...        ...        ...           ...   \n",
            "ff209045501b1f25e8729a96a215a3d2  ...  24.979592          0             0   \n",
            "ff4c5997ed87ff37a3c215bab2c0916e  ...  33.750000          0             0   \n",
            "ff6873cfaccafec937bbed29e317d3e2  ...  27.028754          0             0   \n",
            "ff9745e14cda84a4550b528a8d9aa4de  ...  41.662198          0             0   \n",
            "ffd2c55165c42430793423c93211bd46  ...  27.219512          0             0   \n",
            "\n",
            "                                  distance_thresh  agg_verbs_rate  \\\n",
            "000d9cf4365ad8be9b559951d0d945c7                0             0.0   \n",
            "00287e34dd884a2a69c80346541d2aef                1             0.0   \n",
            "00307c7812842b1159781c2c6375944a                0             0.0   \n",
            "0061e7abbe5544c40781ba2816b3e026                1             0.0   \n",
            "0074b0c828084e05c28035487ad2a130                0             0.0   \n",
            "...                                           ...             ...   \n",
            "ff209045501b1f25e8729a96a215a3d2                1             0.0   \n",
            "ff4c5997ed87ff37a3c215bab2c0916e                0             0.0   \n",
            "ff6873cfaccafec937bbed29e317d3e2                1             0.0   \n",
            "ff9745e14cda84a4550b528a8d9aa4de                0             0.0   \n",
            "ffd2c55165c42430793423c93211bd46                1             0.0   \n",
            "\n",
            "                                  agg_adjs_rate  agg_nouns_rate  \\\n",
            "000d9cf4365ad8be9b559951d0d945c7            0.0             0.0   \n",
            "00287e34dd884a2a69c80346541d2aef            0.0             0.0   \n",
            "00307c7812842b1159781c2c6375944a            0.0             0.0   \n",
            "0061e7abbe5544c40781ba2816b3e026            0.0             0.0   \n",
            "0074b0c828084e05c28035487ad2a130            0.0             0.0   \n",
            "...                                         ...             ...   \n",
            "ff209045501b1f25e8729a96a215a3d2            0.0             0.0   \n",
            "ff4c5997ed87ff37a3c215bab2c0916e            0.0             0.0   \n",
            "ff6873cfaccafec937bbed29e317d3e2            0.0             0.0   \n",
            "ff9745e14cda84a4550b528a8d9aa4de            0.0             0.0   \n",
            "ffd2c55165c42430793423c93211bd46            0.0             0.0   \n",
            "\n",
            "                                  mean_comments_aggressive_rate  \\\n",
            "000d9cf4365ad8be9b559951d0d945c7                            0.0   \n",
            "00287e34dd884a2a69c80346541d2aef                            0.0   \n",
            "00307c7812842b1159781c2c6375944a                            0.0   \n",
            "0061e7abbe5544c40781ba2816b3e026                            0.0   \n",
            "0074b0c828084e05c28035487ad2a130                            0.0   \n",
            "...                                                         ...   \n",
            "ff209045501b1f25e8729a96a215a3d2                            0.0   \n",
            "ff4c5997ed87ff37a3c215bab2c0916e                            0.0   \n",
            "ff6873cfaccafec937bbed29e317d3e2                            0.0   \n",
            "ff9745e14cda84a4550b528a8d9aa4de                            0.0   \n",
            "ffd2c55165c42430793423c93211bd46                            0.0   \n",
            "\n",
            "                                  agg_comm_probability  is_comment_y  \n",
            "000d9cf4365ad8be9b559951d0d945c7                   0.0             0  \n",
            "00287e34dd884a2a69c80346541d2aef                   0.0             0  \n",
            "00307c7812842b1159781c2c6375944a                   0.0             0  \n",
            "0061e7abbe5544c40781ba2816b3e026                   0.0             0  \n",
            "0074b0c828084e05c28035487ad2a130                   0.0             0  \n",
            "...                                                ...           ...  \n",
            "ff209045501b1f25e8729a96a215a3d2                   0.0             0  \n",
            "ff4c5997ed87ff37a3c215bab2c0916e                   0.0             0  \n",
            "ff6873cfaccafec937bbed29e317d3e2                   0.0             0  \n",
            "ff9745e14cda84a4550b528a8d9aa4de                   0.0             0  \n",
            "ffd2c55165c42430793423c93211bd46                   0.0             0  \n",
            "\n",
            "[1272 rows x 157 columns]\n",
            "Result matrix shape: (1272, 157)\n"
          ]
        }
      ],
      "metadata": {
        "colab": {
          "base_uri": "https://localhost:8080/"
        },
        "id": "UIM7vNo4Uw-i",
        "outputId": "9982f0cc-b83d-4707-aa59-e136684bf63e"
      }
    },
    {
      "cell_type": "code",
      "execution_count": null,
      "source": [
        "#data, predicitons =predictions\n",
        "data, predictions = result\n",
        "data['is_aggressive']=predictions"
      ],
      "outputs": [],
      "metadata": {
        "colab": {
          "base_uri": "https://localhost:8080/"
        },
        "id": "JcDiAhYaYXlx",
        "outputId": "1f3215e9-5f2c-416c-8a82-6fdb65cbc7f6"
      }
    },
    {
      "cell_type": "code",
      "execution_count": null,
      "source": [
        "#test_data['submit'] = test_data.index\n",
        "#test_data = test_data.set_index('order_id')\n",
        "data= data.reindex(index=test_data['order_id'])\n",
        "data= data.reset_index()"
      ],
      "outputs": [],
      "metadata": {
        "scrolled": false,
        "id": "TBM0T9fax5JH"
      }
    },
    {
      "cell_type": "code",
      "execution_count": null,
      "source": [
        "pd.DataFrame(data.is_aggressive).to_csv('./result.csv')"
      ],
      "outputs": [],
      "metadata": {}
    },
    {
      "cell_type": "markdown",
      "source": [
        "# Semi-supervised train"
      ],
      "metadata": {
        "id": "PTweSMJMx5JH"
      }
    },
    {
      "cell_type": "markdown",
      "source": [
        "## Preprocessing"
      ],
      "metadata": {
        "id": "GTkhnZoHx5JI"
      }
    },
    {
      "cell_type": "code",
      "execution_count": null,
      "source": [
        "X_unlab = pd.read_csv('/content/drive/MyDrive/aiijc_transport_simpleteam/data/base_files/unlabled_train_data.csv', index_col=0, sep='\\t', comment='#')\n",
        "comments_unlabeled = pd.read_csv('/content/drive/MyDrive/aiijc_transport_simpleteam/data/base_files/unlabled_train_comments.csv', index_col=0, sep='\\t', comment='#')\n",
        "tracks_unlabeled = pd.read_csv('/content/drive/MyDrive/aiijc_transport_simpleteam/data/base_files/unlabled_train_tracks.csv', index_col=0, sep='\\t', comment='#')\n",
        "\n",
        "X_unlab['client_rate_ride'] = X_unlab['client_rate_ride'].fillna(X_unlab['client_rate_ride'].mean())\n",
        "X_unlab['client_rides_cnt'] = X_unlab['client_rides_cnt'].fillna(X_unlab['client_rides_cnt'].mean())\n",
        "X_unlab['driver_rides_cnt'] = X_unlab['driver_rides_cnt'].fillna(X_unlab['driver_rides_cnt'].mean())"
      ],
      "outputs": [
        {
          "output_type": "error",
          "ename": "FileNotFoundError",
          "evalue": "[Errno 2] No such file or directory: '/content/drive/MyDrive/aiijc_transport_simpleteam/data/base_files/unlabled_train_data.csv'",
          "traceback": [
            "\u001b[0;31m---------------------------------------------------------------------------\u001b[0m",
            "\u001b[0;31mFileNotFoundError\u001b[0m                         Traceback (most recent call last)",
            "\u001b[0;32m<ipython-input-56-309a750baba7>\u001b[0m in \u001b[0;36m<module>\u001b[0;34m\u001b[0m\n\u001b[0;32m----> 1\u001b[0;31m \u001b[0mX_unlab\u001b[0m \u001b[0;34m=\u001b[0m \u001b[0mpd\u001b[0m\u001b[0;34m.\u001b[0m\u001b[0mread_csv\u001b[0m\u001b[0;34m(\u001b[0m\u001b[0;34m'/content/drive/MyDrive/aiijc_transport_simpleteam/data/base_files/unlabled_train_data.csv'\u001b[0m\u001b[0;34m,\u001b[0m \u001b[0mindex_col\u001b[0m\u001b[0;34m=\u001b[0m\u001b[0;36m0\u001b[0m\u001b[0;34m,\u001b[0m \u001b[0msep\u001b[0m\u001b[0;34m=\u001b[0m\u001b[0;34m'\\t'\u001b[0m\u001b[0;34m,\u001b[0m \u001b[0mcomment\u001b[0m\u001b[0;34m=\u001b[0m\u001b[0;34m'#'\u001b[0m\u001b[0;34m)\u001b[0m\u001b[0;34m\u001b[0m\u001b[0;34m\u001b[0m\u001b[0m\n\u001b[0m\u001b[1;32m      2\u001b[0m \u001b[0mcomments_unlabeled\u001b[0m \u001b[0;34m=\u001b[0m \u001b[0mpd\u001b[0m\u001b[0;34m.\u001b[0m\u001b[0mread_csv\u001b[0m\u001b[0;34m(\u001b[0m\u001b[0;34m'/content/drive/MyDrive/aiijc_transport_simpleteam/data/base_files/unlabled_train_comments.csv'\u001b[0m\u001b[0;34m,\u001b[0m \u001b[0mindex_col\u001b[0m\u001b[0;34m=\u001b[0m\u001b[0;36m0\u001b[0m\u001b[0;34m,\u001b[0m \u001b[0msep\u001b[0m\u001b[0;34m=\u001b[0m\u001b[0;34m'\\t'\u001b[0m\u001b[0;34m,\u001b[0m \u001b[0mcomment\u001b[0m\u001b[0;34m=\u001b[0m\u001b[0;34m'#'\u001b[0m\u001b[0;34m)\u001b[0m\u001b[0;34m\u001b[0m\u001b[0;34m\u001b[0m\u001b[0m\n\u001b[1;32m      3\u001b[0m \u001b[0mtracks_unlabeled\u001b[0m \u001b[0;34m=\u001b[0m \u001b[0mpd\u001b[0m\u001b[0;34m.\u001b[0m\u001b[0mread_csv\u001b[0m\u001b[0;34m(\u001b[0m\u001b[0;34m'/content/drive/MyDrive/aiijc_transport_simpleteam/data/base_files/unlabled_train_tracks.csv'\u001b[0m\u001b[0;34m,\u001b[0m \u001b[0mindex_col\u001b[0m\u001b[0;34m=\u001b[0m\u001b[0;36m0\u001b[0m\u001b[0;34m,\u001b[0m \u001b[0msep\u001b[0m\u001b[0;34m=\u001b[0m\u001b[0;34m'\\t'\u001b[0m\u001b[0;34m,\u001b[0m \u001b[0mcomment\u001b[0m\u001b[0;34m=\u001b[0m\u001b[0;34m'#'\u001b[0m\u001b[0;34m)\u001b[0m\u001b[0;34m\u001b[0m\u001b[0;34m\u001b[0m\u001b[0m\n\u001b[1;32m      4\u001b[0m \u001b[0;34m\u001b[0m\u001b[0m\n\u001b[1;32m      5\u001b[0m \u001b[0mX_unlab\u001b[0m\u001b[0;34m[\u001b[0m\u001b[0;34m'client_rate_ride'\u001b[0m\u001b[0;34m]\u001b[0m \u001b[0;34m=\u001b[0m \u001b[0mX_unlab\u001b[0m\u001b[0;34m[\u001b[0m\u001b[0;34m'client_rate_ride'\u001b[0m\u001b[0;34m]\u001b[0m\u001b[0;34m.\u001b[0m\u001b[0mfillna\u001b[0m\u001b[0;34m(\u001b[0m\u001b[0mX_unlab\u001b[0m\u001b[0;34m[\u001b[0m\u001b[0;34m'client_rate_ride'\u001b[0m\u001b[0;34m]\u001b[0m\u001b[0;34m.\u001b[0m\u001b[0mmean\u001b[0m\u001b[0;34m(\u001b[0m\u001b[0;34m)\u001b[0m\u001b[0;34m)\u001b[0m\u001b[0;34m\u001b[0m\u001b[0;34m\u001b[0m\u001b[0m\n",
            "\u001b[0;32m/opt/anaconda/lib/python3.8/site-packages/pandas/io/parsers.py\u001b[0m in \u001b[0;36mread_csv\u001b[0;34m(filepath_or_buffer, sep, delimiter, header, names, index_col, usecols, squeeze, prefix, mangle_dupe_cols, dtype, engine, converters, true_values, false_values, skipinitialspace, skiprows, skipfooter, nrows, na_values, keep_default_na, na_filter, verbose, skip_blank_lines, parse_dates, infer_datetime_format, keep_date_col, date_parser, dayfirst, cache_dates, iterator, chunksize, compression, thousands, decimal, lineterminator, quotechar, quoting, doublequote, escapechar, comment, encoding, dialect, error_bad_lines, warn_bad_lines, delim_whitespace, low_memory, memory_map, float_precision, storage_options)\u001b[0m\n\u001b[1;32m    608\u001b[0m     \u001b[0mkwds\u001b[0m\u001b[0;34m.\u001b[0m\u001b[0mupdate\u001b[0m\u001b[0;34m(\u001b[0m\u001b[0mkwds_defaults\u001b[0m\u001b[0;34m)\u001b[0m\u001b[0;34m\u001b[0m\u001b[0;34m\u001b[0m\u001b[0m\n\u001b[1;32m    609\u001b[0m \u001b[0;34m\u001b[0m\u001b[0m\n\u001b[0;32m--> 610\u001b[0;31m     \u001b[0;32mreturn\u001b[0m \u001b[0m_read\u001b[0m\u001b[0;34m(\u001b[0m\u001b[0mfilepath_or_buffer\u001b[0m\u001b[0;34m,\u001b[0m \u001b[0mkwds\u001b[0m\u001b[0;34m)\u001b[0m\u001b[0;34m\u001b[0m\u001b[0;34m\u001b[0m\u001b[0m\n\u001b[0m\u001b[1;32m    611\u001b[0m \u001b[0;34m\u001b[0m\u001b[0m\n\u001b[1;32m    612\u001b[0m \u001b[0;34m\u001b[0m\u001b[0m\n",
            "\u001b[0;32m/opt/anaconda/lib/python3.8/site-packages/pandas/io/parsers.py\u001b[0m in \u001b[0;36m_read\u001b[0;34m(filepath_or_buffer, kwds)\u001b[0m\n\u001b[1;32m    460\u001b[0m \u001b[0;34m\u001b[0m\u001b[0m\n\u001b[1;32m    461\u001b[0m     \u001b[0;31m# Create the parser.\u001b[0m\u001b[0;34m\u001b[0m\u001b[0;34m\u001b[0m\u001b[0;34m\u001b[0m\u001b[0m\n\u001b[0;32m--> 462\u001b[0;31m     \u001b[0mparser\u001b[0m \u001b[0;34m=\u001b[0m \u001b[0mTextFileReader\u001b[0m\u001b[0;34m(\u001b[0m\u001b[0mfilepath_or_buffer\u001b[0m\u001b[0;34m,\u001b[0m \u001b[0;34m**\u001b[0m\u001b[0mkwds\u001b[0m\u001b[0;34m)\u001b[0m\u001b[0;34m\u001b[0m\u001b[0;34m\u001b[0m\u001b[0m\n\u001b[0m\u001b[1;32m    463\u001b[0m \u001b[0;34m\u001b[0m\u001b[0m\n\u001b[1;32m    464\u001b[0m     \u001b[0;32mif\u001b[0m \u001b[0mchunksize\u001b[0m \u001b[0;32mor\u001b[0m \u001b[0miterator\u001b[0m\u001b[0;34m:\u001b[0m\u001b[0;34m\u001b[0m\u001b[0;34m\u001b[0m\u001b[0m\n",
            "\u001b[0;32m/opt/anaconda/lib/python3.8/site-packages/pandas/io/parsers.py\u001b[0m in \u001b[0;36m__init__\u001b[0;34m(self, f, engine, **kwds)\u001b[0m\n\u001b[1;32m    817\u001b[0m             \u001b[0mself\u001b[0m\u001b[0;34m.\u001b[0m\u001b[0moptions\u001b[0m\u001b[0;34m[\u001b[0m\u001b[0;34m\"has_index_names\"\u001b[0m\u001b[0;34m]\u001b[0m \u001b[0;34m=\u001b[0m \u001b[0mkwds\u001b[0m\u001b[0;34m[\u001b[0m\u001b[0;34m\"has_index_names\"\u001b[0m\u001b[0;34m]\u001b[0m\u001b[0;34m\u001b[0m\u001b[0;34m\u001b[0m\u001b[0m\n\u001b[1;32m    818\u001b[0m \u001b[0;34m\u001b[0m\u001b[0m\n\u001b[0;32m--> 819\u001b[0;31m         \u001b[0mself\u001b[0m\u001b[0;34m.\u001b[0m\u001b[0m_engine\u001b[0m \u001b[0;34m=\u001b[0m \u001b[0mself\u001b[0m\u001b[0;34m.\u001b[0m\u001b[0m_make_engine\u001b[0m\u001b[0;34m(\u001b[0m\u001b[0mself\u001b[0m\u001b[0;34m.\u001b[0m\u001b[0mengine\u001b[0m\u001b[0;34m)\u001b[0m\u001b[0;34m\u001b[0m\u001b[0;34m\u001b[0m\u001b[0m\n\u001b[0m\u001b[1;32m    820\u001b[0m \u001b[0;34m\u001b[0m\u001b[0m\n\u001b[1;32m    821\u001b[0m     \u001b[0;32mdef\u001b[0m \u001b[0mclose\u001b[0m\u001b[0;34m(\u001b[0m\u001b[0mself\u001b[0m\u001b[0;34m)\u001b[0m\u001b[0;34m:\u001b[0m\u001b[0;34m\u001b[0m\u001b[0;34m\u001b[0m\u001b[0m\n",
            "\u001b[0;32m/opt/anaconda/lib/python3.8/site-packages/pandas/io/parsers.py\u001b[0m in \u001b[0;36m_make_engine\u001b[0;34m(self, engine)\u001b[0m\n\u001b[1;32m   1048\u001b[0m             )\n\u001b[1;32m   1049\u001b[0m         \u001b[0;31m# error: Too many arguments for \"ParserBase\"\u001b[0m\u001b[0;34m\u001b[0m\u001b[0;34m\u001b[0m\u001b[0;34m\u001b[0m\u001b[0m\n\u001b[0;32m-> 1050\u001b[0;31m         \u001b[0;32mreturn\u001b[0m \u001b[0mmapping\u001b[0m\u001b[0;34m[\u001b[0m\u001b[0mengine\u001b[0m\u001b[0;34m]\u001b[0m\u001b[0;34m(\u001b[0m\u001b[0mself\u001b[0m\u001b[0;34m.\u001b[0m\u001b[0mf\u001b[0m\u001b[0;34m,\u001b[0m \u001b[0;34m**\u001b[0m\u001b[0mself\u001b[0m\u001b[0;34m.\u001b[0m\u001b[0moptions\u001b[0m\u001b[0;34m)\u001b[0m  \u001b[0;31m# type: ignore[call-arg]\u001b[0m\u001b[0;34m\u001b[0m\u001b[0;34m\u001b[0m\u001b[0m\n\u001b[0m\u001b[1;32m   1051\u001b[0m \u001b[0;34m\u001b[0m\u001b[0m\n\u001b[1;32m   1052\u001b[0m     \u001b[0;32mdef\u001b[0m \u001b[0m_failover_to_python\u001b[0m\u001b[0;34m(\u001b[0m\u001b[0mself\u001b[0m\u001b[0;34m)\u001b[0m\u001b[0;34m:\u001b[0m\u001b[0;34m\u001b[0m\u001b[0;34m\u001b[0m\u001b[0m\n",
            "\u001b[0;32m/opt/anaconda/lib/python3.8/site-packages/pandas/io/parsers.py\u001b[0m in \u001b[0;36m__init__\u001b[0;34m(self, src, **kwds)\u001b[0m\n\u001b[1;32m   1865\u001b[0m \u001b[0;34m\u001b[0m\u001b[0m\n\u001b[1;32m   1866\u001b[0m         \u001b[0;31m# open handles\u001b[0m\u001b[0;34m\u001b[0m\u001b[0;34m\u001b[0m\u001b[0;34m\u001b[0m\u001b[0m\n\u001b[0;32m-> 1867\u001b[0;31m         \u001b[0mself\u001b[0m\u001b[0;34m.\u001b[0m\u001b[0m_open_handles\u001b[0m\u001b[0;34m(\u001b[0m\u001b[0msrc\u001b[0m\u001b[0;34m,\u001b[0m \u001b[0mkwds\u001b[0m\u001b[0;34m)\u001b[0m\u001b[0;34m\u001b[0m\u001b[0;34m\u001b[0m\u001b[0m\n\u001b[0m\u001b[1;32m   1868\u001b[0m         \u001b[0;32massert\u001b[0m \u001b[0mself\u001b[0m\u001b[0;34m.\u001b[0m\u001b[0mhandles\u001b[0m \u001b[0;32mis\u001b[0m \u001b[0;32mnot\u001b[0m \u001b[0;32mNone\u001b[0m\u001b[0;34m\u001b[0m\u001b[0;34m\u001b[0m\u001b[0m\n\u001b[1;32m   1869\u001b[0m         \u001b[0;32mfor\u001b[0m \u001b[0mkey\u001b[0m \u001b[0;32min\u001b[0m \u001b[0;34m(\u001b[0m\u001b[0;34m\"storage_options\"\u001b[0m\u001b[0;34m,\u001b[0m \u001b[0;34m\"encoding\"\u001b[0m\u001b[0;34m,\u001b[0m \u001b[0;34m\"memory_map\"\u001b[0m\u001b[0;34m,\u001b[0m \u001b[0;34m\"compression\"\u001b[0m\u001b[0;34m)\u001b[0m\u001b[0;34m:\u001b[0m\u001b[0;34m\u001b[0m\u001b[0;34m\u001b[0m\u001b[0m\n",
            "\u001b[0;32m/opt/anaconda/lib/python3.8/site-packages/pandas/io/parsers.py\u001b[0m in \u001b[0;36m_open_handles\u001b[0;34m(self, src, kwds)\u001b[0m\n\u001b[1;32m   1360\u001b[0m         \u001b[0mLet\u001b[0m \u001b[0mthe\u001b[0m \u001b[0mreaders\u001b[0m \u001b[0mopen\u001b[0m \u001b[0mIOHanldes\u001b[0m \u001b[0mafter\u001b[0m \u001b[0mthey\u001b[0m \u001b[0mare\u001b[0m \u001b[0mdone\u001b[0m \u001b[0;32mwith\u001b[0m \u001b[0mtheir\u001b[0m \u001b[0mpotential\u001b[0m \u001b[0mraises\u001b[0m\u001b[0;34m.\u001b[0m\u001b[0;34m\u001b[0m\u001b[0;34m\u001b[0m\u001b[0m\n\u001b[1;32m   1361\u001b[0m         \"\"\"\n\u001b[0;32m-> 1362\u001b[0;31m         self.handles = get_handle(\n\u001b[0m\u001b[1;32m   1363\u001b[0m             \u001b[0msrc\u001b[0m\u001b[0;34m,\u001b[0m\u001b[0;34m\u001b[0m\u001b[0;34m\u001b[0m\u001b[0m\n\u001b[1;32m   1364\u001b[0m             \u001b[0;34m\"r\"\u001b[0m\u001b[0;34m,\u001b[0m\u001b[0;34m\u001b[0m\u001b[0;34m\u001b[0m\u001b[0m\n",
            "\u001b[0;32m/opt/anaconda/lib/python3.8/site-packages/pandas/io/common.py\u001b[0m in \u001b[0;36mget_handle\u001b[0;34m(path_or_buf, mode, encoding, compression, memory_map, is_text, errors, storage_options)\u001b[0m\n\u001b[1;32m    640\u001b[0m                 \u001b[0merrors\u001b[0m \u001b[0;34m=\u001b[0m \u001b[0;34m\"replace\"\u001b[0m\u001b[0;34m\u001b[0m\u001b[0;34m\u001b[0m\u001b[0m\n\u001b[1;32m    641\u001b[0m             \u001b[0;31m# Encoding\u001b[0m\u001b[0;34m\u001b[0m\u001b[0;34m\u001b[0m\u001b[0;34m\u001b[0m\u001b[0m\n\u001b[0;32m--> 642\u001b[0;31m             handle = open(\n\u001b[0m\u001b[1;32m    643\u001b[0m                 \u001b[0mhandle\u001b[0m\u001b[0;34m,\u001b[0m\u001b[0;34m\u001b[0m\u001b[0;34m\u001b[0m\u001b[0m\n\u001b[1;32m    644\u001b[0m                 \u001b[0mioargs\u001b[0m\u001b[0;34m.\u001b[0m\u001b[0mmode\u001b[0m\u001b[0;34m,\u001b[0m\u001b[0;34m\u001b[0m\u001b[0;34m\u001b[0m\u001b[0m\n",
            "\u001b[0;31mFileNotFoundError\u001b[0m: [Errno 2] No such file or directory: '/content/drive/MyDrive/aiijc_transport_simpleteam/data/base_files/unlabled_train_data.csv'"
          ]
        }
      ],
      "metadata": {
        "id": "faMhkd_2x5JI"
      }
    },
    {
      "cell_type": "code",
      "execution_count": null,
      "source": [
        "sum(X_unlab.comment.isna()) / len(X_unlab.comment)"
      ],
      "outputs": [
        {
          "output_type": "execute_result",
          "data": {
            "text/plain": [
              "0.64866629360194"
            ]
          },
          "metadata": {
            "tags": []
          },
          "execution_count": 31
        }
      ],
      "metadata": {
        "colab": {
          "base_uri": "https://localhost:8080/"
        },
        "id": "murUE39Rx5JJ",
        "outputId": "70f08b78-8dac-4307-c4ad-8ed28793190d"
      }
    },
    {
      "cell_type": "code",
      "execution_count": null,
      "source": [
        "np.where(X_unlab.comment.isna())[0]"
      ],
      "outputs": [
        {
          "output_type": "execute_result",
          "data": {
            "text/plain": [
              "array([ 2762,  3239,  3574, ..., 10719, 10720, 10721])"
            ]
          },
          "metadata": {
            "tags": []
          },
          "execution_count": 32
        }
      ],
      "metadata": {
        "colab": {
          "base_uri": "https://localhost:8080/"
        },
        "id": "P9_4PR_xx5JJ",
        "outputId": "b239c8f3-424b-4815-cf7f-f770685f6afa"
      }
    },
    {
      "cell_type": "code",
      "execution_count": null,
      "source": [
        "for nanIndex in np.where(X_unlab.comment.isna())[0]:\n",
        "    obj_comment = comments_unlabeled.loc[nanIndex]\n",
        "    \n",
        "    if (len(obj_comment) != 0):\n",
        "        X_unlab.comment.iloc[nanIndex] = obj_comment.comment"
      ],
      "outputs": [],
      "metadata": {
        "scrolled": true,
        "id": "LTfgggjLx5JJ"
      }
    },
    {
      "cell_type": "code",
      "execution_count": null,
      "source": [
        "sum(X_unlab.comment.isna()) / len(X_unlab.comment)"
      ],
      "outputs": [
        {
          "output_type": "execute_result",
          "data": {
            "text/plain": [
              "0.00018653236336504383"
            ]
          },
          "metadata": {
            "tags": []
          },
          "execution_count": 34
        }
      ],
      "metadata": {
        "colab": {
          "base_uri": "https://localhost:8080/"
        },
        "id": "hUvW5EXYx5JJ",
        "outputId": "6ce4fadd-d067-4cae-e1f9-25132348ea51"
      }
    },
    {
      "cell_type": "code",
      "execution_count": null,
      "source": [
        "X_unlab.comment.iloc[np.where(X_unlab.comment.isna())[0]] = \"---\""
      ],
      "outputs": [],
      "metadata": {
        "id": "2UH_STafx5JK"
      }
    },
    {
      "cell_type": "markdown",
      "source": [
        "## Prediction&filling"
      ],
      "metadata": {
        "id": "UqEQmfo0x5JK"
      }
    },
    {
      "cell_type": "code",
      "execution_count": null,
      "source": [
        "y_unlab = model_supervised.predict_thresh(X_unlab, 0.99, 0.001)"
      ],
      "outputs": [
        {
          "output_type": "stream",
          "name": "stdout",
          "text": [
            "Thresh above: 0.003357582540570789\n",
            "Thresh below: 0.0\n"
          ]
        }
      ],
      "metadata": {
        "colab": {
          "base_uri": "https://localhost:8080/"
        },
        "id": "TSEcB99Ex5JK",
        "outputId": "0b278408-1f90-4617-bf0d-b25381fc25ac"
      }
    },
    {
      "cell_type": "code",
      "execution_count": null,
      "source": [
        "y_unlab.name = \"is_aggressive\""
      ],
      "outputs": [],
      "metadata": {
        "id": "I_hR7Co0x5JK"
      }
    },
    {
      "cell_type": "code",
      "execution_count": null,
      "source": [
        "y_unlab.value_counts()"
      ],
      "outputs": [
        {
          "output_type": "execute_result",
          "data": {
            "text/plain": [
              "-1    10686\n",
              " 1       36\n",
              "Name: is_aggressive, dtype: int64"
            ]
          },
          "metadata": {
            "tags": []
          },
          "execution_count": 38
        }
      ],
      "metadata": {
        "scrolled": true,
        "colab": {
          "base_uri": "https://localhost:8080/"
        },
        "id": "_qKiVFbKx5JK",
        "outputId": "943ed4b0-8e91-40ed-955f-c82bb176e075"
      }
    },
    {
      "cell_type": "code",
      "execution_count": null,
      "source": [
        "X_unlab_lab = X_unlab.iloc[np.where(y_unlab != -1)]\n",
        "y_unlab_lab = y_unlab.iloc[np.where(y_unlab != -1)]"
      ],
      "outputs": [],
      "metadata": {
        "id": "VcTdG9nWx5JL"
      }
    },
    {
      "cell_type": "code",
      "execution_count": null,
      "source": [
        "X_unlab_lab.comment"
      ],
      "outputs": [
        {
          "output_type": "execute_result",
          "data": {
            "text/plain": [
              "7        1)Водитель играл в «шашки» на дороге и игрался...\n",
              "202              2 раза списали деньги, верните пожалуйста\n",
              "351      засыпал за рулём,  съезжал с дороги, приходило...\n",
              "551               резкие повороты. водитель резко тормозил\n",
              "568      Водитель смотрит кино на втором телефоне, проп...\n",
              "705      Вел медленно по бордовым дорогам, сказал «пешк...\n",
              "1317     Водитель резко тормозил, обгонял, кричал на др...\n",
              "1378                             Водитель вел себя грубо. \n",
              "1634     Водитель постоянно громко разговаривал на своё...\n",
              "1667     Водитель в возрасте, несколько раз отвечал на ...\n",
              "1707     Водитель 2 раза поругался с другими таксистами...\n",
              "1975     Водитель опасно вел автомобиль. Было ощущение ...\n",
              "2221     Водитель явно засыпал за рулём, постоянно зева...\n",
              "2261      Приехала другая машина вместо указанной в заказе\n",
              "2302                       Водитель неадекватно себя вёл, \n",
              "2346     Проехал на красный свет дважды на перекрестках...\n",
              "2472                      водит опасно и очень неаккуратно\n",
              "2890                           Резкие повороты на скорости\n",
              "2926     Водитель ехал по выделенной полосе со скорость...\n",
              "3113     Водитель был не пристегнут, вульгарно общался ...\n",
              "3605     Опасное вождение, даже укачало. Отличался номе...\n",
              "3640     водительница очень резко тормозит каждый раз, ...\n",
              "3845     приехал не туда,пришлось идти ,прокурен салон ...\n",
              "3902     Водитель не нажал кнопку \"начать поездку\" и с ...\n",
              "4369     Не понимает когда человек говорить не хочет, г...\n",
              "4553     Не доехали до конечной точки. То ли ошибка при...\n",
              "4658     Грязно в машине ,сидения в пятнах ,резко тормо...\n",
              "5819     я первый раз в жизни ездила с таким водителем,...\n",
              "7431     Заехал на заправку не предупредив, хотя мы опа...\n",
              "8506     не смогла перевести деньги. водитель позвоните...\n",
              "8660              Водитель создал аварийную ситуацию !!!! \n",
              "8837                    почему от меня личный деньги снял,\n",
              "9021     Водитель постоянно открывал дверь и харкал; ма...\n",
              "9862     ужасно медленный водитель, ехал 40-50 км в час...\n",
              "10369    водитель хамит, постоянно переписывается в мес...\n",
              "10711    высадил меня прямо посреди большой лужи со сне...\n",
              "Name: comment, dtype: object"
            ]
          },
          "metadata": {
            "tags": []
          },
          "execution_count": 40
        }
      ],
      "metadata": {
        "scrolled": true,
        "colab": {
          "base_uri": "https://localhost:8080/"
        },
        "id": "mz7y4knWx5JL",
        "outputId": "368b8e8c-6e05-4de5-bbc3-f7c8fc6ead77"
      }
    },
    {
      "cell_type": "code",
      "execution_count": null,
      "source": [
        "X_unlab_lab.is_comment.value_counts()"
      ],
      "outputs": [
        {
          "output_type": "execute_result",
          "data": {
            "text/plain": [
              "1    36\n",
              "Name: is_comment, dtype: int64"
            ]
          },
          "metadata": {
            "tags": []
          },
          "execution_count": 41
        }
      ],
      "metadata": {
        "colab": {
          "base_uri": "https://localhost:8080/"
        },
        "id": "2kETFZg8x5JL",
        "outputId": "66154712-a8b9-4a42-e0c3-9c77639423f8"
      }
    },
    {
      "cell_type": "markdown",
      "source": [
        "## Train"
      ],
      "metadata": {
        "id": "oW92gZ9-x5JL"
      }
    },
    {
      "cell_type": "code",
      "execution_count": null,
      "source": [
        "model_semisupervised = Model()\n",
        "\n",
        "model_semisupervised.fit_ss(X_, y_, numeric_features, categorical_features, X_unlab_lab, y_unlab_lab)"
      ],
      "outputs": [
        {
          "output_type": "stream",
          "name": "stdout",
          "text": [
            "Train size: (7229, 14)\n",
            "Test size: (1798, 14)\n"
          ]
        },
        {
          "output_type": "execute_result",
          "data": {
            "text/plain": [
              "0.8488724212067151"
            ]
          },
          "metadata": {
            "tags": []
          },
          "execution_count": 42
        }
      ],
      "metadata": {
        "scrolled": false,
        "colab": {
          "base_uri": "https://localhost:8080/"
        },
        "id": "HKxX4spJx5JM",
        "outputId": "34cde40f-1bff-4222-de55-67c2e9ef09e5"
      }
    },
    {
      "cell_type": "code",
      "execution_count": null,
      "source": [
        "model_ss_cv = Model()\n",
        "\n",
        "model_ss_cv.fit_ss(X_, y_, numeric_features, categorical_features, X_unlab_lab, y_unlab_lab, cross_validation=True)"
      ],
      "outputs": [
        {
          "output_type": "stream",
          "name": "stdout",
          "text": [
            "Part size: 1800.0\n",
            "Train size: (7224, 14)\n",
            "Test size: (1791, 14)\n",
            "Chunk 0; Score: 0.7396306537625914\n",
            "Train size: (7228, 14)\n",
            "Test size: (1797, 14)\n",
            "Chunk 1; Score: 0.742049078955933\n",
            "Train size: (7224, 14)\n",
            "Test size: (1794, 14)\n",
            "Chunk 2; Score: 0.7889097744360902\n",
            "Train size: (7225, 14)\n",
            "Test size: (1790, 14)\n",
            "Chunk 3; Score: 0.7370420937809273\n",
            "Train size: (7226, 14)\n",
            "Test size: (1792, 14)\n",
            "Chunk 4; Score: 0.85435199720914\n",
            "Mean score: 0.7723967196289363\n"
          ]
        },
        {
          "output_type": "execute_result",
          "data": {
            "text/plain": [
              "[((0.0, 1800.0), 0.7396306537625914),\n",
              " ((1800.0, 3600.0), 0.742049078955933),\n",
              " ((3600.0, 5400.0), 0.7889097744360902),\n",
              " ((5400.0, 7200.0), 0.7370420937809273),\n",
              " ((7200.0, 9000.0), 0.85435199720914)]"
            ]
          },
          "metadata": {
            "tags": []
          },
          "execution_count": 43
        }
      ],
      "metadata": {
        "colab": {
          "base_uri": "https://localhost:8080/"
        },
        "id": "3QuIHA4Ux5JM",
        "outputId": "ef68e8cb-f1a5-4175-bf3f-e0a62b4c5d6e"
      }
    },
    {
      "cell_type": "markdown",
      "source": [
        "# Prediction"
      ],
      "metadata": {
        "id": "7riHsyVAzwLC"
      }
    },
    {
      "cell_type": "code",
      "execution_count": null,
      "source": [
        "X_test = pd.read_csv('/content/drive/MyDrive/aiijc_transport_simpleteam/data/base_files/labled_test_data.csv', index_col=0, sep='\\t', comment='#')\n",
        "tracks_test = pd.read_csv('/content/drive/MyDrive/aiijc_transport_simpleteam/data/base_files/labled_test_tracks.csv', index_col=0, sep='\\t', comment='#')"
      ],
      "outputs": [],
      "metadata": {
        "id": "RsJBImFvzvoy"
      }
    },
    {
      "cell_type": "code",
      "execution_count": null,
      "source": [
        "tracks_test.groupby('order_id').size()"
      ],
      "outputs": [
        {
          "output_type": "execute_result",
          "data": {
            "text/plain": [
              "order_id\n",
              "000d9cf4365ad8be9b559951d0d945c7     12\n",
              "00287e34dd884a2a69c80346541d2aef     64\n",
              "00307c7812842b1159781c2c6375944a     41\n",
              "0061e7abbe5544c40781ba2816b3e026     61\n",
              "0074b0c828084e05c28035487ad2a130     82\n",
              "                                   ... \n",
              "ff209045501b1f25e8729a96a215a3d2     97\n",
              "ff4c5997ed87ff37a3c215bab2c0916e     49\n",
              "ff6873cfaccafec937bbed29e317d3e2     91\n",
              "ff9745e14cda84a4550b528a8d9aa4de    103\n",
              "ffd2c55165c42430793423c93211bd46     53\n",
              "Length: 1272, dtype: int64"
            ]
          },
          "metadata": {
            "tags": []
          },
          "execution_count": 411
        }
      ],
      "metadata": {
        "colab": {
          "base_uri": "https://localhost:8080/"
        },
        "id": "JvU1xokzB_th",
        "outputId": "9547275e-40b1-47f6-b0e1-d35ea8318266"
      }
    },
    {
      "cell_type": "code",
      "execution_count": null,
      "source": [
        "result_series = pd.Series(model_supervised.predict(X_test, add_feat=True, tracks=tracks_test))"
      ],
      "outputs": [
        {
          "output_type": "stream",
          "name": "stdout",
          "text": [
            "Preprocessing tracks data...\n",
            "    Begin shape: (71432, 5)\n"
          ]
        },
        {
          "output_type": "stream",
          "name": "stderr",
          "text": [
            "100%|██████████| 1272/1272 [00:09<00:00, 133.88it/s]\n"
          ]
        },
        {
          "output_type": "stream",
          "name": "stdout",
          "text": [
            "    Shape after preprocessing: (1966, 1)\n",
            "Training MiniRocket...\n",
            "MiniRocket transforming...\n",
            "    Shape before transform: (1966, 1)\n"
          ]
        }
      ],
      "metadata": {
        "id": "876gjCvrCBQw",
        "colab": {
          "base_uri": "https://localhost:8080/"
        },
        "outputId": "b9b03573-e227-4dc9-adee-77c198074629"
      }
    },
    {
      "cell_type": "code",
      "execution_count": null,
      "source": [
        "result_series.sum()"
      ],
      "outputs": [
        {
          "output_type": "execute_result",
          "data": {
            "text/plain": [
              "40"
            ]
          },
          "metadata": {
            "tags": []
          },
          "execution_count": 415
        }
      ],
      "metadata": {
        "colab": {
          "base_uri": "https://localhost:8080/"
        },
        "id": "L8b3DVpabnZS",
        "outputId": "c1e09beb-4120-4943-c435-9b3517c3e965"
      }
    },
    {
      "cell_type": "code",
      "execution_count": null,
      "source": [
        "result_series = pd.Series(model_supervised.predict(X_test))\n",
        "# result_series = pd.Series(model_semisupervised.predict(X_test))\n",
        "# result_series = pd.Series(np.zeros(X_test.shape[0]))"
      ],
      "outputs": [],
      "metadata": {
        "id": "0aS614MU2hD5"
      }
    },
    {
      "cell_type": "code",
      "execution_count": null,
      "source": [
        "result_series.shape[0], tracks_result.shape[0]"
      ],
      "outputs": [
        {
          "output_type": "execute_result",
          "data": {
            "text/plain": [
              "(1272, 1966)"
            ]
          },
          "metadata": {
            "tags": []
          },
          "execution_count": 367
        }
      ],
      "metadata": {
        "colab": {
          "base_uri": "https://localhost:8080/"
        },
        "id": "GPxCWjMYEezH",
        "outputId": "eb1d1a46-eede-4ac8-b5b1-febe94ad404a"
      }
    },
    {
      "cell_type": "code",
      "execution_count": null,
      "source": [
        "abs(tracks_result - result_series)"
      ],
      "outputs": [
        {
          "output_type": "error",
          "ename": "ValueError",
          "evalue": "ignored",
          "traceback": [
            "\u001b[0;31m---------------------------------------------------------------------------\u001b[0m",
            "\u001b[0;31mValueError\u001b[0m                                Traceback (most recent call last)",
            "\u001b[0;32m<ipython-input-348-69677e227d0c>\u001b[0m in \u001b[0;36m<module>\u001b[0;34m()\u001b[0m\n\u001b[0;32m----> 1\u001b[0;31m \u001b[0mabs\u001b[0m\u001b[0;34m(\u001b[0m\u001b[0mtracks_result\u001b[0m \u001b[0;34m-\u001b[0m \u001b[0mresult_series\u001b[0m\u001b[0;34m)\u001b[0m\u001b[0;34m\u001b[0m\u001b[0;34m\u001b[0m\u001b[0m\n\u001b[0m",
            "\u001b[0;32m/usr/local/lib/python3.7/dist-packages/pandas/core/series.py\u001b[0m in \u001b[0;36m__array_ufunc__\u001b[0;34m(self, ufunc, method, *inputs, **kwargs)\u001b[0m\n\u001b[1;32m    681\u001b[0m         \u001b[0;31m# for binary ops, use our custom dunder methods\u001b[0m\u001b[0;34m\u001b[0m\u001b[0;34m\u001b[0m\u001b[0;34m\u001b[0m\u001b[0m\n\u001b[1;32m    682\u001b[0m         result = ops.maybe_dispatch_ufunc_to_dunder_op(\n\u001b[0;32m--> 683\u001b[0;31m             \u001b[0mself\u001b[0m\u001b[0;34m,\u001b[0m \u001b[0mufunc\u001b[0m\u001b[0;34m,\u001b[0m \u001b[0mmethod\u001b[0m\u001b[0;34m,\u001b[0m \u001b[0;34m*\u001b[0m\u001b[0minputs\u001b[0m\u001b[0;34m,\u001b[0m \u001b[0;34m**\u001b[0m\u001b[0mkwargs\u001b[0m\u001b[0;34m\u001b[0m\u001b[0;34m\u001b[0m\u001b[0m\n\u001b[0m\u001b[1;32m    684\u001b[0m         )\n\u001b[1;32m    685\u001b[0m         \u001b[0;32mif\u001b[0m \u001b[0mresult\u001b[0m \u001b[0;32mis\u001b[0m \u001b[0;32mnot\u001b[0m \u001b[0mNotImplemented\u001b[0m\u001b[0;34m:\u001b[0m\u001b[0;34m\u001b[0m\u001b[0;34m\u001b[0m\u001b[0m\n",
            "\u001b[0;32mpandas/_libs/ops_dispatch.pyx\u001b[0m in \u001b[0;36mpandas._libs.ops_dispatch.maybe_dispatch_ufunc_to_dunder_op\u001b[0;34m()\u001b[0m\n",
            "\u001b[0;32m/usr/local/lib/python3.7/dist-packages/pandas/core/ops/common.py\u001b[0m in \u001b[0;36mnew_method\u001b[0;34m(self, other)\u001b[0m\n\u001b[1;32m     63\u001b[0m         \u001b[0mother\u001b[0m \u001b[0;34m=\u001b[0m \u001b[0mitem_from_zerodim\u001b[0m\u001b[0;34m(\u001b[0m\u001b[0mother\u001b[0m\u001b[0;34m)\u001b[0m\u001b[0;34m\u001b[0m\u001b[0;34m\u001b[0m\u001b[0m\n\u001b[1;32m     64\u001b[0m \u001b[0;34m\u001b[0m\u001b[0m\n\u001b[0;32m---> 65\u001b[0;31m         \u001b[0;32mreturn\u001b[0m \u001b[0mmethod\u001b[0m\u001b[0;34m(\u001b[0m\u001b[0mself\u001b[0m\u001b[0;34m,\u001b[0m \u001b[0mother\u001b[0m\u001b[0;34m)\u001b[0m\u001b[0;34m\u001b[0m\u001b[0;34m\u001b[0m\u001b[0m\n\u001b[0m\u001b[1;32m     66\u001b[0m \u001b[0;34m\u001b[0m\u001b[0m\n\u001b[1;32m     67\u001b[0m     \u001b[0;32mreturn\u001b[0m \u001b[0mnew_method\u001b[0m\u001b[0;34m\u001b[0m\u001b[0;34m\u001b[0m\u001b[0m\n",
            "\u001b[0;32m/usr/local/lib/python3.7/dist-packages/pandas/core/ops/__init__.py\u001b[0m in \u001b[0;36mwrapper\u001b[0;34m(left, right)\u001b[0m\n\u001b[1;32m    341\u001b[0m         \u001b[0mlvalues\u001b[0m \u001b[0;34m=\u001b[0m \u001b[0mextract_array\u001b[0m\u001b[0;34m(\u001b[0m\u001b[0mleft\u001b[0m\u001b[0;34m,\u001b[0m \u001b[0mextract_numpy\u001b[0m\u001b[0;34m=\u001b[0m\u001b[0;32mTrue\u001b[0m\u001b[0;34m)\u001b[0m\u001b[0;34m\u001b[0m\u001b[0;34m\u001b[0m\u001b[0m\n\u001b[1;32m    342\u001b[0m         \u001b[0mrvalues\u001b[0m \u001b[0;34m=\u001b[0m \u001b[0mextract_array\u001b[0m\u001b[0;34m(\u001b[0m\u001b[0mright\u001b[0m\u001b[0;34m,\u001b[0m \u001b[0mextract_numpy\u001b[0m\u001b[0;34m=\u001b[0m\u001b[0;32mTrue\u001b[0m\u001b[0;34m)\u001b[0m\u001b[0;34m\u001b[0m\u001b[0;34m\u001b[0m\u001b[0m\n\u001b[0;32m--> 343\u001b[0;31m         \u001b[0mresult\u001b[0m \u001b[0;34m=\u001b[0m \u001b[0marithmetic_op\u001b[0m\u001b[0;34m(\u001b[0m\u001b[0mlvalues\u001b[0m\u001b[0;34m,\u001b[0m \u001b[0mrvalues\u001b[0m\u001b[0;34m,\u001b[0m \u001b[0mop\u001b[0m\u001b[0;34m)\u001b[0m\u001b[0;34m\u001b[0m\u001b[0;34m\u001b[0m\u001b[0m\n\u001b[0m\u001b[1;32m    344\u001b[0m \u001b[0;34m\u001b[0m\u001b[0m\n\u001b[1;32m    345\u001b[0m         \u001b[0;32mreturn\u001b[0m \u001b[0mleft\u001b[0m\u001b[0;34m.\u001b[0m\u001b[0m_construct_result\u001b[0m\u001b[0;34m(\u001b[0m\u001b[0mresult\u001b[0m\u001b[0;34m,\u001b[0m \u001b[0mname\u001b[0m\u001b[0;34m=\u001b[0m\u001b[0mres_name\u001b[0m\u001b[0;34m)\u001b[0m\u001b[0;34m\u001b[0m\u001b[0;34m\u001b[0m\u001b[0m\n",
            "\u001b[0;32m/usr/local/lib/python3.7/dist-packages/pandas/core/ops/array_ops.py\u001b[0m in \u001b[0;36marithmetic_op\u001b[0;34m(left, right, op)\u001b[0m\n\u001b[1;32m    188\u001b[0m     \u001b[0;32melse\u001b[0m\u001b[0;34m:\u001b[0m\u001b[0;34m\u001b[0m\u001b[0;34m\u001b[0m\u001b[0m\n\u001b[1;32m    189\u001b[0m         \u001b[0;32mwith\u001b[0m \u001b[0mnp\u001b[0m\u001b[0;34m.\u001b[0m\u001b[0merrstate\u001b[0m\u001b[0;34m(\u001b[0m\u001b[0mall\u001b[0m\u001b[0;34m=\u001b[0m\u001b[0;34m\"ignore\"\u001b[0m\u001b[0;34m)\u001b[0m\u001b[0;34m:\u001b[0m\u001b[0;34m\u001b[0m\u001b[0;34m\u001b[0m\u001b[0m\n\u001b[0;32m--> 190\u001b[0;31m             \u001b[0mres_values\u001b[0m \u001b[0;34m=\u001b[0m \u001b[0mna_arithmetic_op\u001b[0m\u001b[0;34m(\u001b[0m\u001b[0mlvalues\u001b[0m\u001b[0;34m,\u001b[0m \u001b[0mrvalues\u001b[0m\u001b[0;34m,\u001b[0m \u001b[0mop\u001b[0m\u001b[0;34m)\u001b[0m\u001b[0;34m\u001b[0m\u001b[0;34m\u001b[0m\u001b[0m\n\u001b[0m\u001b[1;32m    191\u001b[0m \u001b[0;34m\u001b[0m\u001b[0m\n\u001b[1;32m    192\u001b[0m     \u001b[0;32mreturn\u001b[0m \u001b[0mres_values\u001b[0m\u001b[0;34m\u001b[0m\u001b[0;34m\u001b[0m\u001b[0m\n",
            "\u001b[0;32m/usr/local/lib/python3.7/dist-packages/pandas/core/ops/array_ops.py\u001b[0m in \u001b[0;36mna_arithmetic_op\u001b[0;34m(left, right, op, is_cmp)\u001b[0m\n\u001b[1;32m    141\u001b[0m \u001b[0;34m\u001b[0m\u001b[0m\n\u001b[1;32m    142\u001b[0m     \u001b[0;32mtry\u001b[0m\u001b[0;34m:\u001b[0m\u001b[0;34m\u001b[0m\u001b[0;34m\u001b[0m\u001b[0m\n\u001b[0;32m--> 143\u001b[0;31m         \u001b[0mresult\u001b[0m \u001b[0;34m=\u001b[0m \u001b[0mexpressions\u001b[0m\u001b[0;34m.\u001b[0m\u001b[0mevaluate\u001b[0m\u001b[0;34m(\u001b[0m\u001b[0mop\u001b[0m\u001b[0;34m,\u001b[0m \u001b[0mleft\u001b[0m\u001b[0;34m,\u001b[0m \u001b[0mright\u001b[0m\u001b[0;34m)\u001b[0m\u001b[0;34m\u001b[0m\u001b[0;34m\u001b[0m\u001b[0m\n\u001b[0m\u001b[1;32m    144\u001b[0m     \u001b[0;32mexcept\u001b[0m \u001b[0mTypeError\u001b[0m\u001b[0;34m:\u001b[0m\u001b[0;34m\u001b[0m\u001b[0;34m\u001b[0m\u001b[0m\n\u001b[1;32m    145\u001b[0m         \u001b[0;32mif\u001b[0m \u001b[0mis_cmp\u001b[0m\u001b[0;34m:\u001b[0m\u001b[0;34m\u001b[0m\u001b[0;34m\u001b[0m\u001b[0m\n",
            "\u001b[0;32m/usr/local/lib/python3.7/dist-packages/pandas/core/computation/expressions.py\u001b[0m in \u001b[0;36mevaluate\u001b[0;34m(op, a, b, use_numexpr)\u001b[0m\n\u001b[1;32m    231\u001b[0m         \u001b[0muse_numexpr\u001b[0m \u001b[0;34m=\u001b[0m \u001b[0muse_numexpr\u001b[0m \u001b[0;32mand\u001b[0m \u001b[0m_bool_arith_check\u001b[0m\u001b[0;34m(\u001b[0m\u001b[0mop_str\u001b[0m\u001b[0;34m,\u001b[0m \u001b[0ma\u001b[0m\u001b[0;34m,\u001b[0m \u001b[0mb\u001b[0m\u001b[0;34m)\u001b[0m\u001b[0;34m\u001b[0m\u001b[0;34m\u001b[0m\u001b[0m\n\u001b[1;32m    232\u001b[0m         \u001b[0;32mif\u001b[0m \u001b[0muse_numexpr\u001b[0m\u001b[0;34m:\u001b[0m\u001b[0;34m\u001b[0m\u001b[0;34m\u001b[0m\u001b[0m\n\u001b[0;32m--> 233\u001b[0;31m             \u001b[0;32mreturn\u001b[0m \u001b[0m_evaluate\u001b[0m\u001b[0;34m(\u001b[0m\u001b[0mop\u001b[0m\u001b[0;34m,\u001b[0m \u001b[0mop_str\u001b[0m\u001b[0;34m,\u001b[0m \u001b[0ma\u001b[0m\u001b[0;34m,\u001b[0m \u001b[0mb\u001b[0m\u001b[0;34m)\u001b[0m  \u001b[0;31m# type: ignore\u001b[0m\u001b[0;34m\u001b[0m\u001b[0;34m\u001b[0m\u001b[0m\n\u001b[0m\u001b[1;32m    234\u001b[0m     \u001b[0;32mreturn\u001b[0m \u001b[0m_evaluate_standard\u001b[0m\u001b[0;34m(\u001b[0m\u001b[0mop\u001b[0m\u001b[0;34m,\u001b[0m \u001b[0mop_str\u001b[0m\u001b[0;34m,\u001b[0m \u001b[0ma\u001b[0m\u001b[0;34m,\u001b[0m \u001b[0mb\u001b[0m\u001b[0;34m)\u001b[0m\u001b[0;34m\u001b[0m\u001b[0;34m\u001b[0m\u001b[0m\n\u001b[1;32m    235\u001b[0m \u001b[0;34m\u001b[0m\u001b[0m\n",
            "\u001b[0;32m/usr/local/lib/python3.7/dist-packages/pandas/core/computation/expressions.py\u001b[0m in \u001b[0;36m_evaluate_numexpr\u001b[0;34m(op, op_str, a, b)\u001b[0m\n\u001b[1;32m    117\u001b[0m \u001b[0;34m\u001b[0m\u001b[0m\n\u001b[1;32m    118\u001b[0m     \u001b[0;32mif\u001b[0m \u001b[0mresult\u001b[0m \u001b[0;32mis\u001b[0m \u001b[0;32mNone\u001b[0m\u001b[0;34m:\u001b[0m\u001b[0;34m\u001b[0m\u001b[0;34m\u001b[0m\u001b[0m\n\u001b[0;32m--> 119\u001b[0;31m         \u001b[0mresult\u001b[0m \u001b[0;34m=\u001b[0m \u001b[0m_evaluate_standard\u001b[0m\u001b[0;34m(\u001b[0m\u001b[0mop\u001b[0m\u001b[0;34m,\u001b[0m \u001b[0mop_str\u001b[0m\u001b[0;34m,\u001b[0m \u001b[0ma\u001b[0m\u001b[0;34m,\u001b[0m \u001b[0mb\u001b[0m\u001b[0;34m)\u001b[0m\u001b[0;34m\u001b[0m\u001b[0;34m\u001b[0m\u001b[0m\n\u001b[0m\u001b[1;32m    120\u001b[0m \u001b[0;34m\u001b[0m\u001b[0m\n\u001b[1;32m    121\u001b[0m     \u001b[0;32mreturn\u001b[0m \u001b[0mresult\u001b[0m\u001b[0;34m\u001b[0m\u001b[0;34m\u001b[0m\u001b[0m\n",
            "\u001b[0;32m/usr/local/lib/python3.7/dist-packages/pandas/core/computation/expressions.py\u001b[0m in \u001b[0;36m_evaluate_standard\u001b[0;34m(op, op_str, a, b)\u001b[0m\n\u001b[1;32m     66\u001b[0m         \u001b[0m_store_test_result\u001b[0m\u001b[0;34m(\u001b[0m\u001b[0;32mFalse\u001b[0m\u001b[0;34m)\u001b[0m\u001b[0;34m\u001b[0m\u001b[0;34m\u001b[0m\u001b[0m\n\u001b[1;32m     67\u001b[0m     \u001b[0;32mwith\u001b[0m \u001b[0mnp\u001b[0m\u001b[0;34m.\u001b[0m\u001b[0merrstate\u001b[0m\u001b[0;34m(\u001b[0m\u001b[0mall\u001b[0m\u001b[0;34m=\u001b[0m\u001b[0;34m\"ignore\"\u001b[0m\u001b[0;34m)\u001b[0m\u001b[0;34m:\u001b[0m\u001b[0;34m\u001b[0m\u001b[0;34m\u001b[0m\u001b[0m\n\u001b[0;32m---> 68\u001b[0;31m         \u001b[0;32mreturn\u001b[0m \u001b[0mop\u001b[0m\u001b[0;34m(\u001b[0m\u001b[0ma\u001b[0m\u001b[0;34m,\u001b[0m \u001b[0mb\u001b[0m\u001b[0;34m)\u001b[0m\u001b[0;34m\u001b[0m\u001b[0;34m\u001b[0m\u001b[0m\n\u001b[0m\u001b[1;32m     69\u001b[0m \u001b[0;34m\u001b[0m\u001b[0m\n\u001b[1;32m     70\u001b[0m \u001b[0;34m\u001b[0m\u001b[0m\n",
            "\u001b[0;32m/usr/local/lib/python3.7/dist-packages/pandas/core/ops/roperator.py\u001b[0m in \u001b[0;36mrsub\u001b[0;34m(left, right)\u001b[0m\n\u001b[1;32m     11\u001b[0m \u001b[0;34m\u001b[0m\u001b[0m\n\u001b[1;32m     12\u001b[0m \u001b[0;32mdef\u001b[0m \u001b[0mrsub\u001b[0m\u001b[0;34m(\u001b[0m\u001b[0mleft\u001b[0m\u001b[0;34m,\u001b[0m \u001b[0mright\u001b[0m\u001b[0;34m)\u001b[0m\u001b[0;34m:\u001b[0m\u001b[0;34m\u001b[0m\u001b[0;34m\u001b[0m\u001b[0m\n\u001b[0;32m---> 13\u001b[0;31m     \u001b[0;32mreturn\u001b[0m \u001b[0mright\u001b[0m \u001b[0;34m-\u001b[0m \u001b[0mleft\u001b[0m\u001b[0;34m\u001b[0m\u001b[0;34m\u001b[0m\u001b[0m\n\u001b[0m\u001b[1;32m     14\u001b[0m \u001b[0;34m\u001b[0m\u001b[0m\n\u001b[1;32m     15\u001b[0m \u001b[0;34m\u001b[0m\u001b[0m\n",
            "\u001b[0;31mValueError\u001b[0m: operands could not be broadcast together with shapes (1966,) (1272,) "
          ]
        }
      ],
      "metadata": {
        "colab": {
          "base_uri": "https://localhost:8080/",
          "height": 340
        },
        "id": "6IbXwtrfCkB5",
        "outputId": "7bdf6967-e382-4386-dfe3-9671d49f2960"
      }
    },
    {
      "cell_type": "code",
      "execution_count": null,
      "source": [
        "result_series.name = 'is_aggressive'"
      ],
      "outputs": [],
      "metadata": {
        "id": "w2gV-eQg5Dyh"
      }
    },
    {
      "cell_type": "code",
      "execution_count": null,
      "source": [
        "result_series.sum()"
      ],
      "outputs": [
        {
          "output_type": "execute_result",
          "data": {
            "text/plain": [
              "40"
            ]
          },
          "metadata": {
            "tags": []
          },
          "execution_count": 417
        }
      ],
      "metadata": {
        "colab": {
          "base_uri": "https://localhost:8080/"
        },
        "id": "IHkfSDJljoTL",
        "outputId": "6fc4dc61-8d83-45c3-fc29-4e9085f185f2"
      }
    },
    {
      "cell_type": "code",
      "execution_count": null,
      "source": [
        "result_series.to_csv(\"result.csv\")"
      ],
      "outputs": [],
      "metadata": {
        "id": "pY6Fcj883x9i"
      }
    }
  ]
}