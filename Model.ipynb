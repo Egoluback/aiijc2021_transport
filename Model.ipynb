{
  "nbformat": 4,
  "nbformat_minor": 2,
  "metadata": {
    "kernelspec": {
      "name": "python3",
      "display_name": "Python 3.8.8 64-bit ('base': conda)"
    },
    "language_info": {
      "codemirror_mode": {
        "name": "ipython",
        "version": 3
      },
      "file_extension": ".py",
      "mimetype": "text/x-python",
      "name": "python",
      "nbconvert_exporter": "python",
      "pygments_lexer": "ipython3",
      "version": "3.8.8"
    },
    "colab": {
      "name": "Model.ipynb",
      "provenance": [],
      "collapsed_sections": [
        "IcH7T4cJsOzL",
        "BZNrSHdSORxG",
        "tJA_bsAaORxI",
        "_fZL4rRiFCio",
        "GTkhnZoHx5JI",
        "UqEQmfo0x5JK",
        "oW92gZ9-x5JL"
      ],
      "machine_shape": "hm"
    },
    "interpreter": {
      "hash": "f50bd5474255f82aa829301912ce59e29110123be660cf8d7583f66a20371684"
    }
  },
  "cells": [
    {
      "cell_type": "markdown",
      "source": [
        "# Install environment"
      ],
      "metadata": {
        "id": "IcH7T4cJsOzL"
      }
    },
    {
      "cell_type": "code",
      "execution_count": 1,
      "source": [
        "RANDOM_STATE = 42\n",
        "COLAB = False # если на колабе то тру соответственно "
      ],
      "outputs": [],
      "metadata": {
        "id": "XsBW5f7rFx0g"
      }
    },
    {
      "cell_type": "code",
      "execution_count": 2,
      "source": [
        "if COLAB:\n",
        "    from google.colab import drive\n",
        "    drive.mount('/content/drive')\n",
        "    \n",
        "    !pip install catboost\n",
        "    !pip install sktime\n",
        "    !pip install tqdm"
      ],
      "outputs": [],
      "metadata": {
        "colab": {
          "base_uri": "https://localhost:8080/"
        },
        "id": "dT4V-uZiJFE-",
        "outputId": "489aa38e-fbb6-43d7-d850-2f2bc92d9d16"
      }
    },
    {
      "cell_type": "code",
      "execution_count": 3,
      "source": [
        "import numpy as np\n",
        "import pandas as pd\n",
        "\n",
        "from collections import Counter\n",
        "from tqdm import tqdm\n",
        "\n",
        "from sklearn.linear_model import LogisticRegression\n",
        "from catboost import CatBoostClassifier\n",
        "from sktime.transformations.panel.rocket import MiniRocket\n",
        "from sklearn.linear_model import RidgeClassifierCV\n",
        "from sklearn.linear_model import RidgeClassifier\n",
        "\n",
        "from sklearn.compose import ColumnTransformer\n",
        "from sklearn.model_selection import train_test_split, GridSearchCV, cross_validate\n",
        "from sklearn.pipeline import Pipeline\n",
        "from sklearn.preprocessing import StandardScaler, OneHotEncoder\n",
        "from sklearn.metrics import roc_auc_score\n",
        "\n",
        "import warnings\n",
        "warnings.filterwarnings(\"ignore\")\n",
        "import ssl\n",
        "\n",
        "ssl._create_default_https_context = ssl._create_unverified_context"
      ],
      "outputs": [],
      "metadata": {
        "id": "j1qmmvEyx5I_",
        "colab": {
          "base_uri": "https://localhost:8080/"
        },
        "outputId": "8ecde0fd-5e2d-49ef-8703-cebd5311c56a"
      }
    },
    {
      "cell_type": "markdown",
      "source": [
        "# Model code"
      ],
      "metadata": {
        "id": "Zk2YRwe9ONnZ"
      }
    },
    {
      "cell_type": "code",
      "execution_count": 4,
      "source": [
        "import datetime \n",
        "from math import cos, asin, sqrt, pi\n",
        "from tracks.tracks_preprocessing import Tracks_preprocessing\n",
        "from nlp.nlp_model import get_model\n",
        "from tsfresh import select_features\n",
        "\n",
        "# TODO: добавить фичи по превышению скорости, добавить фичи из нлп гены(он там все настроил уже по идее), натреинровать, затестить\n",
        "\n",
        "# formula using pythogorian theorem\n",
        "# (as distances are not large, we can approximate earth rounding)\n",
        "def get_distance(lat1,lon1,lat2,lon2):\n",
        "    delta_lat = pow(lat2-lat1,2)\n",
        "    delta_lon = pow(lon2-lon1,2)\n",
        "    return np.round(sqrt(delta_lat+delta_lon)*100, 3)    \n",
        "\n",
        "def get_speed(lat1, lon1, lat2, lon2, dt1: str, dt2: str) -> float:\n",
        "    distance = get_distance(lat1, lon1, lat2, lon2).tolist()\n",
        "    format = \"%Y-%m-%d %H:%M:%S\"\n",
        "    dt1=datetime.datetime.strptime(dt1, format)\n",
        "    dt2=datetime.datetime.strptime(dt2, format)\n",
        "    time = (dt2-dt1).total_seconds()/3600 # convert timedelta into hours\n",
        "    if time==0:\n",
        "        return 0\n",
        "    return distance/time\n",
        "\n",
        "\n",
        "class Model:\n",
        "    def __init__(self):        \n",
        "        self.model = None\n",
        "        self.model_tracks = None\n",
        "\n",
        "        self.counter_words = {}\n",
        "    \n",
        "    def count_words(self, x):\n",
        "        return len(x.split(\" \"))\n",
        "\n",
        "    def check_sentence(self, sentence, words_type):\n",
        "        words_count = 0\n",
        "        for word in sentence.split(\" \"):\n",
        "            word = word.lower().replace(',', '').replace('.', '')\n",
        "\n",
        "            if (word not in list(self.counter_words.keys()) or len(self.counter_words[word]) == 2): continue\n",
        "\n",
        "            if (words_type == self.counter_words[word][2]): \n",
        "                words_count += 1\n",
        "        return words_count\n",
        "        \n",
        "    def NLP_features(self, X: pd.DataFrame ,y: pd.Series):\n",
        "        # гена там короче все настроил надо проверить тока(получить фичи и засунуть к остальным, натренировать катбуст)\n",
        "        return get_model()\n",
        "\n",
        "    def add_features(self, X):\n",
        "        comment_phrases = list(X.comment.value_counts().index[: 5]) + [\"---\"]\n",
        "        \n",
        "        X[\"is_comment\"] = (~np.isin(X.comment, comment_phrases)).astype(int)\n",
        "        X['dttm'] = pd.to_datetime(X.dttm)\n",
        "        X['hour'] = X.dttm.apply(lambda x: x.hour)\n",
        "        X['traff_jam'] = ((X.hour > 6) & (X.hour < 10)) | ((X.hour > 17) & (X.hour < 23))\n",
        "        X['traff_jam'] = X.traff_jam.astype(int)\n",
        "        X['weekday'] = X.dttm.apply(lambda x: x.weekday())\n",
        "        X['holiday'] = (X.weekday >= 5).astype(int)\n",
        "        X[\"count_words\"] = [-1] * X.shape[0]\n",
        "        X.loc[X.is_comment == True, \"count_words\"] = X[X.is_comment == True].comment.apply(lambda x: self.count_words(x))\n",
        "        X[\"speed\"] = X.distance / (X.duration / 60)\n",
        "        X['agg_words'] = X.comment.apply(lambda x: self.check_sentence(x, \"aggressive\"))\n",
        "        X['normal_words'] = X.comment.apply(lambda x: self.check_sentence(x, \"normal\"))\n",
        "        X['distance_thresh'] = ((X.distance > 5) & (X.distance < 20)).astype(int)\n",
        "        \n",
        "        return X\n",
        "    \n",
        "    def gen_speed(self, tracks):\n",
        "        tracks['speed'] = np.zeros(tracks.shape[0])\n",
        "        for i in tqdm(range(1, len(tracks))):\n",
        "            tracks.iloc[i, tracks.columns.get_loc('speed')] = get_speed(tracks.iloc[i-1, tracks.columns.get_loc('lat_')], tracks.iloc[i-1, tracks.columns.get_loc('lon_')],\n",
        "                                        tracks.iloc[i, tracks.columns.get_loc('lat_')], tracks.iloc[i, tracks.columns.get_loc('lon_')], tracks.iloc[i-1, tracks.columns.get_loc('dt')], tracks.iloc[i, tracks.columns.get_loc('dt')])\n",
        "        return tracks\n",
        "    \n",
        "    def estimate(self, X, y):\n",
        "        return roc_auc_score(y, self.model.predict_proba(X).T[1])\n",
        "    \n",
        "    def train_test_split_(self, X, y, test_size, X_ss=None, y_ss=None, random_state=RANDOM_STATE):\n",
        "        assert X.shape[0] == y.shape[0]\n",
        "        if (X_ss is not None):\n",
        "            X_ss_full, y_ss_full = self.label_shuffle(X, y, X_ss, y_ss, random_state = random_state)\n",
        "            \n",
        "            len_train = len(X_ss_full) - round(len(X_ss_full) * test_size)\n",
        "            \n",
        "            x_train = X_ss_full[: len_train]\n",
        "            x_train.drop('ss', axis = 1, inplace = True)\n",
        "            \n",
        "            x_test = X_ss_full.iloc[len_train + 1:]\n",
        "            x_test = x_test[x_test.ss == 0]\n",
        "            x_test.drop('ss', axis = 1, inplace = True)\n",
        "            \n",
        "            y_train = y_ss_full[: len_train]\n",
        "            y_train.drop('ss', axis = 1, inplace = True)\n",
        "            \n",
        "            y_test = y_ss_full.iloc[len_train + 1:]\n",
        "            y_test = y_test[y_test.ss == 0]\n",
        "            y_test.drop('ss', axis = 1, inplace = True)\n",
        "            \n",
        "            return (x_train, x_test, y_train, y_test)\n",
        "        \n",
        "        len_train = len(X) - round(len(X) * test_size)\n",
        "        \n",
        "        X = X.sample(frac=1, random_state=random_state)\n",
        "        y = y.sample(frac=1, random_state=random_state)\n",
        "        \n",
        "        return (X[: len_train], X[len_train :], y[: len_train], y[len_train :])\n",
        "    \n",
        "    def train(self, X_train, X_test, y_train, y_test, categorical_feature, random_state=RANDOM_STATE):\n",
        "        print(f\"Train size: {X_train.shape}\")\n",
        "        print(f\"Test size: {X_test.shape}\")\n",
        "        print(f'TRAIN HEAD: \\n {X_train.head()}')\n",
        "\n",
        "        print('y_TRAIN')\n",
        "        print(y_train.head())\n",
        "        print('X_TRAIN')\n",
        "        print(X_train.head())\n",
        "        non_aggressive = len(y_train)-sum(y_train)\n",
        "        aggressive = sum(y_train)\n",
        "        class_weights = (1, int(non_aggressive/aggressive))\n",
        "\n",
        "        self.model = CatBoostClassifier(iterations=4000,\n",
        "                           depth=3,\n",
        "                           silent=False,\n",
        "                           loss_function='Logloss',\n",
        "                           class_weights=class_weights,\n",
        "                           random_state=random_state)\n",
        "        #self.model.select_features(X_train, y_train,(X_test, y_test), features_for_select = '')\n",
        "        self.model.fit(X_train, y_train, cat_features=categorical_feature, save_snapshot=True,)\n",
        "        \n",
        "        print(y_test.shape)\n",
        "\n",
        "        return self.estimate(X_test, y_test)\n",
        "    \n",
        "    def label_shuffle(self, X, y, X_ss, y_ss, random_state=RANDOM_STATE):\n",
        "        X_ss['ss'] = 1\n",
        "        y_ss = y_ss.to_frame()\n",
        "        y_ss['ss'] = 1\n",
        "\n",
        "        X['ss'] = 0\n",
        "        y['ss'] = 0\n",
        "\n",
        "        X_ss_full = pd.concat([X, X_ss]).sample(frac=1, random_state=random_state)\n",
        "        y_ss_full = pd.concat([y, y_ss]).sample(frac=1, random_state=random_state)\n",
        "        \n",
        "        return (X_ss_full, y_ss_full)\n",
        "    \n",
        "    def train_cross_validation(self, X, y, k, categorical_features, X_ss=None, y_ss=None, random_state=RANDOM_STATE):\n",
        "        chunk_size = len(X) / k\n",
        "        chunks_size = [(i*chunk_size, i*chunk_size + chunk_size) for i in range(k)]\n",
        "        \n",
        "        result_score = []\n",
        "        \n",
        "        print(f\"Part size: {chunk_size}\")\n",
        "        \n",
        "        if (X_ss is not None):\n",
        "            X_ss_full, y_ss_full = self.label_shuffle(X, y, X_ss, y_ss, random_state = random_state)\n",
        "            \n",
        "            for chunkIndex in range(len(chunks_size)):\n",
        "                x_test = X_ss_full[int(chunks_size[chunkIndex][0]) : int(chunks_size[chunkIndex][1])]\n",
        "                y_test = y_ss_full[int(chunks_size[chunkIndex][0]) : int(chunks_size[chunkIndex][1])]\n",
        "                \n",
        "                x_train = X_ss_full.drop(x_test.index, axis = 0)\n",
        "                y_train = y_ss_full.drop(y_test.index, axis = 0)\n",
        "                \n",
        "                x_test = x_test[x_test.ss == 0]\n",
        "                y_test = y_test[y_test.ss == 0]\n",
        "                \n",
        "                x_train.drop('ss', axis = 1, inplace = True)\n",
        "                y_train.drop('ss', axis = 1, inplace = True)\n",
        "                x_test.drop('ss', axis = 1, inplace = True)\n",
        "                y_test.drop('ss', axis = 1, inplace = True)\n",
        "                \n",
        "                score = self.train(x_train, x_test, y_train, y_test, categorical_features)\n",
        "                \n",
        "                print(f\"Chunk {chunkIndex}; Score: {score}\")\n",
        "                \n",
        "                result_score.append((chunks_size[chunkIndex], score))\n",
        "        else:            \n",
        "            for chunkIndex in range(len(chunks_size)):\n",
        "                x_test = X[int(chunks_size[chunkIndex][0]) : int(chunks_size[chunkIndex][1])]\n",
        "                y_test = y[int(chunks_size[chunkIndex][0]) : int(chunks_size[chunkIndex][1])]\n",
        "                \n",
        "                x_train = X.drop(x_test.index, axis = 0)\n",
        "                y_train = y.drop(y_test.index, axis = 0)\n",
        "                \n",
        "                score = self.train(x_train, x_test, y_train, y_test, categorical_features)\n",
        "                \n",
        "                print(f\"Chunk {chunkIndex}; Score: {score}\")\n",
        "                \n",
        "                result_score.append((chunks_size[chunkIndex], score))\n",
        "            \n",
        "        print(f\"Mean score: {sum(list(map(lambda x: x[1], result_score))) / k}\")\n",
        "        \n",
        "        return result_score\n",
        "    \n",
        "    def fit_ss(self, X, y, numeric_features, categorial_features, X_ss, y_ss, cross_validation=False, random_state=RANDOM_STATE):\n",
        "        self.counter_words = {}\n",
        "        \n",
        "        X_ = X\n",
        "        y_ = y\n",
        "        \n",
        "        self.NLP_preprocess(pd.concat([X_, X_ss]), pd.concat([y_, y_ss]))\n",
        "        X_ = self.add_features(X_)[numeric_features + categorical_features]\n",
        "        \n",
        "        X_ss = self.add_features(X_ss)[numeric_features + categorical_features]\n",
        "        \n",
        "        if (not cross_validation):\n",
        "            X_train, X_test, y_train, y_test = self.train_test_split_(X_, y_, test_size=0.2, X_ss=X_ss, y_ss=y_ss, random_state=random_state)\n",
        "            return self.train(X_train, X_test, y_train, y_test, categorical_features)\n",
        "        else:\n",
        "            return self.train_cross_validation(X_, y_, 5, categorical_features, X_ss=X_ss, y_ss=y_ss, random_state=random_state)\n",
        "        \n",
        "    def fit(self, X, numeric_features, categorical_features, tracks = None, cross_validation=False, random_state=RANDOM_STATE):\n",
        "        if tracks is not None:\n",
        "            preprocessing = Tracks_preprocessing() \n",
        "            tracks_train, tracks_y_train = preprocessing.preprocess(tracks)\n",
        "        \n",
        "        self.counter_words = {}\n",
        "        \n",
        "        X_ = X.set_index('order_id')\n",
        "        y_ = tracks_y_train\n",
        "        X_ = self.add_features(X_)[numeric_features + categorical_features]\n",
        "\n",
        "        features = self.NLP_features(X_, y_)\n",
        "        X_ = X_.merge(features, on='order_id', how='left')\n",
        "        print(X_.head())\n",
        "\n",
        "        print(f\"Table data matrix shape: {X_.shape}\")\n",
        "        print(f\"Tracks data matrix shape: {tracks_train.shape}\")\n",
        "        # у датасета в виде индекса ордер айди, колонки - фичи заказа\n",
        "        res_matrix = tracks_train.merge(X_, right_index=True,left_index=True)\n",
        "        print('RES MATRIX')\n",
        "        print(res_matrix)\n",
        "        res_matrix.fillna(0, inplace=True)\n",
        "        #res_matrix = select_features(res_matrix, y_)\n",
        "        #res_matrix.drop(['order_id'], axis=1, inplace=True)\n",
        "\n",
        "        print(f\"Result matrix shape: {res_matrix.shape}\")\n",
        "\n",
        "        if (not cross_validation):\n",
        "            X_train, X_test, y_train, y_test = self.train_test_split_(res_matrix, y_, test_size=0.2, random_state=random_state)\n",
        "            return self.train(X_train, X_test, y_train, y_test, categorical_features)\n",
        "        else:\n",
        "            return self.train_cross_validation(X_, y_, 5, categorical_features, random_state=random_state)\n",
        "\n",
        "    def predict_proba(self, X, add_feat=True, tracks=None):\n",
        "        if (add_feat): X = self.add_features(X)\n",
        "        if tracks is not None:\n",
        "            # TODO: из инфы про расположение получить инфу про знаки и лимиты, получить фичи по скоростям из feature_extraction\n",
        "            ...\n",
        "        \n",
        "        X = self.add_features(X)[numeric_features + categorical_features + [\"order_id\"]]\n",
        "\n",
        "        res_matrix = X.merge(tracks_train, how='left', on='order_id')\n",
        "        res_matrix.fillna(0, inplace=True)\n",
        "        res_matrix.drop(['order_id'], axis=1, inplace=True)\n",
        "\n",
        "        return self.model.predict_proba(res_matrix).T[1]\n",
        "    \n",
        "    def predict(self, X, add_feat=True, tracks=None):\n",
        "        if (add_feat): X = self.add_features(X)\n",
        "        if tracks is not None:\n",
        "            tracks_train, order_ids = self.tracks_transform(tracks, labled=False)\n",
        "            tracks_train['order_id'] = order_ids\n",
        "            tracks_train = tracks_train.drop_duplicates('order_id', keep='last')\n",
        "        \n",
        "        X = self.add_features(X)[numeric_features + categorical_features + [\"order_id\"]]\n",
        "\n",
        "        res_matrix = X.merge(tracks_train, how='left', on='order_id')\n",
        "        res_matrix.fillna(0, inplace=True)\n",
        "        res_matrix.drop(['order_id'], axis=1, inplace=True)\n",
        "\n",
        "        return self.model.predict(res_matrix)\n",
        "    \n",
        "    def predict_thresh(self, X, thresh_above, thresh_below):\n",
        "        y_unlab_full = self.predict_proba(X)\n",
        "        \n",
        "        y_unlab = pd.Series([-1 for i in range(len(X))])\n",
        "        \n",
        "        print(\"Thresh above: {}\".format(sum(y_unlab_full >= thresh_above) / len(y_unlab_full)))\n",
        "        print(\"Thresh below: {}\".format(sum(y_unlab_full <= thresh_below) / len(y_unlab_full)))\n",
        "        \n",
        "        y_unlab.iloc[np.where(y_unlab_full >= thresh_above)] = 1\n",
        "        y_unlab.iloc[np.where(y_unlab_full <= thresh_below)] = 0\n",
        "        \n",
        "        return y_unlab\n"
      ],
      "outputs": [
        {
          "output_type": "stream",
          "name": "stderr",
          "text": [
            "[nltk_data] Downloading package stopwords to\n",
            "[nltk_data]     /home/porosenok/nltk_data...\n",
            "[nltk_data]   Package stopwords is already up-to-date!\n"
          ]
        }
      ],
      "metadata": {
        "id": "73bPA-Pcx5JA"
      }
    },
    {
      "cell_type": "markdown",
      "source": [
        "# Train on labled data"
      ],
      "metadata": {
        "id": "fbSXf2PYx5JF"
      }
    },
    {
      "cell_type": "code",
      "execution_count": 5,
      "source": [
        "if COLAB:\n",
        "    path = '/content/drive/MyDrive/aiijc_transport_simpleteam/'\n",
        "else:\n",
        "    path = './'\n",
        "\n",
        "train_labled = pd.read_csv(path + 'data/base_files/labled_train_data.csv', index_col=0, sep='\\t', comment='#')\n",
        "tracks_labled = pd.read_csv(path+\"data/labled_train_tracks_speed.csv\", index_col=0, sep=',', comment='#')\n",
        "tracks_unlabled = pd.read_csv(path +\"data/unlabled_train_tracks_speed.csv\", index_col=0, sep=',', comment='#')\n",
        "\n",
        "X_ = train_labled\n",
        "y_ = train_labled.iloc[:, -1:]\n",
        "\n",
        "X_['client_rate_ride'] = X_['client_rate_ride'].fillna(X_['client_rate_ride'].mean())\n",
        "X_['client_rides_cnt'] = X_['client_rides_cnt'].fillna(X_['client_rides_cnt'].mean())\n",
        "X_['driver_rides_cnt'] = X_['driver_rides_cnt'].fillna(X_['driver_rides_cnt'].mean())"
      ],
      "outputs": [],
      "metadata": {
        "id": "roi11zG3x5JF"
      }
    },
    {
      "cell_type": "code",
      "execution_count": null,
      "source": [],
      "outputs": [],
      "metadata": {
        "id": "kFkCdcz_CHyN"
      }
    },
    {
      "cell_type": "code",
      "execution_count": 6,
      "source": [
        "numeric_features = ['distance', 'arrived_distance', 'arrived_duration', 'duration', 'driver_rides_cnt', 'client_rides_cnt', 'client_rate_ride', 'count_words']\n",
        "\n",
        "categorical_features = ['mark', 'is_comment', 'hour', 'weekday', 'agg_words', 'normal_words']\n",
        "model_supervised = Model()\n",
        "\n",
        "model_supervised.fit(X_, numeric_features, categorical_features, tracks=tracks_labled)"
      ],
      "outputs": [
        {
          "output_type": "stream",
          "name": "stdout",
          "text": [
            "                                  speed__fft_coefficient__attr_\"abs\"__coeff_3  \\\n",
            "001662da857b5a39bb402aacf3145f86                                   175.189443   \n",
            "001a8da3b83fe77dd0f3a406acb414c2                                    18.445105   \n",
            "001eaa75ad97eff199d914f67b8e32ef                                   112.883308   \n",
            "001f7deb75b27d8ef5a68204a0bd86a2                                   156.402613   \n",
            "002946d95ca1bc6954858b63c202bbb1                                   382.243667   \n",
            "\n",
            "                                  speed__absolute_sum_of_changes  \\\n",
            "001662da857b5a39bb402aacf3145f86                      651.486763   \n",
            "001a8da3b83fe77dd0f3a406acb414c2                      307.701308   \n",
            "001eaa75ad97eff199d914f67b8e32ef                      797.382464   \n",
            "001f7deb75b27d8ef5a68204a0bd86a2                      303.249206   \n",
            "002946d95ca1bc6954858b63c202bbb1                     2241.758557   \n",
            "\n",
            "                                  speed__cid_ce__normalize_False  \\\n",
            "001662da857b5a39bb402aacf3145f86                      110.173614   \n",
            "001a8da3b83fe77dd0f3a406acb414c2                      107.669605   \n",
            "001eaa75ad97eff199d914f67b8e32ef                      219.164383   \n",
            "001f7deb75b27d8ef5a68204a0bd86a2                       82.362531   \n",
            "002946d95ca1bc6954858b63c202bbb1                      857.467006   \n",
            "\n",
            "                                  speed__count_below_mean  \\\n",
            "001662da857b5a39bb402aacf3145f86                     26.0   \n",
            "001a8da3b83fe77dd0f3a406acb414c2                     11.0   \n",
            "001eaa75ad97eff199d914f67b8e32ef                     30.0   \n",
            "001f7deb75b27d8ef5a68204a0bd86a2                     15.0   \n",
            "002946d95ca1bc6954858b63c202bbb1                     59.0   \n",
            "\n",
            "                                  speed__number_cwt_peaks__n_5  \\\n",
            "001662da857b5a39bb402aacf3145f86                           9.0   \n",
            "001a8da3b83fe77dd0f3a406acb414c2                           1.0   \n",
            "001eaa75ad97eff199d914f67b8e32ef                           5.0   \n",
            "001f7deb75b27d8ef5a68204a0bd86a2                           3.0   \n",
            "002946d95ca1bc6954858b63c202bbb1                           7.0   \n",
            "\n",
            "                                  speed__fft_aggregated__aggtype_\"variance\"  \\\n",
            "001662da857b5a39bb402aacf3145f86                                  63.298473   \n",
            "001a8da3b83fe77dd0f3a406acb414c2                                   8.960314   \n",
            "001eaa75ad97eff199d914f67b8e32ef                                  62.006897   \n",
            "001f7deb75b27d8ef5a68204a0bd86a2                                  11.987534   \n",
            "002946d95ca1bc6954858b63c202bbb1                                 175.742229   \n",
            "\n",
            "                                  speed__sum_values  \\\n",
            "001662da857b5a39bb402aacf3145f86        1160.082688   \n",
            "001a8da3b83fe77dd0f3a406acb414c2         346.478537   \n",
            "001eaa75ad97eff199d914f67b8e32ef        1750.109161   \n",
            "001f7deb75b27d8ef5a68204a0bd86a2         455.341910   \n",
            "002946d95ca1bc6954858b63c202bbb1        2616.695643   \n",
            "\n",
            "                                  speed__fft_coefficient__attr_\"real\"__coeff_0  \\\n",
            "001662da857b5a39bb402aacf3145f86                                   1160.082688   \n",
            "001a8da3b83fe77dd0f3a406acb414c2                                    346.478537   \n",
            "001eaa75ad97eff199d914f67b8e32ef                                   1750.109161   \n",
            "001f7deb75b27d8ef5a68204a0bd86a2                                    455.341910   \n",
            "002946d95ca1bc6954858b63c202bbb1                                   2616.695643   \n",
            "\n",
            "                                  speed__fft_aggregated__aggtype_\"centroid\"  \\\n",
            "001662da857b5a39bb402aacf3145f86                                   7.281716   \n",
            "001a8da3b83fe77dd0f3a406acb414c2                                   2.858879   \n",
            "001eaa75ad97eff199d914f67b8e32ef                                   7.257688   \n",
            "001f7deb75b27d8ef5a68204a0bd86a2                                   3.016641   \n",
            "002946d95ca1bc6954858b63c202bbb1                                  19.054013   \n",
            "\n",
            "                                  speed__fft_coefficient__attr_\"abs\"__coeff_0  \\\n",
            "001662da857b5a39bb402aacf3145f86                                  1160.082688   \n",
            "001a8da3b83fe77dd0f3a406acb414c2                                   346.478537   \n",
            "001eaa75ad97eff199d914f67b8e32ef                                  1750.109161   \n",
            "001f7deb75b27d8ef5a68204a0bd86a2                                   455.341910   \n",
            "002946d95ca1bc6954858b63c202bbb1                                  2616.695643   \n",
            "\n",
            "                                  ...  \\\n",
            "001662da857b5a39bb402aacf3145f86  ...   \n",
            "001a8da3b83fe77dd0f3a406acb414c2  ...   \n",
            "001eaa75ad97eff199d914f67b8e32ef  ...   \n",
            "001f7deb75b27d8ef5a68204a0bd86a2  ...   \n",
            "002946d95ca1bc6954858b63c202bbb1  ...   \n",
            "\n",
            "                                  speed__cwt_coefficients__coeff_4__w_5__widths_(2, 5, 10, 20)  \\\n",
            "001662da857b5a39bb402aacf3145f86                                          -2.633946              \n",
            "001a8da3b83fe77dd0f3a406acb414c2                                          39.119208              \n",
            "001eaa75ad97eff199d914f67b8e32ef                                         -58.517027              \n",
            "001f7deb75b27d8ef5a68204a0bd86a2                                           6.997280              \n",
            "002946d95ca1bc6954858b63c202bbb1                                          41.213680              \n",
            "\n",
            "                                  speed__fft_coefficient__attr_\"imag\"__coeff_4  \\\n",
            "001662da857b5a39bb402aacf3145f86                                    147.538796   \n",
            "001a8da3b83fe77dd0f3a406acb414c2                                     40.859150   \n",
            "001eaa75ad97eff199d914f67b8e32ef                                     51.609077   \n",
            "001f7deb75b27d8ef5a68204a0bd86a2                                    -69.522736   \n",
            "002946d95ca1bc6954858b63c202bbb1                                   -367.335219   \n",
            "\n",
            "                                  speed__energy_ratio_by_chunks__num_segments_10__segment_focus_1  \\\n",
            "001662da857b5a39bb402aacf3145f86                                           0.089599                 \n",
            "001a8da3b83fe77dd0f3a406acb414c2                                           0.016635                 \n",
            "001eaa75ad97eff199d914f67b8e32ef                                           0.001483                 \n",
            "001f7deb75b27d8ef5a68204a0bd86a2                                           0.070111                 \n",
            "002946d95ca1bc6954858b63c202bbb1                                           0.005551                 \n",
            "\n",
            "                                  speed__last_location_of_maximum  \\\n",
            "001662da857b5a39bb402aacf3145f86                         0.865385   \n",
            "001a8da3b83fe77dd0f3a406acb414c2                         0.687500   \n",
            "001eaa75ad97eff199d914f67b8e32ef                         0.346939   \n",
            "001f7deb75b27d8ef5a68204a0bd86a2                         0.565217   \n",
            "002946d95ca1bc6954858b63c202bbb1                         0.847059   \n",
            "\n",
            "                                  speed__change_quantiles__f_agg_\"mean\"__isabs_False__qh_1.0__ql_0.0  \\\n",
            "001662da857b5a39bb402aacf3145f86                                           0.274531                    \n",
            "001a8da3b83fe77dd0f3a406acb414c2                                           0.629928                    \n",
            "001eaa75ad97eff199d914f67b8e32ef                                           0.375787                    \n",
            "001f7deb75b27d8ef5a68204a0bd86a2                                           0.217798                    \n",
            "002946d95ca1bc6954858b63c202bbb1                                           0.172498                    \n",
            "\n",
            "                                  speed__mean  speed__fourier_entropy__bins_5  \\\n",
            "001662da857b5a39bb402aacf3145f86    22.309282                        1.007467   \n",
            "001a8da3b83fe77dd0f3a406acb414c2    21.654909                        1.427061   \n",
            "001eaa75ad97eff199d914f67b8e32ef    35.716513                        0.498758   \n",
            "001f7deb75b27d8ef5a68204a0bd86a2    19.797474                        1.075139   \n",
            "002946d95ca1bc6954858b63c202bbb1    30.784655                        1.049832   \n",
            "\n",
            "                                  speed__binned_entropy__max_bins_10  \\\n",
            "001662da857b5a39bb402aacf3145f86                            2.194510   \n",
            "001a8da3b83fe77dd0f3a406acb414c2                            1.890363   \n",
            "001eaa75ad97eff199d914f67b8e32ef                            1.612226   \n",
            "001f7deb75b27d8ef5a68204a0bd86a2                            1.911059   \n",
            "002946d95ca1bc6954858b63c202bbb1                            0.175154   \n",
            "\n",
            "                                  speed__agg_linear_trend__attr_\"intercept\"__chunk_len_10__f_agg_\"max\"  \\\n",
            "001662da857b5a39bb402aacf3145f86                                          47.061719                      \n",
            "001a8da3b83fe77dd0f3a406acb414c2                                          50.532632                      \n",
            "001eaa75ad97eff199d914f67b8e32ef                                          87.525318                      \n",
            "001f7deb75b27d8ef5a68204a0bd86a2                                          49.652556                      \n",
            "002946d95ca1bc6954858b63c202bbb1                                         -12.011085                      \n",
            "\n",
            "                                  speed__change_quantiles__f_agg_\"var\"__isabs_True__qh_0.6__ql_0.2  \n",
            "001662da857b5a39bb402aacf3145f86                                          20.440355                 \n",
            "001a8da3b83fe77dd0f3a406acb414c2                                           2.522560                 \n",
            "001eaa75ad97eff199d914f67b8e32ef                                          19.144690                 \n",
            "001f7deb75b27d8ef5a68204a0bd86a2                                           1.076335                 \n",
            "002946d95ca1bc6954858b63c202bbb1                                          12.510718                 \n",
            "\n",
            "[5 rows x 124 columns]\n",
            "training vectorizer model...\n",
            "TEXT WECTORIZER TRAINED\n",
            "training vectorizer model...\n",
            "CARS WECTORIZER TRAINED\n",
            "training cars clustering model...\n",
            "CARS CLUSTERING COMPLETED\n",
            "COMM MODEL TRAINED\n",
            "Test Roc-Auc score: 0.6921882021923056\n",
            "Train Roc-Auc score: 0.6880234381729609\n",
            "CV_mean roc_auc: 0.6676586613491498, CV_folds_score: [0.62976819 0.71159662 0.61065173 0.70959931 0.67667745]\n",
            "                                  distance  arrived_distance  \\\n",
            "order_id                                                       \n",
            "6a0f322ade1a05e5c4cec4344efbce8b      11.8             150.0   \n",
            "934ecbe5845426fd3f8ef7938cce2a11      17.2             570.0   \n",
            "5348cb339b63eaea3b2cb57a064ce550       5.8              40.0   \n",
            "309ef91c3b51e27d097642169576f67b       4.5             140.0   \n",
            "3506e04e45d39c6e3033637389da1041      15.4             150.0   \n",
            "\n",
            "                                  arrived_duration  duration  \\\n",
            "order_id                                                       \n",
            "6a0f322ade1a05e5c4cec4344efbce8b               1.0      20.5   \n",
            "934ecbe5845426fd3f8ef7938cce2a11               1.0      26.2   \n",
            "5348cb339b63eaea3b2cb57a064ce550               0.0      10.9   \n",
            "309ef91c3b51e27d097642169576f67b               1.0      10.7   \n",
            "3506e04e45d39c6e3033637389da1041               1.0      25.1   \n",
            "\n",
            "                                  driver_rides_cnt  client_rides_cnt  \\\n",
            "order_id                                                               \n",
            "6a0f322ade1a05e5c4cec4344efbce8b              39.0              16.0   \n",
            "934ecbe5845426fd3f8ef7938cce2a11             338.0              18.0   \n",
            "5348cb339b63eaea3b2cb57a064ce550             162.0              17.0   \n",
            "309ef91c3b51e27d097642169576f67b             136.0              18.0   \n",
            "3506e04e45d39c6e3033637389da1041             194.0              20.0   \n",
            "\n",
            "                                  client_rate_ride  count_words  \\\n",
            "order_id                                                          \n",
            "6a0f322ade1a05e5c4cec4344efbce8b          4.877908           -1   \n",
            "934ecbe5845426fd3f8ef7938cce2a11          4.877908           -1   \n",
            "5348cb339b63eaea3b2cb57a064ce550          4.877908           -1   \n",
            "309ef91c3b51e27d097642169576f67b          4.877908           -1   \n",
            "3506e04e45d39c6e3033637389da1041          5.000000           -1   \n",
            "\n",
            "                                                 mark  is_comment_x  hour  \\\n",
            "order_id                                                                    \n",
            "6a0f322ade1a05e5c4cec4344efbce8b               Kia K5             0    21   \n",
            "934ecbe5845426fd3f8ef7938cce2a11      Volkswagen Polo             0    14   \n",
            "5348cb339b63eaea3b2cb57a064ce550  MercedesBenz EClass             0    21   \n",
            "309ef91c3b51e27d097642169576f67b           Kia Optima             0    17   \n",
            "3506e04e45d39c6e3033637389da1041              Kia Rio             0    15   \n",
            "\n",
            "                                  weekday  agg_words  normal_words  \\\n",
            "order_id                                                             \n",
            "6a0f322ade1a05e5c4cec4344efbce8b        4          0             0   \n",
            "934ecbe5845426fd3f8ef7938cce2a11        6          0             0   \n",
            "5348cb339b63eaea3b2cb57a064ce550        1          0             0   \n",
            "309ef91c3b51e27d097642169576f67b        2          0             0   \n",
            "3506e04e45d39c6e3033637389da1041        4          0             0   \n",
            "\n",
            "                                  agg_verbs_rate  agg_adjs_rate  \\\n",
            "order_id                                                          \n",
            "6a0f322ade1a05e5c4cec4344efbce8b             0.0            0.0   \n",
            "934ecbe5845426fd3f8ef7938cce2a11             0.0            0.0   \n",
            "5348cb339b63eaea3b2cb57a064ce550             0.0            0.0   \n",
            "309ef91c3b51e27d097642169576f67b             0.0            0.0   \n",
            "3506e04e45d39c6e3033637389da1041             0.0            0.0   \n",
            "\n",
            "                                  agg_nouns_rate  \\\n",
            "order_id                                           \n",
            "6a0f322ade1a05e5c4cec4344efbce8b             0.0   \n",
            "934ecbe5845426fd3f8ef7938cce2a11             0.0   \n",
            "5348cb339b63eaea3b2cb57a064ce550             0.0   \n",
            "309ef91c3b51e27d097642169576f67b             0.0   \n",
            "3506e04e45d39c6e3033637389da1041             0.0   \n",
            "\n",
            "                                  mean_comments_aggressive_rate  \\\n",
            "order_id                                                          \n",
            "6a0f322ade1a05e5c4cec4344efbce8b                       0.153756   \n",
            "934ecbe5845426fd3f8ef7938cce2a11                       0.154508   \n",
            "5348cb339b63eaea3b2cb57a064ce550                       0.154177   \n",
            "309ef91c3b51e27d097642169576f67b                       0.153659   \n",
            "3506e04e45d39c6e3033637389da1041                       0.154412   \n",
            "\n",
            "                                  agg_comm_probability  is_comment_y  \n",
            "order_id                                                              \n",
            "6a0f322ade1a05e5c4cec4344efbce8b                   0.0           0.0  \n",
            "934ecbe5845426fd3f8ef7938cce2a11                   0.0           0.0  \n",
            "5348cb339b63eaea3b2cb57a064ce550                   0.0           0.0  \n",
            "309ef91c3b51e27d097642169576f67b                   0.0           0.0  \n",
            "3506e04e45d39c6e3033637389da1041                   0.0           0.0  \n",
            "Table data matrix shape: (9000, 20)\n",
            "Tracks data matrix shape: (9000, 124)\n",
            "RES MATRIX\n",
            "                                  speed__fft_coefficient__attr_\"abs\"__coeff_3  \\\n",
            "001662da857b5a39bb402aacf3145f86                                   175.189443   \n",
            "001a8da3b83fe77dd0f3a406acb414c2                                    18.445105   \n",
            "001eaa75ad97eff199d914f67b8e32ef                                   112.883308   \n",
            "001f7deb75b27d8ef5a68204a0bd86a2                                   156.402613   \n",
            "002946d95ca1bc6954858b63c202bbb1                                   382.243667   \n",
            "...                                                                       ...   \n",
            "ffdb0446f266cdc96fe79b9ff4e5ca35                                    53.330944   \n",
            "ffe343aba3979857c5d268011147d720                                    53.210107   \n",
            "ffeb60427212d142a2aa6dc9fb23713f                                    96.240277   \n",
            "fffd991bb7f71a047aa7e982fd7ceea8                                   397.738315   \n",
            "fffdfda358f35cf2d7f9d87d205655a7                                   269.221159   \n",
            "\n",
            "                                  speed__absolute_sum_of_changes  \\\n",
            "001662da857b5a39bb402aacf3145f86                      651.486763   \n",
            "001a8da3b83fe77dd0f3a406acb414c2                      307.701308   \n",
            "001eaa75ad97eff199d914f67b8e32ef                      797.382464   \n",
            "001f7deb75b27d8ef5a68204a0bd86a2                      303.249206   \n",
            "002946d95ca1bc6954858b63c202bbb1                     2241.758557   \n",
            "...                                                          ...   \n",
            "ffdb0446f266cdc96fe79b9ff4e5ca35                      197.074584   \n",
            "ffe343aba3979857c5d268011147d720                      330.874955   \n",
            "ffeb60427212d142a2aa6dc9fb23713f                      300.223541   \n",
            "fffd991bb7f71a047aa7e982fd7ceea8                     1490.784674   \n",
            "fffdfda358f35cf2d7f9d87d205655a7                      661.671638   \n",
            "\n",
            "                                  speed__cid_ce__normalize_False  \\\n",
            "001662da857b5a39bb402aacf3145f86                      110.173614   \n",
            "001a8da3b83fe77dd0f3a406acb414c2                      107.669605   \n",
            "001eaa75ad97eff199d914f67b8e32ef                      219.164383   \n",
            "001f7deb75b27d8ef5a68204a0bd86a2                       82.362531   \n",
            "002946d95ca1bc6954858b63c202bbb1                      857.467006   \n",
            "...                                                          ...   \n",
            "ffdb0446f266cdc96fe79b9ff4e5ca35                       75.799367   \n",
            "ffe343aba3979857c5d268011147d720                       99.237017   \n",
            "ffeb60427212d142a2aa6dc9fb23713f                      105.817751   \n",
            "fffd991bb7f71a047aa7e982fd7ceea8                      317.135977   \n",
            "fffdfda358f35cf2d7f9d87d205655a7                      119.155789   \n",
            "\n",
            "                                  speed__count_below_mean  \\\n",
            "001662da857b5a39bb402aacf3145f86                     26.0   \n",
            "001a8da3b83fe77dd0f3a406acb414c2                     11.0   \n",
            "001eaa75ad97eff199d914f67b8e32ef                     30.0   \n",
            "001f7deb75b27d8ef5a68204a0bd86a2                     15.0   \n",
            "002946d95ca1bc6954858b63c202bbb1                     59.0   \n",
            "...                                                   ...   \n",
            "ffdb0446f266cdc96fe79b9ff4e5ca35                      7.0   \n",
            "ffe343aba3979857c5d268011147d720                      8.0   \n",
            "ffeb60427212d142a2aa6dc9fb23713f                     18.0   \n",
            "fffd991bb7f71a047aa7e982fd7ceea8                     32.0   \n",
            "fffdfda358f35cf2d7f9d87d205655a7                     36.0   \n",
            "\n",
            "                                  speed__number_cwt_peaks__n_5  \\\n",
            "001662da857b5a39bb402aacf3145f86                           9.0   \n",
            "001a8da3b83fe77dd0f3a406acb414c2                           1.0   \n",
            "001eaa75ad97eff199d914f67b8e32ef                           5.0   \n",
            "001f7deb75b27d8ef5a68204a0bd86a2                           3.0   \n",
            "002946d95ca1bc6954858b63c202bbb1                           7.0   \n",
            "...                                                        ...   \n",
            "ffdb0446f266cdc96fe79b9ff4e5ca35                           1.0   \n",
            "ffe343aba3979857c5d268011147d720                           2.0   \n",
            "ffeb60427212d142a2aa6dc9fb23713f                           2.0   \n",
            "fffd991bb7f71a047aa7e982fd7ceea8                          10.0   \n",
            "fffdfda358f35cf2d7f9d87d205655a7                           6.0   \n",
            "\n",
            "                                  speed__fft_aggregated__aggtype_\"variance\"  \\\n",
            "001662da857b5a39bb402aacf3145f86                                  63.298473   \n",
            "001a8da3b83fe77dd0f3a406acb414c2                                   8.960314   \n",
            "001eaa75ad97eff199d914f67b8e32ef                                  62.006897   \n",
            "001f7deb75b27d8ef5a68204a0bd86a2                                  11.987534   \n",
            "002946d95ca1bc6954858b63c202bbb1                                 175.742229   \n",
            "...                                                                     ...   \n",
            "ffdb0446f266cdc96fe79b9ff4e5ca35                                   3.444987   \n",
            "ffe343aba3979857c5d268011147d720                                   7.432740   \n",
            "ffeb60427212d142a2aa6dc9fb23713f                                  17.564257   \n",
            "fffd991bb7f71a047aa7e982fd7ceea8                                 227.670345   \n",
            "fffdfda358f35cf2d7f9d87d205655a7                                  69.027038   \n",
            "\n",
            "                                  speed__sum_values  \\\n",
            "001662da857b5a39bb402aacf3145f86        1160.082688   \n",
            "001a8da3b83fe77dd0f3a406acb414c2         346.478537   \n",
            "001eaa75ad97eff199d914f67b8e32ef        1750.109161   \n",
            "001f7deb75b27d8ef5a68204a0bd86a2         455.341910   \n",
            "002946d95ca1bc6954858b63c202bbb1        2616.695643   \n",
            "...                                             ...   \n",
            "ffdb0446f266cdc96fe79b9ff4e5ca35         351.204299   \n",
            "ffe343aba3979857c5d268011147d720         401.598052   \n",
            "ffeb60427212d142a2aa6dc9fb23713f        1138.570433   \n",
            "fffd991bb7f71a047aa7e982fd7ceea8        7739.947308   \n",
            "fffdfda358f35cf2d7f9d87d205655a7        1447.386311   \n",
            "\n",
            "                                  speed__fft_coefficient__attr_\"real\"__coeff_0  \\\n",
            "001662da857b5a39bb402aacf3145f86                                   1160.082688   \n",
            "001a8da3b83fe77dd0f3a406acb414c2                                    346.478537   \n",
            "001eaa75ad97eff199d914f67b8e32ef                                   1750.109161   \n",
            "001f7deb75b27d8ef5a68204a0bd86a2                                    455.341910   \n",
            "002946d95ca1bc6954858b63c202bbb1                                   2616.695643   \n",
            "...                                                                        ...   \n",
            "ffdb0446f266cdc96fe79b9ff4e5ca35                                    351.204299   \n",
            "ffe343aba3979857c5d268011147d720                                    401.598052   \n",
            "ffeb60427212d142a2aa6dc9fb23713f                                   1138.570433   \n",
            "fffd991bb7f71a047aa7e982fd7ceea8                                   7739.947308   \n",
            "fffdfda358f35cf2d7f9d87d205655a7                                   1447.386311   \n",
            "\n",
            "                                  speed__fft_aggregated__aggtype_\"centroid\"  \\\n",
            "001662da857b5a39bb402aacf3145f86                                   7.281716   \n",
            "001a8da3b83fe77dd0f3a406acb414c2                                   2.858879   \n",
            "001eaa75ad97eff199d914f67b8e32ef                                   7.257688   \n",
            "001f7deb75b27d8ef5a68204a0bd86a2                                   3.016641   \n",
            "002946d95ca1bc6954858b63c202bbb1                                  19.054013   \n",
            "...                                                                     ...   \n",
            "ffdb0446f266cdc96fe79b9ff4e5ca35                                   1.541947   \n",
            "ffe343aba3979857c5d268011147d720                                   2.430485   \n",
            "ffeb60427212d142a2aa6dc9fb23713f                                   3.035254   \n",
            "fffd991bb7f71a047aa7e982fd7ceea8                                  12.045972   \n",
            "fffdfda358f35cf2d7f9d87d205655a7                                   6.751269   \n",
            "\n",
            "                                  speed__fft_coefficient__attr_\"abs\"__coeff_0  \\\n",
            "001662da857b5a39bb402aacf3145f86                                  1160.082688   \n",
            "001a8da3b83fe77dd0f3a406acb414c2                                   346.478537   \n",
            "001eaa75ad97eff199d914f67b8e32ef                                  1750.109161   \n",
            "001f7deb75b27d8ef5a68204a0bd86a2                                   455.341910   \n",
            "002946d95ca1bc6954858b63c202bbb1                                  2616.695643   \n",
            "...                                                                       ...   \n",
            "ffdb0446f266cdc96fe79b9ff4e5ca35                                   351.204299   \n",
            "ffe343aba3979857c5d268011147d720                                   401.598052   \n",
            "ffeb60427212d142a2aa6dc9fb23713f                                  1138.570433   \n",
            "fffd991bb7f71a047aa7e982fd7ceea8                                  7739.947308   \n",
            "fffdfda358f35cf2d7f9d87d205655a7                                  1447.386311   \n",
            "\n",
            "                                  ...  hour  weekday  agg_words  normal_words  \\\n",
            "001662da857b5a39bb402aacf3145f86  ...    21        1          0             0   \n",
            "001a8da3b83fe77dd0f3a406acb414c2  ...    14        6          0             0   \n",
            "001eaa75ad97eff199d914f67b8e32ef  ...    22        0          0             0   \n",
            "001f7deb75b27d8ef5a68204a0bd86a2  ...    19        6          0             0   \n",
            "002946d95ca1bc6954858b63c202bbb1  ...    19        4          0             0   \n",
            "...                               ...   ...      ...        ...           ...   \n",
            "ffdb0446f266cdc96fe79b9ff4e5ca35  ...    23        2          0             0   \n",
            "ffe343aba3979857c5d268011147d720  ...    13        6          0             0   \n",
            "ffeb60427212d142a2aa6dc9fb23713f  ...    21        1          0             0   \n",
            "fffd991bb7f71a047aa7e982fd7ceea8  ...     3        6          0             0   \n",
            "fffdfda358f35cf2d7f9d87d205655a7  ...    19        3          0             0   \n",
            "\n",
            "                                  agg_verbs_rate  agg_adjs_rate  \\\n",
            "001662da857b5a39bb402aacf3145f86             0.0            0.0   \n",
            "001a8da3b83fe77dd0f3a406acb414c2             0.0            0.0   \n",
            "001eaa75ad97eff199d914f67b8e32ef             0.0            0.0   \n",
            "001f7deb75b27d8ef5a68204a0bd86a2             0.0            0.0   \n",
            "002946d95ca1bc6954858b63c202bbb1             0.0            0.0   \n",
            "...                                          ...            ...   \n",
            "ffdb0446f266cdc96fe79b9ff4e5ca35             NaN            NaN   \n",
            "ffe343aba3979857c5d268011147d720             0.0            0.0   \n",
            "ffeb60427212d142a2aa6dc9fb23713f             0.0            0.0   \n",
            "fffd991bb7f71a047aa7e982fd7ceea8             0.0            0.0   \n",
            "fffdfda358f35cf2d7f9d87d205655a7             0.0            0.0   \n",
            "\n",
            "                                  agg_nouns_rate  \\\n",
            "001662da857b5a39bb402aacf3145f86             0.0   \n",
            "001a8da3b83fe77dd0f3a406acb414c2             0.0   \n",
            "001eaa75ad97eff199d914f67b8e32ef             0.0   \n",
            "001f7deb75b27d8ef5a68204a0bd86a2             1.0   \n",
            "002946d95ca1bc6954858b63c202bbb1             0.0   \n",
            "...                                          ...   \n",
            "ffdb0446f266cdc96fe79b9ff4e5ca35             NaN   \n",
            "ffe343aba3979857c5d268011147d720             0.0   \n",
            "ffeb60427212d142a2aa6dc9fb23713f             0.0   \n",
            "fffd991bb7f71a047aa7e982fd7ceea8             0.0   \n",
            "fffdfda358f35cf2d7f9d87d205655a7             0.0   \n",
            "\n",
            "                                  mean_comments_aggressive_rate  \\\n",
            "001662da857b5a39bb402aacf3145f86                       0.000000   \n",
            "001a8da3b83fe77dd0f3a406acb414c2                       0.155310   \n",
            "001eaa75ad97eff199d914f67b8e32ef                       0.154525   \n",
            "001f7deb75b27d8ef5a68204a0bd86a2                       0.154897   \n",
            "002946d95ca1bc6954858b63c202bbb1                       0.154402   \n",
            "...                                                         ...   \n",
            "ffdb0446f266cdc96fe79b9ff4e5ca35                            NaN   \n",
            "ffe343aba3979857c5d268011147d720                       0.154756   \n",
            "ffeb60427212d142a2aa6dc9fb23713f                       0.154978   \n",
            "fffd991bb7f71a047aa7e982fd7ceea8                       0.154591   \n",
            "fffdfda358f35cf2d7f9d87d205655a7                       0.155474   \n",
            "\n",
            "                                  agg_comm_probability  is_comment_y  \n",
            "001662da857b5a39bb402aacf3145f86              0.000000           0.0  \n",
            "001a8da3b83fe77dd0f3a406acb414c2              0.000000           0.0  \n",
            "001eaa75ad97eff199d914f67b8e32ef              0.000000           0.0  \n",
            "001f7deb75b27d8ef5a68204a0bd86a2              0.156064           1.0  \n",
            "002946d95ca1bc6954858b63c202bbb1              0.000000           0.0  \n",
            "...                                                ...           ...  \n",
            "ffdb0446f266cdc96fe79b9ff4e5ca35                   NaN           NaN  \n",
            "ffe343aba3979857c5d268011147d720              0.000000           0.0  \n",
            "ffeb60427212d142a2aa6dc9fb23713f              0.000000           0.0  \n",
            "fffd991bb7f71a047aa7e982fd7ceea8              0.000000           0.0  \n",
            "fffdfda358f35cf2d7f9d87d205655a7              0.000000           0.0  \n",
            "\n",
            "[9000 rows x 144 columns]\n",
            "Result matrix shape: (9000, 144)\n",
            "Train size: (7200, 144)\n",
            "Test size: (1800, 144)\n",
            "TRAIN HEAD: \n",
            "                                   speed__fft_coefficient__attr_\"abs\"__coeff_3  \\\n",
            "e269ffdd307e47338873dae037afd87e                                    29.267806   \n",
            "21279318eace725f719ca995556a4019                                   186.068059   \n",
            "10796ee1694d7db972b323d480b00781                                   308.538082   \n",
            "75773d133623d3905d14405030826059                                   222.072185   \n",
            "ef2247019abe71fcc1af9cde9620d836                                    47.221144   \n",
            "\n",
            "                                  speed__absolute_sum_of_changes  \\\n",
            "e269ffdd307e47338873dae037afd87e                      116.727176   \n",
            "21279318eace725f719ca995556a4019                      950.702603   \n",
            "10796ee1694d7db972b323d480b00781                      576.860606   \n",
            "75773d133623d3905d14405030826059                      995.208925   \n",
            "ef2247019abe71fcc1af9cde9620d836                      686.998975   \n",
            "\n",
            "                                  speed__cid_ce__normalize_False  \\\n",
            "e269ffdd307e47338873dae037afd87e                       41.548298   \n",
            "21279318eace725f719ca995556a4019                      162.429872   \n",
            "10796ee1694d7db972b323d480b00781                      136.685510   \n",
            "75773d133623d3905d14405030826059                      195.958220   \n",
            "ef2247019abe71fcc1af9cde9620d836                      128.065793   \n",
            "\n",
            "                                  speed__count_below_mean  \\\n",
            "e269ffdd307e47338873dae037afd87e                      7.0   \n",
            "21279318eace725f719ca995556a4019                     28.0   \n",
            "10796ee1694d7db972b323d480b00781                     14.0   \n",
            "75773d133623d3905d14405030826059                     45.0   \n",
            "ef2247019abe71fcc1af9cde9620d836                     27.0   \n",
            "\n",
            "                                  speed__number_cwt_peaks__n_5  \\\n",
            "e269ffdd307e47338873dae037afd87e                           3.0   \n",
            "21279318eace725f719ca995556a4019                           6.0   \n",
            "10796ee1694d7db972b323d480b00781                           3.0   \n",
            "75773d133623d3905d14405030826059                           8.0   \n",
            "ef2247019abe71fcc1af9cde9620d836                           6.0   \n",
            "\n",
            "                                  speed__fft_aggregated__aggtype_\"variance\"  \\\n",
            "e269ffdd307e47338873dae037afd87e                                   4.536906   \n",
            "21279318eace725f719ca995556a4019                                  81.813436   \n",
            "10796ee1694d7db972b323d480b00781                                  33.656569   \n",
            "75773d133623d3905d14405030826059                                 104.192580   \n",
            "ef2247019abe71fcc1af9cde9620d836                                  57.211442   \n",
            "\n",
            "                                  speed__sum_values  \\\n",
            "e269ffdd307e47338873dae037afd87e         312.336880   \n",
            "21279318eace725f719ca995556a4019        1963.078358   \n",
            "10796ee1694d7db972b323d480b00781        2749.421198   \n",
            "75773d133623d3905d14405030826059        2397.185369   \n",
            "ef2247019abe71fcc1af9cde9620d836        1781.118104   \n",
            "\n",
            "                                  speed__fft_coefficient__attr_\"real\"__coeff_0  \\\n",
            "e269ffdd307e47338873dae037afd87e                                    312.336880   \n",
            "21279318eace725f719ca995556a4019                                   1963.078358   \n",
            "10796ee1694d7db972b323d480b00781                                   2749.421198   \n",
            "75773d133623d3905d14405030826059                                   2397.185369   \n",
            "ef2247019abe71fcc1af9cde9620d836                                   1781.118104   \n",
            "\n",
            "                                  speed__fft_aggregated__aggtype_\"centroid\"  \\\n",
            "e269ffdd307e47338873dae037afd87e                                   1.396784   \n",
            "21279318eace725f719ca995556a4019                                   7.817345   \n",
            "10796ee1694d7db972b323d480b00781                                   3.738514   \n",
            "75773d133623d3905d14405030826059                                   8.919037   \n",
            "ef2247019abe71fcc1af9cde9620d836                                   6.126819   \n",
            "\n",
            "                                  speed__fft_coefficient__attr_\"abs\"__coeff_0  \\\n",
            "e269ffdd307e47338873dae037afd87e                                   312.336880   \n",
            "21279318eace725f719ca995556a4019                                  1963.078358   \n",
            "10796ee1694d7db972b323d480b00781                                  2749.421198   \n",
            "75773d133623d3905d14405030826059                                  2397.185369   \n",
            "ef2247019abe71fcc1af9cde9620d836                                  1781.118104   \n",
            "\n",
            "                                  ...  hour  weekday  agg_words  normal_words  \\\n",
            "e269ffdd307e47338873dae037afd87e  ...    14        6          0             0   \n",
            "21279318eace725f719ca995556a4019  ...     0        5          0             0   \n",
            "10796ee1694d7db972b323d480b00781  ...    23        5          0             0   \n",
            "75773d133623d3905d14405030826059  ...     8        2          0             0   \n",
            "ef2247019abe71fcc1af9cde9620d836  ...    13        4          0             0   \n",
            "\n",
            "                                  agg_verbs_rate  agg_adjs_rate  \\\n",
            "e269ffdd307e47338873dae037afd87e             0.0            0.0   \n",
            "21279318eace725f719ca995556a4019             0.0            0.0   \n",
            "10796ee1694d7db972b323d480b00781             0.0            0.0   \n",
            "75773d133623d3905d14405030826059             0.0            0.0   \n",
            "ef2247019abe71fcc1af9cde9620d836             0.0            0.0   \n",
            "\n",
            "                                  agg_nouns_rate  \\\n",
            "e269ffdd307e47338873dae037afd87e             0.0   \n",
            "21279318eace725f719ca995556a4019             0.0   \n",
            "10796ee1694d7db972b323d480b00781             0.0   \n",
            "75773d133623d3905d14405030826059             0.0   \n",
            "ef2247019abe71fcc1af9cde9620d836             0.0   \n",
            "\n",
            "                                  mean_comments_aggressive_rate  \\\n",
            "e269ffdd307e47338873dae037afd87e                       0.000000   \n",
            "21279318eace725f719ca995556a4019                       0.154645   \n",
            "10796ee1694d7db972b323d480b00781                       0.155071   \n",
            "75773d133623d3905d14405030826059                       0.155055   \n",
            "ef2247019abe71fcc1af9cde9620d836                       0.000000   \n",
            "\n",
            "                                  agg_comm_probability  is_comment_y  \n",
            "e269ffdd307e47338873dae037afd87e                   0.0           0.0  \n",
            "21279318eace725f719ca995556a4019                   0.0           0.0  \n",
            "10796ee1694d7db972b323d480b00781                   0.0           0.0  \n",
            "75773d133623d3905d14405030826059                   0.0           0.0  \n",
            "ef2247019abe71fcc1af9cde9620d836                   0.0           0.0  \n",
            "\n",
            "[5 rows x 144 columns]\n",
            "y_TRAIN\n",
            "order_id\n",
            "e269ffdd307e47338873dae037afd87e    0.0\n",
            "21279318eace725f719ca995556a4019    0.0\n",
            "10796ee1694d7db972b323d480b00781    0.0\n",
            "75773d133623d3905d14405030826059    0.0\n",
            "ef2247019abe71fcc1af9cde9620d836    0.0\n",
            "Name: is_aggressive, dtype: float64\n",
            "X_TRAIN\n",
            "                                  speed__fft_coefficient__attr_\"abs\"__coeff_3  \\\n",
            "e269ffdd307e47338873dae037afd87e                                    29.267806   \n",
            "21279318eace725f719ca995556a4019                                   186.068059   \n",
            "10796ee1694d7db972b323d480b00781                                   308.538082   \n",
            "75773d133623d3905d14405030826059                                   222.072185   \n",
            "ef2247019abe71fcc1af9cde9620d836                                    47.221144   \n",
            "\n",
            "                                  speed__absolute_sum_of_changes  \\\n",
            "e269ffdd307e47338873dae037afd87e                      116.727176   \n",
            "21279318eace725f719ca995556a4019                      950.702603   \n",
            "10796ee1694d7db972b323d480b00781                      576.860606   \n",
            "75773d133623d3905d14405030826059                      995.208925   \n",
            "ef2247019abe71fcc1af9cde9620d836                      686.998975   \n",
            "\n",
            "                                  speed__cid_ce__normalize_False  \\\n",
            "e269ffdd307e47338873dae037afd87e                       41.548298   \n",
            "21279318eace725f719ca995556a4019                      162.429872   \n",
            "10796ee1694d7db972b323d480b00781                      136.685510   \n",
            "75773d133623d3905d14405030826059                      195.958220   \n",
            "ef2247019abe71fcc1af9cde9620d836                      128.065793   \n",
            "\n",
            "                                  speed__count_below_mean  \\\n",
            "e269ffdd307e47338873dae037afd87e                      7.0   \n",
            "21279318eace725f719ca995556a4019                     28.0   \n",
            "10796ee1694d7db972b323d480b00781                     14.0   \n",
            "75773d133623d3905d14405030826059                     45.0   \n",
            "ef2247019abe71fcc1af9cde9620d836                     27.0   \n",
            "\n",
            "                                  speed__number_cwt_peaks__n_5  \\\n",
            "e269ffdd307e47338873dae037afd87e                           3.0   \n",
            "21279318eace725f719ca995556a4019                           6.0   \n",
            "10796ee1694d7db972b323d480b00781                           3.0   \n",
            "75773d133623d3905d14405030826059                           8.0   \n",
            "ef2247019abe71fcc1af9cde9620d836                           6.0   \n",
            "\n",
            "                                  speed__fft_aggregated__aggtype_\"variance\"  \\\n",
            "e269ffdd307e47338873dae037afd87e                                   4.536906   \n",
            "21279318eace725f719ca995556a4019                                  81.813436   \n",
            "10796ee1694d7db972b323d480b00781                                  33.656569   \n",
            "75773d133623d3905d14405030826059                                 104.192580   \n",
            "ef2247019abe71fcc1af9cde9620d836                                  57.211442   \n",
            "\n",
            "                                  speed__sum_values  \\\n",
            "e269ffdd307e47338873dae037afd87e         312.336880   \n",
            "21279318eace725f719ca995556a4019        1963.078358   \n",
            "10796ee1694d7db972b323d480b00781        2749.421198   \n",
            "75773d133623d3905d14405030826059        2397.185369   \n",
            "ef2247019abe71fcc1af9cde9620d836        1781.118104   \n",
            "\n",
            "                                  speed__fft_coefficient__attr_\"real\"__coeff_0  \\\n",
            "e269ffdd307e47338873dae037afd87e                                    312.336880   \n",
            "21279318eace725f719ca995556a4019                                   1963.078358   \n",
            "10796ee1694d7db972b323d480b00781                                   2749.421198   \n",
            "75773d133623d3905d14405030826059                                   2397.185369   \n",
            "ef2247019abe71fcc1af9cde9620d836                                   1781.118104   \n",
            "\n",
            "                                  speed__fft_aggregated__aggtype_\"centroid\"  \\\n",
            "e269ffdd307e47338873dae037afd87e                                   1.396784   \n",
            "21279318eace725f719ca995556a4019                                   7.817345   \n",
            "10796ee1694d7db972b323d480b00781                                   3.738514   \n",
            "75773d133623d3905d14405030826059                                   8.919037   \n",
            "ef2247019abe71fcc1af9cde9620d836                                   6.126819   \n",
            "\n",
            "                                  speed__fft_coefficient__attr_\"abs\"__coeff_0  \\\n",
            "e269ffdd307e47338873dae037afd87e                                   312.336880   \n",
            "21279318eace725f719ca995556a4019                                  1963.078358   \n",
            "10796ee1694d7db972b323d480b00781                                  2749.421198   \n",
            "75773d133623d3905d14405030826059                                  2397.185369   \n",
            "ef2247019abe71fcc1af9cde9620d836                                  1781.118104   \n",
            "\n",
            "                                  ...  hour  weekday  agg_words  normal_words  \\\n",
            "e269ffdd307e47338873dae037afd87e  ...    14        6          0             0   \n",
            "21279318eace725f719ca995556a4019  ...     0        5          0             0   \n",
            "10796ee1694d7db972b323d480b00781  ...    23        5          0             0   \n",
            "75773d133623d3905d14405030826059  ...     8        2          0             0   \n",
            "ef2247019abe71fcc1af9cde9620d836  ...    13        4          0             0   \n",
            "\n",
            "                                  agg_verbs_rate  agg_adjs_rate  \\\n",
            "e269ffdd307e47338873dae037afd87e             0.0            0.0   \n",
            "21279318eace725f719ca995556a4019             0.0            0.0   \n",
            "10796ee1694d7db972b323d480b00781             0.0            0.0   \n",
            "75773d133623d3905d14405030826059             0.0            0.0   \n",
            "ef2247019abe71fcc1af9cde9620d836             0.0            0.0   \n",
            "\n",
            "                                  agg_nouns_rate  \\\n",
            "e269ffdd307e47338873dae037afd87e             0.0   \n",
            "21279318eace725f719ca995556a4019             0.0   \n",
            "10796ee1694d7db972b323d480b00781             0.0   \n",
            "75773d133623d3905d14405030826059             0.0   \n",
            "ef2247019abe71fcc1af9cde9620d836             0.0   \n",
            "\n",
            "                                  mean_comments_aggressive_rate  \\\n",
            "e269ffdd307e47338873dae037afd87e                       0.000000   \n",
            "21279318eace725f719ca995556a4019                       0.154645   \n",
            "10796ee1694d7db972b323d480b00781                       0.155071   \n",
            "75773d133623d3905d14405030826059                       0.155055   \n",
            "ef2247019abe71fcc1af9cde9620d836                       0.000000   \n",
            "\n",
            "                                  agg_comm_probability  is_comment_y  \n",
            "e269ffdd307e47338873dae037afd87e                   0.0           0.0  \n",
            "21279318eace725f719ca995556a4019                   0.0           0.0  \n",
            "10796ee1694d7db972b323d480b00781                   0.0           0.0  \n",
            "75773d133623d3905d14405030826059                   0.0           0.0  \n",
            "ef2247019abe71fcc1af9cde9620d836                   0.0           0.0  \n",
            "\n",
            "[5 rows x 144 columns]\n"
          ]
        },
        {
          "output_type": "error",
          "ename": "TypeError",
          "evalue": "fit() got an unexpected keyword argument 'categorical'",
          "traceback": [
            "\u001b[0;31m---------------------------------------------------------------------------\u001b[0m",
            "\u001b[0;31mTypeError\u001b[0m                                 Traceback (most recent call last)",
            "\u001b[0;32m<ipython-input-6-f2a6da18c2c2>\u001b[0m in \u001b[0;36m<module>\u001b[0;34m\u001b[0m\n\u001b[1;32m      4\u001b[0m \u001b[0mmodel_supervised\u001b[0m \u001b[0;34m=\u001b[0m \u001b[0mModel\u001b[0m\u001b[0;34m(\u001b[0m\u001b[0;34m)\u001b[0m\u001b[0;34m\u001b[0m\u001b[0;34m\u001b[0m\u001b[0m\n\u001b[1;32m      5\u001b[0m \u001b[0;34m\u001b[0m\u001b[0m\n\u001b[0;32m----> 6\u001b[0;31m \u001b[0mmodel_supervised\u001b[0m\u001b[0;34m.\u001b[0m\u001b[0mfit\u001b[0m\u001b[0;34m(\u001b[0m\u001b[0mX_\u001b[0m\u001b[0;34m,\u001b[0m \u001b[0mnumeric_features\u001b[0m\u001b[0;34m,\u001b[0m \u001b[0mcategorical_features\u001b[0m\u001b[0;34m,\u001b[0m \u001b[0mtracks\u001b[0m\u001b[0;34m=\u001b[0m\u001b[0mtracks_labled\u001b[0m\u001b[0;34m)\u001b[0m\u001b[0;34m\u001b[0m\u001b[0;34m\u001b[0m\u001b[0m\n\u001b[0m",
            "\u001b[0;32m<ipython-input-4-d8313ed29e65>\u001b[0m in \u001b[0;36mfit\u001b[0;34m(self, X, numeric_features, categorical_features, tracks, cross_validation, random_state)\u001b[0m\n\u001b[1;32m    243\u001b[0m         \u001b[0;32mif\u001b[0m \u001b[0;34m(\u001b[0m\u001b[0;32mnot\u001b[0m \u001b[0mcross_validation\u001b[0m\u001b[0;34m)\u001b[0m\u001b[0;34m:\u001b[0m\u001b[0;34m\u001b[0m\u001b[0;34m\u001b[0m\u001b[0m\n\u001b[1;32m    244\u001b[0m             \u001b[0mX_train\u001b[0m\u001b[0;34m,\u001b[0m \u001b[0mX_test\u001b[0m\u001b[0;34m,\u001b[0m \u001b[0my_train\u001b[0m\u001b[0;34m,\u001b[0m \u001b[0my_test\u001b[0m \u001b[0;34m=\u001b[0m \u001b[0mself\u001b[0m\u001b[0;34m.\u001b[0m\u001b[0mtrain_test_split_\u001b[0m\u001b[0;34m(\u001b[0m\u001b[0mres_matrix\u001b[0m\u001b[0;34m,\u001b[0m \u001b[0my_\u001b[0m\u001b[0;34m,\u001b[0m \u001b[0mtest_size\u001b[0m\u001b[0;34m=\u001b[0m\u001b[0;36m0.2\u001b[0m\u001b[0;34m,\u001b[0m \u001b[0mrandom_state\u001b[0m\u001b[0;34m=\u001b[0m\u001b[0mrandom_state\u001b[0m\u001b[0;34m)\u001b[0m\u001b[0;34m\u001b[0m\u001b[0;34m\u001b[0m\u001b[0m\n\u001b[0;32m--> 245\u001b[0;31m             \u001b[0;32mreturn\u001b[0m \u001b[0mself\u001b[0m\u001b[0;34m.\u001b[0m\u001b[0mtrain\u001b[0m\u001b[0;34m(\u001b[0m\u001b[0mX_train\u001b[0m\u001b[0;34m,\u001b[0m \u001b[0mX_test\u001b[0m\u001b[0;34m,\u001b[0m \u001b[0my_train\u001b[0m\u001b[0;34m,\u001b[0m \u001b[0my_test\u001b[0m\u001b[0;34m,\u001b[0m \u001b[0mcategorical_features\u001b[0m\u001b[0;34m)\u001b[0m\u001b[0;34m\u001b[0m\u001b[0;34m\u001b[0m\u001b[0m\n\u001b[0m\u001b[1;32m    246\u001b[0m         \u001b[0;32melse\u001b[0m\u001b[0;34m:\u001b[0m\u001b[0;34m\u001b[0m\u001b[0;34m\u001b[0m\u001b[0m\n\u001b[1;32m    247\u001b[0m             \u001b[0;32mreturn\u001b[0m \u001b[0mself\u001b[0m\u001b[0;34m.\u001b[0m\u001b[0mtrain_cross_validation\u001b[0m\u001b[0;34m(\u001b[0m\u001b[0mX_\u001b[0m\u001b[0;34m,\u001b[0m \u001b[0my_\u001b[0m\u001b[0;34m,\u001b[0m \u001b[0;36m5\u001b[0m\u001b[0;34m,\u001b[0m \u001b[0mcategorical_features\u001b[0m\u001b[0;34m,\u001b[0m \u001b[0mrandom_state\u001b[0m\u001b[0;34m=\u001b[0m\u001b[0mrandom_state\u001b[0m\u001b[0;34m)\u001b[0m\u001b[0;34m\u001b[0m\u001b[0;34m\u001b[0m\u001b[0m\n",
            "\u001b[0;32m<ipython-input-4-d8313ed29e65>\u001b[0m in \u001b[0;36mtrain\u001b[0;34m(self, X_train, X_test, y_train, y_test, categorical_feature, random_state)\u001b[0m\n\u001b[1;32m    129\u001b[0m                            random_state=random_state)\n\u001b[1;32m    130\u001b[0m         \u001b[0;31m#self.model.select_features(X_train, y_train,(X_test, y_test), features_for_select = '')\u001b[0m\u001b[0;34m\u001b[0m\u001b[0;34m\u001b[0m\u001b[0;34m\u001b[0m\u001b[0m\n\u001b[0;32m--> 131\u001b[0;31m         \u001b[0mself\u001b[0m\u001b[0;34m.\u001b[0m\u001b[0mmodel\u001b[0m\u001b[0;34m.\u001b[0m\u001b[0mfit\u001b[0m\u001b[0;34m(\u001b[0m\u001b[0mX_train\u001b[0m\u001b[0;34m,\u001b[0m \u001b[0my_train\u001b[0m\u001b[0;34m,\u001b[0m \u001b[0mcategorical\u001b[0m\u001b[0;34m=\u001b[0m\u001b[0mcategorical_feature\u001b[0m\u001b[0;34m)\u001b[0m\u001b[0;34m\u001b[0m\u001b[0;34m\u001b[0m\u001b[0m\n\u001b[0m\u001b[1;32m    132\u001b[0m \u001b[0;34m\u001b[0m\u001b[0m\n\u001b[1;32m    133\u001b[0m         \u001b[0mprint\u001b[0m\u001b[0;34m(\u001b[0m\u001b[0my_test\u001b[0m\u001b[0;34m.\u001b[0m\u001b[0mshape\u001b[0m\u001b[0;34m)\u001b[0m\u001b[0;34m\u001b[0m\u001b[0;34m\u001b[0m\u001b[0m\n",
            "\u001b[0;31mTypeError\u001b[0m: fit() got an unexpected keyword argument 'categorical'"
          ]
        }
      ],
      "metadata": {
        "id": "l5W_90wZx5JG"
      }
    },
    {
      "cell_type": "code",
      "execution_count": null,
      "source": [
        "predictions = model_supervised.predict(X_, add_feat=True, tracks=tracks_labled)"
      ],
      "outputs": [
        {
          "output_type": "stream",
          "name": "stdout",
          "text": [
            "Preprocessing tracks data...\n",
            "    Begin shape: (395687, 7)\n"
          ]
        },
        {
          "output_type": "stream",
          "name": "stderr",
          "text": [
            "100%|██████████| 9000/9000 [03:51<00:00, 38.90it/s]\n"
          ]
        },
        {
          "output_type": "stream",
          "name": "stdout",
          "text": [
            "    Shape after preprocessing: (9257, 1)\n",
            "Training MiniRocket...\n",
            "MiniRocket transforming...\n",
            "    Shape before transform: (9257, 1)\n"
          ]
        }
      ],
      "metadata": {
        "colab": {
          "base_uri": "https://localhost:8080/"
        },
        "id": "UIM7vNo4Uw-i",
        "outputId": "9982f0cc-b83d-4707-aa59-e136684bf63e"
      }
    },
    {
      "cell_type": "code",
      "execution_count": null,
      "source": [
        "predictions.sum()"
      ],
      "outputs": [
        {
          "output_type": "execute_result",
          "data": {
            "text/plain": [
              "23"
            ]
          },
          "metadata": {
            "tags": []
          },
          "execution_count": 383
        }
      ],
      "metadata": {
        "colab": {
          "base_uri": "https://localhost:8080/"
        },
        "id": "JcDiAhYaYXlx",
        "outputId": "1f3215e9-5f2c-416c-8a82-6fdb65cbc7f6"
      }
    },
    {
      "cell_type": "code",
      "execution_count": null,
      "source": [
        "model_cv = Model()\n",
        "\n",
        "model_cv.fit(X_, y_, numeric_features, categorical_features, cross_validation = True)"
      ],
      "outputs": [],
      "metadata": {
        "scrolled": false,
        "id": "TBM0T9fax5JH"
      }
    },
    {
      "cell_type": "markdown",
      "source": [
        "# Semi-supervised train"
      ],
      "metadata": {
        "id": "PTweSMJMx5JH"
      }
    },
    {
      "cell_type": "markdown",
      "source": [
        "## Preprocessing"
      ],
      "metadata": {
        "id": "GTkhnZoHx5JI"
      }
    },
    {
      "cell_type": "code",
      "execution_count": null,
      "source": [
        "X_unlab = pd.read_csv('/content/drive/MyDrive/aiijc_transport_simpleteam/data/base_files/unlabled_train_data.csv', index_col=0, sep='\\t', comment='#')\n",
        "comments_unlabeled = pd.read_csv('/content/drive/MyDrive/aiijc_transport_simpleteam/data/base_files/unlabled_train_comments.csv', index_col=0, sep='\\t', comment='#')\n",
        "tracks_unlabeled = pd.read_csv('/content/drive/MyDrive/aiijc_transport_simpleteam/data/base_files/unlabled_train_tracks.csv', index_col=0, sep='\\t', comment='#')\n",
        "\n",
        "X_unlab['client_rate_ride'] = X_unlab['client_rate_ride'].fillna(X_unlab['client_rate_ride'].mean())\n",
        "X_unlab['client_rides_cnt'] = X_unlab['client_rides_cnt'].fillna(X_unlab['client_rides_cnt'].mean())\n",
        "X_unlab['driver_rides_cnt'] = X_unlab['driver_rides_cnt'].fillna(X_unlab['driver_rides_cnt'].mean())"
      ],
      "outputs": [],
      "metadata": {
        "id": "faMhkd_2x5JI"
      }
    },
    {
      "cell_type": "code",
      "execution_count": null,
      "source": [
        "sum(X_unlab.comment.isna()) / len(X_unlab.comment)"
      ],
      "outputs": [
        {
          "output_type": "execute_result",
          "data": {
            "text/plain": [
              "0.64866629360194"
            ]
          },
          "metadata": {
            "tags": []
          },
          "execution_count": 31
        }
      ],
      "metadata": {
        "colab": {
          "base_uri": "https://localhost:8080/"
        },
        "id": "murUE39Rx5JJ",
        "outputId": "70f08b78-8dac-4307-c4ad-8ed28793190d"
      }
    },
    {
      "cell_type": "code",
      "execution_count": null,
      "source": [
        "np.where(X_unlab.comment.isna())[0]"
      ],
      "outputs": [
        {
          "output_type": "execute_result",
          "data": {
            "text/plain": [
              "array([ 2762,  3239,  3574, ..., 10719, 10720, 10721])"
            ]
          },
          "metadata": {
            "tags": []
          },
          "execution_count": 32
        }
      ],
      "metadata": {
        "colab": {
          "base_uri": "https://localhost:8080/"
        },
        "id": "P9_4PR_xx5JJ",
        "outputId": "b239c8f3-424b-4815-cf7f-f770685f6afa"
      }
    },
    {
      "cell_type": "code",
      "execution_count": null,
      "source": [
        "for nanIndex in np.where(X_unlab.comment.isna())[0]:\n",
        "    obj_comment = comments_unlabeled.loc[nanIndex]\n",
        "    \n",
        "    if (len(obj_comment) != 0):\n",
        "        X_unlab.comment.iloc[nanIndex] = obj_comment.comment"
      ],
      "outputs": [],
      "metadata": {
        "scrolled": true,
        "id": "LTfgggjLx5JJ"
      }
    },
    {
      "cell_type": "code",
      "execution_count": null,
      "source": [
        "sum(X_unlab.comment.isna()) / len(X_unlab.comment)"
      ],
      "outputs": [
        {
          "output_type": "execute_result",
          "data": {
            "text/plain": [
              "0.00018653236336504383"
            ]
          },
          "metadata": {
            "tags": []
          },
          "execution_count": 34
        }
      ],
      "metadata": {
        "colab": {
          "base_uri": "https://localhost:8080/"
        },
        "id": "hUvW5EXYx5JJ",
        "outputId": "6ce4fadd-d067-4cae-e1f9-25132348ea51"
      }
    },
    {
      "cell_type": "code",
      "execution_count": null,
      "source": [
        "X_unlab.comment.iloc[np.where(X_unlab.comment.isna())[0]] = \"---\""
      ],
      "outputs": [],
      "metadata": {
        "id": "2UH_STafx5JK"
      }
    },
    {
      "cell_type": "markdown",
      "source": [
        "## Prediction&filling"
      ],
      "metadata": {
        "id": "UqEQmfo0x5JK"
      }
    },
    {
      "cell_type": "code",
      "execution_count": null,
      "source": [
        "y_unlab = model_supervised.predict_thresh(X_unlab, 0.99, 0.001)"
      ],
      "outputs": [
        {
          "output_type": "stream",
          "name": "stdout",
          "text": [
            "Thresh above: 0.003357582540570789\n",
            "Thresh below: 0.0\n"
          ]
        }
      ],
      "metadata": {
        "colab": {
          "base_uri": "https://localhost:8080/"
        },
        "id": "TSEcB99Ex5JK",
        "outputId": "0b278408-1f90-4617-bf0d-b25381fc25ac"
      }
    },
    {
      "cell_type": "code",
      "execution_count": null,
      "source": [
        "y_unlab.name = \"is_aggressive\""
      ],
      "outputs": [],
      "metadata": {
        "id": "I_hR7Co0x5JK"
      }
    },
    {
      "cell_type": "code",
      "execution_count": null,
      "source": [
        "y_unlab.value_counts()"
      ],
      "outputs": [
        {
          "output_type": "execute_result",
          "data": {
            "text/plain": [
              "-1    10686\n",
              " 1       36\n",
              "Name: is_aggressive, dtype: int64"
            ]
          },
          "metadata": {
            "tags": []
          },
          "execution_count": 38
        }
      ],
      "metadata": {
        "scrolled": true,
        "colab": {
          "base_uri": "https://localhost:8080/"
        },
        "id": "_qKiVFbKx5JK",
        "outputId": "943ed4b0-8e91-40ed-955f-c82bb176e075"
      }
    },
    {
      "cell_type": "code",
      "execution_count": null,
      "source": [
        "X_unlab_lab = X_unlab.iloc[np.where(y_unlab != -1)]\n",
        "y_unlab_lab = y_unlab.iloc[np.where(y_unlab != -1)]"
      ],
      "outputs": [],
      "metadata": {
        "id": "VcTdG9nWx5JL"
      }
    },
    {
      "cell_type": "code",
      "execution_count": null,
      "source": [
        "X_unlab_lab.comment"
      ],
      "outputs": [
        {
          "output_type": "execute_result",
          "data": {
            "text/plain": [
              "7        1)Водитель играл в «шашки» на дороге и игрался...\n",
              "202              2 раза списали деньги, верните пожалуйста\n",
              "351      засыпал за рулём,  съезжал с дороги, приходило...\n",
              "551               резкие повороты. водитель резко тормозил\n",
              "568      Водитель смотрит кино на втором телефоне, проп...\n",
              "705      Вел медленно по бордовым дорогам, сказал «пешк...\n",
              "1317     Водитель резко тормозил, обгонял, кричал на др...\n",
              "1378                             Водитель вел себя грубо. \n",
              "1634     Водитель постоянно громко разговаривал на своё...\n",
              "1667     Водитель в возрасте, несколько раз отвечал на ...\n",
              "1707     Водитель 2 раза поругался с другими таксистами...\n",
              "1975     Водитель опасно вел автомобиль. Было ощущение ...\n",
              "2221     Водитель явно засыпал за рулём, постоянно зева...\n",
              "2261      Приехала другая машина вместо указанной в заказе\n",
              "2302                       Водитель неадекватно себя вёл, \n",
              "2346     Проехал на красный свет дважды на перекрестках...\n",
              "2472                      водит опасно и очень неаккуратно\n",
              "2890                           Резкие повороты на скорости\n",
              "2926     Водитель ехал по выделенной полосе со скорость...\n",
              "3113     Водитель был не пристегнут, вульгарно общался ...\n",
              "3605     Опасное вождение, даже укачало. Отличался номе...\n",
              "3640     водительница очень резко тормозит каждый раз, ...\n",
              "3845     приехал не туда,пришлось идти ,прокурен салон ...\n",
              "3902     Водитель не нажал кнопку \"начать поездку\" и с ...\n",
              "4369     Не понимает когда человек говорить не хочет, г...\n",
              "4553     Не доехали до конечной точки. То ли ошибка при...\n",
              "4658     Грязно в машине ,сидения в пятнах ,резко тормо...\n",
              "5819     я первый раз в жизни ездила с таким водителем,...\n",
              "7431     Заехал на заправку не предупредив, хотя мы опа...\n",
              "8506     не смогла перевести деньги. водитель позвоните...\n",
              "8660              Водитель создал аварийную ситуацию !!!! \n",
              "8837                    почему от меня личный деньги снял,\n",
              "9021     Водитель постоянно открывал дверь и харкал; ма...\n",
              "9862     ужасно медленный водитель, ехал 40-50 км в час...\n",
              "10369    водитель хамит, постоянно переписывается в мес...\n",
              "10711    высадил меня прямо посреди большой лужи со сне...\n",
              "Name: comment, dtype: object"
            ]
          },
          "metadata": {
            "tags": []
          },
          "execution_count": 40
        }
      ],
      "metadata": {
        "scrolled": true,
        "colab": {
          "base_uri": "https://localhost:8080/"
        },
        "id": "mz7y4knWx5JL",
        "outputId": "368b8e8c-6e05-4de5-bbc3-f7c8fc6ead77"
      }
    },
    {
      "cell_type": "code",
      "execution_count": null,
      "source": [
        "X_unlab_lab.is_comment.value_counts()"
      ],
      "outputs": [
        {
          "output_type": "execute_result",
          "data": {
            "text/plain": [
              "1    36\n",
              "Name: is_comment, dtype: int64"
            ]
          },
          "metadata": {
            "tags": []
          },
          "execution_count": 41
        }
      ],
      "metadata": {
        "colab": {
          "base_uri": "https://localhost:8080/"
        },
        "id": "2kETFZg8x5JL",
        "outputId": "66154712-a8b9-4a42-e0c3-9c77639423f8"
      }
    },
    {
      "cell_type": "markdown",
      "source": [
        "## Train"
      ],
      "metadata": {
        "id": "oW92gZ9-x5JL"
      }
    },
    {
      "cell_type": "code",
      "execution_count": null,
      "source": [
        "model_semisupervised = Model()\n",
        "\n",
        "model_semisupervised.fit_ss(X_, y_, numeric_features, categorical_features, X_unlab_lab, y_unlab_lab)"
      ],
      "outputs": [
        {
          "output_type": "stream",
          "name": "stdout",
          "text": [
            "Train size: (7229, 14)\n",
            "Test size: (1798, 14)\n"
          ]
        },
        {
          "output_type": "execute_result",
          "data": {
            "text/plain": [
              "0.8488724212067151"
            ]
          },
          "metadata": {
            "tags": []
          },
          "execution_count": 42
        }
      ],
      "metadata": {
        "scrolled": false,
        "colab": {
          "base_uri": "https://localhost:8080/"
        },
        "id": "HKxX4spJx5JM",
        "outputId": "34cde40f-1bff-4222-de55-67c2e9ef09e5"
      }
    },
    {
      "cell_type": "code",
      "execution_count": null,
      "source": [
        "model_ss_cv = Model()\n",
        "\n",
        "model_ss_cv.fit_ss(X_, y_, numeric_features, categorical_features, X_unlab_lab, y_unlab_lab, cross_validation=True)"
      ],
      "outputs": [
        {
          "output_type": "stream",
          "name": "stdout",
          "text": [
            "Part size: 1800.0\n",
            "Train size: (7224, 14)\n",
            "Test size: (1791, 14)\n",
            "Chunk 0; Score: 0.7396306537625914\n",
            "Train size: (7228, 14)\n",
            "Test size: (1797, 14)\n",
            "Chunk 1; Score: 0.742049078955933\n",
            "Train size: (7224, 14)\n",
            "Test size: (1794, 14)\n",
            "Chunk 2; Score: 0.7889097744360902\n",
            "Train size: (7225, 14)\n",
            "Test size: (1790, 14)\n",
            "Chunk 3; Score: 0.7370420937809273\n",
            "Train size: (7226, 14)\n",
            "Test size: (1792, 14)\n",
            "Chunk 4; Score: 0.85435199720914\n",
            "Mean score: 0.7723967196289363\n"
          ]
        },
        {
          "output_type": "execute_result",
          "data": {
            "text/plain": [
              "[((0.0, 1800.0), 0.7396306537625914),\n",
              " ((1800.0, 3600.0), 0.742049078955933),\n",
              " ((3600.0, 5400.0), 0.7889097744360902),\n",
              " ((5400.0, 7200.0), 0.7370420937809273),\n",
              " ((7200.0, 9000.0), 0.85435199720914)]"
            ]
          },
          "metadata": {
            "tags": []
          },
          "execution_count": 43
        }
      ],
      "metadata": {
        "colab": {
          "base_uri": "https://localhost:8080/"
        },
        "id": "3QuIHA4Ux5JM",
        "outputId": "ef68e8cb-f1a5-4175-bf3f-e0a62b4c5d6e"
      }
    },
    {
      "cell_type": "markdown",
      "source": [
        "# Prediction"
      ],
      "metadata": {
        "id": "7riHsyVAzwLC"
      }
    },
    {
      "cell_type": "code",
      "execution_count": null,
      "source": [
        "X_test = pd.read_csv('/content/drive/MyDrive/aiijc_transport_simpleteam/data/base_files/labled_test_data.csv', index_col=0, sep='\\t', comment='#')\n",
        "tracks_test = pd.read_csv('/content/drive/MyDrive/aiijc_transport_simpleteam/data/base_files/labled_test_tracks.csv', index_col=0, sep='\\t', comment='#')"
      ],
      "outputs": [],
      "metadata": {
        "id": "RsJBImFvzvoy"
      }
    },
    {
      "cell_type": "code",
      "execution_count": null,
      "source": [
        "tracks_test.groupby('order_id').size()"
      ],
      "outputs": [
        {
          "output_type": "execute_result",
          "data": {
            "text/plain": [
              "order_id\n",
              "000d9cf4365ad8be9b559951d0d945c7     12\n",
              "00287e34dd884a2a69c80346541d2aef     64\n",
              "00307c7812842b1159781c2c6375944a     41\n",
              "0061e7abbe5544c40781ba2816b3e026     61\n",
              "0074b0c828084e05c28035487ad2a130     82\n",
              "                                   ... \n",
              "ff209045501b1f25e8729a96a215a3d2     97\n",
              "ff4c5997ed87ff37a3c215bab2c0916e     49\n",
              "ff6873cfaccafec937bbed29e317d3e2     91\n",
              "ff9745e14cda84a4550b528a8d9aa4de    103\n",
              "ffd2c55165c42430793423c93211bd46     53\n",
              "Length: 1272, dtype: int64"
            ]
          },
          "metadata": {
            "tags": []
          },
          "execution_count": 411
        }
      ],
      "metadata": {
        "colab": {
          "base_uri": "https://localhost:8080/"
        },
        "id": "JvU1xokzB_th",
        "outputId": "9547275e-40b1-47f6-b0e1-d35ea8318266"
      }
    },
    {
      "cell_type": "code",
      "execution_count": null,
      "source": [
        "result_series = pd.Series(model_supervised.predict(X_test, add_feat=True, tracks=tracks_test))"
      ],
      "outputs": [
        {
          "output_type": "stream",
          "name": "stdout",
          "text": [
            "Preprocessing tracks data...\n",
            "    Begin shape: (71432, 5)\n"
          ]
        },
        {
          "output_type": "stream",
          "name": "stderr",
          "text": [
            "100%|██████████| 1272/1272 [00:09<00:00, 133.88it/s]\n"
          ]
        },
        {
          "output_type": "stream",
          "name": "stdout",
          "text": [
            "    Shape after preprocessing: (1966, 1)\n",
            "Training MiniRocket...\n",
            "MiniRocket transforming...\n",
            "    Shape before transform: (1966, 1)\n"
          ]
        }
      ],
      "metadata": {
        "id": "876gjCvrCBQw",
        "colab": {
          "base_uri": "https://localhost:8080/"
        },
        "outputId": "b9b03573-e227-4dc9-adee-77c198074629"
      }
    },
    {
      "cell_type": "code",
      "execution_count": null,
      "source": [
        "result_series.sum()"
      ],
      "outputs": [
        {
          "output_type": "execute_result",
          "data": {
            "text/plain": [
              "40"
            ]
          },
          "metadata": {
            "tags": []
          },
          "execution_count": 415
        }
      ],
      "metadata": {
        "colab": {
          "base_uri": "https://localhost:8080/"
        },
        "id": "L8b3DVpabnZS",
        "outputId": "c1e09beb-4120-4943-c435-9b3517c3e965"
      }
    },
    {
      "cell_type": "code",
      "execution_count": null,
      "source": [
        "result_series = pd.Series(model_supervised.predict(X_test))\n",
        "# result_series = pd.Series(model_semisupervised.predict(X_test))\n",
        "# result_series = pd.Series(np.zeros(X_test.shape[0]))"
      ],
      "outputs": [],
      "metadata": {
        "id": "0aS614MU2hD5"
      }
    },
    {
      "cell_type": "code",
      "execution_count": null,
      "source": [
        "result_series.shape[0], tracks_result.shape[0]"
      ],
      "outputs": [
        {
          "output_type": "execute_result",
          "data": {
            "text/plain": [
              "(1272, 1966)"
            ]
          },
          "metadata": {
            "tags": []
          },
          "execution_count": 367
        }
      ],
      "metadata": {
        "colab": {
          "base_uri": "https://localhost:8080/"
        },
        "id": "GPxCWjMYEezH",
        "outputId": "eb1d1a46-eede-4ac8-b5b1-febe94ad404a"
      }
    },
    {
      "cell_type": "code",
      "execution_count": null,
      "source": [
        "abs(tracks_result - result_series)"
      ],
      "outputs": [
        {
          "output_type": "error",
          "ename": "ValueError",
          "evalue": "ignored",
          "traceback": [
            "\u001b[0;31m---------------------------------------------------------------------------\u001b[0m",
            "\u001b[0;31mValueError\u001b[0m                                Traceback (most recent call last)",
            "\u001b[0;32m<ipython-input-348-69677e227d0c>\u001b[0m in \u001b[0;36m<module>\u001b[0;34m()\u001b[0m\n\u001b[0;32m----> 1\u001b[0;31m \u001b[0mabs\u001b[0m\u001b[0;34m(\u001b[0m\u001b[0mtracks_result\u001b[0m \u001b[0;34m-\u001b[0m \u001b[0mresult_series\u001b[0m\u001b[0;34m)\u001b[0m\u001b[0;34m\u001b[0m\u001b[0;34m\u001b[0m\u001b[0m\n\u001b[0m",
            "\u001b[0;32m/usr/local/lib/python3.7/dist-packages/pandas/core/series.py\u001b[0m in \u001b[0;36m__array_ufunc__\u001b[0;34m(self, ufunc, method, *inputs, **kwargs)\u001b[0m\n\u001b[1;32m    681\u001b[0m         \u001b[0;31m# for binary ops, use our custom dunder methods\u001b[0m\u001b[0;34m\u001b[0m\u001b[0;34m\u001b[0m\u001b[0;34m\u001b[0m\u001b[0m\n\u001b[1;32m    682\u001b[0m         result = ops.maybe_dispatch_ufunc_to_dunder_op(\n\u001b[0;32m--> 683\u001b[0;31m             \u001b[0mself\u001b[0m\u001b[0;34m,\u001b[0m \u001b[0mufunc\u001b[0m\u001b[0;34m,\u001b[0m \u001b[0mmethod\u001b[0m\u001b[0;34m,\u001b[0m \u001b[0;34m*\u001b[0m\u001b[0minputs\u001b[0m\u001b[0;34m,\u001b[0m \u001b[0;34m**\u001b[0m\u001b[0mkwargs\u001b[0m\u001b[0;34m\u001b[0m\u001b[0;34m\u001b[0m\u001b[0m\n\u001b[0m\u001b[1;32m    684\u001b[0m         )\n\u001b[1;32m    685\u001b[0m         \u001b[0;32mif\u001b[0m \u001b[0mresult\u001b[0m \u001b[0;32mis\u001b[0m \u001b[0;32mnot\u001b[0m \u001b[0mNotImplemented\u001b[0m\u001b[0;34m:\u001b[0m\u001b[0;34m\u001b[0m\u001b[0;34m\u001b[0m\u001b[0m\n",
            "\u001b[0;32mpandas/_libs/ops_dispatch.pyx\u001b[0m in \u001b[0;36mpandas._libs.ops_dispatch.maybe_dispatch_ufunc_to_dunder_op\u001b[0;34m()\u001b[0m\n",
            "\u001b[0;32m/usr/local/lib/python3.7/dist-packages/pandas/core/ops/common.py\u001b[0m in \u001b[0;36mnew_method\u001b[0;34m(self, other)\u001b[0m\n\u001b[1;32m     63\u001b[0m         \u001b[0mother\u001b[0m \u001b[0;34m=\u001b[0m \u001b[0mitem_from_zerodim\u001b[0m\u001b[0;34m(\u001b[0m\u001b[0mother\u001b[0m\u001b[0;34m)\u001b[0m\u001b[0;34m\u001b[0m\u001b[0;34m\u001b[0m\u001b[0m\n\u001b[1;32m     64\u001b[0m \u001b[0;34m\u001b[0m\u001b[0m\n\u001b[0;32m---> 65\u001b[0;31m         \u001b[0;32mreturn\u001b[0m \u001b[0mmethod\u001b[0m\u001b[0;34m(\u001b[0m\u001b[0mself\u001b[0m\u001b[0;34m,\u001b[0m \u001b[0mother\u001b[0m\u001b[0;34m)\u001b[0m\u001b[0;34m\u001b[0m\u001b[0;34m\u001b[0m\u001b[0m\n\u001b[0m\u001b[1;32m     66\u001b[0m \u001b[0;34m\u001b[0m\u001b[0m\n\u001b[1;32m     67\u001b[0m     \u001b[0;32mreturn\u001b[0m \u001b[0mnew_method\u001b[0m\u001b[0;34m\u001b[0m\u001b[0;34m\u001b[0m\u001b[0m\n",
            "\u001b[0;32m/usr/local/lib/python3.7/dist-packages/pandas/core/ops/__init__.py\u001b[0m in \u001b[0;36mwrapper\u001b[0;34m(left, right)\u001b[0m\n\u001b[1;32m    341\u001b[0m         \u001b[0mlvalues\u001b[0m \u001b[0;34m=\u001b[0m \u001b[0mextract_array\u001b[0m\u001b[0;34m(\u001b[0m\u001b[0mleft\u001b[0m\u001b[0;34m,\u001b[0m \u001b[0mextract_numpy\u001b[0m\u001b[0;34m=\u001b[0m\u001b[0;32mTrue\u001b[0m\u001b[0;34m)\u001b[0m\u001b[0;34m\u001b[0m\u001b[0;34m\u001b[0m\u001b[0m\n\u001b[1;32m    342\u001b[0m         \u001b[0mrvalues\u001b[0m \u001b[0;34m=\u001b[0m \u001b[0mextract_array\u001b[0m\u001b[0;34m(\u001b[0m\u001b[0mright\u001b[0m\u001b[0;34m,\u001b[0m \u001b[0mextract_numpy\u001b[0m\u001b[0;34m=\u001b[0m\u001b[0;32mTrue\u001b[0m\u001b[0;34m)\u001b[0m\u001b[0;34m\u001b[0m\u001b[0;34m\u001b[0m\u001b[0m\n\u001b[0;32m--> 343\u001b[0;31m         \u001b[0mresult\u001b[0m \u001b[0;34m=\u001b[0m \u001b[0marithmetic_op\u001b[0m\u001b[0;34m(\u001b[0m\u001b[0mlvalues\u001b[0m\u001b[0;34m,\u001b[0m \u001b[0mrvalues\u001b[0m\u001b[0;34m,\u001b[0m \u001b[0mop\u001b[0m\u001b[0;34m)\u001b[0m\u001b[0;34m\u001b[0m\u001b[0;34m\u001b[0m\u001b[0m\n\u001b[0m\u001b[1;32m    344\u001b[0m \u001b[0;34m\u001b[0m\u001b[0m\n\u001b[1;32m    345\u001b[0m         \u001b[0;32mreturn\u001b[0m \u001b[0mleft\u001b[0m\u001b[0;34m.\u001b[0m\u001b[0m_construct_result\u001b[0m\u001b[0;34m(\u001b[0m\u001b[0mresult\u001b[0m\u001b[0;34m,\u001b[0m \u001b[0mname\u001b[0m\u001b[0;34m=\u001b[0m\u001b[0mres_name\u001b[0m\u001b[0;34m)\u001b[0m\u001b[0;34m\u001b[0m\u001b[0;34m\u001b[0m\u001b[0m\n",
            "\u001b[0;32m/usr/local/lib/python3.7/dist-packages/pandas/core/ops/array_ops.py\u001b[0m in \u001b[0;36marithmetic_op\u001b[0;34m(left, right, op)\u001b[0m\n\u001b[1;32m    188\u001b[0m     \u001b[0;32melse\u001b[0m\u001b[0;34m:\u001b[0m\u001b[0;34m\u001b[0m\u001b[0;34m\u001b[0m\u001b[0m\n\u001b[1;32m    189\u001b[0m         \u001b[0;32mwith\u001b[0m \u001b[0mnp\u001b[0m\u001b[0;34m.\u001b[0m\u001b[0merrstate\u001b[0m\u001b[0;34m(\u001b[0m\u001b[0mall\u001b[0m\u001b[0;34m=\u001b[0m\u001b[0;34m\"ignore\"\u001b[0m\u001b[0;34m)\u001b[0m\u001b[0;34m:\u001b[0m\u001b[0;34m\u001b[0m\u001b[0;34m\u001b[0m\u001b[0m\n\u001b[0;32m--> 190\u001b[0;31m             \u001b[0mres_values\u001b[0m \u001b[0;34m=\u001b[0m \u001b[0mna_arithmetic_op\u001b[0m\u001b[0;34m(\u001b[0m\u001b[0mlvalues\u001b[0m\u001b[0;34m,\u001b[0m \u001b[0mrvalues\u001b[0m\u001b[0;34m,\u001b[0m \u001b[0mop\u001b[0m\u001b[0;34m)\u001b[0m\u001b[0;34m\u001b[0m\u001b[0;34m\u001b[0m\u001b[0m\n\u001b[0m\u001b[1;32m    191\u001b[0m \u001b[0;34m\u001b[0m\u001b[0m\n\u001b[1;32m    192\u001b[0m     \u001b[0;32mreturn\u001b[0m \u001b[0mres_values\u001b[0m\u001b[0;34m\u001b[0m\u001b[0;34m\u001b[0m\u001b[0m\n",
            "\u001b[0;32m/usr/local/lib/python3.7/dist-packages/pandas/core/ops/array_ops.py\u001b[0m in \u001b[0;36mna_arithmetic_op\u001b[0;34m(left, right, op, is_cmp)\u001b[0m\n\u001b[1;32m    141\u001b[0m \u001b[0;34m\u001b[0m\u001b[0m\n\u001b[1;32m    142\u001b[0m     \u001b[0;32mtry\u001b[0m\u001b[0;34m:\u001b[0m\u001b[0;34m\u001b[0m\u001b[0;34m\u001b[0m\u001b[0m\n\u001b[0;32m--> 143\u001b[0;31m         \u001b[0mresult\u001b[0m \u001b[0;34m=\u001b[0m \u001b[0mexpressions\u001b[0m\u001b[0;34m.\u001b[0m\u001b[0mevaluate\u001b[0m\u001b[0;34m(\u001b[0m\u001b[0mop\u001b[0m\u001b[0;34m,\u001b[0m \u001b[0mleft\u001b[0m\u001b[0;34m,\u001b[0m \u001b[0mright\u001b[0m\u001b[0;34m)\u001b[0m\u001b[0;34m\u001b[0m\u001b[0;34m\u001b[0m\u001b[0m\n\u001b[0m\u001b[1;32m    144\u001b[0m     \u001b[0;32mexcept\u001b[0m \u001b[0mTypeError\u001b[0m\u001b[0;34m:\u001b[0m\u001b[0;34m\u001b[0m\u001b[0;34m\u001b[0m\u001b[0m\n\u001b[1;32m    145\u001b[0m         \u001b[0;32mif\u001b[0m \u001b[0mis_cmp\u001b[0m\u001b[0;34m:\u001b[0m\u001b[0;34m\u001b[0m\u001b[0;34m\u001b[0m\u001b[0m\n",
            "\u001b[0;32m/usr/local/lib/python3.7/dist-packages/pandas/core/computation/expressions.py\u001b[0m in \u001b[0;36mevaluate\u001b[0;34m(op, a, b, use_numexpr)\u001b[0m\n\u001b[1;32m    231\u001b[0m         \u001b[0muse_numexpr\u001b[0m \u001b[0;34m=\u001b[0m \u001b[0muse_numexpr\u001b[0m \u001b[0;32mand\u001b[0m \u001b[0m_bool_arith_check\u001b[0m\u001b[0;34m(\u001b[0m\u001b[0mop_str\u001b[0m\u001b[0;34m,\u001b[0m \u001b[0ma\u001b[0m\u001b[0;34m,\u001b[0m \u001b[0mb\u001b[0m\u001b[0;34m)\u001b[0m\u001b[0;34m\u001b[0m\u001b[0;34m\u001b[0m\u001b[0m\n\u001b[1;32m    232\u001b[0m         \u001b[0;32mif\u001b[0m \u001b[0muse_numexpr\u001b[0m\u001b[0;34m:\u001b[0m\u001b[0;34m\u001b[0m\u001b[0;34m\u001b[0m\u001b[0m\n\u001b[0;32m--> 233\u001b[0;31m             \u001b[0;32mreturn\u001b[0m \u001b[0m_evaluate\u001b[0m\u001b[0;34m(\u001b[0m\u001b[0mop\u001b[0m\u001b[0;34m,\u001b[0m \u001b[0mop_str\u001b[0m\u001b[0;34m,\u001b[0m \u001b[0ma\u001b[0m\u001b[0;34m,\u001b[0m \u001b[0mb\u001b[0m\u001b[0;34m)\u001b[0m  \u001b[0;31m# type: ignore\u001b[0m\u001b[0;34m\u001b[0m\u001b[0;34m\u001b[0m\u001b[0m\n\u001b[0m\u001b[1;32m    234\u001b[0m     \u001b[0;32mreturn\u001b[0m \u001b[0m_evaluate_standard\u001b[0m\u001b[0;34m(\u001b[0m\u001b[0mop\u001b[0m\u001b[0;34m,\u001b[0m \u001b[0mop_str\u001b[0m\u001b[0;34m,\u001b[0m \u001b[0ma\u001b[0m\u001b[0;34m,\u001b[0m \u001b[0mb\u001b[0m\u001b[0;34m)\u001b[0m\u001b[0;34m\u001b[0m\u001b[0;34m\u001b[0m\u001b[0m\n\u001b[1;32m    235\u001b[0m \u001b[0;34m\u001b[0m\u001b[0m\n",
            "\u001b[0;32m/usr/local/lib/python3.7/dist-packages/pandas/core/computation/expressions.py\u001b[0m in \u001b[0;36m_evaluate_numexpr\u001b[0;34m(op, op_str, a, b)\u001b[0m\n\u001b[1;32m    117\u001b[0m \u001b[0;34m\u001b[0m\u001b[0m\n\u001b[1;32m    118\u001b[0m     \u001b[0;32mif\u001b[0m \u001b[0mresult\u001b[0m \u001b[0;32mis\u001b[0m \u001b[0;32mNone\u001b[0m\u001b[0;34m:\u001b[0m\u001b[0;34m\u001b[0m\u001b[0;34m\u001b[0m\u001b[0m\n\u001b[0;32m--> 119\u001b[0;31m         \u001b[0mresult\u001b[0m \u001b[0;34m=\u001b[0m \u001b[0m_evaluate_standard\u001b[0m\u001b[0;34m(\u001b[0m\u001b[0mop\u001b[0m\u001b[0;34m,\u001b[0m \u001b[0mop_str\u001b[0m\u001b[0;34m,\u001b[0m \u001b[0ma\u001b[0m\u001b[0;34m,\u001b[0m \u001b[0mb\u001b[0m\u001b[0;34m)\u001b[0m\u001b[0;34m\u001b[0m\u001b[0;34m\u001b[0m\u001b[0m\n\u001b[0m\u001b[1;32m    120\u001b[0m \u001b[0;34m\u001b[0m\u001b[0m\n\u001b[1;32m    121\u001b[0m     \u001b[0;32mreturn\u001b[0m \u001b[0mresult\u001b[0m\u001b[0;34m\u001b[0m\u001b[0;34m\u001b[0m\u001b[0m\n",
            "\u001b[0;32m/usr/local/lib/python3.7/dist-packages/pandas/core/computation/expressions.py\u001b[0m in \u001b[0;36m_evaluate_standard\u001b[0;34m(op, op_str, a, b)\u001b[0m\n\u001b[1;32m     66\u001b[0m         \u001b[0m_store_test_result\u001b[0m\u001b[0;34m(\u001b[0m\u001b[0;32mFalse\u001b[0m\u001b[0;34m)\u001b[0m\u001b[0;34m\u001b[0m\u001b[0;34m\u001b[0m\u001b[0m\n\u001b[1;32m     67\u001b[0m     \u001b[0;32mwith\u001b[0m \u001b[0mnp\u001b[0m\u001b[0;34m.\u001b[0m\u001b[0merrstate\u001b[0m\u001b[0;34m(\u001b[0m\u001b[0mall\u001b[0m\u001b[0;34m=\u001b[0m\u001b[0;34m\"ignore\"\u001b[0m\u001b[0;34m)\u001b[0m\u001b[0;34m:\u001b[0m\u001b[0;34m\u001b[0m\u001b[0;34m\u001b[0m\u001b[0m\n\u001b[0;32m---> 68\u001b[0;31m         \u001b[0;32mreturn\u001b[0m \u001b[0mop\u001b[0m\u001b[0;34m(\u001b[0m\u001b[0ma\u001b[0m\u001b[0;34m,\u001b[0m \u001b[0mb\u001b[0m\u001b[0;34m)\u001b[0m\u001b[0;34m\u001b[0m\u001b[0;34m\u001b[0m\u001b[0m\n\u001b[0m\u001b[1;32m     69\u001b[0m \u001b[0;34m\u001b[0m\u001b[0m\n\u001b[1;32m     70\u001b[0m \u001b[0;34m\u001b[0m\u001b[0m\n",
            "\u001b[0;32m/usr/local/lib/python3.7/dist-packages/pandas/core/ops/roperator.py\u001b[0m in \u001b[0;36mrsub\u001b[0;34m(left, right)\u001b[0m\n\u001b[1;32m     11\u001b[0m \u001b[0;34m\u001b[0m\u001b[0m\n\u001b[1;32m     12\u001b[0m \u001b[0;32mdef\u001b[0m \u001b[0mrsub\u001b[0m\u001b[0;34m(\u001b[0m\u001b[0mleft\u001b[0m\u001b[0;34m,\u001b[0m \u001b[0mright\u001b[0m\u001b[0;34m)\u001b[0m\u001b[0;34m:\u001b[0m\u001b[0;34m\u001b[0m\u001b[0;34m\u001b[0m\u001b[0m\n\u001b[0;32m---> 13\u001b[0;31m     \u001b[0;32mreturn\u001b[0m \u001b[0mright\u001b[0m \u001b[0;34m-\u001b[0m \u001b[0mleft\u001b[0m\u001b[0;34m\u001b[0m\u001b[0;34m\u001b[0m\u001b[0m\n\u001b[0m\u001b[1;32m     14\u001b[0m \u001b[0;34m\u001b[0m\u001b[0m\n\u001b[1;32m     15\u001b[0m \u001b[0;34m\u001b[0m\u001b[0m\n",
            "\u001b[0;31mValueError\u001b[0m: operands could not be broadcast together with shapes (1966,) (1272,) "
          ]
        }
      ],
      "metadata": {
        "colab": {
          "base_uri": "https://localhost:8080/",
          "height": 340
        },
        "id": "6IbXwtrfCkB5",
        "outputId": "7bdf6967-e382-4386-dfe3-9671d49f2960"
      }
    },
    {
      "cell_type": "code",
      "execution_count": null,
      "source": [
        "result_series.name = 'is_aggressive'"
      ],
      "outputs": [],
      "metadata": {
        "id": "w2gV-eQg5Dyh"
      }
    },
    {
      "cell_type": "code",
      "execution_count": null,
      "source": [
        "result_series.sum()"
      ],
      "outputs": [
        {
          "output_type": "execute_result",
          "data": {
            "text/plain": [
              "40"
            ]
          },
          "metadata": {
            "tags": []
          },
          "execution_count": 417
        }
      ],
      "metadata": {
        "colab": {
          "base_uri": "https://localhost:8080/"
        },
        "id": "IHkfSDJljoTL",
        "outputId": "6fc4dc61-8d83-45c3-fc29-4e9085f185f2"
      }
    },
    {
      "cell_type": "code",
      "execution_count": null,
      "source": [
        "result_series.to_csv(\"result.csv\")"
      ],
      "outputs": [],
      "metadata": {
        "id": "pY6Fcj883x9i"
      }
    }
  ]
}