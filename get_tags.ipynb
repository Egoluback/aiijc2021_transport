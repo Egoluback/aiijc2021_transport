{
 "cells": [
  {
   "cell_type": "code",
   "execution_count": null,
   "source": [],
   "outputs": [],
   "metadata": {}
  },
  {
   "cell_type": "code",
   "execution_count": 1,
   "source": [
    "import osmium\n",
    "import copy\n",
    "\n",
    "\n",
    "class Road_info(osmium.SimpleHandler):\n",
    "    def __init__(self):\n",
    "        super(Road_info, self).__init__()\n",
    "        self.ways = {'maxspeed': [], 'lanes': [], 'id': [], 'road_type': []}\n",
    "        self.nodes = {'loc': [], 'traffic_signals': [], 'id': []}\n",
    "\n",
    "    def node(self, n):\n",
    "        tags = n.tags\n",
    "        if 'highway' in tags:\n",
    "            traffic_signals = copy.deepcopy(\n",
    "                tags.get('highway') == 'traffic_signals')\n",
    "            loc = copy.copy((n.location.lat, n.location.lon))\n",
    "            id = n.id\n",
    "            self.nodes['traffic_signals'].append(traffic_signals)\n",
    "            self.nodes['loc'].append(loc)\n",
    "            self.nodes['id'].append(id)\n",
    "\n",
    "    def check(self, name, tags):\n",
    "        var = None\n",
    "        if name in tags:\n",
    "            var = tags[name]\n",
    "        return var\n",
    "\n",
    "    def way(self, w):\n",
    "        tags = w.tags\n",
    "\n",
    "        if 'highway' in tags:\n",
    "            road_type = tags.get('highway')\n",
    "            maxspeed = self.check('maxspeed', tags)\n",
    "            lanes = self.check('lanes', tags)\n",
    "            self.ways['maxspeed'].append(maxspeed)\n",
    "            self.ways['lanes'].append(lanes)\n",
    "            self.ways['road_type'].append(road_type)\n",
    "            ids = []\n",
    "            for node in w.nodes:\n",
    "                ids.append(node.ref)\n",
    "            self.ways['id'].append(ids)\n"
   ],
   "outputs": [],
   "metadata": {}
  },
  {
   "cell_type": "code",
   "execution_count": 2,
   "source": [
    "handler = Road_info()\n",
    "path = './data/moscow.osm.pbf'\n",
    "handler.apply(path)"
   ],
   "outputs": [],
   "metadata": {}
  },
  {
   "cell_type": "code",
   "execution_count": 3,
   "source": [
    "import pandas as pd\n",
    "\n",
    "ways = pd.DataFrame(handler.ways)\n",
    "nodes = pd.DataFrame(handler.nodes).set_index('id')\n",
    "ways = ways.explode(column='id', ignore_index=True).set_index('id')"
   ],
   "outputs": [],
   "metadata": {}
  },
  {
   "cell_type": "code",
   "execution_count": 4,
   "source": [
    "dataset = pd.merge(ways, nodes, right_index= True, left_index=True)"
   ],
   "outputs": [],
   "metadata": {}
  },
  {
   "cell_type": "code",
   "execution_count": 5,
   "source": [
    "dataset = dataset[~dataset.index.duplicated()]\n",
    "dataset.describe()"
   ],
   "outputs": [
    {
     "output_type": "execute_result",
     "data": {
      "text/html": [
       "<div>\n",
       "<style scoped>\n",
       "    .dataframe tbody tr th:only-of-type {\n",
       "        vertical-align: middle;\n",
       "    }\n",
       "\n",
       "    .dataframe tbody tr th {\n",
       "        vertical-align: top;\n",
       "    }\n",
       "\n",
       "    .dataframe thead th {\n",
       "        text-align: right;\n",
       "    }\n",
       "</style>\n",
       "<table border=\"1\" class=\"dataframe\">\n",
       "  <thead>\n",
       "    <tr style=\"text-align: right;\">\n",
       "      <th></th>\n",
       "      <th>maxspeed</th>\n",
       "      <th>lanes</th>\n",
       "      <th>road_type</th>\n",
       "      <th>loc</th>\n",
       "      <th>traffic_signals</th>\n",
       "    </tr>\n",
       "  </thead>\n",
       "  <tbody>\n",
       "    <tr>\n",
       "      <th>count</th>\n",
       "      <td>16001</td>\n",
       "      <td>25396</td>\n",
       "      <td>54679</td>\n",
       "      <td>54679</td>\n",
       "      <td>54679</td>\n",
       "    </tr>\n",
       "    <tr>\n",
       "      <th>unique</th>\n",
       "      <td>24</td>\n",
       "      <td>9</td>\n",
       "      <td>26</td>\n",
       "      <td>54677</td>\n",
       "      <td>2</td>\n",
       "    </tr>\n",
       "    <tr>\n",
       "      <th>top</th>\n",
       "      <td>RU:urban</td>\n",
       "      <td>2</td>\n",
       "      <td>tertiary</td>\n",
       "      <td>(55.3226741, 36.7490176)</td>\n",
       "      <td>False</td>\n",
       "    </tr>\n",
       "    <tr>\n",
       "      <th>freq</th>\n",
       "      <td>4962</td>\n",
       "      <td>14810</td>\n",
       "      <td>11638</td>\n",
       "      <td>2</td>\n",
       "      <td>48208</td>\n",
       "    </tr>\n",
       "  </tbody>\n",
       "</table>\n",
       "</div>"
      ],
      "text/plain": [
       "        maxspeed  lanes road_type                       loc traffic_signals\n",
       "count      16001  25396     54679                     54679           54679\n",
       "unique        24      9        26                     54677               2\n",
       "top     RU:urban      2  tertiary  (55.3226741, 36.7490176)           False\n",
       "freq        4962  14810     11638                         2           48208"
      ]
     },
     "metadata": {},
     "execution_count": 5
    }
   ],
   "metadata": {}
  },
  {
   "cell_type": "code",
   "execution_count": 6,
   "source": [
    "dataset.to_csv('./road_info.csv')"
   ],
   "outputs": [],
   "metadata": {}
  }
 ],
 "metadata": {
  "orig_nbformat": 4,
  "language_info": {
   "name": "python",
   "version": "3.8.8",
   "mimetype": "text/x-python",
   "codemirror_mode": {
    "name": "ipython",
    "version": 3
   },
   "pygments_lexer": "ipython3",
   "nbconvert_exporter": "python",
   "file_extension": ".py"
  },
  "kernelspec": {
   "name": "python3",
   "display_name": "Python 3.8.8 64-bit ('base': conda)"
  },
  "interpreter": {
   "hash": "f50bd5474255f82aa829301912ce59e29110123be660cf8d7583f66a20371684"
  }
 },
 "nbformat": 4,
 "nbformat_minor": 2
}