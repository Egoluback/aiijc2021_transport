{
 "cells": [
  {
   "cell_type": "code",
   "execution_count": 2,
   "source": [
    "import numpy as np\n",
    "import pandas as pd\n",
    "import time\n",
    "import seaborn as sns\n",
    "import matplotlib.pyplot as plt"
   ],
   "outputs": [],
   "metadata": {}
  },
  {
   "cell_type": "code",
   "execution_count": 3,
   "source": [
    "train_labeled = pd.read_csv('./data/base_files/labled_train_data.csv', index_col=0, sep='\\t', comment='#')\n",
    "tracks_unlabeled = pd.read_csv('./data/base_files/unlabled_train_tracks.csv', index_col=0, sep='\\t', comment='#')"
   ],
   "outputs": [],
   "metadata": {}
  },
  {
   "cell_type": "code",
   "execution_count": 4,
   "source": [
    "def sort_df(df):\n",
    "    result =df\n",
    "    result= df.sort_values(['order_id', 'dt']) # sort df by time\n",
    "    result.index = range(len(df))\n",
    "    return result\n",
    "tracks_unlabled = sort_df(tracks_unlabeled)"
   ],
   "outputs": [],
   "metadata": {}
  },
  {
   "cell_type": "code",
   "execution_count": 14,
   "source": [
    "tracks_unlabled"
   ],
   "outputs": [
    {
     "output_type": "execute_result",
     "data": {
      "text/plain": [
       "                               driver_id                   dt       lat_  \\\n",
       "0       6bcc649b6ec22251179da12125d04011  2021-03-29 11:55:56  55.757886   \n",
       "1       6bcc649b6ec22251179da12125d04011  2021-03-29 11:56:02  55.757886   \n",
       "2       6bcc649b6ec22251179da12125d04011  2021-03-29 11:56:23  55.758017   \n",
       "3       6bcc649b6ec22251179da12125d04011  2021-03-29 11:56:43  55.757987   \n",
       "4       6bcc649b6ec22251179da12125d04011  2021-03-29 11:57:04  55.758015   \n",
       "...                                  ...                  ...        ...   \n",
       "674713  4cbab2104a47e4ea966c7f2ecd8f4775  2021-03-26 20:44:42  55.656228   \n",
       "674714  4cbab2104a47e4ea966c7f2ecd8f4775  2021-03-26 20:45:04  55.656143   \n",
       "674715  4cbab2104a47e4ea966c7f2ecd8f4775  2021-03-26 20:45:24  55.655037   \n",
       "674716  4cbab2104a47e4ea966c7f2ecd8f4775  2021-03-26 20:45:46  55.654412   \n",
       "674717  4cbab2104a47e4ea966c7f2ecd8f4775  2021-03-26 20:45:47  55.654412   \n",
       "\n",
       "             lon_                          order_id     speed  \n",
       "0       37.406491  0000a57c86cabd27d707a5fde1d0fbe4 -1.678118  \n",
       "1       37.406491  0000a57c86cabd27d707a5fde1d0fbe4 -3.379243  \n",
       "2       37.406500  0000a57c86cabd27d707a5fde1d0fbe4 -2.969130  \n",
       "3       37.406500  0000a57c86cabd27d707a5fde1d0fbe4 -3.324069  \n",
       "4       37.406495  0000a57c86cabd27d707a5fde1d0fbe4  1.335598  \n",
       "...           ...                               ...       ...  \n",
       "674713  37.494256  fffface895e65d8da177137701b1ee98       NaN  \n",
       "674714  37.494459  fffface895e65d8da177137701b1ee98       NaN  \n",
       "674715  37.496817  fffface895e65d8da177137701b1ee98       NaN  \n",
       "674716  37.498307  fffface895e65d8da177137701b1ee98       NaN  \n",
       "674717  37.498307  fffface895e65d8da177137701b1ee98       NaN  \n",
       "\n",
       "[674718 rows x 6 columns]"
      ],
      "text/html": [
       "<div>\n",
       "<style scoped>\n",
       "    .dataframe tbody tr th:only-of-type {\n",
       "        vertical-align: middle;\n",
       "    }\n",
       "\n",
       "    .dataframe tbody tr th {\n",
       "        vertical-align: top;\n",
       "    }\n",
       "\n",
       "    .dataframe thead th {\n",
       "        text-align: right;\n",
       "    }\n",
       "</style>\n",
       "<table border=\"1\" class=\"dataframe\">\n",
       "  <thead>\n",
       "    <tr style=\"text-align: right;\">\n",
       "      <th></th>\n",
       "      <th>driver_id</th>\n",
       "      <th>dt</th>\n",
       "      <th>lat_</th>\n",
       "      <th>lon_</th>\n",
       "      <th>order_id</th>\n",
       "      <th>speed</th>\n",
       "    </tr>\n",
       "  </thead>\n",
       "  <tbody>\n",
       "    <tr>\n",
       "      <th>0</th>\n",
       "      <td>6bcc649b6ec22251179da12125d04011</td>\n",
       "      <td>2021-03-29 11:55:56</td>\n",
       "      <td>55.757886</td>\n",
       "      <td>37.406491</td>\n",
       "      <td>0000a57c86cabd27d707a5fde1d0fbe4</td>\n",
       "      <td>-1.678118</td>\n",
       "    </tr>\n",
       "    <tr>\n",
       "      <th>1</th>\n",
       "      <td>6bcc649b6ec22251179da12125d04011</td>\n",
       "      <td>2021-03-29 11:56:02</td>\n",
       "      <td>55.757886</td>\n",
       "      <td>37.406491</td>\n",
       "      <td>0000a57c86cabd27d707a5fde1d0fbe4</td>\n",
       "      <td>-3.379243</td>\n",
       "    </tr>\n",
       "    <tr>\n",
       "      <th>2</th>\n",
       "      <td>6bcc649b6ec22251179da12125d04011</td>\n",
       "      <td>2021-03-29 11:56:23</td>\n",
       "      <td>55.758017</td>\n",
       "      <td>37.406500</td>\n",
       "      <td>0000a57c86cabd27d707a5fde1d0fbe4</td>\n",
       "      <td>-2.969130</td>\n",
       "    </tr>\n",
       "    <tr>\n",
       "      <th>3</th>\n",
       "      <td>6bcc649b6ec22251179da12125d04011</td>\n",
       "      <td>2021-03-29 11:56:43</td>\n",
       "      <td>55.757987</td>\n",
       "      <td>37.406500</td>\n",
       "      <td>0000a57c86cabd27d707a5fde1d0fbe4</td>\n",
       "      <td>-3.324069</td>\n",
       "    </tr>\n",
       "    <tr>\n",
       "      <th>4</th>\n",
       "      <td>6bcc649b6ec22251179da12125d04011</td>\n",
       "      <td>2021-03-29 11:57:04</td>\n",
       "      <td>55.758015</td>\n",
       "      <td>37.406495</td>\n",
       "      <td>0000a57c86cabd27d707a5fde1d0fbe4</td>\n",
       "      <td>1.335598</td>\n",
       "    </tr>\n",
       "    <tr>\n",
       "      <th>...</th>\n",
       "      <td>...</td>\n",
       "      <td>...</td>\n",
       "      <td>...</td>\n",
       "      <td>...</td>\n",
       "      <td>...</td>\n",
       "      <td>...</td>\n",
       "    </tr>\n",
       "    <tr>\n",
       "      <th>674713</th>\n",
       "      <td>4cbab2104a47e4ea966c7f2ecd8f4775</td>\n",
       "      <td>2021-03-26 20:44:42</td>\n",
       "      <td>55.656228</td>\n",
       "      <td>37.494256</td>\n",
       "      <td>fffface895e65d8da177137701b1ee98</td>\n",
       "      <td>NaN</td>\n",
       "    </tr>\n",
       "    <tr>\n",
       "      <th>674714</th>\n",
       "      <td>4cbab2104a47e4ea966c7f2ecd8f4775</td>\n",
       "      <td>2021-03-26 20:45:04</td>\n",
       "      <td>55.656143</td>\n",
       "      <td>37.494459</td>\n",
       "      <td>fffface895e65d8da177137701b1ee98</td>\n",
       "      <td>NaN</td>\n",
       "    </tr>\n",
       "    <tr>\n",
       "      <th>674715</th>\n",
       "      <td>4cbab2104a47e4ea966c7f2ecd8f4775</td>\n",
       "      <td>2021-03-26 20:45:24</td>\n",
       "      <td>55.655037</td>\n",
       "      <td>37.496817</td>\n",
       "      <td>fffface895e65d8da177137701b1ee98</td>\n",
       "      <td>NaN</td>\n",
       "    </tr>\n",
       "    <tr>\n",
       "      <th>674716</th>\n",
       "      <td>4cbab2104a47e4ea966c7f2ecd8f4775</td>\n",
       "      <td>2021-03-26 20:45:46</td>\n",
       "      <td>55.654412</td>\n",
       "      <td>37.498307</td>\n",
       "      <td>fffface895e65d8da177137701b1ee98</td>\n",
       "      <td>NaN</td>\n",
       "    </tr>\n",
       "    <tr>\n",
       "      <th>674717</th>\n",
       "      <td>4cbab2104a47e4ea966c7f2ecd8f4775</td>\n",
       "      <td>2021-03-26 20:45:47</td>\n",
       "      <td>55.654412</td>\n",
       "      <td>37.498307</td>\n",
       "      <td>fffface895e65d8da177137701b1ee98</td>\n",
       "      <td>NaN</td>\n",
       "    </tr>\n",
       "  </tbody>\n",
       "</table>\n",
       "<p>674718 rows × 6 columns</p>\n",
       "</div>"
      ]
     },
     "metadata": {},
     "execution_count": 14
    }
   ],
   "metadata": {}
  },
  {
   "cell_type": "markdown",
   "source": [
    "Some functions for finding speed "
   ],
   "metadata": {}
  },
  {
   "cell_type": "code",
   "execution_count": 25,
   "source": [
    "import datetime \n",
    "from math import cos, asin, sqrt, pi, pow\n",
    "\n",
    "# formula using pythogorian theorem\n",
    "# (as distances are not large, we can approximate earth rounding)\n",
    "def get_distance(lat1,lon1,lat2,lon2):\n",
    "    delta_lat = pow(lat2-lat1,2)\n",
    "    delta_lon = pow(lon2-lon1,2)\n",
    "    return np.round(sqrt(delta_lat+delta_lon)*100, 3)\n",
    "\n",
    "def get_speed(lat1, lon1, lat2, lon2, dt1: str, dt2: str) -> float:\n",
    "    distance = get_distance(lat1, lon1, lat2, lon2).tolist()\n",
    "    format = \"%Y-%m-%d %H:%M:%S\"\n",
    "    dt1=datetime.datetime.strptime(dt1, format)\n",
    "    dt2=datetime.datetime.strptime(dt2, format)\n",
    "    time = (dt2-dt1).total_seconds()/3600 # convert timedelta into hours\n",
    "    if time==0:\n",
    "        return 0\n",
    "    return distance/time"
   ],
   "outputs": [],
   "metadata": {}
  },
  {
   "cell_type": "markdown",
   "source": [
    "code for building a ride route "
   ],
   "metadata": {}
  },
  {
   "cell_type": "code",
   "execution_count": 19,
   "source": [
    "import requests\n",
    "import json\n",
    "\n",
    "def get_route(order: str, df_original: pd.DataFrame) -> dict:\n",
    "    route = []\n",
    "    df = df_original\n",
    "    df = df[df['order_id']==order]\n",
    "    for _, el in df.iterrows():\n",
    "        point_info = [el['lon_'], el['lat_'], el['dt']]\n",
    "        route.append(point_info)\n",
    "    return {order: route}\n",
    "\n",
    "api_key = '5b3ce3597851110001cf62485e43a8ce4c9147be87344cce215d4774'\n",
    "def get_gpx_from_route(route:list, api_key: str):\n",
    "    route = [x[:-1] for x in route] # remove time element\n",
    "    url = 'https://api.openrouteservice.org/v2/directions/driving-car/gpx'\n",
    "    gpx = requests.post(url, data=json.dumps({\"coordinates\":route}), headers = {'Authorization': api_key, 'content-type': 'application/json'})\n",
    "    return gpx\n",
    "\n",
    "order = '001662da857b5a39bb402aacf3145f86' # just for an example\n",
    "route = get_route(order, tracks_labeled)\n",
    "gpx = get_gpx_from_route(route[order], api_key)\n",
    "with open('./route.gpx', 'w') as f:\n",
    "    f.write(str(gpx.content))"
   ],
   "outputs": [],
   "metadata": {}
  },
  {
   "cell_type": "code",
   "execution_count": 26,
   "source": [
    "def speed_to_df(df):\n",
    "    result = df\n",
    "    for i in range(1, len(df)):\n",
    "        result.loc[i, 'speed'] = get_speed(df.loc[i-1, 'lat_'], df.loc[i-1, 'lon_'],\n",
    "                                       df.loc[i, 'lat_'], df.loc[i, 'lon_'], df.loc[i-1, 'dt'], df.loc[i, 'dt'])\n",
    "    return result\n",
    "\n",
    "speed_unlabled = speed_to_df(tracks_unlabled)\n",
    "speed_unlabled.to_csv('./data/unlabled_train_tracks_speed')\n"
   ],
   "outputs": [],
   "metadata": {}
  },
  {
   "cell_type": "code",
   "execution_count": 24,
   "source": [
    "for i,order in enumerate(train_labeled['order_id']):\n",
    "    tracks_labeled.loc[tracks_labeled['order_id']==order, 'is_aggressive'] = train_labeled.loc[i, 'is_aggressive']"
   ],
   "outputs": [
    {
     "output_type": "error",
     "ename": "KeyboardInterrupt",
     "evalue": "",
     "traceback": [
      "\u001b[0;31m---------------------------------------------------------------------------\u001b[0m",
      "\u001b[0;31mKeyboardInterrupt\u001b[0m                         Traceback (most recent call last)",
      "\u001b[0;32m<ipython-input-24-2a844eaedc05>\u001b[0m in \u001b[0;36m<module>\u001b[0;34m\u001b[0m\n\u001b[1;32m      1\u001b[0m \u001b[0;32mfor\u001b[0m \u001b[0mi\u001b[0m\u001b[0;34m,\u001b[0m\u001b[0morder\u001b[0m \u001b[0;32min\u001b[0m \u001b[0menumerate\u001b[0m\u001b[0;34m(\u001b[0m\u001b[0mtrain_labeled\u001b[0m\u001b[0;34m[\u001b[0m\u001b[0;34m'order_id'\u001b[0m\u001b[0;34m]\u001b[0m\u001b[0;34m)\u001b[0m\u001b[0;34m:\u001b[0m\u001b[0;34m\u001b[0m\u001b[0;34m\u001b[0m\u001b[0m\n\u001b[0;32m----> 2\u001b[0;31m     \u001b[0mtracks_labeled\u001b[0m\u001b[0;34m.\u001b[0m\u001b[0mloc\u001b[0m\u001b[0;34m[\u001b[0m\u001b[0mtracks_labeled\u001b[0m\u001b[0;34m[\u001b[0m\u001b[0;34m'order_id'\u001b[0m\u001b[0;34m]\u001b[0m\u001b[0;34m==\u001b[0m\u001b[0morder\u001b[0m\u001b[0;34m,\u001b[0m \u001b[0;34m'is_aggressive'\u001b[0m\u001b[0;34m]\u001b[0m \u001b[0;34m=\u001b[0m \u001b[0mtrain_labeled\u001b[0m\u001b[0;34m.\u001b[0m\u001b[0mloc\u001b[0m\u001b[0;34m[\u001b[0m\u001b[0mi\u001b[0m\u001b[0;34m,\u001b[0m \u001b[0;34m'is_aggressive'\u001b[0m\u001b[0;34m]\u001b[0m\u001b[0;34m\u001b[0m\u001b[0;34m\u001b[0m\u001b[0m\n\u001b[0m",
      "\u001b[0;32m~/.local/lib/python3.9/site-packages/pandas/core/ops/common.py\u001b[0m in \u001b[0;36mnew_method\u001b[0;34m(self, other)\u001b[0m\n\u001b[1;32m     63\u001b[0m         \u001b[0mother\u001b[0m \u001b[0;34m=\u001b[0m \u001b[0mitem_from_zerodim\u001b[0m\u001b[0;34m(\u001b[0m\u001b[0mother\u001b[0m\u001b[0;34m)\u001b[0m\u001b[0;34m\u001b[0m\u001b[0;34m\u001b[0m\u001b[0m\n\u001b[1;32m     64\u001b[0m \u001b[0;34m\u001b[0m\u001b[0m\n\u001b[0;32m---> 65\u001b[0;31m         \u001b[0;32mreturn\u001b[0m \u001b[0mmethod\u001b[0m\u001b[0;34m(\u001b[0m\u001b[0mself\u001b[0m\u001b[0;34m,\u001b[0m \u001b[0mother\u001b[0m\u001b[0;34m)\u001b[0m\u001b[0;34m\u001b[0m\u001b[0;34m\u001b[0m\u001b[0m\n\u001b[0m\u001b[1;32m     66\u001b[0m \u001b[0;34m\u001b[0m\u001b[0m\n\u001b[1;32m     67\u001b[0m     \u001b[0;32mreturn\u001b[0m \u001b[0mnew_method\u001b[0m\u001b[0;34m\u001b[0m\u001b[0;34m\u001b[0m\u001b[0m\n",
      "\u001b[0;32m~/.local/lib/python3.9/site-packages/pandas/core/arraylike.py\u001b[0m in \u001b[0;36m__eq__\u001b[0;34m(self, other)\u001b[0m\n\u001b[1;32m     27\u001b[0m     \u001b[0;34m@\u001b[0m\u001b[0munpack_zerodim_and_defer\u001b[0m\u001b[0;34m(\u001b[0m\u001b[0;34m\"__eq__\"\u001b[0m\u001b[0;34m)\u001b[0m\u001b[0;34m\u001b[0m\u001b[0;34m\u001b[0m\u001b[0m\n\u001b[1;32m     28\u001b[0m     \u001b[0;32mdef\u001b[0m \u001b[0m__eq__\u001b[0m\u001b[0;34m(\u001b[0m\u001b[0mself\u001b[0m\u001b[0;34m,\u001b[0m \u001b[0mother\u001b[0m\u001b[0;34m)\u001b[0m\u001b[0;34m:\u001b[0m\u001b[0;34m\u001b[0m\u001b[0;34m\u001b[0m\u001b[0m\n\u001b[0;32m---> 29\u001b[0;31m         \u001b[0;32mreturn\u001b[0m \u001b[0mself\u001b[0m\u001b[0;34m.\u001b[0m\u001b[0m_cmp_method\u001b[0m\u001b[0;34m(\u001b[0m\u001b[0mother\u001b[0m\u001b[0;34m,\u001b[0m \u001b[0moperator\u001b[0m\u001b[0;34m.\u001b[0m\u001b[0meq\u001b[0m\u001b[0;34m)\u001b[0m\u001b[0;34m\u001b[0m\u001b[0;34m\u001b[0m\u001b[0m\n\u001b[0m\u001b[1;32m     30\u001b[0m \u001b[0;34m\u001b[0m\u001b[0m\n\u001b[1;32m     31\u001b[0m     \u001b[0;34m@\u001b[0m\u001b[0munpack_zerodim_and_defer\u001b[0m\u001b[0;34m(\u001b[0m\u001b[0;34m\"__ne__\"\u001b[0m\u001b[0;34m)\u001b[0m\u001b[0;34m\u001b[0m\u001b[0;34m\u001b[0m\u001b[0m\n",
      "\u001b[0;32m~/.local/lib/python3.9/site-packages/pandas/core/series.py\u001b[0m in \u001b[0;36m_cmp_method\u001b[0;34m(self, other, op)\u001b[0m\n\u001b[1;32m   4973\u001b[0m         \u001b[0mrvalues\u001b[0m \u001b[0;34m=\u001b[0m \u001b[0mextract_array\u001b[0m\u001b[0;34m(\u001b[0m\u001b[0mother\u001b[0m\u001b[0;34m,\u001b[0m \u001b[0mextract_numpy\u001b[0m\u001b[0;34m=\u001b[0m\u001b[0;32mTrue\u001b[0m\u001b[0;34m)\u001b[0m\u001b[0;34m\u001b[0m\u001b[0;34m\u001b[0m\u001b[0m\n\u001b[1;32m   4974\u001b[0m \u001b[0;34m\u001b[0m\u001b[0m\n\u001b[0;32m-> 4975\u001b[0;31m         \u001b[0mres_values\u001b[0m \u001b[0;34m=\u001b[0m \u001b[0mops\u001b[0m\u001b[0;34m.\u001b[0m\u001b[0mcomparison_op\u001b[0m\u001b[0;34m(\u001b[0m\u001b[0mlvalues\u001b[0m\u001b[0;34m,\u001b[0m \u001b[0mrvalues\u001b[0m\u001b[0;34m,\u001b[0m \u001b[0mop\u001b[0m\u001b[0;34m)\u001b[0m\u001b[0;34m\u001b[0m\u001b[0;34m\u001b[0m\u001b[0m\n\u001b[0m\u001b[1;32m   4976\u001b[0m \u001b[0;34m\u001b[0m\u001b[0m\n\u001b[1;32m   4977\u001b[0m         \u001b[0;32mreturn\u001b[0m \u001b[0mself\u001b[0m\u001b[0;34m.\u001b[0m\u001b[0m_construct_result\u001b[0m\u001b[0;34m(\u001b[0m\u001b[0mres_values\u001b[0m\u001b[0;34m,\u001b[0m \u001b[0mname\u001b[0m\u001b[0;34m=\u001b[0m\u001b[0mres_name\u001b[0m\u001b[0;34m)\u001b[0m\u001b[0;34m\u001b[0m\u001b[0;34m\u001b[0m\u001b[0m\n",
      "\u001b[0;32m~/.local/lib/python3.9/site-packages/pandas/core/ops/array_ops.py\u001b[0m in \u001b[0;36mcomparison_op\u001b[0;34m(left, right, op)\u001b[0m\n\u001b[1;32m    241\u001b[0m \u001b[0;34m\u001b[0m\u001b[0m\n\u001b[1;32m    242\u001b[0m     \u001b[0;32melif\u001b[0m \u001b[0mis_object_dtype\u001b[0m\u001b[0;34m(\u001b[0m\u001b[0mlvalues\u001b[0m\u001b[0;34m.\u001b[0m\u001b[0mdtype\u001b[0m\u001b[0;34m)\u001b[0m\u001b[0;34m:\u001b[0m\u001b[0;34m\u001b[0m\u001b[0;34m\u001b[0m\u001b[0m\n\u001b[0;32m--> 243\u001b[0;31m         \u001b[0mres_values\u001b[0m \u001b[0;34m=\u001b[0m \u001b[0mcomp_method_OBJECT_ARRAY\u001b[0m\u001b[0;34m(\u001b[0m\u001b[0mop\u001b[0m\u001b[0;34m,\u001b[0m \u001b[0mlvalues\u001b[0m\u001b[0;34m,\u001b[0m \u001b[0mrvalues\u001b[0m\u001b[0;34m)\u001b[0m\u001b[0;34m\u001b[0m\u001b[0;34m\u001b[0m\u001b[0m\n\u001b[0m\u001b[1;32m    244\u001b[0m \u001b[0;34m\u001b[0m\u001b[0m\n\u001b[1;32m    245\u001b[0m     \u001b[0;32melse\u001b[0m\u001b[0;34m:\u001b[0m\u001b[0;34m\u001b[0m\u001b[0;34m\u001b[0m\u001b[0m\n",
      "\u001b[0;32m~/.local/lib/python3.9/site-packages/pandas/core/ops/array_ops.py\u001b[0m in \u001b[0;36mcomp_method_OBJECT_ARRAY\u001b[0;34m(op, x, y)\u001b[0m\n\u001b[1;32m     53\u001b[0m         \u001b[0mresult\u001b[0m \u001b[0;34m=\u001b[0m \u001b[0mlibops\u001b[0m\u001b[0;34m.\u001b[0m\u001b[0mvec_compare\u001b[0m\u001b[0;34m(\u001b[0m\u001b[0mx\u001b[0m\u001b[0;34m.\u001b[0m\u001b[0mravel\u001b[0m\u001b[0;34m(\u001b[0m\u001b[0;34m)\u001b[0m\u001b[0;34m,\u001b[0m \u001b[0my\u001b[0m\u001b[0;34m.\u001b[0m\u001b[0mravel\u001b[0m\u001b[0;34m(\u001b[0m\u001b[0;34m)\u001b[0m\u001b[0;34m,\u001b[0m \u001b[0mop\u001b[0m\u001b[0;34m)\u001b[0m\u001b[0;34m\u001b[0m\u001b[0;34m\u001b[0m\u001b[0m\n\u001b[1;32m     54\u001b[0m     \u001b[0;32melse\u001b[0m\u001b[0;34m:\u001b[0m\u001b[0;34m\u001b[0m\u001b[0;34m\u001b[0m\u001b[0m\n\u001b[0;32m---> 55\u001b[0;31m         \u001b[0mresult\u001b[0m \u001b[0;34m=\u001b[0m \u001b[0mlibops\u001b[0m\u001b[0;34m.\u001b[0m\u001b[0mscalar_compare\u001b[0m\u001b[0;34m(\u001b[0m\u001b[0mx\u001b[0m\u001b[0;34m.\u001b[0m\u001b[0mravel\u001b[0m\u001b[0;34m(\u001b[0m\u001b[0;34m)\u001b[0m\u001b[0;34m,\u001b[0m \u001b[0my\u001b[0m\u001b[0;34m,\u001b[0m \u001b[0mop\u001b[0m\u001b[0;34m)\u001b[0m\u001b[0;34m\u001b[0m\u001b[0;34m\u001b[0m\u001b[0m\n\u001b[0m\u001b[1;32m     56\u001b[0m     \u001b[0;32mreturn\u001b[0m \u001b[0mresult\u001b[0m\u001b[0;34m.\u001b[0m\u001b[0mreshape\u001b[0m\u001b[0;34m(\u001b[0m\u001b[0mx\u001b[0m\u001b[0;34m.\u001b[0m\u001b[0mshape\u001b[0m\u001b[0;34m)\u001b[0m\u001b[0;34m\u001b[0m\u001b[0;34m\u001b[0m\u001b[0m\n\u001b[1;32m     57\u001b[0m \u001b[0;34m\u001b[0m\u001b[0m\n",
      "\u001b[0;31mKeyboardInterrupt\u001b[0m: "
     ]
    }
   ],
   "metadata": {
    "tags": []
   }
  }
 ],
 "metadata": {
  "anaconda-cloud": {},
  "kernelspec": {
   "name": "python3",
   "display_name": "Python 3.9.5 64-bit"
  },
  "language_info": {
   "codemirror_mode": {
    "name": "ipython",
    "version": 3
   },
   "file_extension": ".py",
   "mimetype": "text/x-python",
   "name": "python",
   "nbconvert_exporter": "python",
   "pygments_lexer": "ipython3",
   "version": "3.9.5"
  },
  "interpreter": {
   "hash": "e7370f93d1d0cde622a1f8e1c04877d8463912d04d973331ad4851f04de6915a"
  }
 },
 "nbformat": 4,
 "nbformat_minor": 4
}